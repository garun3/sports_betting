{
 "cells": [
  {
   "cell_type": "code",
   "execution_count": 2,
   "metadata": {},
   "outputs": [
    {
     "output_type": "display_data",
     "data": {
      "text/plain": "\u001b[2;36m[10/08/23 14:06:39]\u001b[0m\u001b[2;36m \u001b[0m\u001b[34mINFO    \u001b[0m No custom team name replacements found. You can configure these in       \u001b]8;id=660863;file:///Users/Gautham/miniconda3/envs/dl_hw0/lib/python3.8/site-packages/soccerdata/_config.py\u001b\\\u001b[2m_config.py\u001b[0m\u001b]8;;\u001b\\\u001b[2m:\u001b[0m\u001b]8;id=606524;file:///Users/Gautham/miniconda3/envs/dl_hw0/lib/python3.8/site-packages/soccerdata/_config.py#84\u001b\\\u001b[2m84\u001b[0m\u001b]8;;\u001b\\\n\u001b[2;36m                    \u001b[0m         \u001b[35m/Users/Gautham/soccerdata/config/\u001b[0m\u001b[95mteamname_replacements.json.\u001b[0m             \u001b[2m             \u001b[0m\n",
      "text/html": "<pre style=\"white-space:pre;overflow-x:auto;line-height:normal;font-family:Menlo,'DejaVu Sans Mono',consolas,'Courier New',monospace\"><span style=\"color: #7fbfbf; text-decoration-color: #7fbfbf\">[10/08/23 14:06:39] </span><span style=\"color: #000080; text-decoration-color: #000080\">INFO    </span> No custom team name replacements found. You can configure these in       <a href=\"file:///Users/Gautham/miniconda3/envs/dl_hw0/lib/python3.8/site-packages/soccerdata/_config.py\" target=\"_blank\"><span style=\"color: #7f7f7f; text-decoration-color: #7f7f7f\">_config.py</span></a><span style=\"color: #7f7f7f; text-decoration-color: #7f7f7f\">:</span><a href=\"file:///Users/Gautham/miniconda3/envs/dl_hw0/lib/python3.8/site-packages/soccerdata/_config.py#84\" target=\"_blank\"><span style=\"color: #7f7f7f; text-decoration-color: #7f7f7f\">84</span></a>\n<span style=\"color: #7fbfbf; text-decoration-color: #7fbfbf\">                    </span>         <span style=\"color: #800080; text-decoration-color: #800080\">/Users/Gautham/soccerdata/config/</span><span style=\"color: #ff00ff; text-decoration-color: #ff00ff\">teamname_replacements.json.</span>             <span style=\"color: #7f7f7f; text-decoration-color: #7f7f7f\">             </span>\n</pre>\n"
     },
     "metadata": {}
    },
    {
     "output_type": "display_data",
     "data": {
      "text/plain": "\u001b[2;36m                   \u001b[0m\u001b[2;36m \u001b[0m\u001b[34mINFO    \u001b[0m No custom league dict found. You can configure additional leagues in    \u001b]8;id=16954;file:///Users/Gautham/miniconda3/envs/dl_hw0/lib/python3.8/site-packages/soccerdata/_config.py\u001b\\\u001b[2m_config.py\u001b[0m\u001b]8;;\u001b\\\u001b[2m:\u001b[0m\u001b]8;id=83354;file:///Users/Gautham/miniconda3/envs/dl_hw0/lib/python3.8/site-packages/soccerdata/_config.py#162\u001b\\\u001b[2m162\u001b[0m\u001b]8;;\u001b\\\n\u001b[2;36m                    \u001b[0m         \u001b[35m/Users/Gautham/soccerdata/config/\u001b[0m\u001b[95mleague_dict.json.\u001b[0m                      \u001b[2m              \u001b[0m\n",
      "text/html": "<pre style=\"white-space:pre;overflow-x:auto;line-height:normal;font-family:Menlo,'DejaVu Sans Mono',consolas,'Courier New',monospace\"><span style=\"color: #7fbfbf; text-decoration-color: #7fbfbf\">                    </span><span style=\"color: #000080; text-decoration-color: #000080\">INFO    </span> No custom league dict found. You can configure additional leagues in    <a href=\"file:///Users/Gautham/miniconda3/envs/dl_hw0/lib/python3.8/site-packages/soccerdata/_config.py\" target=\"_blank\"><span style=\"color: #7f7f7f; text-decoration-color: #7f7f7f\">_config.py</span></a><span style=\"color: #7f7f7f; text-decoration-color: #7f7f7f\">:</span><a href=\"file:///Users/Gautham/miniconda3/envs/dl_hw0/lib/python3.8/site-packages/soccerdata/_config.py#162\" target=\"_blank\"><span style=\"color: #7f7f7f; text-decoration-color: #7f7f7f\">162</span></a>\n<span style=\"color: #7fbfbf; text-decoration-color: #7fbfbf\">                    </span>         <span style=\"color: #800080; text-decoration-color: #800080\">/Users/Gautham/soccerdata/config/</span><span style=\"color: #ff00ff; text-decoration-color: #ff00ff\">league_dict.json.</span>                      <span style=\"color: #7f7f7f; text-decoration-color: #7f7f7f\">              </span>\n</pre>\n"
     },
     "metadata": {}
    }
   ],
   "source": [
    "#! pip install cache_pandas\n",
    "#! pip install soccerdata\n",
    "#! pip install scikit-learn\n",
    "#! pip install tpot\n",
    "#! pip install xgboost\n",
    "#! pip install optuna\n",
    "import soccerdata as sd \n",
    "import pandas as pd\n",
    "import os\n",
    "import numpy as np\n",
    "from cache_pandas import cache_to_csv\n",
    "from sklearn.ensemble import RandomForestClassifier\n",
    "from sklearn.metrics import accuracy_score, precision_score\n",
    "from tpot import TPOTClassifier\n",
    "import xgboost as xgb\n",
    "from sklearn.model_selection import cross_val_score\n",
    "\n",
    "pd.set_option('display.max_columns', None)\n",
    "pd.set_option('display.max_rows', 20)\n",
    "\n"
   ]
  },
  {
   "cell_type": "code",
   "execution_count": 32,
   "metadata": {},
   "outputs": [
    {
     "output_type": "stream",
     "name": "stdout",
     "text": "Collecting asyncio\n  Downloading asyncio-3.4.3-py3-none-any.whl (101 kB)\n\u001b[2K     \u001b[90m━━━━━━━━━━━━━━━━━━━━━━━━━━━━━━━━━━━━━━━\u001b[0m \u001b[32m101.8/101.8 kB\u001b[0m \u001b[31m2.1 MB/s\u001b[0m eta \u001b[36m0:00:00\u001b[0m\n\u001b[?25hInstalling collected packages: asyncio\nSuccessfully installed asyncio-3.4.3\n"
    }
   ],
   "source": [
    "#! pip install understat\n",
    "! pip install asyncio\n",
    "from understat import Understat\n",
    "import asyncio\n",
    "import json\n",
    "\n",
    "import aiohttp\n"
   ]
  },
  {
   "cell_type": "code",
   "execution_count": 484,
   "metadata": {},
   "outputs": [],
   "source": [
    "@cache_to_csv(\"cache/prem.csv\", refresh_time=300)\n",
    "def get_prem_data():\n",
    "    directory = '/Users/Gautham/Downloads/archive-2/Datasets'\n",
    "    total_df = pd.DataFrame()\n",
    "\n",
    "    for filename in os.listdir(directory):\n",
    "        f = os.path.join(directory, filename)\n",
    "        # checking if it is a file\n",
    "        \n",
    "        if os.path.isfile(f) and filename[-3:] == 'csv':\n",
    "            print(f)\n",
    "            df = pd.read_csv(f, encoding = 'unicode_escape')\n",
    "            total_df = pd.concat([total_df,df], join='outer')\n",
    "    return total_df"
   ]
  },
  {
   "cell_type": "code",
   "execution_count": 99,
   "metadata": {},
   "outputs": [],
   "source": [
    "@cache_to_csv(\"cache/schedule.csv\", refresh_time=0)\n",
    "def get_schedule():\n",
    "    fbref = sd.FBref('ENG-Premier League', '2223-2324')\n",
    "    sched23 = fbref.read_schedule()\n",
    "\n",
    "    sched23 = sched23.droplevel('league')\n",
    "    sched23 = sched23.droplevel('season')\n",
    "\n",
    "    sched23 = sched23.rename(columns={'date':'Date', 'home_team':'HomeTeam', 'away_team':'AwayTeam', 'referee': 'Referee'})\n",
    "    sched23['Date'] = pd.to_datetime(sched23['Date'], yearfirst=True).dt.strftime('%d/%m/%y')\n",
    "    sched23['FTHG'] = sched23['score'].str[0].astype('float')\n",
    "    sched23['FTAG'] = sched23['score'].str[-1].astype('float')\n",
    "    sched23[['BbAv>2.5', 'BbAv<2.5', 'BbAvH', 'BbAvD', 'BbAvA']] = None\n",
    "    sched23['HomeTeam'] = sched23['HomeTeam'].map(mapping)\n",
    "    sched23['AwayTeam'] = sched23['AwayTeam'].map(mapping)\n",
    "    sched23 = sched23.reset_index(drop=True)\n",
    "    return sched23"
   ]
  },
  {
   "cell_type": "code",
   "execution_count": 118,
   "metadata": {},
   "outputs": [],
   "source": [
    "@cache_to_csv(\"cache/current_season.csv\", refresh_time=0)\n",
    "def get_current_season():\n",
    "    df = pd.DataFrame()\n",
    "    years =  ['0102', '0203','0304','0405','0506','0607','0708','0809','0910','1011','1112','1213','1314','1415','1516','1617','1718','1819','1920','2021','2122','2223','2323']\n",
    "    years = ['2223', '2324']\n",
    "\n",
    "    for year in years: \n",
    "        history = sd.MatchHistory('ENG-Premier League', year)#'2000-2023')\n",
    "        sched = history.read_games()\n",
    "        df = pd.concat([df, sched])\n",
    "\n",
    "\n",
    "    sched23 = df\n",
    "    #history = sd.MatchHistory('ENG-Premier League', '2000')#'2000-2023')\n",
    "    #sched23 = history.read_games()\n",
    "\n",
    "    sched23 = sched23.droplevel('league')\n",
    "    sched23 = sched23.droplevel('season')\n",
    "\n",
    "    sched23 = sched23.rename(columns={'date':'Date', 'home_team':'HomeTeam', 'away_team':'AwayTeam', 'referee': 'Referee'})\n",
    "    sched23['Date'] = pd.to_datetime(sched23['Date'], yearfirst=True).dt.strftime('%d/%m/%y')\n",
    "    \n",
    "    #sched23[['BbAv>2.5', 'BbAv<2.5', 'BbAvH', 'BbAvD', 'BbAvA']] = None\n",
    "    sched23['HomeTeam'] = sched23['HomeTeam'].map(mapping)\n",
    "    sched23['AwayTeam'] = sched23['AwayTeam'].map(mapping)\n",
    "    sched23 = sched23.reset_index(drop=True)\n",
    "    return sched23\n",
    "\n",
    "    "
   ]
  },
  {
   "cell_type": "code",
   "execution_count": 983,
   "metadata": {},
   "outputs": [],
   "source": [
    "@cache_to_csv(\"cache/elo.csv\", refresh_time=86400)\n",
    "def get_elo_data(full_df):\n",
    "    clubelo = sd.ClubElo('ENG-Premier League')  \n",
    "    # create elo df\n",
    "    elo_df = pd.DataFrame()\n",
    "    for club in full_df['Team'].unique():\n",
    "        print('hi', club)\n",
    "        try:\n",
    "            elo = clubelo.read_team_history(club)\n",
    "            elo_df = pd.concat([elo_df,elo])\n",
    "        except:\n",
    "            print(club)\n",
    "\n",
    "    # add nottingham data\n",
    "    elo_df = pd.concat([elo_df, clubelo.read_team_history('Forest')])\n",
    "    elo_df['team'].replace(['Forest'], \"Nott'm Forest\", regex=True, inplace=True)\n",
    "    elo_df = elo_df.reset_index()\n",
    "    # merge elo with full df\n",
    "    out = full_df.merge(elo_df[['team', 'elo', 'from', 'to']], how='left', left_on=['Team'], right_on=['team']) \n",
    "    out = out.query('Date.between(`from`, `to`)')\n",
    "    out = out.merge(elo_df[['team', 'elo', 'from', 'to']], how='left', left_on=['Opponent'], right_on=['team']) \n",
    "    out = out.query('Date.between(`from_y`, `to_y`)')\n",
    "    out = out.reset_index(drop=True)\n",
    "    out['ELODif'] = out['elo_x'] - out['elo_y']\n",
    "    out = out.rename(columns={'elo_x':'TeamELO', 'elo_y':'OpponentELO'})\n",
    "    out = out.drop(columns=['from_x', 'from_y', 'to_x', 'to_y', 'team_x', 'team_y'])\n",
    "    return out"
   ]
  },
  {
   "cell_type": "code",
   "execution_count": 329,
   "metadata": {},
   "outputs": [],
   "source": [
    "def home_away(df):\n",
    "        if 'Team' not in df.columns:\n",
    "            df = rename_cols(df)\n",
    "        if 'GameID' not in df.columns:\n",
    "            df['GameID'] = range(df.shape[0])\n",
    "\n",
    "        c1 = df.filter(like='Team').columns\n",
    "        c2 = c1.str.replace('Team', 'Opponent')\n",
    "        \n",
    "        swap = df.rename(columns={**dict(zip(c1, c2)), **dict(zip(c2, c1))})\n",
    "        swap['Venue'] = 'Away'\n",
    "        df['Result'] = np.where(df['Result'] == 'H', 'W', np.where(df['Result'] == 'A', 'L', df['Result']))\n",
    "        swap['Result'] = np.where(swap['Result'] == 'H', 'L', np.where(swap['Result'] == 'A', 'W', swap['Result']))\n",
    "        #swap['Result'] = np.where(swap['Result'] == 'H', 'A', np.where(swap['Result'] == 'A', 'H', 'D'))\n",
    "        #print(swap)\n",
    "        df = pd.concat([df,swap])\n",
    "        \n",
    "        #df['Result'] = np.where(df['Result'] != 'W', 'L', df['Result'])\n",
    "        #df = df.rename(columns={'Team1':'Team', 'Team2':'Opponent'})\n",
    "        df = df.sort_values(by='GameID').reset_index(drop=True)\n",
    "        return df"
   ]
  },
  {
   "cell_type": "code",
   "execution_count": 849,
   "metadata": {},
   "outputs": [],
   "source": [
    "@cache_to_csv(\"cache/processed.csv\", refresh_time=60)\n",
    "def preprocess(total_df, source):\n",
    "    total_df['TotalGoals'] = total_df['FTHG'] + total_df['FTAG']\n",
    "    total_df['Date'] = pd.to_datetime(total_df['Date'], dayfirst=True)\n",
    "    \n",
    "    total_df = total_df.sort_values(by='Date')\n",
    "    total_df['GameID'] = range(len(total_df))\n",
    "\n",
    "    df = total_df\n",
    "    #return df\n",
    "    #return df.filter(like='>2.5')#.isna().sum()\n",
    "    if source == 'csv':\n",
    "        df = total_df[['GameID', 'Date', 'HomeTeam', 'AwayTeam', 'TotalGoals', 'FTHG', 'FTAG', 'FTR', 'Referee', 'HS', 'AS', 'HST', 'AST', 'HF', 'AF', 'HC', 'AC', 'HY', 'AY', 'HR', 'AR', 'BbAv>2.5', 'BbAv<2.5', 'AvgC>2.5', 'AvgC<2.5', 'B365H', 'B365D', 'B365A', 'AvgCH', 'AvgCD', 'AvgCA', 'B365>2.5', 'B365<2.5']]\n",
    "        \n",
    "        #df['O2.5'] = np.where(df['AvgC>2.5'].isna(),np.where(~df['BbAv>2.5'].isna(),df['BbAv>2.5'],df['B365>2.5']),df['AvgC>2.5'])\n",
    "        #df['O2.5'] = df['B365>2.5']\n",
    "        #df['U2.5'] = df['B365<2.5']\n",
    "        df['O2.5'] = np.where(df['BbAv>2.5'].isna(),df['B365>2.5'],df['BbAv>2.5'])\n",
    "        df['U2.5'] = np.where(df['AvgC<2.5'].isna(),np.where(~df['BbAv<2.5'].isna(),df['BbAv<2.5'],df['B365<2.5']),df['AvgC<2.5'])\n",
    "        #df['U2.5'] = np.where(df['BbAv<2.5'].isna(),df['B365<2.5'],df['BbAv<2.5'])\n",
    "\n",
    "        #['O2.5'].isna().sum())\n",
    "        \n",
    "        df['HomeTeamWinOdds'] = df['B365H']#np.where(df['AvgCH'].isna(),df['BbAvH'],df['AvgCH'])\n",
    "        df['AwayTeamWinOdds'] = df['B365A']#np.where(df['AvgCA'].isna(),df['BbAvA'],df['AvgCA'])\n",
    "        df['DrawOdds'] = df['B365D']#np.where(df['AvgCD'].isna(),df['BbAvD'],df['AvgCD'])\n",
    "        \n",
    "        df.columns = ['GameID', 'Date', 'HomeTeam', 'AwayTeam', 'TotalGoals', 'HomeTeamGoals', 'AwayTeamGoals', 'Result', 'Referee', 'HomeTeamShots', 'AwayTeamShots', 'HomeTeamShotsonTarget', 'AwayTeamShotsonTarget', 'HomeTeamFouls', 'AwayTeamFouls', 'HomeTeamCorners', 'AwayTeamCorners', 'HomeTeamYellowCards', 'AwayTeamYellowCards', 'HomeTeamRedCards', 'AwayTeamRedCards', 'BbO2.5', 'BbU2.5', 'AvgO2.5', 'AvgU2.5','BbHome', 'BbDraw', 'BbAway', 'AvgH', 'AvgD', 'AvgA', 'B365O', 'B365U', 'O2.5', 'U2.5', 'HomeTeamWinOdds',  'AwayTeamWinOdds', 'DrawOdds']\n",
    "\n",
    "        df = df[['GameID', 'Date', 'HomeTeam', 'AwayTeam', 'TotalGoals', 'HomeTeamGoals', 'AwayTeamGoals', 'Result', 'Referee', 'HomeTeamShots', 'AwayTeamShots', 'HomeTeamShotsonTarget', 'AwayTeamShotsonTarget', 'HomeTeamFouls', 'AwayTeamFouls', 'HomeTeamCorners', 'AwayTeamCorners', 'HomeTeamYellowCards', 'AwayTeamYellowCards', 'HomeTeamRedCards', 'AwayTeamRedCards', 'O2.5', 'U2.5', 'HomeTeamWinOdds', 'DrawOdds', 'AwayTeamWinOdds']]\n",
    "        df = df.sort_values(by='Date')\n",
    "\n",
    "    '''\n",
    "    c1 = df.filter(like='HomeTeam').columns\n",
    "\n",
    "    c2 = c1.str.replace('HomeTeam', 'Team')\n",
    "    df = df.rename(columns={**dict(zip(c1, c2)), **dict(zip(c2, c1))})\n",
    "    c1 = df.filter(like='AwayTeam').columns\n",
    "\n",
    "    c2 = c1.str.replace('AwayTeam', 'Opponent')\n",
    "\n",
    "    df = df.rename(columns={**dict(zip(c1, c2)), **dict(zip(c2, c1))})\n",
    "    df['Venue'] = 'Home'\n",
    "\n",
    "    c1 = df.filter(like='Team').columns\n",
    "    c2 = c1.str.replace('Team', 'Opponent')\n",
    "\n",
    "    swap = df.rename(columns={**dict(zip(c1, c2)), **dict(zip(c2, c1))})\n",
    "    swap['Venue'] = 'Away'\n",
    "    #print(swap)\n",
    "    df = pd.concat([df,swap])\n",
    "    df['Team'] = df['Team'].map(mapping)\n",
    "    df['Opponent'] = df['Opponent'].map(mapping)\n",
    "    #df = df.rename(columns={'Team1':'Team', 'Team2':'Opponent'})\n",
    "    df = df.sort_values(by='GameID').reset_index(drop=True)\n",
    "    '''\n",
    "    df = home_away(df)\n",
    "    return df"
   ]
  },
  {
   "cell_type": "code",
   "execution_count": 850,
   "metadata": {},
   "outputs": [
    {
     "output_type": "execute_result",
     "data": {
      "text/plain": "       GameID       Date           Team       Opponent  TotalGoals  TeamGoals  \\\n1778      889 2002-11-16        Arsenal      Tottenham           3          3   \n1779      889 2002-11-16      Tottenham        Arsenal           3          0   \n1780      890 2002-11-16        Chelsea  Middlesbrough           1          1   \n1781      890 2002-11-16  Middlesbrough        Chelsea           1          0   \n1782      891 2002-11-16       Man City       Charlton           1          0   \n...       ...        ...            ...            ...         ...        ...   \n16893    8446 2023-09-17        Arsenal        Everton           1          1   \n16894    8447 2023-09-17    Bournemouth        Chelsea           0          0   \n16895    8447 2023-09-17        Chelsea    Bournemouth           0          0   \n16896    8448 2023-09-18         Forest        Burnley           2          1   \n16897    8448 2023-09-18        Burnley         Forest           2          1   \n\n       OpponentGoals Result   Referee  TeamShots  OpponentShots  \\\n1778               0      H   M Riley         17              6   \n1779               3      A   M Riley          6             17   \n1780               0      H    P Dowd         13              7   \n1781               1      A    P Dowd          7             13   \n1782               1      A  G Barber         15             13   \n...              ...    ...       ...        ...            ...   \n16893              0      H  S Hooper         13              8   \n16894              0      D   D Coote         13             14   \n16895              0      D   D Coote         14             13   \n16896              1      D   R Jones         14             10   \n16897              1      D   R Jones         10             14   \n\n       TeamShotsonTarget  OpponentShotsonTarget  TeamFouls  OpponentFouls  \\\n1778                  12                      5         15             10   \n1779                   5                     12         10             15   \n1780                   5                      4          9             11   \n1781                   4                      5         11              9   \n1782                   4                      4         10             16   \n...                  ...                    ...        ...            ...   \n16893                  4                      1         10             12   \n16894                  4                      6         15             20   \n16895                  6                      4         20             15   \n16896                  4                      3         16             10   \n16897                  3                      4         10             16   \n\n       TeamCorners  OpponentCorners  TeamYellowCards  OpponentYellowCards  \\\n1778             3                1                0                    2   \n1779             1                3                2                    0   \n1780             5                7                2                    1   \n1781             7                5                1                    2   \n1782             7                5                0                    4   \n...            ...              ...              ...                  ...   \n16893           11                1                1                    1   \n16894            1                7                1                    5   \n16895            7                1                5                    1   \n16896            5                4                2                    3   \n16897            4                5                3                    2   \n\n       TeamRedCards  OpponentRedCards  O2.5  U2.5  TeamWinOdds  DrawOdds  \\\n1778              0                 1  1.72  2.00        1.533      3.50   \n1779              1                 0  1.72  2.00        5.500      3.50   \n1780              0                 0  1.80  1.90        1.727      3.20   \n1781              0                 0  1.80  1.90        4.500      3.20   \n1782              0                 0  1.83  1.83        1.667      3.40   \n...             ...               ...   ...   ...          ...       ...   \n16893             0                 0  1.67  2.23        1.500      4.50   \n16894             0                 0  1.67  2.19        4.330      3.75   \n16895             0                 0  1.67  2.19        1.800      3.75   \n16896             0                 1  1.92  1.87        2.200      3.50   \n16897             1                 0  1.92  1.87        3.250      3.50   \n\n       OpponentWinOdds Venue  \n1778             5.500  Home  \n1779             1.533  Away  \n1780             4.500  Home  \n1781             1.727  Away  \n1782             4.500  Home  \n...                ...   ...  \n16893            6.000  Away  \n16894            1.800  Home  \n16895            4.330  Away  \n16896            3.250  Home  \n16897            2.200  Away  \n\n[15104 rows x 27 columns]",
      "text/html": "<div>\n<style scoped>\n    .dataframe tbody tr th:only-of-type {\n        vertical-align: middle;\n    }\n\n    .dataframe tbody tr th {\n        vertical-align: top;\n    }\n\n    .dataframe thead th {\n        text-align: right;\n    }\n</style>\n<table border=\"1\" class=\"dataframe\">\n  <thead>\n    <tr style=\"text-align: right;\">\n      <th></th>\n      <th>GameID</th>\n      <th>Date</th>\n      <th>Team</th>\n      <th>Opponent</th>\n      <th>TotalGoals</th>\n      <th>TeamGoals</th>\n      <th>OpponentGoals</th>\n      <th>Result</th>\n      <th>Referee</th>\n      <th>TeamShots</th>\n      <th>OpponentShots</th>\n      <th>TeamShotsonTarget</th>\n      <th>OpponentShotsonTarget</th>\n      <th>TeamFouls</th>\n      <th>OpponentFouls</th>\n      <th>TeamCorners</th>\n      <th>OpponentCorners</th>\n      <th>TeamYellowCards</th>\n      <th>OpponentYellowCards</th>\n      <th>TeamRedCards</th>\n      <th>OpponentRedCards</th>\n      <th>O2.5</th>\n      <th>U2.5</th>\n      <th>TeamWinOdds</th>\n      <th>DrawOdds</th>\n      <th>OpponentWinOdds</th>\n      <th>Venue</th>\n    </tr>\n  </thead>\n  <tbody>\n    <tr>\n      <th>1778</th>\n      <td>889</td>\n      <td>2002-11-16</td>\n      <td>Arsenal</td>\n      <td>Tottenham</td>\n      <td>3</td>\n      <td>3</td>\n      <td>0</td>\n      <td>H</td>\n      <td>M Riley</td>\n      <td>17</td>\n      <td>6</td>\n      <td>12</td>\n      <td>5</td>\n      <td>15</td>\n      <td>10</td>\n      <td>3</td>\n      <td>1</td>\n      <td>0</td>\n      <td>2</td>\n      <td>0</td>\n      <td>1</td>\n      <td>1.72</td>\n      <td>2.00</td>\n      <td>1.533</td>\n      <td>3.50</td>\n      <td>5.500</td>\n      <td>Home</td>\n    </tr>\n    <tr>\n      <th>1779</th>\n      <td>889</td>\n      <td>2002-11-16</td>\n      <td>Tottenham</td>\n      <td>Arsenal</td>\n      <td>3</td>\n      <td>0</td>\n      <td>3</td>\n      <td>A</td>\n      <td>M Riley</td>\n      <td>6</td>\n      <td>17</td>\n      <td>5</td>\n      <td>12</td>\n      <td>10</td>\n      <td>15</td>\n      <td>1</td>\n      <td>3</td>\n      <td>2</td>\n      <td>0</td>\n      <td>1</td>\n      <td>0</td>\n      <td>1.72</td>\n      <td>2.00</td>\n      <td>5.500</td>\n      <td>3.50</td>\n      <td>1.533</td>\n      <td>Away</td>\n    </tr>\n    <tr>\n      <th>1780</th>\n      <td>890</td>\n      <td>2002-11-16</td>\n      <td>Chelsea</td>\n      <td>Middlesbrough</td>\n      <td>1</td>\n      <td>1</td>\n      <td>0</td>\n      <td>H</td>\n      <td>P Dowd</td>\n      <td>13</td>\n      <td>7</td>\n      <td>5</td>\n      <td>4</td>\n      <td>9</td>\n      <td>11</td>\n      <td>5</td>\n      <td>7</td>\n      <td>2</td>\n      <td>1</td>\n      <td>0</td>\n      <td>0</td>\n      <td>1.80</td>\n      <td>1.90</td>\n      <td>1.727</td>\n      <td>3.20</td>\n      <td>4.500</td>\n      <td>Home</td>\n    </tr>\n    <tr>\n      <th>1781</th>\n      <td>890</td>\n      <td>2002-11-16</td>\n      <td>Middlesbrough</td>\n      <td>Chelsea</td>\n      <td>1</td>\n      <td>0</td>\n      <td>1</td>\n      <td>A</td>\n      <td>P Dowd</td>\n      <td>7</td>\n      <td>13</td>\n      <td>4</td>\n      <td>5</td>\n      <td>11</td>\n      <td>9</td>\n      <td>7</td>\n      <td>5</td>\n      <td>1</td>\n      <td>2</td>\n      <td>0</td>\n      <td>0</td>\n      <td>1.80</td>\n      <td>1.90</td>\n      <td>4.500</td>\n      <td>3.20</td>\n      <td>1.727</td>\n      <td>Away</td>\n    </tr>\n    <tr>\n      <th>1782</th>\n      <td>891</td>\n      <td>2002-11-16</td>\n      <td>Man City</td>\n      <td>Charlton</td>\n      <td>1</td>\n      <td>0</td>\n      <td>1</td>\n      <td>A</td>\n      <td>G Barber</td>\n      <td>15</td>\n      <td>13</td>\n      <td>4</td>\n      <td>4</td>\n      <td>10</td>\n      <td>16</td>\n      <td>7</td>\n      <td>5</td>\n      <td>0</td>\n      <td>4</td>\n      <td>0</td>\n      <td>0</td>\n      <td>1.83</td>\n      <td>1.83</td>\n      <td>1.667</td>\n      <td>3.40</td>\n      <td>4.500</td>\n      <td>Home</td>\n    </tr>\n    <tr>\n      <th>...</th>\n      <td>...</td>\n      <td>...</td>\n      <td>...</td>\n      <td>...</td>\n      <td>...</td>\n      <td>...</td>\n      <td>...</td>\n      <td>...</td>\n      <td>...</td>\n      <td>...</td>\n      <td>...</td>\n      <td>...</td>\n      <td>...</td>\n      <td>...</td>\n      <td>...</td>\n      <td>...</td>\n      <td>...</td>\n      <td>...</td>\n      <td>...</td>\n      <td>...</td>\n      <td>...</td>\n      <td>...</td>\n      <td>...</td>\n      <td>...</td>\n      <td>...</td>\n      <td>...</td>\n      <td>...</td>\n    </tr>\n    <tr>\n      <th>16893</th>\n      <td>8446</td>\n      <td>2023-09-17</td>\n      <td>Arsenal</td>\n      <td>Everton</td>\n      <td>1</td>\n      <td>1</td>\n      <td>0</td>\n      <td>H</td>\n      <td>S Hooper</td>\n      <td>13</td>\n      <td>8</td>\n      <td>4</td>\n      <td>1</td>\n      <td>10</td>\n      <td>12</td>\n      <td>11</td>\n      <td>1</td>\n      <td>1</td>\n      <td>1</td>\n      <td>0</td>\n      <td>0</td>\n      <td>1.67</td>\n      <td>2.23</td>\n      <td>1.500</td>\n      <td>4.50</td>\n      <td>6.000</td>\n      <td>Away</td>\n    </tr>\n    <tr>\n      <th>16894</th>\n      <td>8447</td>\n      <td>2023-09-17</td>\n      <td>Bournemouth</td>\n      <td>Chelsea</td>\n      <td>0</td>\n      <td>0</td>\n      <td>0</td>\n      <td>D</td>\n      <td>D Coote</td>\n      <td>13</td>\n      <td>14</td>\n      <td>4</td>\n      <td>6</td>\n      <td>15</td>\n      <td>20</td>\n      <td>1</td>\n      <td>7</td>\n      <td>1</td>\n      <td>5</td>\n      <td>0</td>\n      <td>0</td>\n      <td>1.67</td>\n      <td>2.19</td>\n      <td>4.330</td>\n      <td>3.75</td>\n      <td>1.800</td>\n      <td>Home</td>\n    </tr>\n    <tr>\n      <th>16895</th>\n      <td>8447</td>\n      <td>2023-09-17</td>\n      <td>Chelsea</td>\n      <td>Bournemouth</td>\n      <td>0</td>\n      <td>0</td>\n      <td>0</td>\n      <td>D</td>\n      <td>D Coote</td>\n      <td>14</td>\n      <td>13</td>\n      <td>6</td>\n      <td>4</td>\n      <td>20</td>\n      <td>15</td>\n      <td>7</td>\n      <td>1</td>\n      <td>5</td>\n      <td>1</td>\n      <td>0</td>\n      <td>0</td>\n      <td>1.67</td>\n      <td>2.19</td>\n      <td>1.800</td>\n      <td>3.75</td>\n      <td>4.330</td>\n      <td>Away</td>\n    </tr>\n    <tr>\n      <th>16896</th>\n      <td>8448</td>\n      <td>2023-09-18</td>\n      <td>Forest</td>\n      <td>Burnley</td>\n      <td>2</td>\n      <td>1</td>\n      <td>1</td>\n      <td>D</td>\n      <td>R Jones</td>\n      <td>14</td>\n      <td>10</td>\n      <td>4</td>\n      <td>3</td>\n      <td>16</td>\n      <td>10</td>\n      <td>5</td>\n      <td>4</td>\n      <td>2</td>\n      <td>3</td>\n      <td>0</td>\n      <td>1</td>\n      <td>1.92</td>\n      <td>1.87</td>\n      <td>2.200</td>\n      <td>3.50</td>\n      <td>3.250</td>\n      <td>Home</td>\n    </tr>\n    <tr>\n      <th>16897</th>\n      <td>8448</td>\n      <td>2023-09-18</td>\n      <td>Burnley</td>\n      <td>Forest</td>\n      <td>2</td>\n      <td>1</td>\n      <td>1</td>\n      <td>D</td>\n      <td>R Jones</td>\n      <td>10</td>\n      <td>14</td>\n      <td>3</td>\n      <td>4</td>\n      <td>10</td>\n      <td>16</td>\n      <td>4</td>\n      <td>5</td>\n      <td>3</td>\n      <td>2</td>\n      <td>1</td>\n      <td>0</td>\n      <td>1.92</td>\n      <td>1.87</td>\n      <td>3.250</td>\n      <td>3.50</td>\n      <td>2.200</td>\n      <td>Away</td>\n    </tr>\n  </tbody>\n</table>\n<p>15104 rows × 27 columns</p>\n</div>"
     },
     "metadata": {},
     "execution_count": 850
    }
   ],
   "source": [
    "d = preprocess(new_df2023, 'csv')#.dropna(subset=['O2.5'])\n",
    "d.dropna(subset=['O2.5'])#.isna().sum()#subset=['BbMx>2.5'])"
   ]
  },
  {
   "cell_type": "code",
   "execution_count": 8,
   "metadata": {},
   "outputs": [],
   "source": [
    "def create_predictors(df):\n",
    "    df['VenueCode'] = df['Venue'].astype('category').cat.codes\n",
    "    df['OpponentCode'] = df['Opponent'].astype('category').cat.codes\n",
    "    df['Target'] = (df['TotalGoals'] > 2.5).astype('int')\n",
    "    return df.reset_index(drop=True)"
   ]
  },
  {
   "cell_type": "code",
   "execution_count": 969,
   "metadata": {},
   "outputs": [],
   "source": [
    "def rolling_averages(group, cols, new_cols):\n",
    "    group = group.sort_values(by='Date')\n",
    "    rolling_stats = group[cols].rolling(3, min_periods=2, closed='left').mean()\n",
    "    group[new_cols] = rolling_stats\n",
    "    group = group.dropna(subset=new_cols)\n",
    "    return group\n",
    "\n",
    "@cache_to_csv(\"cache/rolling.csv\", refresh_time=60)\n",
    "def create_rolling(merged_df):\n",
    "    cols = ['TotalGoals','TeamGoals', 'OpponentGoals', 'TeamShots', 'OpponentShots', 'TeamShotsonTarget', 'OpponentShotsonTarget', 'TeamCorners', 'OpponentCorners']\n",
    "    new_cols = [f'{c}Rolling' for c in cols]\n",
    "    df_rolling = merged_df.groupby('Team').apply(lambda x: rolling_averages(x, cols, new_cols))\n",
    "    df_rolling = df_rolling.droplevel('Team')\n",
    "    df_rolling = df_rolling.sort_values('GameID')\n",
    "    df_rolling.index = range(df_rolling.shape[0])\n",
    "    return df_rolling"
   ]
  },
  {
   "cell_type": "code",
   "execution_count": 982,
   "metadata": {},
   "outputs": [
    {
     "output_type": "stream",
     "name": "stdout",
     "text": "getting prem\ngetting schedule\n"
    },
    {
     "output_type": "display_data",
     "data": {
      "text/plain": "\u001b[2;36m[09/21/23 19:47:59]\u001b[0m\u001b[2;36m \u001b[0m\u001b[34mINFO    \u001b[0m Saving cached data to \u001b[35m/Users/Gautham/soccerdata/data/\u001b[0m\u001b[95mMatchHistory\u001b[0m        \u001b]8;id=398382;file:///Users/Gautham/miniconda3/envs/dl_hw0/lib/python3.8/site-packages/soccerdata/_common.py\u001b\\\u001b[2m_common.py\u001b[0m\u001b]8;;\u001b\\\u001b[2m:\u001b[0m\u001b]8;id=101414;file:///Users/Gautham/miniconda3/envs/dl_hw0/lib/python3.8/site-packages/soccerdata/_common.py#89\u001b\\\u001b[2m89\u001b[0m\u001b]8;;\u001b\\\n",
      "text/html": "<pre style=\"white-space:pre;overflow-x:auto;line-height:normal;font-family:Menlo,'DejaVu Sans Mono',consolas,'Courier New',monospace\"><span style=\"color: #7fbfbf; text-decoration-color: #7fbfbf\">[09/21/23 19:47:59] </span><span style=\"color: #000080; text-decoration-color: #000080\">INFO    </span> Saving cached data to <span style=\"color: #800080; text-decoration-color: #800080\">/Users/Gautham/soccerdata/data/</span><span style=\"color: #ff00ff; text-decoration-color: #ff00ff\">MatchHistory</span>        <a href=\"file:///Users/Gautham/miniconda3/envs/dl_hw0/lib/python3.8/site-packages/soccerdata/_common.py\" target=\"_blank\"><span style=\"color: #7f7f7f; text-decoration-color: #7f7f7f\">_common.py</span></a><span style=\"color: #7f7f7f; text-decoration-color: #7f7f7f\">:</span><a href=\"file:///Users/Gautham/miniconda3/envs/dl_hw0/lib/python3.8/site-packages/soccerdata/_common.py#89\" target=\"_blank\"><span style=\"color: #7f7f7f; text-decoration-color: #7f7f7f\">89</span></a>\n</pre>\n"
     },
     "metadata": {}
    },
    {
     "output_type": "stream",
     "name": "stderr",
     "text": "INFO:root:Saving cached data to /Users/Gautham/soccerdata/data/MatchHistory\n"
    },
    {
     "output_type": "display_data",
     "data": {
      "text/plain": "\u001b[2;36m                   \u001b[0m\u001b[2;36m \u001b[0m\u001b[34mINFO    \u001b[0m Saving cached data to \u001b[35m/Users/Gautham/soccerdata/data/\u001b[0m\u001b[95mMatchHistory\u001b[0m        \u001b]8;id=277370;file:///Users/Gautham/miniconda3/envs/dl_hw0/lib/python3.8/site-packages/soccerdata/_common.py\u001b\\\u001b[2m_common.py\u001b[0m\u001b]8;;\u001b\\\u001b[2m:\u001b[0m\u001b]8;id=846335;file:///Users/Gautham/miniconda3/envs/dl_hw0/lib/python3.8/site-packages/soccerdata/_common.py#89\u001b\\\u001b[2m89\u001b[0m\u001b]8;;\u001b\\\n",
      "text/html": "<pre style=\"white-space:pre;overflow-x:auto;line-height:normal;font-family:Menlo,'DejaVu Sans Mono',consolas,'Courier New',monospace\"><span style=\"color: #7fbfbf; text-decoration-color: #7fbfbf\">                    </span><span style=\"color: #000080; text-decoration-color: #000080\">INFO    </span> Saving cached data to <span style=\"color: #800080; text-decoration-color: #800080\">/Users/Gautham/soccerdata/data/</span><span style=\"color: #ff00ff; text-decoration-color: #ff00ff\">MatchHistory</span>        <a href=\"file:///Users/Gautham/miniconda3/envs/dl_hw0/lib/python3.8/site-packages/soccerdata/_common.py\" target=\"_blank\"><span style=\"color: #7f7f7f; text-decoration-color: #7f7f7f\">_common.py</span></a><span style=\"color: #7f7f7f; text-decoration-color: #7f7f7f\">:</span><a href=\"file:///Users/Gautham/miniconda3/envs/dl_hw0/lib/python3.8/site-packages/soccerdata/_common.py#89\" target=\"_blank\"><span style=\"color: #7f7f7f; text-decoration-color: #7f7f7f\">89</span></a>\n</pre>\n"
     },
     "metadata": {}
    },
    {
     "output_type": "stream",
     "name": "stderr",
     "text": "INFO:root:Saving cached data to /Users/Gautham/soccerdata/data/MatchHistory\nIndex(['Div', 'Date', 'HomeTeam', 'AwayTeam', 'FTHG', 'FTAG', 'FTR', 'HTHG',\n       'HTAG', 'HTR',\n       ...\n       'Unnamed: 48', 'Unnamed: 49', 'Unnamed: 50', 'Unnamed: 51',\n       'Unnamed: 52', 'Attendance', 'HHW', 'AHW', 'HO', 'AO'],\n      dtype='object', length=161)\npreprocess\ncreate predictors\ngetting elo\n"
    },
    {
     "output_type": "display_data",
     "data": {
      "text/plain": "\u001b[2;36m[09/21/23 19:48:01]\u001b[0m\u001b[2;36m \u001b[0m\u001b[34mINFO    \u001b[0m Saving cached data to \u001b[35m/Users/Gautham/soccerdata/data/\u001b[0m\u001b[95mClubElo\u001b[0m             \u001b]8;id=396922;file:///Users/Gautham/miniconda3/envs/dl_hw0/lib/python3.8/site-packages/soccerdata/_common.py\u001b\\\u001b[2m_common.py\u001b[0m\u001b]8;;\u001b\\\u001b[2m:\u001b[0m\u001b]8;id=82627;file:///Users/Gautham/miniconda3/envs/dl_hw0/lib/python3.8/site-packages/soccerdata/_common.py#89\u001b\\\u001b[2m89\u001b[0m\u001b]8;;\u001b\\\n",
      "text/html": "<pre style=\"white-space:pre;overflow-x:auto;line-height:normal;font-family:Menlo,'DejaVu Sans Mono',consolas,'Courier New',monospace\"><span style=\"color: #7fbfbf; text-decoration-color: #7fbfbf\">[09/21/23 19:48:01] </span><span style=\"color: #000080; text-decoration-color: #000080\">INFO    </span> Saving cached data to <span style=\"color: #800080; text-decoration-color: #800080\">/Users/Gautham/soccerdata/data/</span><span style=\"color: #ff00ff; text-decoration-color: #ff00ff\">ClubElo</span>             <a href=\"file:///Users/Gautham/miniconda3/envs/dl_hw0/lib/python3.8/site-packages/soccerdata/_common.py\" target=\"_blank\"><span style=\"color: #7f7f7f; text-decoration-color: #7f7f7f\">_common.py</span></a><span style=\"color: #7f7f7f; text-decoration-color: #7f7f7f\">:</span><a href=\"file:///Users/Gautham/miniconda3/envs/dl_hw0/lib/python3.8/site-packages/soccerdata/_common.py#89\" target=\"_blank\"><span style=\"color: #7f7f7f; text-decoration-color: #7f7f7f\">89</span></a>\n</pre>\n"
     },
     "metadata": {}
    },
    {
     "output_type": "stream",
     "name": "stderr",
     "text": "INFO:root:Saving cached data to /Users/Gautham/soccerdata/data/ClubElo\nhi Charlton\nhi Man City\nhi Chelsea\nhi West Ham\nhi Coventry\nhi Middlesbrough\nhi Southampton\nhi Derby\nhi Leeds\nhi Everton\nhi Leicester\nhi Aston Villa\nhi Bradford\nhi Liverpool\nhi Arsenal\nhi Sunderland\nhi Ipswich\nhi Tottenham\nhi Newcastle\nhi Man United\nhi Bolton\nhi Blackburn\nhi Fulham\nhi West Brom\nhi Birmingham\nhi Portsmouth\nhi Wolves\nhi Norwich\nhi Crystal Palace\nhi Wigan\nhi Watford\nhi Reading\nhi Sheffield United\nhi Hull\nhi Stoke\nhi Burnley\nhi Blackpool\nhi QPR\nhi Swansea\nhi Cardiff\nhi Bournemouth\nhi Brighton\nhi Huddersfield\nhi Brentford\nhi Forest\nhi Luton\ncreate rolling\npredicting\n"
    }
   ],
   "source": [
    "print('getting prem')\n",
    "prem_df = get_prem_data()\n",
    "print('getting schedule')\n",
    "sched23 = get_current_season()\n",
    "#sched23 = get_schedule()\n",
    "\n",
    "new_df2023 = pd.concat([prem_df, sched23])\n",
    "new_df2023.to_csv('cache/total_df.csv')\n",
    "print(new_df2023.columns)\n",
    "print('preprocess')\n",
    "df1 = preprocess(new_df2023, 'csv')\n",
    "\n",
    "print('create predictors')\n",
    "full_df = create_predictors(df1)\n",
    "print('getting elo')\n",
    "merged_df = get_elo_data(full_df)\n",
    "print('create rolling')\n",
    "df_rolling = create_rolling(merged_df)\n",
    "print('predicting')\n",
    "\n",
    "\n",
    "#sched23"
   ]
  },
  {
   "cell_type": "code",
   "execution_count": 925,
   "metadata": {},
   "outputs": [],
   "source": [
    "from sklearn.ensemble import ExtraTreesClassifier\n",
    "from sklearn.model_selection import GridSearchCV\n",
    "    \n",
    "\n",
    "def random_forest(data, predictors, train, test, call_type):  \n",
    "    model = ExtraTreesClassifier(bootstrap=True, criterion=\"entropy\", max_features=0.8, min_samples_leaf=17, min_samples_split=5, n_estimators=100)\n",
    "\n",
    "    #model = RandomForestClassifier(n_estimators=50, min_samples_split=7, random_state=1)  \n",
    "    param_grid = {\n",
    "\t    \"max_depth\": [3],\n",
    "\t    \"learning_rate\": [0.01],\n",
    "\t    \"gamma\": [0, 0.25, 1],\n",
    "\t    \"reg_lambda\": [0, 1, 10],\n",
    "\t    \"scale_pos_weight\": [1, 3, 5],\n",
    "\t    \"subsample\": [0.8],\n",
    "\t    \"colsample_bytree\": [0.5],\n",
    "\t}\n",
    "    params = {'colsample_bytree': 0.5, 'gamma': 1, 'learning_rate': 0.01, 'max_depth': 3, 'reg_lambda': 10, 'scale_pos_weight': 1, 'subsample': 0.8}\n",
    "    \n",
    "    model = xgb.XGBClassifier(**params, objective='binary:logistic')\n",
    "    #model = xgb.XGBRegressor()\n",
    "    #grid_cv = GridSearchCV(model, param_grid, n_jobs=-1, cv=3, scoring='roc_auc')\n",
    "    #_ = grid_cv.fit(train[predictors], train['Target'])\n",
    "    #print(grid_cv.best_score_, grid_cv.best_params_)\n",
    "\n",
    "    #model.fit(train[predictors], train['Target'])\n",
    "    model.fit(train[predictors], train['Target'])\n",
    "    preds = model.predict(test[predictors])\n",
    "    if call_type == 'predict':\n",
    "        return preds\n",
    "    #combined = pd.DataFrame(dict(actual=test['Target'], prediction=preds), index = test.index)\n",
    "    precision = precision_score(test['Target'], preds)\n",
    "    accuracy = accuracy_score(test['Target'], preds)\n",
    "    combined = pd.DataFrame(dict(actual=test['Target'], prediction=preds), index = test.index)\n",
    "    #precision = precision_score(test['TotalGoals'], preds)\n",
    "    #accuracy = accuracy_score(test['TotalGoals'], preds)\n",
    "    #precision, accuracy = 1,1\n",
    "    #precision = cross_val_score(model, train[predictors], train['TotalGoals'], scoring='neg_mean_absolute_error')\n",
    "    return combined, precision, accuracy"
   ]
  },
  {
   "cell_type": "code",
   "execution_count": 964,
   "metadata": {},
   "outputs": [
    {
     "output_type": "execute_result",
     "data": {
      "text/plain": "(0.7358490566037735,\n 0.6395348837209303,\n        actual  prediction\n 16636       1           1\n 16637       1           1\n 16638       0           0\n 16639       0           0\n 16640       1           1\n ...       ...         ...\n 16717       1           1\n 16718       0           1\n 16719       0           1\n 16720       0           0\n 16721       0           0\n \n [86 rows x 2 columns])"
     },
     "metadata": {},
     "execution_count": 964
    }
   ],
   "source": [
    "predictors = ['VenueCode', 'OpponentCode', 'ELODif']\n",
    "#predictors = ['VenueCode', 'ELODif']\n",
    "new_df = df_rolling.dropna(subset=['O2.5'])\n",
    "new_df.shape\n",
    "train = new_df[new_df['Date'] < '2016-08']\n",
    "#test = new_df[new_df['Date'] >= '2022-08' and new_df['Date'] < '2022-08']\n",
    "test = new_df.loc[(new_df['Date'] >= '2023-08')]# & (new_df['Date'] < '2022-05')]\n",
    "combined, precision, accuracy = random_forest(df_rolling, predictors+new_cols, train, test, 'model')\n",
    "precision, accuracy, combined\n",
    "#(combined['actual'] - combined['prediction']).mean()"
   ]
  },
  {
   "cell_type": "code",
   "execution_count": 980,
   "metadata": {},
   "outputs": [
    {
     "output_type": "execute_result",
     "data": {
      "text/plain": "       GameID       Date         Team       Opponent  TotalGoals  TeamGoals  \\\n0           0 2000-08-19     Charlton       Man City           4          4   \n1           0 2000-08-19     Man City       Charlton           4          0   \n2           1 2000-08-19      Chelsea       West Ham           6          4   \n3           1 2000-08-19     West Ham        Chelsea           6          2   \n4           2 2000-08-19     Coventry  Middlesbrough           4          1   \n...       ...        ...          ...            ...         ...        ...   \n16893    8446 2023-09-17      Arsenal        Everton           1          1   \n16894    8447 2023-09-17  Bournemouth        Chelsea           0          0   \n16895    8447 2023-09-17      Chelsea    Bournemouth           0          0   \n16896    8448 2023-09-18       Forest        Burnley           2          1   \n16897    8448 2023-09-18      Burnley         Forest           2          1   \n\n       OpponentGoals Result        Referee  TeamShots  OpponentShots  \\\n0                  0      W     Rob Harris         17              8   \n1                  4      L     Rob Harris          8             17   \n2                  2      W  Graham Barber         17             12   \n3                  4      L  Graham Barber         12             17   \n4                  3      L   Barry Knight          6             16   \n...              ...    ...            ...        ...            ...   \n16893              0      W       S Hooper         13              8   \n16894              0      D        D Coote         13             14   \n16895              0      D        D Coote         14             13   \n16896              1      D        R Jones         14             10   \n16897              1      D        R Jones         10             14   \n\n       TeamShotsonTarget  OpponentShotsonTarget  TeamFouls  OpponentFouls  \\\n0                     14                      4         13             12   \n1                      4                     14         12             13   \n2                     10                      5         19             14   \n3                      5                     10         14             19   \n4                      3                      9         15             21   \n...                  ...                    ...        ...            ...   \n16893                  4                      1         10             12   \n16894                  4                      6         15             20   \n16895                  6                      4         20             15   \n16896                  4                      3         16             10   \n16897                  3                      4         10             16   \n\n       TeamCorners  OpponentCorners  TeamYellowCards  OpponentYellowCards  \\\n0                6                6                1                    2   \n1                6                6                2                    1   \n2                7                7                1                    2   \n3                7                7                2                    1   \n4                8                4                5                    3   \n...            ...              ...              ...                  ...   \n16893           11                1                1                    1   \n16894            1                7                1                    5   \n16895            7                1                5                    1   \n16896            5                4                2                    3   \n16897            4                5                3                    2   \n\n       TeamRedCards  OpponentRedCards  O2.5  U2.5  TeamWinOdds  DrawOdds  \\\n0                 0                 0   NaN   NaN          NaN       NaN   \n1                 0                 0   NaN   NaN          NaN       NaN   \n2                 0                 0   NaN   NaN          NaN       NaN   \n3                 0                 0   NaN   NaN          NaN       NaN   \n4                 1                 0   NaN   NaN          NaN       NaN   \n...             ...               ...   ...   ...          ...       ...   \n16893             0                 0  1.67  2.23         1.50      4.50   \n16894             0                 0  1.67  2.19         4.33      3.75   \n16895             0                 0  1.67  2.19         1.80      3.75   \n16896             0                 1  1.92  1.87         2.20      3.50   \n16897             1                 0  1.92  1.87         3.25      3.50   \n\n       OpponentWinOdds Venue  VenueCode  OpponentCode  Target  \n0                  NaN  Home          1            27       1  \n1                  NaN  Away          0            12       1  \n2                  NaN  Home          1            43       1  \n3                  NaN  Away          0            13       1  \n4                  NaN  Home          1            29       1  \n...                ...   ...        ...           ...     ...  \n16893             6.00  Away          0            17       0  \n16894             1.80  Home          1            13       0  \n16895             4.33  Away          0             6       0  \n16896             3.25  Home          1            10       0  \n16897             2.20  Away          0            18       0  \n\n[16898 rows x 30 columns]",
      "text/html": "<div>\n<style scoped>\n    .dataframe tbody tr th:only-of-type {\n        vertical-align: middle;\n    }\n\n    .dataframe tbody tr th {\n        vertical-align: top;\n    }\n\n    .dataframe thead th {\n        text-align: right;\n    }\n</style>\n<table border=\"1\" class=\"dataframe\">\n  <thead>\n    <tr style=\"text-align: right;\">\n      <th></th>\n      <th>GameID</th>\n      <th>Date</th>\n      <th>Team</th>\n      <th>Opponent</th>\n      <th>TotalGoals</th>\n      <th>TeamGoals</th>\n      <th>OpponentGoals</th>\n      <th>Result</th>\n      <th>Referee</th>\n      <th>TeamShots</th>\n      <th>OpponentShots</th>\n      <th>TeamShotsonTarget</th>\n      <th>OpponentShotsonTarget</th>\n      <th>TeamFouls</th>\n      <th>OpponentFouls</th>\n      <th>TeamCorners</th>\n      <th>OpponentCorners</th>\n      <th>TeamYellowCards</th>\n      <th>OpponentYellowCards</th>\n      <th>TeamRedCards</th>\n      <th>OpponentRedCards</th>\n      <th>O2.5</th>\n      <th>U2.5</th>\n      <th>TeamWinOdds</th>\n      <th>DrawOdds</th>\n      <th>OpponentWinOdds</th>\n      <th>Venue</th>\n      <th>VenueCode</th>\n      <th>OpponentCode</th>\n      <th>Target</th>\n    </tr>\n  </thead>\n  <tbody>\n    <tr>\n      <th>0</th>\n      <td>0</td>\n      <td>2000-08-19</td>\n      <td>Charlton</td>\n      <td>Man City</td>\n      <td>4</td>\n      <td>4</td>\n      <td>0</td>\n      <td>W</td>\n      <td>Rob Harris</td>\n      <td>17</td>\n      <td>8</td>\n      <td>14</td>\n      <td>4</td>\n      <td>13</td>\n      <td>12</td>\n      <td>6</td>\n      <td>6</td>\n      <td>1</td>\n      <td>2</td>\n      <td>0</td>\n      <td>0</td>\n      <td>NaN</td>\n      <td>NaN</td>\n      <td>NaN</td>\n      <td>NaN</td>\n      <td>NaN</td>\n      <td>Home</td>\n      <td>1</td>\n      <td>27</td>\n      <td>1</td>\n    </tr>\n    <tr>\n      <th>1</th>\n      <td>0</td>\n      <td>2000-08-19</td>\n      <td>Man City</td>\n      <td>Charlton</td>\n      <td>4</td>\n      <td>0</td>\n      <td>4</td>\n      <td>L</td>\n      <td>Rob Harris</td>\n      <td>8</td>\n      <td>17</td>\n      <td>4</td>\n      <td>14</td>\n      <td>12</td>\n      <td>13</td>\n      <td>6</td>\n      <td>6</td>\n      <td>2</td>\n      <td>1</td>\n      <td>0</td>\n      <td>0</td>\n      <td>NaN</td>\n      <td>NaN</td>\n      <td>NaN</td>\n      <td>NaN</td>\n      <td>NaN</td>\n      <td>Away</td>\n      <td>0</td>\n      <td>12</td>\n      <td>1</td>\n    </tr>\n    <tr>\n      <th>2</th>\n      <td>1</td>\n      <td>2000-08-19</td>\n      <td>Chelsea</td>\n      <td>West Ham</td>\n      <td>6</td>\n      <td>4</td>\n      <td>2</td>\n      <td>W</td>\n      <td>Graham Barber</td>\n      <td>17</td>\n      <td>12</td>\n      <td>10</td>\n      <td>5</td>\n      <td>19</td>\n      <td>14</td>\n      <td>7</td>\n      <td>7</td>\n      <td>1</td>\n      <td>2</td>\n      <td>0</td>\n      <td>0</td>\n      <td>NaN</td>\n      <td>NaN</td>\n      <td>NaN</td>\n      <td>NaN</td>\n      <td>NaN</td>\n      <td>Home</td>\n      <td>1</td>\n      <td>43</td>\n      <td>1</td>\n    </tr>\n    <tr>\n      <th>3</th>\n      <td>1</td>\n      <td>2000-08-19</td>\n      <td>West Ham</td>\n      <td>Chelsea</td>\n      <td>6</td>\n      <td>2</td>\n      <td>4</td>\n      <td>L</td>\n      <td>Graham Barber</td>\n      <td>12</td>\n      <td>17</td>\n      <td>5</td>\n      <td>10</td>\n      <td>14</td>\n      <td>19</td>\n      <td>7</td>\n      <td>7</td>\n      <td>2</td>\n      <td>1</td>\n      <td>0</td>\n      <td>0</td>\n      <td>NaN</td>\n      <td>NaN</td>\n      <td>NaN</td>\n      <td>NaN</td>\n      <td>NaN</td>\n      <td>Away</td>\n      <td>0</td>\n      <td>13</td>\n      <td>1</td>\n    </tr>\n    <tr>\n      <th>4</th>\n      <td>2</td>\n      <td>2000-08-19</td>\n      <td>Coventry</td>\n      <td>Middlesbrough</td>\n      <td>4</td>\n      <td>1</td>\n      <td>3</td>\n      <td>L</td>\n      <td>Barry Knight</td>\n      <td>6</td>\n      <td>16</td>\n      <td>3</td>\n      <td>9</td>\n      <td>15</td>\n      <td>21</td>\n      <td>8</td>\n      <td>4</td>\n      <td>5</td>\n      <td>3</td>\n      <td>1</td>\n      <td>0</td>\n      <td>NaN</td>\n      <td>NaN</td>\n      <td>NaN</td>\n      <td>NaN</td>\n      <td>NaN</td>\n      <td>Home</td>\n      <td>1</td>\n      <td>29</td>\n      <td>1</td>\n    </tr>\n    <tr>\n      <th>...</th>\n      <td>...</td>\n      <td>...</td>\n      <td>...</td>\n      <td>...</td>\n      <td>...</td>\n      <td>...</td>\n      <td>...</td>\n      <td>...</td>\n      <td>...</td>\n      <td>...</td>\n      <td>...</td>\n      <td>...</td>\n      <td>...</td>\n      <td>...</td>\n      <td>...</td>\n      <td>...</td>\n      <td>...</td>\n      <td>...</td>\n      <td>...</td>\n      <td>...</td>\n      <td>...</td>\n      <td>...</td>\n      <td>...</td>\n      <td>...</td>\n      <td>...</td>\n      <td>...</td>\n      <td>...</td>\n      <td>...</td>\n      <td>...</td>\n      <td>...</td>\n    </tr>\n    <tr>\n      <th>16893</th>\n      <td>8446</td>\n      <td>2023-09-17</td>\n      <td>Arsenal</td>\n      <td>Everton</td>\n      <td>1</td>\n      <td>1</td>\n      <td>0</td>\n      <td>W</td>\n      <td>S Hooper</td>\n      <td>13</td>\n      <td>8</td>\n      <td>4</td>\n      <td>1</td>\n      <td>10</td>\n      <td>12</td>\n      <td>11</td>\n      <td>1</td>\n      <td>1</td>\n      <td>1</td>\n      <td>0</td>\n      <td>0</td>\n      <td>1.67</td>\n      <td>2.23</td>\n      <td>1.50</td>\n      <td>4.50</td>\n      <td>6.00</td>\n      <td>Away</td>\n      <td>0</td>\n      <td>17</td>\n      <td>0</td>\n    </tr>\n    <tr>\n      <th>16894</th>\n      <td>8447</td>\n      <td>2023-09-17</td>\n      <td>Bournemouth</td>\n      <td>Chelsea</td>\n      <td>0</td>\n      <td>0</td>\n      <td>0</td>\n      <td>D</td>\n      <td>D Coote</td>\n      <td>13</td>\n      <td>14</td>\n      <td>4</td>\n      <td>6</td>\n      <td>15</td>\n      <td>20</td>\n      <td>1</td>\n      <td>7</td>\n      <td>1</td>\n      <td>5</td>\n      <td>0</td>\n      <td>0</td>\n      <td>1.67</td>\n      <td>2.19</td>\n      <td>4.33</td>\n      <td>3.75</td>\n      <td>1.80</td>\n      <td>Home</td>\n      <td>1</td>\n      <td>13</td>\n      <td>0</td>\n    </tr>\n    <tr>\n      <th>16895</th>\n      <td>8447</td>\n      <td>2023-09-17</td>\n      <td>Chelsea</td>\n      <td>Bournemouth</td>\n      <td>0</td>\n      <td>0</td>\n      <td>0</td>\n      <td>D</td>\n      <td>D Coote</td>\n      <td>14</td>\n      <td>13</td>\n      <td>6</td>\n      <td>4</td>\n      <td>20</td>\n      <td>15</td>\n      <td>7</td>\n      <td>1</td>\n      <td>5</td>\n      <td>1</td>\n      <td>0</td>\n      <td>0</td>\n      <td>1.67</td>\n      <td>2.19</td>\n      <td>1.80</td>\n      <td>3.75</td>\n      <td>4.33</td>\n      <td>Away</td>\n      <td>0</td>\n      <td>6</td>\n      <td>0</td>\n    </tr>\n    <tr>\n      <th>16896</th>\n      <td>8448</td>\n      <td>2023-09-18</td>\n      <td>Forest</td>\n      <td>Burnley</td>\n      <td>2</td>\n      <td>1</td>\n      <td>1</td>\n      <td>D</td>\n      <td>R Jones</td>\n      <td>14</td>\n      <td>10</td>\n      <td>4</td>\n      <td>3</td>\n      <td>16</td>\n      <td>10</td>\n      <td>5</td>\n      <td>4</td>\n      <td>2</td>\n      <td>3</td>\n      <td>0</td>\n      <td>1</td>\n      <td>1.92</td>\n      <td>1.87</td>\n      <td>2.20</td>\n      <td>3.50</td>\n      <td>3.25</td>\n      <td>Home</td>\n      <td>1</td>\n      <td>10</td>\n      <td>0</td>\n    </tr>\n    <tr>\n      <th>16897</th>\n      <td>8448</td>\n      <td>2023-09-18</td>\n      <td>Burnley</td>\n      <td>Forest</td>\n      <td>2</td>\n      <td>1</td>\n      <td>1</td>\n      <td>D</td>\n      <td>R Jones</td>\n      <td>10</td>\n      <td>14</td>\n      <td>3</td>\n      <td>4</td>\n      <td>10</td>\n      <td>16</td>\n      <td>4</td>\n      <td>5</td>\n      <td>3</td>\n      <td>2</td>\n      <td>1</td>\n      <td>0</td>\n      <td>1.92</td>\n      <td>1.87</td>\n      <td>3.25</td>\n      <td>3.50</td>\n      <td>2.20</td>\n      <td>Away</td>\n      <td>0</td>\n      <td>18</td>\n      <td>0</td>\n    </tr>\n  </tbody>\n</table>\n<p>16898 rows × 30 columns</p>\n</div>"
     },
     "metadata": {},
     "execution_count": 980
    }
   ],
   "source": [
    "#train = new_df#[new_df['Date'] < '2023-08']\n",
    "#test = new_df[new_df['Date'] >= '2022-08' and new_df['Date'] < '2022-08']\n",
    "#test = \n",
    "#test = new_df.loc[(new_df['Date'] >= '2023-08')]# & (new_df['Date'] < '2022-05')]\n",
    "#combined, precision, accuracy = random_forest(df_rolling, predictors+new_cols, train, test)\n",
    "#schedule = get_schedule()\n",
    "#schedule.loc[(schedule['Date'] == '23/09/23') | (schedule['Date'] == '24/09/23')]\n",
    "combined\n",
    "new_cols\n",
    "df1\n",
    "#df_rolling.loc[16636]"
   ]
  },
  {
   "cell_type": "code",
   "execution_count": 958,
   "metadata": {},
   "outputs": [
    {
     "output_type": "execute_result",
     "data": {
      "text/plain": "       actual  prediction       Date         Team     Opponent  TotalGoals  \\\n16636       1           1 2023-08-11      Burnley     Man City           3   \n16637       1           1 2023-08-11     Man City      Burnley           3   \n16638       0           0 2023-08-12     West Ham  Bournemouth           2   \n16639       0           0 2023-08-12  Bournemouth     West Ham           2   \n16640       1           1 2023-08-12     Brighton        Luton           5   \n...       ...         ...        ...          ...          ...         ...   \n16717       1           1 2023-09-16    Liverpool       Wolves           4   \n16718       0           1 2023-09-17      Everton      Arsenal           1   \n16719       0           1 2023-09-17      Arsenal      Everton           1   \n16720       0           0 2023-09-17  Bournemouth      Chelsea           0   \n16721       0           0 2023-09-17      Chelsea  Bournemouth           0   \n\n       GameID  \n16636    8400  \n16637    8400  \n16638    8402  \n16639    8402  \n16640    8403  \n...       ...  \n16717    8445  \n16718    8446  \n16719    8446  \n16720    8447  \n16721    8447  \n\n[86 rows x 7 columns]",
      "text/html": "<div>\n<style scoped>\n    .dataframe tbody tr th:only-of-type {\n        vertical-align: middle;\n    }\n\n    .dataframe tbody tr th {\n        vertical-align: top;\n    }\n\n    .dataframe thead th {\n        text-align: right;\n    }\n</style>\n<table border=\"1\" class=\"dataframe\">\n  <thead>\n    <tr style=\"text-align: right;\">\n      <th></th>\n      <th>actual</th>\n      <th>prediction</th>\n      <th>Date</th>\n      <th>Team</th>\n      <th>Opponent</th>\n      <th>TotalGoals</th>\n      <th>GameID</th>\n    </tr>\n  </thead>\n  <tbody>\n    <tr>\n      <th>16636</th>\n      <td>1</td>\n      <td>1</td>\n      <td>2023-08-11</td>\n      <td>Burnley</td>\n      <td>Man City</td>\n      <td>3</td>\n      <td>8400</td>\n    </tr>\n    <tr>\n      <th>16637</th>\n      <td>1</td>\n      <td>1</td>\n      <td>2023-08-11</td>\n      <td>Man City</td>\n      <td>Burnley</td>\n      <td>3</td>\n      <td>8400</td>\n    </tr>\n    <tr>\n      <th>16638</th>\n      <td>0</td>\n      <td>0</td>\n      <td>2023-08-12</td>\n      <td>West Ham</td>\n      <td>Bournemouth</td>\n      <td>2</td>\n      <td>8402</td>\n    </tr>\n    <tr>\n      <th>16639</th>\n      <td>0</td>\n      <td>0</td>\n      <td>2023-08-12</td>\n      <td>Bournemouth</td>\n      <td>West Ham</td>\n      <td>2</td>\n      <td>8402</td>\n    </tr>\n    <tr>\n      <th>16640</th>\n      <td>1</td>\n      <td>1</td>\n      <td>2023-08-12</td>\n      <td>Brighton</td>\n      <td>Luton</td>\n      <td>5</td>\n      <td>8403</td>\n    </tr>\n    <tr>\n      <th>...</th>\n      <td>...</td>\n      <td>...</td>\n      <td>...</td>\n      <td>...</td>\n      <td>...</td>\n      <td>...</td>\n      <td>...</td>\n    </tr>\n    <tr>\n      <th>16717</th>\n      <td>1</td>\n      <td>1</td>\n      <td>2023-09-16</td>\n      <td>Liverpool</td>\n      <td>Wolves</td>\n      <td>4</td>\n      <td>8445</td>\n    </tr>\n    <tr>\n      <th>16718</th>\n      <td>0</td>\n      <td>1</td>\n      <td>2023-09-17</td>\n      <td>Everton</td>\n      <td>Arsenal</td>\n      <td>1</td>\n      <td>8446</td>\n    </tr>\n    <tr>\n      <th>16719</th>\n      <td>0</td>\n      <td>1</td>\n      <td>2023-09-17</td>\n      <td>Arsenal</td>\n      <td>Everton</td>\n      <td>1</td>\n      <td>8446</td>\n    </tr>\n    <tr>\n      <th>16720</th>\n      <td>0</td>\n      <td>0</td>\n      <td>2023-09-17</td>\n      <td>Bournemouth</td>\n      <td>Chelsea</td>\n      <td>0</td>\n      <td>8447</td>\n    </tr>\n    <tr>\n      <th>16721</th>\n      <td>0</td>\n      <td>0</td>\n      <td>2023-09-17</td>\n      <td>Chelsea</td>\n      <td>Bournemouth</td>\n      <td>0</td>\n      <td>8447</td>\n    </tr>\n  </tbody>\n</table>\n<p>86 rows × 7 columns</p>\n</div>"
     },
     "metadata": {},
     "execution_count": 958
    }
   ],
   "source": [
    "c1 = combined.merge(df_rolling[['Date', 'Team', 'Opponent', 'TotalGoals', 'GameID']], left_index=True, right_index=True)\n",
    "c1\n",
    "#list(c1.groupby(['Team', 'Opponent']))"
   ]
  },
  {
   "cell_type": "code",
   "execution_count": 965,
   "metadata": {},
   "outputs": [
    {
     "output_type": "execute_result",
     "data": {
      "text/plain": "     GameID  O2.5  U2.5  prediction  actual\n0      8400  1.67  2.28           1       1\n4      8402  1.90  2.12           0       0\n8      8404  2.01  1.71           0       0\n12     8406  2.20  1.53           0       0\n16     8407  1.67  2.52           1       0\n..      ...   ...   ...         ...     ...\n104    8443  1.50  2.97           1       1\n108    8444  1.62  2.08           1       1\n112    8445  1.44  2.56           1       1\n116    8446  1.67  2.23           1       0\n120    8447  1.67  2.19           0       0\n\n[31 rows x 5 columns]",
      "text/html": "<div>\n<style scoped>\n    .dataframe tbody tr th:only-of-type {\n        vertical-align: middle;\n    }\n\n    .dataframe tbody tr th {\n        vertical-align: top;\n    }\n\n    .dataframe thead th {\n        text-align: right;\n    }\n</style>\n<table border=\"1\" class=\"dataframe\">\n  <thead>\n    <tr style=\"text-align: right;\">\n      <th></th>\n      <th>GameID</th>\n      <th>O2.5</th>\n      <th>U2.5</th>\n      <th>prediction</th>\n      <th>actual</th>\n    </tr>\n  </thead>\n  <tbody>\n    <tr>\n      <th>0</th>\n      <td>8400</td>\n      <td>1.67</td>\n      <td>2.28</td>\n      <td>1</td>\n      <td>1</td>\n    </tr>\n    <tr>\n      <th>4</th>\n      <td>8402</td>\n      <td>1.90</td>\n      <td>2.12</td>\n      <td>0</td>\n      <td>0</td>\n    </tr>\n    <tr>\n      <th>8</th>\n      <td>8404</td>\n      <td>2.01</td>\n      <td>1.71</td>\n      <td>0</td>\n      <td>0</td>\n    </tr>\n    <tr>\n      <th>12</th>\n      <td>8406</td>\n      <td>2.20</td>\n      <td>1.53</td>\n      <td>0</td>\n      <td>0</td>\n    </tr>\n    <tr>\n      <th>16</th>\n      <td>8407</td>\n      <td>1.67</td>\n      <td>2.52</td>\n      <td>1</td>\n      <td>0</td>\n    </tr>\n    <tr>\n      <th>...</th>\n      <td>...</td>\n      <td>...</td>\n      <td>...</td>\n      <td>...</td>\n      <td>...</td>\n    </tr>\n    <tr>\n      <th>104</th>\n      <td>8443</td>\n      <td>1.50</td>\n      <td>2.97</td>\n      <td>1</td>\n      <td>1</td>\n    </tr>\n    <tr>\n      <th>108</th>\n      <td>8444</td>\n      <td>1.62</td>\n      <td>2.08</td>\n      <td>1</td>\n      <td>1</td>\n    </tr>\n    <tr>\n      <th>112</th>\n      <td>8445</td>\n      <td>1.44</td>\n      <td>2.56</td>\n      <td>1</td>\n      <td>1</td>\n    </tr>\n    <tr>\n      <th>116</th>\n      <td>8446</td>\n      <td>1.67</td>\n      <td>2.23</td>\n      <td>1</td>\n      <td>0</td>\n    </tr>\n    <tr>\n      <th>120</th>\n      <td>8447</td>\n      <td>1.67</td>\n      <td>2.19</td>\n      <td>0</td>\n      <td>0</td>\n    </tr>\n  </tbody>\n</table>\n<p>31 rows × 5 columns</p>\n</div>"
     },
     "metadata": {},
     "execution_count": 965
    }
   ],
   "source": [
    "# predictions where both home and away team prediction match\n",
    "predictions = c1.groupby('GameID').filter(lambda x: x['prediction'].sum()!=1)\n",
    "#predictions = c1.groupby('GameID')[['Team', 'Opponent','actual', 'prediction']].sum()\n",
    "#predictions[['actual','prediction']] = predictions[['actual','prediction']] / 2 .filter(lambda x: x['prediction'].sum()!=1)#[['GameID','Date', 'prediction','actual']]\n",
    "#predictions = predictions[predictions['Date'] > '2023-08']\n",
    "\n",
    "pred_with_odds = predictions.merge(df1[['GameID','O2.5', 'U2.5']], how='inner',on='GameID').drop_duplicates()\n",
    "\n",
    "pred_with_odds = pred_with_odds[['GameID', 'O2.5', 'U2.5', 'prediction', 'actual']].drop_duplicates()\n",
    "#pred_with_odds[pred_with_odds['actual'] == pred_with_odds['prediction']].shape[0] / pred_with_odds.shape[0] \n",
    "\n",
    "pred_with_odds\n",
    "\n",
    "#predictions\n",
    "#[pred_with_odds['prediction'] != pred_with_odds['actual']]"
   ]
  },
  {
   "cell_type": "code",
   "execution_count": 966,
   "metadata": {},
   "outputs": [],
   "source": [
    "def calculate_profit(df, odds_over=[], odds_under=[], bets=[], actual=[]):\n",
    "    odds_over = list(df['O2.5'])\n",
    "    odds_under = list(df['U2.5'])\n",
    "    bets = list(df['prediction'])\n",
    "    actual = list(df['actual'])\n",
    "    games = df['GameID']\n",
    "    american_odds = []\n",
    "    profits = []\n",
    "    profit = 0\n",
    "    bets1 = []\n",
    "    print(odds_over, odds_under)\n",
    "    for i,bet in enumerate(bets):\n",
    "        if bet == 0:\n",
    "            value = odds_under[i]\n",
    "        else:\n",
    "            value = odds_over[i]\n",
    "        if value > 2.00:\n",
    "            american = (value - 1) * 100\n",
    "            if bet == actual[i]:\n",
    "                profit = value * 100\n",
    "                bet = 100\n",
    "            else:\n",
    "                profit = -100\n",
    "                bet = 100\n",
    "        else:\n",
    "            american = -100 / (value - 1)\n",
    "            if bet == actual[i]:\n",
    "                bet = value * 100\n",
    "                bet = 100\n",
    "                profit = 100 * value - bet\n",
    "                #profit = 100\n",
    "                \n",
    "            else:\n",
    "                profit = -value * 100\n",
    "                profit = -100\n",
    "                #bet = value * 100\n",
    "                bet = 100\n",
    "                \n",
    "            #profit = value * 100 * actual[i] - value*100\n",
    "        bets1.append(bet)\n",
    "        profits.append(profit)\n",
    "        american_odds.append(american)       \n",
    "\n",
    "    return pd.DataFrame(zip(*[games, profits, bets1])), american_odds"
   ]
  },
  {
   "cell_type": "code",
   "execution_count": 967,
   "metadata": {},
   "outputs": [
    {
     "output_type": "stream",
     "name": "stdout",
     "text": "[1.67, 1.9, 2.01, 2.2, 1.67, 1.73, 1.96, 1.33, 1.73, 1.57, 1.92, 1.94, 2.1, 1.44, 1.86, 1.57, 1.87, 1.73, 1.5, 1.4, 2.2, 1.4, 1.57, 2.2, 1.89, 1.44, 1.5, 1.62, 1.44, 1.67, 1.67] [2.28, 2.12, 1.71, 1.53, 2.52, 2.15, 1.73, 3.77, 2.04, 2.54, 2.09, 1.8, 1.88, 2.58, 2.06, 2.36, 2.16, 2.06, 2.7, 2.89, 1.82, 2.97, 2.71, 1.78, 1.77, 2.88, 2.97, 2.08, 2.56, 2.23, 2.19]\n"
    },
    {
     "output_type": "execute_result",
     "data": {
      "text/plain": "0    261186.0\n1       688.0\n2      3100.0\ndtype: float64"
     },
     "metadata": {},
     "execution_count": 967
    }
   ],
   "source": [
    "df, america = calculate_profit(pred_with_odds)\n",
    "df.sum()"
   ]
  },
  {
   "cell_type": "code",
   "execution_count": null,
   "metadata": {},
   "outputs": [],
   "source": [
    "'''\n",
    "from tpot import TPOTClassifier\n",
    "#from sklearn.datasets import load_digits\n",
    "#from sklearn.model_selection import train_test_split\n",
    "\n",
    "#digits = load_digits()\n",
    "\n",
    "#target = total_df['TotalGoals']\n",
    "#X_train, X_test, y_train, y_test = train_test_split(data, target, train_size=0.75, test_size=0.25)\n",
    "\n",
    "X_train = train.loc[:, predictors+new_cols]\n",
    "y_train = train.loc[:, 'Target']\n",
    "\n",
    "X_test = test.loc[:, predictors+new_cols]\n",
    "y_test = test.loc[:, 'Target']\n",
    "\n",
    "pipeline_optimizer = TPOTClassifier(generations=1, population_size=100, cv=5,\n",
    "                                    random_state=42, verbosity=2)\n",
    "pipeline_optimizer.fit(X_train, y_train)\n",
    "print(pipeline_optimizer.score(X_test, y_test))\n",
    "pipeline_optimizer.export('tpot_exported_pipeline.py')\n",
    "'''\n",
    "\n"
   ]
  },
  {
   "cell_type": "code",
   "execution_count": 729,
   "metadata": {},
   "outputs": [
    {
     "output_type": "execute_result",
     "data": {
      "text/plain": "        Date              Team          Opponent  preds  GameID\n0   23/09/23         Brentford           Everton      0       0\n1   23/09/23           Everton         Brentford      0       0\n2   23/09/23            Fulham    Crystal Palace      0       2\n3   23/09/23    Crystal Palace            Fulham      0       2\n4   23/09/23             Luton            Wolves      0       3\n5   23/09/23            Wolves             Luton      1       3\n6   24/09/23         Tottenham           Arsenal      1       5\n7   24/09/23           Arsenal         Tottenham      1       5\n8   24/09/23          Brighton       Bournemouth      1       6\n9   24/09/23       Bournemouth          Brighton      1       6\n10  24/09/23       Aston Villa           Chelsea      0       7\n11  24/09/23           Chelsea       Aston Villa      1       7\n12  24/09/23         Liverpool          West Ham      1       8\n13  24/09/23          West Ham         Liverpool      1       8\n14  24/09/23  Sheffield United         Newcastle      1       9\n15  24/09/23         Newcastle  Sheffield United      1       9",
      "text/html": "<div>\n<style scoped>\n    .dataframe tbody tr th:only-of-type {\n        vertical-align: middle;\n    }\n\n    .dataframe tbody tr th {\n        vertical-align: top;\n    }\n\n    .dataframe thead th {\n        text-align: right;\n    }\n</style>\n<table border=\"1\" class=\"dataframe\">\n  <thead>\n    <tr style=\"text-align: right;\">\n      <th></th>\n      <th>Date</th>\n      <th>Team</th>\n      <th>Opponent</th>\n      <th>preds</th>\n      <th>GameID</th>\n    </tr>\n  </thead>\n  <tbody>\n    <tr>\n      <th>0</th>\n      <td>23/09/23</td>\n      <td>Brentford</td>\n      <td>Everton</td>\n      <td>0</td>\n      <td>0</td>\n    </tr>\n    <tr>\n      <th>1</th>\n      <td>23/09/23</td>\n      <td>Everton</td>\n      <td>Brentford</td>\n      <td>0</td>\n      <td>0</td>\n    </tr>\n    <tr>\n      <th>2</th>\n      <td>23/09/23</td>\n      <td>Fulham</td>\n      <td>Crystal Palace</td>\n      <td>0</td>\n      <td>2</td>\n    </tr>\n    <tr>\n      <th>3</th>\n      <td>23/09/23</td>\n      <td>Crystal Palace</td>\n      <td>Fulham</td>\n      <td>0</td>\n      <td>2</td>\n    </tr>\n    <tr>\n      <th>4</th>\n      <td>23/09/23</td>\n      <td>Luton</td>\n      <td>Wolves</td>\n      <td>0</td>\n      <td>3</td>\n    </tr>\n    <tr>\n      <th>5</th>\n      <td>23/09/23</td>\n      <td>Wolves</td>\n      <td>Luton</td>\n      <td>1</td>\n      <td>3</td>\n    </tr>\n    <tr>\n      <th>6</th>\n      <td>24/09/23</td>\n      <td>Tottenham</td>\n      <td>Arsenal</td>\n      <td>1</td>\n      <td>5</td>\n    </tr>\n    <tr>\n      <th>7</th>\n      <td>24/09/23</td>\n      <td>Arsenal</td>\n      <td>Tottenham</td>\n      <td>1</td>\n      <td>5</td>\n    </tr>\n    <tr>\n      <th>8</th>\n      <td>24/09/23</td>\n      <td>Brighton</td>\n      <td>Bournemouth</td>\n      <td>1</td>\n      <td>6</td>\n    </tr>\n    <tr>\n      <th>9</th>\n      <td>24/09/23</td>\n      <td>Bournemouth</td>\n      <td>Brighton</td>\n      <td>1</td>\n      <td>6</td>\n    </tr>\n    <tr>\n      <th>10</th>\n      <td>24/09/23</td>\n      <td>Aston Villa</td>\n      <td>Chelsea</td>\n      <td>0</td>\n      <td>7</td>\n    </tr>\n    <tr>\n      <th>11</th>\n      <td>24/09/23</td>\n      <td>Chelsea</td>\n      <td>Aston Villa</td>\n      <td>1</td>\n      <td>7</td>\n    </tr>\n    <tr>\n      <th>12</th>\n      <td>24/09/23</td>\n      <td>Liverpool</td>\n      <td>West Ham</td>\n      <td>1</td>\n      <td>8</td>\n    </tr>\n    <tr>\n      <th>13</th>\n      <td>24/09/23</td>\n      <td>West Ham</td>\n      <td>Liverpool</td>\n      <td>1</td>\n      <td>8</td>\n    </tr>\n    <tr>\n      <th>14</th>\n      <td>24/09/23</td>\n      <td>Sheffield United</td>\n      <td>Newcastle</td>\n      <td>1</td>\n      <td>9</td>\n    </tr>\n    <tr>\n      <th>15</th>\n      <td>24/09/23</td>\n      <td>Newcastle</td>\n      <td>Sheffield United</td>\n      <td>1</td>\n      <td>9</td>\n    </tr>\n  </tbody>\n</table>\n</div>"
     },
     "metadata": {},
     "execution_count": 729
    }
   ],
   "source": [
    "def predict(train, test, dates):\n",
    "    rolling = pd.read_csv('cache/rolling.csv')\n",
    "    elo = pd.read_csv('cache/elo.csv')\n",
    "    schedule = pd.read_csv('cache/schedule.csv')\n",
    "    #print(rolling['Date'])\n",
    "    recent_rolling = rolling[rolling['Date'] >= '2023-09-16']\n",
    "    #schedule.loc[(schedule['Date'] == '23/09/23') | (schedule['Date'] == '24/09/23')]\n",
    "    #print(recent_rolling)\n",
    "    sched = pd.DataFrame()\n",
    "    for date in dates:\n",
    "        sched = pd.concat([sched, schedule.loc[(schedule['Date'] == date)]])\n",
    "    #print(sched)\n",
    "    sched = home_away(sched)\n",
    "\n",
    "    #print(sched)\n",
    "    sched = sched.merge(recent_rolling[['Team', 'TeamELO']], on='Team', how='inner')\n",
    "    sched = sched.merge(recent_rolling[['Opponent', 'OpponentELO']], on='Opponent', how='inner')\n",
    "    sched['ELODif'] = sched['TeamELO'] - sched['OpponentELO']\n",
    "    \n",
    "    new = pd.concat([elo, sched[['Date', 'Team', 'Opponent', 'TeamELO', 'OpponentELO', 'ELODif', 'Venue', \"GameID\"]]])\n",
    "\n",
    "    #return new\n",
    "    new = create_predictors(new)\n",
    "    new = create_rolling(new)\n",
    "    \n",
    "    predictors = ['VenueCode', 'OpponentCode', 'ELODif']\n",
    "    #predictors = ['VenueCode', 'ELODif']\n",
    "    #print(new)\n",
    "    new_df = new.dropna(subset=['O2.5'])\n",
    "    train = new_df[new_df['Date'] < '2023-09-18']\n",
    "    #return train\n",
    "    #test = new_df[new_df['Date'] >= '2022-08' and new_df['Date'] < '2022-08']\n",
    "    test = new.loc[(new['Date'] == '23/09/23') | (new['Date'] == '24/09/23')]\n",
    "    preds = random_forest(df_rolling, predictors+new_cols, train, test, 'predict')\n",
    "    #c1 = preds.merge(test[['Date', 'Team', 'Opponent', 'TotalGoals', 'GameID']], left_index=True, right_index=True)\n",
    "\n",
    "    return preds, test\n",
    "\n",
    "preds, c1 = predict([],[],['23/09/23', '24/09/23'])\n",
    "c1['preds'] = preds\n",
    "c1[['Team', 'Opponent', 'preds']]\n",
    "c1.sort_values(['GameID'])[['Date','Team', 'Opponent', 'preds', 'GameID']]\n",
    "#c1.sort_index()[['Date','Team', 'Opponent', 'preds']]\n"
   ]
  },
  {
   "cell_type": "code",
   "execution_count": 1071,
   "metadata": {},
   "outputs": [],
   "source": [
    "df_rolling = pd.read_csv('/Users/Gautham/Projects/Betting/cache/rolling_dif.csv')\n",
    "new_df = df_rolling.dropna(subset=['O2.5'])\n",
    "predictors = ['VenueCode', 'OpponentCode', 'ELODif'] \n",
    "new_cols = ['GoalsRolling_Dif',\n",
    " 'ShotsRolling_Dif',\n",
    " 'ShotsonTargetRolling_Dif',\n",
    " 'CornersRolling_Dif']\n",
    "def split_data(new_df, drop_cols, pred_cols):\n",
    "\n",
    "    new_df = new_df.drop(columns=drop_cols, axis=1)\n",
    "    train = new_df[new_df['Date'] < '2018-08']\n",
    "    #test = new_df[new_df['Date'] >= '2022-08' and new_df['Date'] < '2022-08']\n",
    "    test = new_df.loc[(new_df['Date'] >= '2018-08')]\n",
    "    train = train.select_dtypes(include=np.number)\n",
    "    test = test.select_dtypes(include=np.number)\n",
    "    X_train = train.loc[:, pred_cols]#predictors+new_cols]\n",
    "    y_train = train.loc[:, 'Target']\n",
    "\n",
    "    X_test = test.loc[:, pred_cols]\n",
    "    y_test = test.loc[:, 'Target']\n",
    "    return X_train, y_train, X_test, y_test\n"
   ]
  },
  {
   "cell_type": "code",
   "execution_count": 1052,
   "metadata": {},
   "outputs": [
    {
     "output_type": "execute_result",
     "data": {
      "text/plain": "       Unnamed: 0.1  Unnamed: 0  GameID  TotalGoals  TeamGoals  OpponentGoals  \\\n0                 0           0      19           6          3              3   \n1                 1           1      19           6          3              3   \n2                 2           2      20           8          5              3   \n3                 3           3      20           8          3              5   \n4                 4           4      21           0          0              0   \n...             ...         ...     ...         ...        ...            ...   \n16717         16717       16717    8445           4          3              1   \n16718         16718       16718    8446           1          0              1   \n16719         16719       16719    8446           1          1              0   \n16720         16720       16720    8447           0          0              0   \n16721         16721       16721    8447           0          0              0   \n\n       TeamShots  OpponentShots  TeamShotsonTarget  OpponentShotsonTarget  \\\n0             14              9                  7                      4   \n1              9             14                  4                      7   \n2             18              7                  9                      4   \n3              7             18                  4                      9   \n4              8             13                  4                      8   \n...          ...            ...                ...                    ...   \n16717         16             11                  6                      2   \n16718          8             13                  1                      4   \n16719         13              8                  4                      1   \n16720         13             14                  4                      6   \n16721         14             13                  6                      4   \n\n       TeamFouls  OpponentFouls  TeamCorners  OpponentCorners  \\\n0              7              6            7                1   \n1              6              7            1                7   \n2             12             15            8                3   \n3             15             12            3                8   \n4             11             12            6                8   \n...          ...            ...          ...              ...   \n16717          4             10            4                4   \n16718         12             10            1               11   \n16719         10             12           11                1   \n16720         15             20            1                7   \n16721         20             15            7                1   \n\n       TeamYellowCards  OpponentYellowCards  TeamRedCards  OpponentRedCards  \\\n0                    0                    0             0                 0   \n1                    0                    0             0                 0   \n2                    0                    1             0                 0   \n3                    1                    0             0                 0   \n4                    1                    2             0                 0   \n...                ...                  ...           ...               ...   \n16717                3                    1             0                 0   \n16718                1                    1             0                 0   \n16719                1                    1             0                 0   \n16720                1                    5             0                 0   \n16721                5                    1             0                 0   \n\n       O2.5  U2.5  TeamWinOdds  DrawOdds  OpponentWinOdds  VenueCode  \\\n0       NaN   NaN          NaN       NaN              NaN          1   \n1       NaN   NaN          NaN       NaN              NaN          0   \n2       NaN   NaN          NaN       NaN              NaN          1   \n3       NaN   NaN          NaN       NaN              NaN          0   \n4       NaN   NaN          NaN       NaN              NaN          1   \n...     ...   ...          ...       ...              ...        ...   \n16717  1.44  2.56         1.45      5.00             6.00          0   \n16718  1.67  2.23         6.00      4.50             1.50          1   \n16719  1.67  2.23         1.50      4.50             6.00          0   \n16720  1.67  2.19         4.33      3.75             1.80          1   \n16721  1.67  2.19         1.80      3.75             4.33          0   \n\n       OpponentCode  Target      TeamELO  OpponentELO      ELODif  \\\n0                25       1  1625.633423  1770.309570 -144.676147   \n1                36       1  1770.309570  1625.633423  144.676147   \n2                12       1  1870.864136  1615.091187  255.772949   \n3                 0       1  1615.091187  1870.864136 -255.772949   \n4                24       0  1596.314331  1699.908447 -103.594116   \n...             ...     ...          ...          ...         ...   \n16717            45       1  1961.335938  1708.177490  253.158447   \n16718             0       0  1682.139038  1928.753418 -246.614380   \n16719            17       0  1928.753418  1682.139038  246.614380   \n16720            13       0  1659.008789  1774.225342 -115.216553   \n16721             6       0  1774.225342  1659.008789  115.216553   \n\n       TotalGoalsRolling  TeamGoalsRolling  OpponentGoalsRolling  \\\n0               3.500000          1.500000              2.000000   \n1               1.500000          0.500000              1.000000   \n2               1.500000          1.000000              0.500000   \n3               3.500000          2.000000              1.500000   \n4               1.500000          1.000000              0.500000   \n...                  ...               ...                   ...   \n16717           3.333333          2.666667              0.666667   \n16718           3.000000          0.666667              2.333333   \n16719           3.000000          2.000000              1.000000   \n16720           3.333333          1.000000              2.333333   \n16721           3.000000          1.666667              1.333333   \n\n       TeamShotsRolling  OpponentShotsRolling  TeamShotsonTargetRolling  \\\n0             12.500000              6.500000                  5.000000   \n1             11.500000             10.000000                  7.000000   \n2             15.500000              7.500000                  9.500000   \n3             12.500000             10.500000                  9.000000   \n4              7.500000             15.000000                  2.500000   \n...                 ...                   ...                       ...   \n16717         17.333333             15.000000                  6.000000   \n16718         13.333333             12.333333                  5.000000   \n16719         16.666667             10.666667                  6.333333   \n16720         12.000000             21.333333                  4.333333   \n16721         15.333333             12.000000                  5.333333   \n\n       OpponentShotsonTargetRolling  TeamCornersRolling  \\\n0                          4.500000            7.000000   \n1                          7.000000            8.500000   \n2                          3.000000            9.500000   \n3                          6.000000            5.500000   \n4                          8.000000            3.500000   \n...                             ...                 ...   \n16717                      5.333333            8.666667   \n16718                      5.666667            6.333333   \n16719                      2.333333            9.333333   \n16720                      7.666667            3.333333   \n16721                      2.666667            6.333333   \n\n       OpponentCornersRolling  WinTarget  GoalsRolling_Dif  ShotsRolling_Dif  \\\n0                    5.000000          0         -0.500000          6.000000   \n1                    5.500000          0         -0.500000          1.500000   \n2                    6.500000          2          0.500000          8.000000   \n3                    4.500000          1          0.500000          2.000000   \n4                    5.000000          0          0.500000         -7.500000   \n...                       ...        ...               ...               ...   \n16717                3.333333          2          2.000000          2.333333   \n16718                3.666667          1         -1.666667          1.000000   \n16719                2.333333          2          1.000000          6.000000   \n16720                5.666667          0         -1.333333         -9.333333   \n16721                3.666667          0          0.333333          3.333333   \n\n       ShotsonTargetRolling_Dif  CornersRolling_Dif  \n0                      0.500000            2.000000  \n1                      0.000000            3.000000  \n2                      6.500000            3.000000  \n3                      3.000000            1.000000  \n4                     -5.500000           -1.500000  \n...                         ...                 ...  \n16717                  0.666667            5.333333  \n16718                 -0.666667            2.666667  \n16719                  4.000000            7.000000  \n16720                 -3.333333           -2.333333  \n16721                  2.666667            2.666667  \n\n[16722 rows x 43 columns]",
      "text/html": "<div>\n<style scoped>\n    .dataframe tbody tr th:only-of-type {\n        vertical-align: middle;\n    }\n\n    .dataframe tbody tr th {\n        vertical-align: top;\n    }\n\n    .dataframe thead th {\n        text-align: right;\n    }\n</style>\n<table border=\"1\" class=\"dataframe\">\n  <thead>\n    <tr style=\"text-align: right;\">\n      <th></th>\n      <th>Unnamed: 0.1</th>\n      <th>Unnamed: 0</th>\n      <th>GameID</th>\n      <th>TotalGoals</th>\n      <th>TeamGoals</th>\n      <th>OpponentGoals</th>\n      <th>TeamShots</th>\n      <th>OpponentShots</th>\n      <th>TeamShotsonTarget</th>\n      <th>OpponentShotsonTarget</th>\n      <th>TeamFouls</th>\n      <th>OpponentFouls</th>\n      <th>TeamCorners</th>\n      <th>OpponentCorners</th>\n      <th>TeamYellowCards</th>\n      <th>OpponentYellowCards</th>\n      <th>TeamRedCards</th>\n      <th>OpponentRedCards</th>\n      <th>O2.5</th>\n      <th>U2.5</th>\n      <th>TeamWinOdds</th>\n      <th>DrawOdds</th>\n      <th>OpponentWinOdds</th>\n      <th>VenueCode</th>\n      <th>OpponentCode</th>\n      <th>Target</th>\n      <th>TeamELO</th>\n      <th>OpponentELO</th>\n      <th>ELODif</th>\n      <th>TotalGoalsRolling</th>\n      <th>TeamGoalsRolling</th>\n      <th>OpponentGoalsRolling</th>\n      <th>TeamShotsRolling</th>\n      <th>OpponentShotsRolling</th>\n      <th>TeamShotsonTargetRolling</th>\n      <th>OpponentShotsonTargetRolling</th>\n      <th>TeamCornersRolling</th>\n      <th>OpponentCornersRolling</th>\n      <th>WinTarget</th>\n      <th>GoalsRolling_Dif</th>\n      <th>ShotsRolling_Dif</th>\n      <th>ShotsonTargetRolling_Dif</th>\n      <th>CornersRolling_Dif</th>\n    </tr>\n  </thead>\n  <tbody>\n    <tr>\n      <th>0</th>\n      <td>0</td>\n      <td>0</td>\n      <td>19</td>\n      <td>6</td>\n      <td>3</td>\n      <td>3</td>\n      <td>14</td>\n      <td>9</td>\n      <td>7</td>\n      <td>4</td>\n      <td>7</td>\n      <td>6</td>\n      <td>7</td>\n      <td>1</td>\n      <td>0</td>\n      <td>0</td>\n      <td>0</td>\n      <td>0</td>\n      <td>NaN</td>\n      <td>NaN</td>\n      <td>NaN</td>\n      <td>NaN</td>\n      <td>NaN</td>\n      <td>1</td>\n      <td>25</td>\n      <td>1</td>\n      <td>1625.633423</td>\n      <td>1770.309570</td>\n      <td>-144.676147</td>\n      <td>3.500000</td>\n      <td>1.500000</td>\n      <td>2.000000</td>\n      <td>12.500000</td>\n      <td>6.500000</td>\n      <td>5.000000</td>\n      <td>4.500000</td>\n      <td>7.000000</td>\n      <td>5.000000</td>\n      <td>0</td>\n      <td>-0.500000</td>\n      <td>6.000000</td>\n      <td>0.500000</td>\n      <td>2.000000</td>\n    </tr>\n    <tr>\n      <th>1</th>\n      <td>1</td>\n      <td>1</td>\n      <td>19</td>\n      <td>6</td>\n      <td>3</td>\n      <td>3</td>\n      <td>9</td>\n      <td>14</td>\n      <td>4</td>\n      <td>7</td>\n      <td>6</td>\n      <td>7</td>\n      <td>1</td>\n      <td>7</td>\n      <td>0</td>\n      <td>0</td>\n      <td>0</td>\n      <td>0</td>\n      <td>NaN</td>\n      <td>NaN</td>\n      <td>NaN</td>\n      <td>NaN</td>\n      <td>NaN</td>\n      <td>0</td>\n      <td>36</td>\n      <td>1</td>\n      <td>1770.309570</td>\n      <td>1625.633423</td>\n      <td>144.676147</td>\n      <td>1.500000</td>\n      <td>0.500000</td>\n      <td>1.000000</td>\n      <td>11.500000</td>\n      <td>10.000000</td>\n      <td>7.000000</td>\n      <td>7.000000</td>\n      <td>8.500000</td>\n      <td>5.500000</td>\n      <td>0</td>\n      <td>-0.500000</td>\n      <td>1.500000</td>\n      <td>0.000000</td>\n      <td>3.000000</td>\n    </tr>\n    <tr>\n      <th>2</th>\n      <td>2</td>\n      <td>2</td>\n      <td>20</td>\n      <td>8</td>\n      <td>5</td>\n      <td>3</td>\n      <td>18</td>\n      <td>7</td>\n      <td>9</td>\n      <td>4</td>\n      <td>12</td>\n      <td>15</td>\n      <td>8</td>\n      <td>3</td>\n      <td>0</td>\n      <td>1</td>\n      <td>0</td>\n      <td>0</td>\n      <td>NaN</td>\n      <td>NaN</td>\n      <td>NaN</td>\n      <td>NaN</td>\n      <td>NaN</td>\n      <td>1</td>\n      <td>12</td>\n      <td>1</td>\n      <td>1870.864136</td>\n      <td>1615.091187</td>\n      <td>255.772949</td>\n      <td>1.500000</td>\n      <td>1.000000</td>\n      <td>0.500000</td>\n      <td>15.500000</td>\n      <td>7.500000</td>\n      <td>9.500000</td>\n      <td>3.000000</td>\n      <td>9.500000</td>\n      <td>6.500000</td>\n      <td>2</td>\n      <td>0.500000</td>\n      <td>8.000000</td>\n      <td>6.500000</td>\n      <td>3.000000</td>\n    </tr>\n    <tr>\n      <th>3</th>\n      <td>3</td>\n      <td>3</td>\n      <td>20</td>\n      <td>8</td>\n      <td>3</td>\n      <td>5</td>\n      <td>7</td>\n      <td>18</td>\n      <td>4</td>\n      <td>9</td>\n      <td>15</td>\n      <td>12</td>\n      <td>3</td>\n      <td>8</td>\n      <td>1</td>\n      <td>0</td>\n      <td>0</td>\n      <td>0</td>\n      <td>NaN</td>\n      <td>NaN</td>\n      <td>NaN</td>\n      <td>NaN</td>\n      <td>NaN</td>\n      <td>0</td>\n      <td>0</td>\n      <td>1</td>\n      <td>1615.091187</td>\n      <td>1870.864136</td>\n      <td>-255.772949</td>\n      <td>3.500000</td>\n      <td>2.000000</td>\n      <td>1.500000</td>\n      <td>12.500000</td>\n      <td>10.500000</td>\n      <td>9.000000</td>\n      <td>6.000000</td>\n      <td>5.500000</td>\n      <td>4.500000</td>\n      <td>1</td>\n      <td>0.500000</td>\n      <td>2.000000</td>\n      <td>3.000000</td>\n      <td>1.000000</td>\n    </tr>\n    <tr>\n      <th>4</th>\n      <td>4</td>\n      <td>4</td>\n      <td>21</td>\n      <td>0</td>\n      <td>0</td>\n      <td>0</td>\n      <td>8</td>\n      <td>13</td>\n      <td>4</td>\n      <td>8</td>\n      <td>11</td>\n      <td>12</td>\n      <td>6</td>\n      <td>8</td>\n      <td>1</td>\n      <td>2</td>\n      <td>0</td>\n      <td>0</td>\n      <td>NaN</td>\n      <td>NaN</td>\n      <td>NaN</td>\n      <td>NaN</td>\n      <td>NaN</td>\n      <td>1</td>\n      <td>24</td>\n      <td>0</td>\n      <td>1596.314331</td>\n      <td>1699.908447</td>\n      <td>-103.594116</td>\n      <td>1.500000</td>\n      <td>1.000000</td>\n      <td>0.500000</td>\n      <td>7.500000</td>\n      <td>15.000000</td>\n      <td>2.500000</td>\n      <td>8.000000</td>\n      <td>3.500000</td>\n      <td>5.000000</td>\n      <td>0</td>\n      <td>0.500000</td>\n      <td>-7.500000</td>\n      <td>-5.500000</td>\n      <td>-1.500000</td>\n    </tr>\n    <tr>\n      <th>...</th>\n      <td>...</td>\n      <td>...</td>\n      <td>...</td>\n      <td>...</td>\n      <td>...</td>\n      <td>...</td>\n      <td>...</td>\n      <td>...</td>\n      <td>...</td>\n      <td>...</td>\n      <td>...</td>\n      <td>...</td>\n      <td>...</td>\n      <td>...</td>\n      <td>...</td>\n      <td>...</td>\n      <td>...</td>\n      <td>...</td>\n      <td>...</td>\n      <td>...</td>\n      <td>...</td>\n      <td>...</td>\n      <td>...</td>\n      <td>...</td>\n      <td>...</td>\n      <td>...</td>\n      <td>...</td>\n      <td>...</td>\n      <td>...</td>\n      <td>...</td>\n      <td>...</td>\n      <td>...</td>\n      <td>...</td>\n      <td>...</td>\n      <td>...</td>\n      <td>...</td>\n      <td>...</td>\n      <td>...</td>\n      <td>...</td>\n      <td>...</td>\n      <td>...</td>\n      <td>...</td>\n      <td>...</td>\n    </tr>\n    <tr>\n      <th>16717</th>\n      <td>16717</td>\n      <td>16717</td>\n      <td>8445</td>\n      <td>4</td>\n      <td>3</td>\n      <td>1</td>\n      <td>16</td>\n      <td>11</td>\n      <td>6</td>\n      <td>2</td>\n      <td>4</td>\n      <td>10</td>\n      <td>4</td>\n      <td>4</td>\n      <td>3</td>\n      <td>1</td>\n      <td>0</td>\n      <td>0</td>\n      <td>1.44</td>\n      <td>2.56</td>\n      <td>1.45</td>\n      <td>5.00</td>\n      <td>6.00</td>\n      <td>0</td>\n      <td>45</td>\n      <td>1</td>\n      <td>1961.335938</td>\n      <td>1708.177490</td>\n      <td>253.158447</td>\n      <td>3.333333</td>\n      <td>2.666667</td>\n      <td>0.666667</td>\n      <td>17.333333</td>\n      <td>15.000000</td>\n      <td>6.000000</td>\n      <td>5.333333</td>\n      <td>8.666667</td>\n      <td>3.333333</td>\n      <td>2</td>\n      <td>2.000000</td>\n      <td>2.333333</td>\n      <td>0.666667</td>\n      <td>5.333333</td>\n    </tr>\n    <tr>\n      <th>16718</th>\n      <td>16718</td>\n      <td>16718</td>\n      <td>8446</td>\n      <td>1</td>\n      <td>0</td>\n      <td>1</td>\n      <td>8</td>\n      <td>13</td>\n      <td>1</td>\n      <td>4</td>\n      <td>12</td>\n      <td>10</td>\n      <td>1</td>\n      <td>11</td>\n      <td>1</td>\n      <td>1</td>\n      <td>0</td>\n      <td>0</td>\n      <td>1.67</td>\n      <td>2.23</td>\n      <td>6.00</td>\n      <td>4.50</td>\n      <td>1.50</td>\n      <td>1</td>\n      <td>0</td>\n      <td>0</td>\n      <td>1682.139038</td>\n      <td>1928.753418</td>\n      <td>-246.614380</td>\n      <td>3.000000</td>\n      <td>0.666667</td>\n      <td>2.333333</td>\n      <td>13.333333</td>\n      <td>12.333333</td>\n      <td>5.000000</td>\n      <td>5.666667</td>\n      <td>6.333333</td>\n      <td>3.666667</td>\n      <td>1</td>\n      <td>-1.666667</td>\n      <td>1.000000</td>\n      <td>-0.666667</td>\n      <td>2.666667</td>\n    </tr>\n    <tr>\n      <th>16719</th>\n      <td>16719</td>\n      <td>16719</td>\n      <td>8446</td>\n      <td>1</td>\n      <td>1</td>\n      <td>0</td>\n      <td>13</td>\n      <td>8</td>\n      <td>4</td>\n      <td>1</td>\n      <td>10</td>\n      <td>12</td>\n      <td>11</td>\n      <td>1</td>\n      <td>1</td>\n      <td>1</td>\n      <td>0</td>\n      <td>0</td>\n      <td>1.67</td>\n      <td>2.23</td>\n      <td>1.50</td>\n      <td>4.50</td>\n      <td>6.00</td>\n      <td>0</td>\n      <td>17</td>\n      <td>0</td>\n      <td>1928.753418</td>\n      <td>1682.139038</td>\n      <td>246.614380</td>\n      <td>3.000000</td>\n      <td>2.000000</td>\n      <td>1.000000</td>\n      <td>16.666667</td>\n      <td>10.666667</td>\n      <td>6.333333</td>\n      <td>2.333333</td>\n      <td>9.333333</td>\n      <td>2.333333</td>\n      <td>2</td>\n      <td>1.000000</td>\n      <td>6.000000</td>\n      <td>4.000000</td>\n      <td>7.000000</td>\n    </tr>\n    <tr>\n      <th>16720</th>\n      <td>16720</td>\n      <td>16720</td>\n      <td>8447</td>\n      <td>0</td>\n      <td>0</td>\n      <td>0</td>\n      <td>13</td>\n      <td>14</td>\n      <td>4</td>\n      <td>6</td>\n      <td>15</td>\n      <td>20</td>\n      <td>1</td>\n      <td>7</td>\n      <td>1</td>\n      <td>5</td>\n      <td>0</td>\n      <td>0</td>\n      <td>1.67</td>\n      <td>2.19</td>\n      <td>4.33</td>\n      <td>3.75</td>\n      <td>1.80</td>\n      <td>1</td>\n      <td>13</td>\n      <td>0</td>\n      <td>1659.008789</td>\n      <td>1774.225342</td>\n      <td>-115.216553</td>\n      <td>3.333333</td>\n      <td>1.000000</td>\n      <td>2.333333</td>\n      <td>12.000000</td>\n      <td>21.333333</td>\n      <td>4.333333</td>\n      <td>7.666667</td>\n      <td>3.333333</td>\n      <td>5.666667</td>\n      <td>0</td>\n      <td>-1.333333</td>\n      <td>-9.333333</td>\n      <td>-3.333333</td>\n      <td>-2.333333</td>\n    </tr>\n    <tr>\n      <th>16721</th>\n      <td>16721</td>\n      <td>16721</td>\n      <td>8447</td>\n      <td>0</td>\n      <td>0</td>\n      <td>0</td>\n      <td>14</td>\n      <td>13</td>\n      <td>6</td>\n      <td>4</td>\n      <td>20</td>\n      <td>15</td>\n      <td>7</td>\n      <td>1</td>\n      <td>5</td>\n      <td>1</td>\n      <td>0</td>\n      <td>0</td>\n      <td>1.67</td>\n      <td>2.19</td>\n      <td>1.80</td>\n      <td>3.75</td>\n      <td>4.33</td>\n      <td>0</td>\n      <td>6</td>\n      <td>0</td>\n      <td>1774.225342</td>\n      <td>1659.008789</td>\n      <td>115.216553</td>\n      <td>3.000000</td>\n      <td>1.666667</td>\n      <td>1.333333</td>\n      <td>15.333333</td>\n      <td>12.000000</td>\n      <td>5.333333</td>\n      <td>2.666667</td>\n      <td>6.333333</td>\n      <td>3.666667</td>\n      <td>0</td>\n      <td>0.333333</td>\n      <td>3.333333</td>\n      <td>2.666667</td>\n      <td>2.666667</td>\n    </tr>\n  </tbody>\n</table>\n<p>16722 rows × 43 columns</p>\n</div>"
     },
     "metadata": {},
     "execution_count": 1052
    }
   ],
   "source": [
    "numerics = ['int16', 'int32', 'int64', 'float16', 'float32', 'float64']\n",
    "\n",
    "df_rolling.select_dtypes(include=np.number)"
   ]
  },
  {
   "cell_type": "code",
   "execution_count": 1128,
   "metadata": {
    "tags": [
     "outputPrepend"
    ]
   },
   "outputs": [
    {
     "output_type": "stream",
     "name": "stdout",
     "text": "Top Absolute Correlations\n"
    },
    {
     "output_type": "execute_result",
     "data": {
      "text/plain": "       GameID        Date           Team       Opponent  TotalGoals  \\\n1728      889  2002-11-16        Arsenal      Tottenham           3   \n1729      889  2002-11-16      Tottenham        Arsenal           3   \n1730      890  2002-11-16  Middlesbrough        Chelsea           1   \n1731      890  2002-11-16        Chelsea  Middlesbrough           1   \n1732      891  2002-11-16       Charlton       Man City           1   \n...       ...         ...            ...            ...         ...   \n16717    8445  2023-09-16      Liverpool         Wolves           4   \n16718    8446  2023-09-17        Everton        Arsenal           1   \n16719    8446  2023-09-17        Arsenal        Everton           1   \n16720    8447  2023-09-17    Bournemouth        Chelsea           0   \n16721    8447  2023-09-17        Chelsea    Bournemouth           0   \n\n       TeamGoals  OpponentGoals Result   Referee  TeamShots  OpponentShots  \\\n1728           3              0      W   M Riley         17              6   \n1729           0              3      L   M Riley          6             17   \n1730           0              1      L    P Dowd          7             13   \n1731           1              0      W    P Dowd         13              7   \n1732           1              0      W  G Barber         13             15   \n...          ...            ...    ...       ...        ...            ...   \n16717          3              1      W  M Oliver         16             11   \n16718          0              1      L  S Hooper          8             13   \n16719          1              0      W  S Hooper         13              8   \n16720          0              0      D   D Coote         13             14   \n16721          0              0      D   D Coote         14             13   \n\n       TeamShotsonTarget  OpponentShotsonTarget  TeamFouls  OpponentFouls  \\\n1728                  12                      5         15             10   \n1729                   5                     12         10             15   \n1730                   4                      5         11              9   \n1731                   5                      4          9             11   \n1732                   4                      4         16             10   \n...                  ...                    ...        ...            ...   \n16717                  6                      2          4             10   \n16718                  1                      4         12             10   \n16719                  4                      1         10             12   \n16720                  4                      6         15             20   \n16721                  6                      4         20             15   \n\n       TeamCorners  OpponentCorners  TeamYellowCards  OpponentYellowCards  \\\n1728             3                1                0                    2   \n1729             1                3                2                    0   \n1730             7                5                1                    2   \n1731             5                7                2                    1   \n1732             5                7                4                    0   \n...            ...              ...              ...                  ...   \n16717            4                4                3                    1   \n16718            1               11                1                    1   \n16719           11                1                1                    1   \n16720            1                7                1                    5   \n16721            7                1                5                    1   \n\n       TeamRedCards  OpponentRedCards  TeamWinOdds  DrawOdds  OpponentWinOdds  \\\n1728              0                 1        1.533      3.50            5.500   \n1729              1                 0        5.500      3.50            1.533   \n1730              0                 0        4.500      3.20            1.727   \n1731              0                 0        1.727      3.20            4.500   \n1732              0                 0        4.500      3.40            1.667   \n...             ...               ...          ...       ...              ...   \n16717             0                 0        1.450      5.00            6.000   \n16718             0                 0        6.000      4.50            1.500   \n16719             0                 0        1.500      4.50            6.000   \n16720             0                 0        4.330      3.75            1.800   \n16721             0                 0        1.800      3.75            4.330   \n\n      Venue  VenueCode  OpponentCode  Target      TeamELO  OpponentELO  \\\n1728   Home          1            40       1  1886.304565  1673.461426   \n1729   Away          0             0       1  1673.461426  1886.304565   \n1730   Away          0            13       0  1687.139404  1775.028809   \n1731   Home          1            29       0  1775.028809  1687.139404   \n1732   Away          0            27       0  1626.263794  1664.720215   \n...     ...        ...           ...     ...          ...          ...   \n16717  Away          0            45       1  1961.335938  1708.177490   \n16718  Home          1             0       0  1682.139038  1928.753418   \n16719  Away          0            17       0  1928.753418  1682.139038   \n16720  Home          1            13       0  1659.008789  1774.225342   \n16721  Away          0             6       0  1774.225342  1659.008789   \n\n           ELODif  TotalGoalsRolling  TeamGoalsRolling  OpponentGoalsRolling  \\\n1728   212.843140           1.666667          1.000000              0.666667   \n1729  -212.843140           1.666667          0.333333              1.333333   \n1730   -87.889404           2.333333          1.000000              1.333333   \n1731    87.889404           1.666667          1.666667              0.000000   \n1732   -38.456421           2.000000          0.666667              1.333333   \n...           ...                ...               ...                   ...   \n16717  253.158447           3.333333          2.666667              0.666667   \n16718 -246.614380           3.000000          0.666667              2.333333   \n16719  246.614380           3.000000          2.000000              1.000000   \n16720 -115.216553           3.333333          1.000000              2.333333   \n16721  115.216553           3.000000          1.666667              1.333333   \n\n       TeamShotsRolling  OpponentShotsRolling  TeamShotsonTargetRolling  \\\n1728          13.666667              3.666667                  7.333333   \n1729          11.333333             12.000000                  6.000000   \n1730          13.000000             12.666667                  6.333333   \n1731          13.333333              9.666667                  6.333333   \n1732          10.000000             12.000000                  6.000000   \n...                 ...                   ...                       ...   \n16717         17.333333             15.000000                  6.000000   \n16718         13.333333             12.333333                  5.000000   \n16719         16.666667             10.666667                  6.333333   \n16720         12.000000             21.333333                  4.333333   \n16721         15.333333             12.000000                  5.333333   \n\n       OpponentShotsonTargetRolling  TeamCornersRolling  \\\n1728                       2.666667           10.333333   \n1729                       4.666667            6.666667   \n1730                       9.000000            7.000000   \n1731                       4.666667            4.666667   \n1732                       7.000000            4.666667   \n...                             ...                 ...   \n16717                      5.333333            8.666667   \n16718                      5.666667            6.333333   \n16719                      2.333333            9.333333   \n16720                      7.666667            3.333333   \n16721                      2.666667            6.333333   \n\n       OpponentCornersRolling  WinTarget  GoalsRolling_Dif  ShotsRolling_Dif  \\\n1728                 4.333333          2          0.333333         10.000000   \n1729                 3.666667          1         -1.000000         -0.666667   \n1730                 3.666667          1         -0.333333          0.333333   \n1731                 5.333333          2          1.666667          3.666667   \n1732                 9.666667          2         -0.666667         -2.000000   \n...                       ...        ...               ...               ...   \n16717                3.333333          2          2.000000          2.333333   \n16718                3.666667          1         -1.666667          1.000000   \n16719                2.333333          2          1.000000          6.000000   \n16720                5.666667          0         -1.333333         -9.333333   \n16721                3.666667          0          0.333333          3.333333   \n\n       ShotsonTargetRolling_Dif  CornersRolling_Dif  \n1728                   4.666667            6.000000  \n1729                   1.333333            3.000000  \n1730                  -2.666667            3.333333  \n1731                   1.666667           -0.666667  \n1732                  -1.000000           -5.000000  \n...                         ...                 ...  \n16717                  0.666667            5.333333  \n16718                 -0.666667            2.666667  \n16719                  4.000000            7.000000  \n16720                 -3.333333           -2.333333  \n16721                  2.666667            2.666667  \n\n[14978 rows x 45 columns]",
      "text/html": "<div>\n<style scoped>\n    .dataframe tbody tr th:only-of-type {\n        vertical-align: middle;\n    }\n\n    .dataframe tbody tr th {\n        vertical-align: top;\n    }\n\n    .dataframe thead th {\n        text-align: right;\n    }\n</style>\n<table border=\"1\" class=\"dataframe\">\n  <thead>\n    <tr style=\"text-align: right;\">\n      <th></th>\n      <th>GameID</th>\n      <th>Date</th>\n      <th>Team</th>\n      <th>Opponent</th>\n      <th>TotalGoals</th>\n      <th>TeamGoals</th>\n      <th>OpponentGoals</th>\n      <th>Result</th>\n      <th>Referee</th>\n      <th>TeamShots</th>\n      <th>OpponentShots</th>\n      <th>TeamShotsonTarget</th>\n      <th>OpponentShotsonTarget</th>\n      <th>TeamFouls</th>\n      <th>OpponentFouls</th>\n      <th>TeamCorners</th>\n      <th>OpponentCorners</th>\n      <th>TeamYellowCards</th>\n      <th>OpponentYellowCards</th>\n      <th>TeamRedCards</th>\n      <th>OpponentRedCards</th>\n      <th>TeamWinOdds</th>\n      <th>DrawOdds</th>\n      <th>OpponentWinOdds</th>\n      <th>Venue</th>\n      <th>VenueCode</th>\n      <th>OpponentCode</th>\n      <th>Target</th>\n      <th>TeamELO</th>\n      <th>OpponentELO</th>\n      <th>ELODif</th>\n      <th>TotalGoalsRolling</th>\n      <th>TeamGoalsRolling</th>\n      <th>OpponentGoalsRolling</th>\n      <th>TeamShotsRolling</th>\n      <th>OpponentShotsRolling</th>\n      <th>TeamShotsonTargetRolling</th>\n      <th>OpponentShotsonTargetRolling</th>\n      <th>TeamCornersRolling</th>\n      <th>OpponentCornersRolling</th>\n      <th>WinTarget</th>\n      <th>GoalsRolling_Dif</th>\n      <th>ShotsRolling_Dif</th>\n      <th>ShotsonTargetRolling_Dif</th>\n      <th>CornersRolling_Dif</th>\n    </tr>\n  </thead>\n  <tbody>\n    <tr>\n      <th>1728</th>\n      <td>889</td>\n      <td>2002-11-16</td>\n      <td>Arsenal</td>\n      <td>Tottenham</td>\n      <td>3</td>\n      <td>3</td>\n      <td>0</td>\n      <td>W</td>\n      <td>M Riley</td>\n      <td>17</td>\n      <td>6</td>\n      <td>12</td>\n      <td>5</td>\n      <td>15</td>\n      <td>10</td>\n      <td>3</td>\n      <td>1</td>\n      <td>0</td>\n      <td>2</td>\n      <td>0</td>\n      <td>1</td>\n      <td>1.533</td>\n      <td>3.50</td>\n      <td>5.500</td>\n      <td>Home</td>\n      <td>1</td>\n      <td>40</td>\n      <td>1</td>\n      <td>1886.304565</td>\n      <td>1673.461426</td>\n      <td>212.843140</td>\n      <td>1.666667</td>\n      <td>1.000000</td>\n      <td>0.666667</td>\n      <td>13.666667</td>\n      <td>3.666667</td>\n      <td>7.333333</td>\n      <td>2.666667</td>\n      <td>10.333333</td>\n      <td>4.333333</td>\n      <td>2</td>\n      <td>0.333333</td>\n      <td>10.000000</td>\n      <td>4.666667</td>\n      <td>6.000000</td>\n    </tr>\n    <tr>\n      <th>1729</th>\n      <td>889</td>\n      <td>2002-11-16</td>\n      <td>Tottenham</td>\n      <td>Arsenal</td>\n      <td>3</td>\n      <td>0</td>\n      <td>3</td>\n      <td>L</td>\n      <td>M Riley</td>\n      <td>6</td>\n      <td>17</td>\n      <td>5</td>\n      <td>12</td>\n      <td>10</td>\n      <td>15</td>\n      <td>1</td>\n      <td>3</td>\n      <td>2</td>\n      <td>0</td>\n      <td>1</td>\n      <td>0</td>\n      <td>5.500</td>\n      <td>3.50</td>\n      <td>1.533</td>\n      <td>Away</td>\n      <td>0</td>\n      <td>0</td>\n      <td>1</td>\n      <td>1673.461426</td>\n      <td>1886.304565</td>\n      <td>-212.843140</td>\n      <td>1.666667</td>\n      <td>0.333333</td>\n      <td>1.333333</td>\n      <td>11.333333</td>\n      <td>12.000000</td>\n      <td>6.000000</td>\n      <td>4.666667</td>\n      <td>6.666667</td>\n      <td>3.666667</td>\n      <td>1</td>\n      <td>-1.000000</td>\n      <td>-0.666667</td>\n      <td>1.333333</td>\n      <td>3.000000</td>\n    </tr>\n    <tr>\n      <th>1730</th>\n      <td>890</td>\n      <td>2002-11-16</td>\n      <td>Middlesbrough</td>\n      <td>Chelsea</td>\n      <td>1</td>\n      <td>0</td>\n      <td>1</td>\n      <td>L</td>\n      <td>P Dowd</td>\n      <td>7</td>\n      <td>13</td>\n      <td>4</td>\n      <td>5</td>\n      <td>11</td>\n      <td>9</td>\n      <td>7</td>\n      <td>5</td>\n      <td>1</td>\n      <td>2</td>\n      <td>0</td>\n      <td>0</td>\n      <td>4.500</td>\n      <td>3.20</td>\n      <td>1.727</td>\n      <td>Away</td>\n      <td>0</td>\n      <td>13</td>\n      <td>0</td>\n      <td>1687.139404</td>\n      <td>1775.028809</td>\n      <td>-87.889404</td>\n      <td>2.333333</td>\n      <td>1.000000</td>\n      <td>1.333333</td>\n      <td>13.000000</td>\n      <td>12.666667</td>\n      <td>6.333333</td>\n      <td>9.000000</td>\n      <td>7.000000</td>\n      <td>3.666667</td>\n      <td>1</td>\n      <td>-0.333333</td>\n      <td>0.333333</td>\n      <td>-2.666667</td>\n      <td>3.333333</td>\n    </tr>\n    <tr>\n      <th>1731</th>\n      <td>890</td>\n      <td>2002-11-16</td>\n      <td>Chelsea</td>\n      <td>Middlesbrough</td>\n      <td>1</td>\n      <td>1</td>\n      <td>0</td>\n      <td>W</td>\n      <td>P Dowd</td>\n      <td>13</td>\n      <td>7</td>\n      <td>5</td>\n      <td>4</td>\n      <td>9</td>\n      <td>11</td>\n      <td>5</td>\n      <td>7</td>\n      <td>2</td>\n      <td>1</td>\n      <td>0</td>\n      <td>0</td>\n      <td>1.727</td>\n      <td>3.20</td>\n      <td>4.500</td>\n      <td>Home</td>\n      <td>1</td>\n      <td>29</td>\n      <td>0</td>\n      <td>1775.028809</td>\n      <td>1687.139404</td>\n      <td>87.889404</td>\n      <td>1.666667</td>\n      <td>1.666667</td>\n      <td>0.000000</td>\n      <td>13.333333</td>\n      <td>9.666667</td>\n      <td>6.333333</td>\n      <td>4.666667</td>\n      <td>4.666667</td>\n      <td>5.333333</td>\n      <td>2</td>\n      <td>1.666667</td>\n      <td>3.666667</td>\n      <td>1.666667</td>\n      <td>-0.666667</td>\n    </tr>\n    <tr>\n      <th>1732</th>\n      <td>891</td>\n      <td>2002-11-16</td>\n      <td>Charlton</td>\n      <td>Man City</td>\n      <td>1</td>\n      <td>1</td>\n      <td>0</td>\n      <td>W</td>\n      <td>G Barber</td>\n      <td>13</td>\n      <td>15</td>\n      <td>4</td>\n      <td>4</td>\n      <td>16</td>\n      <td>10</td>\n      <td>5</td>\n      <td>7</td>\n      <td>4</td>\n      <td>0</td>\n      <td>0</td>\n      <td>0</td>\n      <td>4.500</td>\n      <td>3.40</td>\n      <td>1.667</td>\n      <td>Away</td>\n      <td>0</td>\n      <td>27</td>\n      <td>0</td>\n      <td>1626.263794</td>\n      <td>1664.720215</td>\n      <td>-38.456421</td>\n      <td>2.000000</td>\n      <td>0.666667</td>\n      <td>1.333333</td>\n      <td>10.000000</td>\n      <td>12.000000</td>\n      <td>6.000000</td>\n      <td>7.000000</td>\n      <td>4.666667</td>\n      <td>9.666667</td>\n      <td>2</td>\n      <td>-0.666667</td>\n      <td>-2.000000</td>\n      <td>-1.000000</td>\n      <td>-5.000000</td>\n    </tr>\n    <tr>\n      <th>...</th>\n      <td>...</td>\n      <td>...</td>\n      <td>...</td>\n      <td>...</td>\n      <td>...</td>\n      <td>...</td>\n      <td>...</td>\n      <td>...</td>\n      <td>...</td>\n      <td>...</td>\n      <td>...</td>\n      <td>...</td>\n      <td>...</td>\n      <td>...</td>\n      <td>...</td>\n      <td>...</td>\n      <td>...</td>\n      <td>...</td>\n      <td>...</td>\n      <td>...</td>\n      <td>...</td>\n      <td>...</td>\n      <td>...</td>\n      <td>...</td>\n      <td>...</td>\n      <td>...</td>\n      <td>...</td>\n      <td>...</td>\n      <td>...</td>\n      <td>...</td>\n      <td>...</td>\n      <td>...</td>\n      <td>...</td>\n      <td>...</td>\n      <td>...</td>\n      <td>...</td>\n      <td>...</td>\n      <td>...</td>\n      <td>...</td>\n      <td>...</td>\n      <td>...</td>\n      <td>...</td>\n      <td>...</td>\n      <td>...</td>\n      <td>...</td>\n    </tr>\n    <tr>\n      <th>16717</th>\n      <td>8445</td>\n      <td>2023-09-16</td>\n      <td>Liverpool</td>\n      <td>Wolves</td>\n      <td>4</td>\n      <td>3</td>\n      <td>1</td>\n      <td>W</td>\n      <td>M Oliver</td>\n      <td>16</td>\n      <td>11</td>\n      <td>6</td>\n      <td>2</td>\n      <td>4</td>\n      <td>10</td>\n      <td>4</td>\n      <td>4</td>\n      <td>3</td>\n      <td>1</td>\n      <td>0</td>\n      <td>0</td>\n      <td>1.450</td>\n      <td>5.00</td>\n      <td>6.000</td>\n      <td>Away</td>\n      <td>0</td>\n      <td>45</td>\n      <td>1</td>\n      <td>1961.335938</td>\n      <td>1708.177490</td>\n      <td>253.158447</td>\n      <td>3.333333</td>\n      <td>2.666667</td>\n      <td>0.666667</td>\n      <td>17.333333</td>\n      <td>15.000000</td>\n      <td>6.000000</td>\n      <td>5.333333</td>\n      <td>8.666667</td>\n      <td>3.333333</td>\n      <td>2</td>\n      <td>2.000000</td>\n      <td>2.333333</td>\n      <td>0.666667</td>\n      <td>5.333333</td>\n    </tr>\n    <tr>\n      <th>16718</th>\n      <td>8446</td>\n      <td>2023-09-17</td>\n      <td>Everton</td>\n      <td>Arsenal</td>\n      <td>1</td>\n      <td>0</td>\n      <td>1</td>\n      <td>L</td>\n      <td>S Hooper</td>\n      <td>8</td>\n      <td>13</td>\n      <td>1</td>\n      <td>4</td>\n      <td>12</td>\n      <td>10</td>\n      <td>1</td>\n      <td>11</td>\n      <td>1</td>\n      <td>1</td>\n      <td>0</td>\n      <td>0</td>\n      <td>6.000</td>\n      <td>4.50</td>\n      <td>1.500</td>\n      <td>Home</td>\n      <td>1</td>\n      <td>0</td>\n      <td>0</td>\n      <td>1682.139038</td>\n      <td>1928.753418</td>\n      <td>-246.614380</td>\n      <td>3.000000</td>\n      <td>0.666667</td>\n      <td>2.333333</td>\n      <td>13.333333</td>\n      <td>12.333333</td>\n      <td>5.000000</td>\n      <td>5.666667</td>\n      <td>6.333333</td>\n      <td>3.666667</td>\n      <td>1</td>\n      <td>-1.666667</td>\n      <td>1.000000</td>\n      <td>-0.666667</td>\n      <td>2.666667</td>\n    </tr>\n    <tr>\n      <th>16719</th>\n      <td>8446</td>\n      <td>2023-09-17</td>\n      <td>Arsenal</td>\n      <td>Everton</td>\n      <td>1</td>\n      <td>1</td>\n      <td>0</td>\n      <td>W</td>\n      <td>S Hooper</td>\n      <td>13</td>\n      <td>8</td>\n      <td>4</td>\n      <td>1</td>\n      <td>10</td>\n      <td>12</td>\n      <td>11</td>\n      <td>1</td>\n      <td>1</td>\n      <td>1</td>\n      <td>0</td>\n      <td>0</td>\n      <td>1.500</td>\n      <td>4.50</td>\n      <td>6.000</td>\n      <td>Away</td>\n      <td>0</td>\n      <td>17</td>\n      <td>0</td>\n      <td>1928.753418</td>\n      <td>1682.139038</td>\n      <td>246.614380</td>\n      <td>3.000000</td>\n      <td>2.000000</td>\n      <td>1.000000</td>\n      <td>16.666667</td>\n      <td>10.666667</td>\n      <td>6.333333</td>\n      <td>2.333333</td>\n      <td>9.333333</td>\n      <td>2.333333</td>\n      <td>2</td>\n      <td>1.000000</td>\n      <td>6.000000</td>\n      <td>4.000000</td>\n      <td>7.000000</td>\n    </tr>\n    <tr>\n      <th>16720</th>\n      <td>8447</td>\n      <td>2023-09-17</td>\n      <td>Bournemouth</td>\n      <td>Chelsea</td>\n      <td>0</td>\n      <td>0</td>\n      <td>0</td>\n      <td>D</td>\n      <td>D Coote</td>\n      <td>13</td>\n      <td>14</td>\n      <td>4</td>\n      <td>6</td>\n      <td>15</td>\n      <td>20</td>\n      <td>1</td>\n      <td>7</td>\n      <td>1</td>\n      <td>5</td>\n      <td>0</td>\n      <td>0</td>\n      <td>4.330</td>\n      <td>3.75</td>\n      <td>1.800</td>\n      <td>Home</td>\n      <td>1</td>\n      <td>13</td>\n      <td>0</td>\n      <td>1659.008789</td>\n      <td>1774.225342</td>\n      <td>-115.216553</td>\n      <td>3.333333</td>\n      <td>1.000000</td>\n      <td>2.333333</td>\n      <td>12.000000</td>\n      <td>21.333333</td>\n      <td>4.333333</td>\n      <td>7.666667</td>\n      <td>3.333333</td>\n      <td>5.666667</td>\n      <td>0</td>\n      <td>-1.333333</td>\n      <td>-9.333333</td>\n      <td>-3.333333</td>\n      <td>-2.333333</td>\n    </tr>\n    <tr>\n      <th>16721</th>\n      <td>8447</td>\n      <td>2023-09-17</td>\n      <td>Chelsea</td>\n      <td>Bournemouth</td>\n      <td>0</td>\n      <td>0</td>\n      <td>0</td>\n      <td>D</td>\n      <td>D Coote</td>\n      <td>14</td>\n      <td>13</td>\n      <td>6</td>\n      <td>4</td>\n      <td>20</td>\n      <td>15</td>\n      <td>7</td>\n      <td>1</td>\n      <td>5</td>\n      <td>1</td>\n      <td>0</td>\n      <td>0</td>\n      <td>1.800</td>\n      <td>3.75</td>\n      <td>4.330</td>\n      <td>Away</td>\n      <td>0</td>\n      <td>6</td>\n      <td>0</td>\n      <td>1774.225342</td>\n      <td>1659.008789</td>\n      <td>115.216553</td>\n      <td>3.000000</td>\n      <td>1.666667</td>\n      <td>1.333333</td>\n      <td>15.333333</td>\n      <td>12.000000</td>\n      <td>5.333333</td>\n      <td>2.666667</td>\n      <td>6.333333</td>\n      <td>3.666667</td>\n      <td>0</td>\n      <td>0.333333</td>\n      <td>3.333333</td>\n      <td>2.666667</td>\n      <td>2.666667</td>\n    </tr>\n  </tbody>\n</table>\n<p>14978 rows × 45 columns</p>\n</div>"
     },
     "metadata": {},
     "execution_count": 1128
    }
   ],
   "source": [
    "def get_redundant_pairs(df):\n",
    "   '''Get diagonal and lower triangular pairs of correlation matrix'''\n",
    "   pairs_to_drop = set()\n",
    "   cols = df.columns\n",
    "   for i in range(0, df.shape[1]):\n",
    "       for j in range(0, i + 1):\n",
    "           pairs_to_drop.add((cols[i], cols[j]))\n",
    "   return pairs_to_drop\n",
    "\n",
    "def get_top_abs_correlations(df, n=2000):\n",
    "   au_corr = df.corr().abs().unstack()\n",
    "   labels_to_drop = get_redundant_pairs(df)\n",
    "   au_corr = au_corr.drop(labels=labels_to_drop).sort_values(ascending=False)\n",
    "   return au_corr\n",
    "\n",
    "def get_corr_features(df, corr_threshold=.95):\n",
    "   fsdf = df.select_dtypes(exclude=['object'])\n",
    "   #fsdf = fsdf.filter(like='precomp')\n",
    "   print(\"Top Absolute Correlations\")\n",
    "   x = get_top_abs_correlations(fsdf, n=2000)\n",
    "   #print(dict(x))\n",
    "   drop_features = []\n",
    "   for idx, val in x.items():\n",
    "       if val > corr_threshold:\n",
    "           drop_features.append(idx[1])\n",
    "   drop_features = list(set(drop_features)) # remove dupes\n",
    "   return drop_features\n",
    "df_rolling = pd.read_csv('/Users/Gautham/Projects/Betting/cache/rolling_dif.csv')\n",
    "new_df = df_rolling.dropna(subset=['O2.5'])\n",
    "new_df = new_df.drop(columns=['Unnamed: 0.1', 'Unnamed: 0', 'O2.5', 'U2.5'])\n",
    "drop_features = get_corr_features(new_df, corr_threshold=.95)\n",
    "new_df = new_df.drop(drop_features, axis=1)\n",
    "new_df"
   ]
  },
  {
   "cell_type": "code",
   "execution_count": 1130,
   "metadata": {},
   "outputs": [
    {
     "output_type": "stream",
     "name": "stdout",
     "text": "CornersRolling_Dif 0.044304173\nTotalGoalsRolling 0.04782097\nTeamGoalsRolling 0.04833898\nGoalsRolling_Dif 0.04950154\nOpponentGoalsRolling 0.050187998\nOpponentCornersRolling 0.051884867\nShotsonTargetRolling_Dif 0.051916838\nOpponentCode 0.052513953\nOpponentShotsonTargetRolling 0.052755304\nTeamCornersRolling 0.053894848\nOpponentShotsRolling 0.05476493\nShotsRolling_Dif 0.055347633\nTeamShotsonTargetRolling 0.05962794\nOpponentELO 0.06007228\nTeamELO 0.060864836\nVenueCode 0.064408995\nELODif 0.06911364\nTeamShotsRolling 0.072680265\n0.555662188099808\n"
    }
   ],
   "source": [
    "def xgb_model(X_train, y_train, X_test, y_test):\n",
    "    params = {'colsample_bytree': 0.5, 'gamma': 0, 'learning_rate': 0.01, 'max_depth': 5, 'reg_lambda': 0, 'subsample': 0.8}\n",
    "    clf = xgb.XGBClassifier(**params)\n",
    "    '''verbosity=0,\n",
    "                           learning_rate=0.01,\n",
    "                           colsample_bytree=0.7,\n",
    "                           subsample=0.7,\n",
    "                           objective='binary:logistic',\n",
    "                           n_estimators=200,\n",
    "                           max_depth=3,\n",
    "                           gamma=0.1,\n",
    "                           seed=1,\n",
    "                           eta=0.2,\n",
    "                           min_child_weight=2)\n",
    "    '''\n",
    "    clf.fit(X_train, y_train)\n",
    "    # Accuracy\n",
    "    ypred = clf.predict(X_test)\n",
    "    accuracy = accuracy_score(y_test, ypred)\n",
    "    return clf, accuracy\n",
    "\n",
    "def print_feature_importances(clf, cols, print_num):\n",
    "   feats = {}  # a dict to hold feature_name: feature_importance\n",
    "   for feature, importance in zip(cols, clf.feature_importances_):\n",
    "       feats[feature] = importance\n",
    "   q = [[k, v] for k, v in sorted(feats.items(), key=lambda item: item[1])]\n",
    "   for x in q[-print_num:]:\n",
    "       print(x[0], x[1])\n",
    "\n",
    "print_num = 30\n",
    "cols = X_train.columns\n",
    "clf, accuracy = xgb_model(X_train, y_train, X_test, y_test)\n",
    "print_feature_importances(clf, cols, print_num)\n",
    "print(accuracy)"
   ]
  },
  {
   "cell_type": "code",
   "execution_count": 1093,
   "metadata": {},
   "outputs": [
    {
     "output_type": "stream",
     "name": "stdout",
     "text": "Top Absolute Correlations\n{('ShotsRolling_Dif', 'ShotsonTargetRolling_Dif'): 0.8618784084372058, ('TeamShotsRolling', 'ShotsRolling_Dif'): 0.8406512917055434, ('OpponentShotsRolling', 'ShotsRolling_Dif'): 0.8355428184415378, ('OpponentCornersRolling', 'CornersRolling_Dif'): 0.8102743909409199, ('TeamCornersRolling', 'CornersRolling_Dif'): 0.8040778706622487, ('TeamGoalsRolling', 'GoalsRolling_Dif'): 0.770203739516636, ('OpponentGoalsRolling', 'GoalsRolling_Dif'): 0.7522841225979943, ('TeamShotsRolling', 'ShotsonTargetRolling_Dif'): 0.7280329215005912, ('TeamShotsonTargetRolling', 'ShotsonTargetRolling_Dif'): 0.7231982441240634, ('OpponentShotsRolling', 'ShotsonTargetRolling_Dif'): 0.7165919591612633, ('OpponentELO', 'ELODif'): 0.7126129084695421, ('TeamELO', 'ELODif'): 0.7119521397470606, ('OpponentShotsonTargetRolling', 'ShotsonTargetRolling_Dif'): 0.7019426179822543, ('TeamShotsRolling', 'TeamShotsonTargetRolling'): 0.683632416534644, ('ShotsRolling_Dif', 'CornersRolling_Dif'): 0.6638271275285135, ('TotalGoalsRolling', 'TeamGoalsRolling'): 0.6627659595091959, ('OpponentShotsRolling', 'OpponentShotsonTargetRolling'): 0.6585614387689052, ('TotalGoalsRolling', 'OpponentGoalsRolling'): 0.6337592876511985, ('TeamShotsonTargetRolling', 'ShotsRolling_Dif'): 0.6283778951269743, ('OpponentShotsonTargetRolling', 'ShotsRolling_Dif'): 0.5997617614538322, ('GoalsRolling_Dif', 'ShotsonTargetRolling_Dif'): 0.5858735787121223, ('ShotsonTargetRolling_Dif', 'CornersRolling_Dif'): 0.5795908303306916, ('TeamELO', 'GoalsRolling_Dif'): 0.5767189680862688, ('TeamELO', 'ShotsRolling_Dif'): 0.5653498533753349, ('TeamELO', 'ShotsonTargetRolling_Dif'): 0.5612388860942311, ('OpponentShotsRolling', 'CornersRolling_Dif'): 0.5607009044907805, ('TeamShotsRolling', 'CornersRolling_Dif'): 0.5520885686272489, ('OpponentCornersRolling', 'ShotsRolling_Dif'): 0.5466091959719067, ('OpponentShotsRolling', 'OpponentCornersRolling'): 0.5444269990358489, ('TeamCornersRolling', 'ShotsRolling_Dif'): 0.5249154499177848, ('TeamShotsRolling', 'TeamCornersRolling'): 0.5192905184119609, ('TeamELO', 'TeamShotsRolling'): 0.48693224996510714, ('OpponentCornersRolling', 'ShotsonTargetRolling_Dif'): 0.48189943903270066, ('GoalsRolling_Dif', 'ShotsRolling_Dif'): 0.48188749818030197, ('TeamELO', 'TeamGoalsRolling'): 0.478115988952604, ('TeamGoalsRolling', 'ShotsonTargetRolling_Dif'): 0.46709739287920815, ('TeamGoalsRolling', 'TeamShotsonTargetRolling'): 0.4627467190021671, ('TeamELO', 'OpponentShotsRolling'): 0.46053471981914057, ('TeamCornersRolling', 'ShotsonTargetRolling_Dif'): 0.4535868987639984, ('TeamELO', 'TeamShotsonTargetRolling'): 0.44511085744029666, ('OpponentShotsonTargetRolling', 'OpponentCornersRolling'): 0.4422809796121917, ('TeamShotsonTargetRolling', 'TeamCornersRolling'): 0.4314680818109794, ('OpponentGoalsRolling', 'OpponentShotsonTargetRolling'): 0.42666689868650043, ('TeamShotsonTargetRolling', 'GoalsRolling_Dif'): 0.42640445882925737, ('OpponentGoalsRolling', 'ShotsonTargetRolling_Dif'): 0.42436495216478565, ('TeamShotsonTargetRolling', 'CornersRolling_Dif'): 0.41984463783016673, ('TeamELO', 'CornersRolling_Dif'): 0.4185732203202672, ('TeamGoalsRolling', 'TeamShotsRolling'): 0.4132180443716305, ('TeamShotsRolling', 'GoalsRolling_Dif'): 0.4096471568576245, ('OpponentShotsonTargetRolling', 'GoalsRolling_Dif'): 0.40846344859241895, ('OpponentShotsonTargetRolling', 'CornersRolling_Dif'): 0.40613250339718543, ('TeamShotsRolling', 'OpponentShotsRolling'): 0.4048441473732161, ('ELODif', 'GoalsRolling_Dif'): 0.4001496607392173, ('TeamELO', 'OpponentGoalsRolling'): 0.3988124609823041, ('OpponentShotsRolling', 'GoalsRolling_Dif'): 0.3980239222715679, ('TeamGoalsRolling', 'ShotsRolling_Dif'): 0.3977256128539093, ('ELODif', 'ShotsRolling_Dif'): 0.3885579392488814, ('ELODif', 'ShotsonTargetRolling_Dif'): 0.3876112591618242, ('TeamShotsRolling', 'OpponentCornersRolling'): 0.3730490788123325, ('OpponentShotsRolling', 'TeamShotsonTargetRolling'): 0.3673990525653971, ('OpponentShotsRolling', 'TeamCornersRolling'): 0.35943900218017943, ('OpponentGoalsRolling', 'OpponentShotsRolling'): 0.35547216018831945, ('TeamELO', 'OpponentCornersRolling'): 0.3550191763083063, ('TeamELO', 'OpponentShotsonTargetRolling'): 0.35350727070207993, ('TeamShotsRolling', 'OpponentShotsonTargetRolling'): 0.34900465422909666, ('ELODif', 'TeamShotsRolling'): 0.34090935248863724, ('ELODif', 'TeamGoalsRolling'): 0.3356803850683613, ('OpponentGoalsRolling', 'ShotsRolling_Dif'): 0.3350655782009355, ('TeamELO', 'TeamCornersRolling'): 0.32047613954542875, ('ELODif', 'OpponentShotsRolling'): 0.3101824096904628, ('ELODif', 'TeamShotsonTargetRolling'): 0.30397421986620815, ('TeamCornersRolling', 'OpponentCornersRolling'): 0.30310251070008554, ('ELODif', 'CornersRolling_Dif'): 0.286584202128306, ('ELODif', 'OpponentGoalsRolling'): 0.272635934295757, ('TeamGoalsRolling', 'OpponentShotsRolling'): 0.25230430473168813, ('ELODif', 'OpponentCornersRolling'): 0.25039203751185285, ('ELODif', 'OpponentShotsonTargetRolling'): 0.24768686383056668, ('TeamShotsonTargetRolling', 'OpponentCornersRolling'): 0.24764706397709219, ('GoalsRolling_Dif', 'CornersRolling_Dif'): 0.24107229204518446, ('OpponentCode', 'OpponentELO'): 0.22593181437199003, ('TotalGoalsRolling', 'TeamShotsonTargetRolling'): 0.2245127135442702, ('OpponentCornersRolling', 'GoalsRolling_Dif'): 0.21259038380016787, ('ELODif', 'TeamCornersRolling'): 0.21199296239845897, ('OpponentShotsonTargetRolling', 'TeamCornersRolling'): 0.2117232330641261, ('OpponentGoalsRolling', 'TeamShotsRolling'): 0.20724145859936982, ('TeamGoalsRolling', 'OpponentShotsonTargetRolling'): 0.19902650554550133, ('TeamGoalsRolling', 'CornersRolling_Dif'): 0.19814454935024997, ('TeamGoalsRolling', 'OpponentCornersRolling'): 0.184993036572972, ('OpponentGoalsRolling', 'TeamShotsonTargetRolling'): 0.18201741179909378, ('TeamCornersRolling', 'GoalsRolling_Dif'): 0.17633572811255638, ('OpponentGoalsRolling', 'CornersRolling_Dif'): 0.1684737126437815, ('TotalGoalsRolling', 'OpponentShotsonTargetRolling'): 0.16768524803620644, ('TotalGoalsRolling', 'TeamShotsRolling'): 0.16657335006490503, ('OpponentCode', 'ELODif'): 0.16554902008952763, ('TeamGoalsRolling', 'OpponentGoalsRolling'): 0.15920600479727517, ('OpponentGoalsRolling', 'OpponentCornersRolling'): 0.13797203761329238, ('TeamGoalsRolling', 'TeamCornersRolling'): 0.1345286808160208, ('OpponentGoalsRolling', 'TeamCornersRolling'): 0.13398274187951686, ('VenueCode', 'ShotsRolling_Dif'): 0.07851380460765393, ('TeamELO', 'TotalGoalsRolling'): 0.07211564336335685, ('TotalGoalsRolling', 'OpponentShotsRolling'): 0.07193954066507376, ('VenueCode', 'OpponentShotsRolling'): 0.06703180407419972, ('VenueCode', 'ShotsonTargetRolling_Dif'): 0.06683512185289316, ('VenueCode', 'CornersRolling_Dif'): 0.06668879661418373, ('VenueCode', 'TeamShotsRolling'): 0.06459300263151568, ('TotalGoalsRolling', 'ShotsRolling_Dif'): 0.0574799384827601, ('VenueCode', 'OpponentCornersRolling'): 0.0571147488040032, ('ELODif', 'TotalGoalsRolling'): 0.05621896824970189, ('VenueCode', 'TeamCornersRolling'): 0.0504999505683658, ('VenueCode', 'GoalsRolling_Dif'): 0.04913968057831326, ('VenueCode', 'OpponentShotsonTargetRolling'): 0.04902582423143576, ('VenueCode', 'TeamShotsonTargetRolling'): 0.04628765102426011, ('TotalGoalsRolling', 'ShotsonTargetRolling_Dif'): 0.04410072036536755, ('VenueCode', 'OpponentGoalsRolling'): 0.04102599308532562, ('TotalGoalsRolling', 'OpponentCornersRolling'): 0.04029453281555023, ('VenueCode', 'TeamGoalsRolling'): 0.03391820345026272, ('TotalGoalsRolling', 'GoalsRolling_Dif'): 0.03286476238182029, ('OpponentCode', 'TeamShotsRolling'): 0.03103512539932214, ('TotalGoalsRolling', 'CornersRolling_Dif'): 0.027463506233422554, ('OpponentCode', 'OpponentShotsRolling'): 0.026073714007880243, ('OpponentCode', 'OpponentShotsonTargetRolling'): 0.020263659150749385, ('OpponentCode', 'TeamShotsonTargetRolling'): 0.01849693863419638, ('OpponentELO', 'OpponentShotsRolling'): 0.0184308138033148, ('OpponentELO', 'TeamCornersRolling'): 0.018316475994747904, ('TeamShotsonTargetRolling', 'OpponentShotsonTargetRolling'): 0.015746367294054577, ('TeamELO', 'OpponentELO'): 0.014693013118685781, ('OpponentCode', 'TeamCornersRolling'): 0.01357328188313728, ('OpponentELO', 'TeamShotsonTargetRolling'): 0.011861429191043427, ('OpponentELO', 'ShotsRolling_Dif'): 0.011548102945607822, ('OpponentCode', 'CornersRolling_Dif'): 0.01111119402453959, ('OpponentELO', 'OpponentGoalsRolling'): 0.010229363985742534, ('OpponentELO', 'CornersRolling_Dif'): 0.0101105216788554, ('OpponentCode', 'TeamELO'): 0.009800345592961985, ('OpponentELO', 'ShotsonTargetRolling_Dif'): 0.008789024959327929, ('OpponentCode', 'OpponentGoalsRolling'): 0.008757344766792633, ('OpponentELO', 'TotalGoalsRolling'): 0.008002576649582357, ('OpponentCode', 'TotalGoalsRolling'): 0.00749890929965531, ('OpponentELO', 'GoalsRolling_Dif'): 0.006401080591212116, ('OpponentCode', 'GoalsRolling_Dif'): 0.004928108683508908, ('VenueCode', 'TotalGoalsRolling'): 0.004542534387776117, ('OpponentCode', 'OpponentCornersRolling'): 0.004430215729123527, ('TotalGoalsRolling', 'TeamCornersRolling'): 0.003780390158176747, ('OpponentCode', 'ShotsRolling_Dif'): 0.0032049562283266247, ('OpponentELO', 'OpponentCornersRolling'): 0.00184934725318897, ('VenueCode', 'ELODif'): 0.0013141468778210845, ('VenueCode', 'TeamELO'): 0.0011423158988334435, ('OpponentCode', 'TeamGoalsRolling'): 0.0010930804130129712, ('OpponentELO', 'TeamShotsRolling'): 0.0010514977485902052, ('OpponentCode', 'ShotsonTargetRolling_Dif'): 0.0008208660764368493, ('VenueCode', 'OpponentELO'): 0.000729969193028531, ('OpponentELO', 'OpponentShotsonTargetRolling'): 0.0004920476458511169, ('OpponentELO', 'TeamGoalsRolling'): 0.0003108953244748792, ('VenueCode', 'OpponentCode'): 0.00015272247506519835}\n"
    },
    {
     "output_type": "execute_result",
     "data": {
      "text/plain": "['ShotsonTargetRolling_Dif', 'ShotsRolling_Dif', 'CornersRolling_Dif']"
     },
     "metadata": {},
     "execution_count": 1093
    }
   ],
   "source": [
    "get_corr_features(X_train, corr_threshold=.80)"
   ]
  },
  {
   "cell_type": "code",
   "execution_count": 1094,
   "metadata": {},
   "outputs": [
    {
     "output_type": "execute_result",
     "data": {
      "text/plain": "Index(['GameID', 'TotalGoals', 'TeamGoals', 'OpponentGoals', 'TeamShots',\n       'OpponentShots', 'TeamShotsonTarget', 'OpponentShotsonTarget',\n       'TeamFouls', 'OpponentFouls', 'TeamCorners', 'OpponentCorners',\n       'TeamYellowCards', 'OpponentYellowCards', 'TeamRedCards',\n       'OpponentRedCards', 'TeamWinOdds', 'DrawOdds', 'OpponentWinOdds',\n       'VenueCode', 'OpponentCode', 'Target', 'TeamELO', 'OpponentELO',\n       'ELODif', 'TotalGoalsRolling', 'TeamGoalsRolling',\n       'OpponentGoalsRolling', 'TeamShotsRolling', 'OpponentShotsRolling',\n       'TeamShotsonTargetRolling', 'OpponentShotsonTargetRolling',\n       'TeamCornersRolling', 'OpponentCornersRolling', 'WinTarget',\n       'GoalsRolling_Dif', 'ShotsRolling_Dif', 'ShotsonTargetRolling_Dif',\n       'CornersRolling_Dif'],\n      dtype='object')"
     },
     "metadata": {},
     "execution_count": 1094
    }
   ],
   "source": [
    "new_df.select_dtypes(include=np.number).columns"
   ]
  },
  {
   "cell_type": "code",
   "execution_count": 1129,
   "metadata": {},
   "outputs": [
    {
     "output_type": "execute_result",
     "data": {
      "text/plain": "       VenueCode  OpponentCode      TeamELO  OpponentELO      ELODif  \\\n1728           1            40  1886.304565  1673.461426  212.843140   \n1729           0             0  1673.461426  1886.304565 -212.843140   \n1730           0            13  1687.139404  1775.028809  -87.889404   \n1731           1            29  1775.028809  1687.139404   87.889404   \n1732           0            27  1626.263794  1664.720215  -38.456421   \n...          ...           ...          ...          ...         ...   \n13589          0            39  1620.356567  1630.464355  -10.107788   \n13590          1            24  1913.709106  1700.989502  212.719605   \n13591          0            40  1700.989502  1913.709106 -212.719605   \n13592          1            17  1664.282593  1711.364380  -47.081787   \n13593          0            43  1711.364380  1664.282593   47.081787   \n\n       TotalGoalsRolling  TeamGoalsRolling  OpponentGoalsRolling  \\\n1728            1.666667          1.000000              0.666667   \n1729            1.666667          0.333333              1.333333   \n1730            2.333333          1.000000              1.333333   \n1731            1.666667          1.666667              0.000000   \n1732            2.000000          0.666667              1.333333   \n...                  ...               ...                   ...   \n13589           1.666667          0.666667              1.000000   \n13590           1.333333          1.000000              0.333333   \n13591           3.666667          1.000000              2.666667   \n13592           2.333333          1.000000              1.333333   \n13593           1.666667          1.333333              0.333333   \n\n       TeamShotsRolling  OpponentShotsRolling  TeamShotsonTargetRolling  \\\n1728          13.666667              3.666667                  7.333333   \n1729          11.333333             12.000000                  6.000000   \n1730          13.000000             12.666667                  6.333333   \n1731          13.333333              9.666667                  6.333333   \n1732          10.000000             12.000000                  6.000000   \n...                 ...                   ...                       ...   \n13589          6.666667             16.333333                  2.000000   \n13590         14.000000             12.000000                  5.000000   \n13591         12.666667             14.000000                  4.333333   \n13592          8.666667             16.000000                  2.000000   \n13593          8.333333              9.666667                  3.000000   \n\n       OpponentShotsonTargetRolling  TeamCornersRolling  \\\n1728                       2.666667           10.333333   \n1729                       4.666667            6.666667   \n1730                       9.000000            7.000000   \n1731                       4.666667            4.666667   \n1732                       7.000000            4.666667   \n...                             ...                 ...   \n13589                      3.666667            2.000000   \n13590                      3.000000            6.333333   \n13591                      6.333333            5.333333   \n13592                      5.000000            1.333333   \n13593                      3.000000            3.333333   \n\n       OpponentCornersRolling  GoalsRolling_Dif  ShotsRolling_Dif  \\\n1728                 4.333333          0.333333         10.000000   \n1729                 3.666667         -1.000000         -0.666667   \n1730                 3.666667         -0.333333          0.333333   \n1731                 5.333333          1.666667          3.666667   \n1732                 9.666667         -0.666667         -2.000000   \n...                       ...               ...               ...   \n13589                8.000000         -0.333333         -9.666667   \n13590                3.000000          0.666667          2.000000   \n13591                5.666667         -1.666667         -1.333333   \n13592                7.000000         -0.333333         -7.333333   \n13593                4.666667          1.000000         -1.333333   \n\n       ShotsonTargetRolling_Dif  CornersRolling_Dif  \n1728                   4.666667            6.000000  \n1729                   1.333333            3.000000  \n1730                  -2.666667            3.333333  \n1731                   1.666667           -0.666667  \n1732                  -1.000000           -5.000000  \n...                         ...                 ...  \n13589                 -1.666667           -6.000000  \n13590                  2.000000            3.333333  \n13591                 -2.000000           -0.333333  \n13592                 -3.000000           -5.666667  \n13593                  0.000000           -1.333333  \n\n[11852 rows x 18 columns]",
      "text/html": "<div>\n<style scoped>\n    .dataframe tbody tr th:only-of-type {\n        vertical-align: middle;\n    }\n\n    .dataframe tbody tr th {\n        vertical-align: top;\n    }\n\n    .dataframe thead th {\n        text-align: right;\n    }\n</style>\n<table border=\"1\" class=\"dataframe\">\n  <thead>\n    <tr style=\"text-align: right;\">\n      <th></th>\n      <th>VenueCode</th>\n      <th>OpponentCode</th>\n      <th>TeamELO</th>\n      <th>OpponentELO</th>\n      <th>ELODif</th>\n      <th>TotalGoalsRolling</th>\n      <th>TeamGoalsRolling</th>\n      <th>OpponentGoalsRolling</th>\n      <th>TeamShotsRolling</th>\n      <th>OpponentShotsRolling</th>\n      <th>TeamShotsonTargetRolling</th>\n      <th>OpponentShotsonTargetRolling</th>\n      <th>TeamCornersRolling</th>\n      <th>OpponentCornersRolling</th>\n      <th>GoalsRolling_Dif</th>\n      <th>ShotsRolling_Dif</th>\n      <th>ShotsonTargetRolling_Dif</th>\n      <th>CornersRolling_Dif</th>\n    </tr>\n  </thead>\n  <tbody>\n    <tr>\n      <th>1728</th>\n      <td>1</td>\n      <td>40</td>\n      <td>1886.304565</td>\n      <td>1673.461426</td>\n      <td>212.843140</td>\n      <td>1.666667</td>\n      <td>1.000000</td>\n      <td>0.666667</td>\n      <td>13.666667</td>\n      <td>3.666667</td>\n      <td>7.333333</td>\n      <td>2.666667</td>\n      <td>10.333333</td>\n      <td>4.333333</td>\n      <td>0.333333</td>\n      <td>10.000000</td>\n      <td>4.666667</td>\n      <td>6.000000</td>\n    </tr>\n    <tr>\n      <th>1729</th>\n      <td>0</td>\n      <td>0</td>\n      <td>1673.461426</td>\n      <td>1886.304565</td>\n      <td>-212.843140</td>\n      <td>1.666667</td>\n      <td>0.333333</td>\n      <td>1.333333</td>\n      <td>11.333333</td>\n      <td>12.000000</td>\n      <td>6.000000</td>\n      <td>4.666667</td>\n      <td>6.666667</td>\n      <td>3.666667</td>\n      <td>-1.000000</td>\n      <td>-0.666667</td>\n      <td>1.333333</td>\n      <td>3.000000</td>\n    </tr>\n    <tr>\n      <th>1730</th>\n      <td>0</td>\n      <td>13</td>\n      <td>1687.139404</td>\n      <td>1775.028809</td>\n      <td>-87.889404</td>\n      <td>2.333333</td>\n      <td>1.000000</td>\n      <td>1.333333</td>\n      <td>13.000000</td>\n      <td>12.666667</td>\n      <td>6.333333</td>\n      <td>9.000000</td>\n      <td>7.000000</td>\n      <td>3.666667</td>\n      <td>-0.333333</td>\n      <td>0.333333</td>\n      <td>-2.666667</td>\n      <td>3.333333</td>\n    </tr>\n    <tr>\n      <th>1731</th>\n      <td>1</td>\n      <td>29</td>\n      <td>1775.028809</td>\n      <td>1687.139404</td>\n      <td>87.889404</td>\n      <td>1.666667</td>\n      <td>1.666667</td>\n      <td>0.000000</td>\n      <td>13.333333</td>\n      <td>9.666667</td>\n      <td>6.333333</td>\n      <td>4.666667</td>\n      <td>4.666667</td>\n      <td>5.333333</td>\n      <td>1.666667</td>\n      <td>3.666667</td>\n      <td>1.666667</td>\n      <td>-0.666667</td>\n    </tr>\n    <tr>\n      <th>1732</th>\n      <td>0</td>\n      <td>27</td>\n      <td>1626.263794</td>\n      <td>1664.720215</td>\n      <td>-38.456421</td>\n      <td>2.000000</td>\n      <td>0.666667</td>\n      <td>1.333333</td>\n      <td>10.000000</td>\n      <td>12.000000</td>\n      <td>6.000000</td>\n      <td>7.000000</td>\n      <td>4.666667</td>\n      <td>9.666667</td>\n      <td>-0.666667</td>\n      <td>-2.000000</td>\n      <td>-1.000000</td>\n      <td>-5.000000</td>\n    </tr>\n    <tr>\n      <th>...</th>\n      <td>...</td>\n      <td>...</td>\n      <td>...</td>\n      <td>...</td>\n      <td>...</td>\n      <td>...</td>\n      <td>...</td>\n      <td>...</td>\n      <td>...</td>\n      <td>...</td>\n      <td>...</td>\n      <td>...</td>\n      <td>...</td>\n      <td>...</td>\n      <td>...</td>\n      <td>...</td>\n      <td>...</td>\n      <td>...</td>\n    </tr>\n    <tr>\n      <th>13589</th>\n      <td>0</td>\n      <td>39</td>\n      <td>1620.356567</td>\n      <td>1630.464355</td>\n      <td>-10.107788</td>\n      <td>1.666667</td>\n      <td>0.666667</td>\n      <td>1.000000</td>\n      <td>6.666667</td>\n      <td>16.333333</td>\n      <td>2.000000</td>\n      <td>3.666667</td>\n      <td>2.000000</td>\n      <td>8.000000</td>\n      <td>-0.333333</td>\n      <td>-9.666667</td>\n      <td>-1.666667</td>\n      <td>-6.000000</td>\n    </tr>\n    <tr>\n      <th>13590</th>\n      <td>1</td>\n      <td>24</td>\n      <td>1913.709106</td>\n      <td>1700.989502</td>\n      <td>212.719605</td>\n      <td>1.333333</td>\n      <td>1.000000</td>\n      <td>0.333333</td>\n      <td>14.000000</td>\n      <td>12.000000</td>\n      <td>5.000000</td>\n      <td>3.000000</td>\n      <td>6.333333</td>\n      <td>3.000000</td>\n      <td>0.666667</td>\n      <td>2.000000</td>\n      <td>2.000000</td>\n      <td>3.333333</td>\n    </tr>\n    <tr>\n      <th>13591</th>\n      <td>0</td>\n      <td>40</td>\n      <td>1700.989502</td>\n      <td>1913.709106</td>\n      <td>-212.719605</td>\n      <td>3.666667</td>\n      <td>1.000000</td>\n      <td>2.666667</td>\n      <td>12.666667</td>\n      <td>14.000000</td>\n      <td>4.333333</td>\n      <td>6.333333</td>\n      <td>5.333333</td>\n      <td>5.666667</td>\n      <td>-1.666667</td>\n      <td>-1.333333</td>\n      <td>-2.000000</td>\n      <td>-0.333333</td>\n    </tr>\n    <tr>\n      <th>13592</th>\n      <td>1</td>\n      <td>17</td>\n      <td>1664.282593</td>\n      <td>1711.364380</td>\n      <td>-47.081787</td>\n      <td>2.333333</td>\n      <td>1.000000</td>\n      <td>1.333333</td>\n      <td>8.666667</td>\n      <td>16.000000</td>\n      <td>2.000000</td>\n      <td>5.000000</td>\n      <td>1.333333</td>\n      <td>7.000000</td>\n      <td>-0.333333</td>\n      <td>-7.333333</td>\n      <td>-3.000000</td>\n      <td>-5.666667</td>\n    </tr>\n    <tr>\n      <th>13593</th>\n      <td>0</td>\n      <td>43</td>\n      <td>1711.364380</td>\n      <td>1664.282593</td>\n      <td>47.081787</td>\n      <td>1.666667</td>\n      <td>1.333333</td>\n      <td>0.333333</td>\n      <td>8.333333</td>\n      <td>9.666667</td>\n      <td>3.000000</td>\n      <td>3.000000</td>\n      <td>3.333333</td>\n      <td>4.666667</td>\n      <td>1.000000</td>\n      <td>-1.333333</td>\n      <td>0.000000</td>\n      <td>-1.333333</td>\n    </tr>\n  </tbody>\n</table>\n<p>11852 rows × 18 columns</p>\n</div>"
     },
     "metadata": {},
     "execution_count": 1129
    }
   ],
   "source": [
    "drop = []#['Unnamed: 0.1', 'Unnamed: 0', 'GameID']\n",
    "pred = ['VenueCode', 'OpponentCode', 'TeamELO', 'OpponentELO', 'ELODif', 'TotalGoalsRolling',\n",
    "       'TeamGoalsRolling', 'OpponentGoalsRolling', 'TeamShotsRolling',\n",
    "       'OpponentShotsRolling', 'TeamShotsonTargetRolling',\n",
    "       'OpponentShotsonTargetRolling', 'TeamCornersRolling',\n",
    "       'OpponentCornersRolling', 'GoalsRolling_Dif',\n",
    "       'ShotsRolling_Dif', 'ShotsonTargetRolling_Dif', 'CornersRolling_Dif'] \n",
    "'''\n",
    "#pred = ['VenueCode', 'OpponentCode', 'TeamELO', 'OpponentELO', 'ELODif', 'TotalGoalsRolling',\n",
    "       'TeamGoalsRolling', 'OpponentGoalsRolling', 'TeamShotsRolling',\n",
    "       'OpponentShotsRolling', 'TeamShotsonTargetRolling',\n",
    "       'OpponentShotsonTargetRolling', 'TeamCornersRolling',\n",
    "       'OpponentCornersRolling', 'GoalsRolling_Dif',\n",
    "        ] \n",
    "'''\n",
    "       \n",
    "  #     ['ShotsonTargetRolling_Dif', 'ShotsRolling_Dif', 'CornersRolling_Dif']\n",
    "X_train, y_train, X_test, y_test = split_data(new_df, drop, pred)\n",
    "X_train"
   ]
  },
  {
   "cell_type": "code",
   "execution_count": 1135,
   "metadata": {
    "tags": [
     "outputPrepend",
     "outputPrepend",
     "outputPrepend",
     "outputPrepend",
     "outputPrepend",
     "outputPrepend",
     "outputPrepend",
     "outputPrepend",
     "outputPrepend",
     "outputPrepend",
     "outputPrepend",
     "outputPrepend",
     "outputPrepend",
     "outputPrepend",
     "outputPrepend",
     "outputPrepend",
     "outputPrepend",
     "outputPrepend",
     "outputPrepend",
     "outputPrepend",
     "outputPrepend",
     "outputPrepend",
     "outputPrepend",
     "outputPrepend",
     "outputPrepend",
     "outputPrepend",
     "outputPrepend",
     "outputPrepend",
     "outputPrepend",
     "outputPrepend",
     "outputPrepend",
     "outputPrepend",
     "outputPrepend",
     "outputPrepend",
     "outputPrepend",
     "outputPrepend",
     "outputPrepend",
     "outputPrepend",
     "outputPrepend",
     "outputPrepend",
     "outputPrepend",
     "outputPrepend",
     "outputPrepend",
     "outputPrepend",
     "outputPrepend",
     "outputPrepend",
     "outputPrepend",
     "outputPrepend",
     "outputPrepend",
     "outputPrepend",
     "outputPrepend",
     "outputPrepend",
     "outputPrepend",
     "outputPrepend",
     "outputPrepend",
     "outputPrepend",
     "outputPrepend",
     "outputPrepend",
     "outputPrepend",
     "outputPrepend",
     "outputPrepend",
     "outputPrepend",
     "outputPrepend",
     "outputPrepend",
     "outputPrepend",
     "outputPrepend",
     "outputPrepend",
     "outputPrepend",
     "outputPrepend",
     "outputPrepend",
     "outputPrepend",
     "outputPrepend",
     "outputPrepend",
     "outputPrepend",
     "outputPrepend",
     "outputPrepend",
     "outputPrepend",
     "outputPrepend",
     "outputPrepend",
     "outputPrepend",
     "outputPrepend",
     "outputPrepend",
     "outputPrepend",
     "outputPrepend",
     "outputPrepend",
     "outputPrepend",
     "outputPrepend",
     "outputPrepend",
     "outputPrepend",
     "outputPrepend",
     "outputPrepend",
     "outputPrepend",
     "outputPrepend",
     "outputPrepend",
     "outputPrepend",
     "outputPrepend",
     "outputPrepend",
     "outputPrepend",
     "outputPrepend",
     "outputPrepend",
     "outputPrepend",
     "outputPrepend",
     "outputPrepend",
     "outputPrepend",
     "outputPrepend",
     "outputPrepend",
     "outputPrepend",
     "outputPrepend",
     "outputPrepend",
     "outputPrepend",
     "outputPrepend",
     "outputPrepend",
     "outputPrepend",
     "outputPrepend",
     "outputPrepend",
     "outputPrepend",
     "outputPrepend",
     "outputPrepend",
     "outputPrepend",
     "outputPrepend",
     "outputPrepend",
     "outputPrepend",
     "outputPrepend",
     "outputPrepend",
     "outputPrepend",
     "outputPrepend",
     "outputPrepend",
     "outputPrepend"
    ]
   },
   "outputs": [
    {
     "output_type": "stream",
     "name": "stdout",
     "text": "Thresh=0.1, n=18, Accuracy: 55.91810620601407\nThresh=0.1, n=18, Accuracy: 55.91810620601407\nThresh=0.1, n=18, Accuracy: 55.91810620601407\nThresh=0.1, n=18, Accuracy: 55.91810620601407\nThresh=0.1, n=18, Accuracy: 55.91810620601407\nThresh=0.1, n=18, Accuracy: 55.91810620601407\nThresh=0.1, n=18, Accuracy: 55.91810620601407\nThresh=0.1, n=18, Accuracy: 55.91810620601407\nThresh=0.1, n=18, Accuracy: 55.91810620601407\nThresh=0.1, n=18, Accuracy: 55.91810620601407\nThresh=0.15000000000000002, n=18, Accuracy: 55.91810620601407\nThresh=0.15000000000000002, n=18, Accuracy: 55.91810620601407\nThresh=0.15000000000000002, n=18, Accuracy: 55.91810620601407\nThresh=0.15000000000000002, n=18, Accuracy: 55.91810620601407\nThresh=0.15000000000000002, n=18, Accuracy: 55.91810620601407\nThresh=0.15000000000000002, n=18, Accuracy: 55.91810620601407\nThresh=0.15000000000000002, n=18, Accuracy: 55.91810620601407\nThresh=0.15000000000000002, n=18, Accuracy: 55.91810620601407\nThresh=0.15000000000000002, n=18, Accuracy: 55.91810620601407\nThresh=0.15000000000000002, n=18, Accuracy: 55.91810620601407\nThresh=0.20000000000000004, n=18, Accuracy: 55.91810620601407\nThresh=0.20000000000000004, n=18, Accuracy: 55.91810620601407\nThresh=0.20000000000000004, n=18, Accuracy: 55.91810620601407\nThresh=0.20000000000000004, n=18, Accuracy: 55.91810620601407\nThresh=0.20000000000000004, n=18, Accuracy: 55.91810620601407\nThresh=0.20000000000000004, n=18, Accuracy: 55.91810620601407\nThresh=0.20000000000000004, n=18, Accuracy: 55.91810620601407\nThresh=0.20000000000000004, n=18, Accuracy: 55.91810620601407\nThresh=0.20000000000000004, n=18, Accuracy: 55.91810620601407\nThresh=0.20000000000000004, n=18, Accuracy: 55.91810620601407\nThresh=0.25000000000000006, n=18, Accuracy: 55.91810620601407\nThresh=0.25000000000000006, n=18, Accuracy: 55.91810620601407\nThresh=0.25000000000000006, n=18, Accuracy: 55.91810620601407\nThresh=0.25000000000000006, n=18, Accuracy: 55.91810620601407\nThresh=0.25000000000000006, n=18, Accuracy: 55.91810620601407\nThresh=0.25000000000000006, n=18, Accuracy: 55.91810620601407\nThresh=0.25000000000000006, n=18, Accuracy: 55.91810620601407\nThresh=0.25000000000000006, n=18, Accuracy: 55.91810620601407\nThresh=0.25000000000000006, n=18, Accuracy: 55.91810620601407\nThresh=0.25000000000000006, n=18, Accuracy: 55.91810620601407\nThresh=0.30000000000000004, n=18, Accuracy: 55.91810620601407\nThresh=0.30000000000000004, n=18, Accuracy: 55.91810620601407\nThresh=0.30000000000000004, n=18, Accuracy: 55.91810620601407\nThresh=0.30000000000000004, n=18, Accuracy: 55.91810620601407\nThresh=0.30000000000000004, n=18, Accuracy: 55.91810620601407\nThresh=0.30000000000000004, n=18, Accuracy: 55.91810620601407\nThresh=0.30000000000000004, n=18, Accuracy: 55.91810620601407\nThresh=0.30000000000000004, n=18, Accuracy: 55.91810620601407\nThresh=0.30000000000000004, n=18, Accuracy: 55.91810620601407\nThresh=0.30000000000000004, n=18, Accuracy: 55.91810620601407\nThresh=0.3500000000000001, n=18, Accuracy: 55.91810620601407\nThresh=0.3500000000000001, n=18, Accuracy: 55.91810620601407\nThresh=0.3500000000000001, n=18, Accuracy: 55.91810620601407\nThresh=0.3500000000000001, n=18, Accuracy: 55.91810620601407\nThresh=0.3500000000000001, n=18, Accuracy: 55.91810620601407\nThresh=0.3500000000000001, n=18, Accuracy: 55.91810620601407\nThresh=0.3500000000000001, n=18, Accuracy: 55.91810620601407\nThresh=0.3500000000000001, n=18, Accuracy: 55.91810620601407\nThresh=0.3500000000000001, n=18, Accuracy: 55.91810620601407\nThresh=0.3500000000000001, n=18, Accuracy: 55.91810620601407\nThresh=0.40000000000000013, n=18, Accuracy: 55.91810620601407\nThresh=0.40000000000000013, n=18, Accuracy: 55.91810620601407\nThresh=0.40000000000000013, n=18, Accuracy: 55.91810620601407\nThresh=0.40000000000000013, n=18, Accuracy: 55.91810620601407\nThresh=0.40000000000000013, n=18, Accuracy: 55.91810620601407\nThresh=0.40000000000000013, n=18, Accuracy: 55.91810620601407\nThresh=0.40000000000000013, n=18, Accuracy: 55.91810620601407\nThresh=0.40000000000000013, n=18, Accuracy: 55.91810620601407\nThresh=0.40000000000000013, n=18, Accuracy: 55.91810620601407\nThresh=0.40000000000000013, n=18, Accuracy: 55.91810620601407\nThresh=0.45000000000000007, n=18, Accuracy: 55.91810620601407\nThresh=0.45000000000000007, n=18, Accuracy: 55.91810620601407\nThresh=0.45000000000000007, n=18, Accuracy: 55.91810620601407\nThresh=0.45000000000000007, n=18, Accuracy: 55.91810620601407\nThresh=0.45000000000000007, n=18, Accuracy: 55.91810620601407\nThresh=0.45000000000000007, n=18, Accuracy: 55.91810620601407\nThresh=0.45000000000000007, n=18, Accuracy: 55.91810620601407\nThresh=0.45000000000000007, n=18, Accuracy: 55.91810620601407\nThresh=0.45000000000000007, n=18, Accuracy: 55.91810620601407\nThresh=0.45000000000000007, n=18, Accuracy: 55.91810620601407\nThresh=0.5000000000000001, n=18, Accuracy: 55.91810620601407\nThresh=0.5000000000000001, n=18, Accuracy: 55.91810620601407\nThresh=0.5000000000000001, n=18, Accuracy: 55.91810620601407\nThresh=0.5000000000000001, n=18, Accuracy: 55.91810620601407\nThresh=0.5000000000000001, n=18, Accuracy: 55.91810620601407\nThresh=0.5000000000000001, n=18, Accuracy: 55.91810620601407\nThresh=0.5000000000000001, n=18, Accuracy: 55.91810620601407\nThresh=0.5000000000000001, n=18, Accuracy: 55.91810620601407\nThresh=0.5000000000000001, n=18, Accuracy: 55.91810620601407\nThresh=0.5000000000000001, n=18, Accuracy: 55.91810620601407\nThresh=0.5500000000000002, n=18, Accuracy: 55.91810620601407\nThresh=0.5500000000000002, n=18, Accuracy: 55.91810620601407\nThresh=0.5500000000000002, n=18, Accuracy: 55.91810620601407\nThresh=0.5500000000000002, n=18, Accuracy: 55.91810620601407\nThresh=0.5500000000000002, n=18, Accuracy: 55.91810620601407\nThresh=0.5500000000000002, n=18, Accuracy: 55.91810620601407\nThresh=0.5500000000000002, n=18, Accuracy: 55.91810620601407\nThresh=0.5500000000000002, n=18, Accuracy: 55.91810620601407\nThresh=0.5500000000000002, n=18, Accuracy: 55.91810620601407\nThresh=0.5500000000000002, n=18, Accuracy: 55.91810620601407\nThresh=0.6000000000000002, n=18, Accuracy: 55.91810620601407\nThresh=0.6000000000000002, n=18, Accuracy: 55.91810620601407\nThresh=0.6000000000000002, n=18, Accuracy: 55.91810620601407\nThresh=0.6000000000000002, n=18, Accuracy: 55.91810620601407\nThresh=0.6000000000000002, n=18, Accuracy: 55.91810620601407\nThresh=0.6000000000000002, n=18, Accuracy: 55.91810620601407\nThresh=0.6000000000000002, n=18, Accuracy: 55.91810620601407\nThresh=0.6000000000000002, n=18, Accuracy: 55.91810620601407\nThresh=0.6000000000000002, n=18, Accuracy: 55.91810620601407\nThresh=0.6000000000000002, n=18, Accuracy: 55.91810620601407\nThresh=0.6500000000000001, n=18, Accuracy: 55.91810620601407\nThresh=0.6500000000000001, n=18, Accuracy: 55.91810620601407\nThresh=0.6500000000000001, n=18, Accuracy: 55.91810620601407\nThresh=0.6500000000000001, n=18, Accuracy: 55.91810620601407\nThresh=0.6500000000000001, n=18, Accuracy: 55.91810620601407\nThresh=0.6500000000000001, n=18, Accuracy: 55.91810620601407\nThresh=0.6500000000000001, n=18, Accuracy: 55.91810620601407\nThresh=0.6500000000000001, n=18, Accuracy: 55.91810620601407\nThresh=0.6500000000000001, n=18, Accuracy: 55.91810620601407\nThresh=0.6500000000000001, n=18, Accuracy: 55.91810620601407\nThresh=0.7000000000000002, n=18, Accuracy: 55.91810620601407\nThresh=0.7000000000000002, n=18, Accuracy: 55.91810620601407\nThresh=0.7000000000000002, n=18, Accuracy: 55.91810620601407\nThresh=0.7000000000000002, n=18, Accuracy: 55.91810620601407\nThresh=0.7000000000000002, n=18, Accuracy: 55.91810620601407\nThresh=0.7000000000000002, n=18, Accuracy: 55.91810620601407\nThresh=0.7000000000000002, n=18, Accuracy: 55.91810620601407\nThresh=0.7000000000000002, n=18, Accuracy: 55.91810620601407\nThresh=0.7000000000000002, n=18, Accuracy: 55.91810620601407\nThresh=0.7000000000000002, n=18, Accuracy: 55.91810620601407\nThresh=0.7500000000000002, n=18, Accuracy: 55.91810620601407\nThresh=0.7500000000000002, n=18, Accuracy: 55.91810620601407\nThresh=0.7500000000000002, n=18, Accuracy: 55.91810620601407\nThresh=0.7500000000000002, n=18, Accuracy: 55.91810620601407\nThresh=0.7500000000000002, n=18, Accuracy: 55.91810620601407\nThresh=0.7500000000000002, n=18, Accuracy: 55.91810620601407\nThresh=0.7500000000000002, n=18, Accuracy: 55.91810620601407\nThresh=0.7500000000000002, n=18, Accuracy: 55.91810620601407\nThresh=0.7500000000000002, n=18, Accuracy: 55.91810620601407\nThresh=0.7500000000000002, n=18, Accuracy: 55.91810620601407\nThresh=0.8000000000000002, n=18, Accuracy: 55.91810620601407\nThresh=0.8000000000000002, n=18, Accuracy: 55.91810620601407\nThresh=0.8000000000000002, n=18, Accuracy: 55.91810620601407\nThresh=0.8000000000000002, n=18, Accuracy: 55.91810620601407\nThresh=0.8000000000000002, n=18, Accuracy: 55.91810620601407\nThresh=0.8000000000000002, n=18, Accuracy: 55.91810620601407\nThresh=0.8000000000000002, n=18, Accuracy: 55.91810620601407\nThresh=0.8000000000000002, n=18, Accuracy: 55.91810620601407\nThresh=0.8000000000000002, n=18, Accuracy: 55.91810620601407\nThresh=0.8000000000000002, n=18, Accuracy: 55.91810620601407\nThresh=0.8500000000000002, n=17, Accuracy: 56.01407549584133\nThresh=0.8500000000000002, n=17, Accuracy: 56.01407549584133\nThresh=0.8500000000000002, n=17, Accuracy: 56.01407549584133\nThresh=0.8500000000000002, n=17, Accuracy: 56.01407549584133\nThresh=0.8500000000000002, n=17, Accuracy: 56.01407549584133\nThresh=0.8500000000000002, n=17, Accuracy: 56.01407549584133\nThresh=0.8500000000000002, n=17, Accuracy: 56.01407549584133\nThresh=0.8500000000000002, n=17, Accuracy: 56.01407549584133\nThresh=0.8500000000000002, n=17, Accuracy: 56.01407549584133\nThresh=0.8500000000000002, n=17, Accuracy: 56.01407549584133\nThresh=0.9000000000000002, n=16, Accuracy: 56.23800383877159\nThresh=0.9000000000000002, n=16, Accuracy: 56.23800383877159\nThresh=0.9000000000000002, n=16, Accuracy: 56.23800383877159\nThresh=0.9000000000000002, n=16, Accuracy: 56.23800383877159\nThresh=0.9000000000000002, n=16, Accuracy: 56.23800383877159\nThresh=0.9000000000000002, n=16, Accuracy: 56.23800383877159\nThresh=0.9000000000000002, n=16, Accuracy: 56.23800383877159\nThresh=0.9000000000000002, n=16, Accuracy: 56.23800383877159\nThresh=0.9000000000000002, n=16, Accuracy: 56.23800383877159\nThresh=0.9000000000000002, n=16, Accuracy: 56.23800383877159\nThresh=0.9500000000000003, n=13, Accuracy: 56.046065259117086\nThresh=0.9500000000000003, n=13, Accuracy: 56.046065259117086\nThresh=0.9500000000000003, n=13, Accuracy: 56.046065259117086\nThresh=0.9500000000000003, n=13, Accuracy: 56.046065259117086\nThresh=0.9500000000000003, n=13, Accuracy: 56.046065259117086\nThresh=0.9500000000000003, n=13, Accuracy: 56.046065259117086\nThresh=0.9500000000000003, n=13, Accuracy: 56.046065259117086\nThresh=0.9500000000000003, n=13, Accuracy: 56.046065259117086\nThresh=0.9500000000000003, n=13, Accuracy: 56.046065259117086\nThresh=0.9500000000000003, n=13, Accuracy: 56.046065259117086\nThresh=1.0000000000000004, n=9, Accuracy: 56.046065259117086\nThresh=1.0000000000000004, n=9, Accuracy: 56.046065259117086\nThresh=1.0000000000000004, n=9, Accuracy: 56.046065259117086\nThresh=1.0000000000000004, n=9, Accuracy: 56.046065259117086\nThresh=1.0000000000000004, n=9, Accuracy: 56.046065259117086\nThresh=1.0000000000000004, n=9, Accuracy: 56.046065259117086\nThresh=1.0000000000000004, n=9, Accuracy: 56.046065259117086\nThresh=1.0000000000000004, n=9, Accuracy: 56.046065259117086\nThresh=1.0000000000000004, n=9, Accuracy: 56.046065259117086\nThresh=1.0000000000000004, n=9, Accuracy: 56.046065259117086\nThresh=1.0500000000000003, n=6, Accuracy: 55.85412667946257\nThresh=1.0500000000000003, n=6, Accuracy: 55.85412667946257\nThresh=1.0500000000000003, n=6, Accuracy: 55.85412667946257\nThresh=1.0500000000000003, n=6, Accuracy: 55.85412667946257\nThresh=1.0500000000000003, n=6, Accuracy: 55.85412667946257\nThresh=1.0500000000000003, n=6, Accuracy: 55.85412667946257\nThresh=1.0500000000000003, n=6, Accuracy: 55.85412667946257\nThresh=1.0500000000000003, n=6, Accuracy: 55.85412667946257\nThresh=1.0500000000000003, n=6, Accuracy: 55.85412667946257\nThresh=1.0500000000000003, n=6, Accuracy: 55.85412667946257\nThresh=1.1000000000000005, n=6, Accuracy: 55.85412667946257\nThresh=1.1000000000000005, n=6, Accuracy: 55.85412667946257\nThresh=1.1000000000000005, n=6, Accuracy: 55.85412667946257\nThresh=1.1000000000000005, n=6, Accuracy: 55.85412667946257\nThresh=1.1000000000000005, n=6, Accuracy: 55.85412667946257\nThresh=1.1000000000000005, n=6, Accuracy: 55.85412667946257\nThresh=1.1000000000000005, n=6, Accuracy: 55.85412667946257\nThresh=1.1000000000000005, n=6, Accuracy: 55.85412667946257\nThresh=1.1000000000000005, n=6, Accuracy: 55.85412667946257\nThresh=1.1000000000000005, n=6, Accuracy: 55.85412667946257\nThresh=1.1500000000000004, n=3, Accuracy: 54.22264875239923\nThresh=1.1500000000000004, n=3, Accuracy: 54.22264875239923\nThresh=1.1500000000000004, n=3, Accuracy: 54.22264875239923\nThresh=1.1500000000000004, n=3, Accuracy: 54.22264875239923\nThresh=1.1500000000000004, n=3, Accuracy: 54.22264875239923\nThresh=1.1500000000000004, n=3, Accuracy: 54.22264875239923\nThresh=1.1500000000000004, n=3, Accuracy: 54.22264875239923\nThresh=1.1500000000000004, n=3, Accuracy: 54.22264875239923\nThresh=1.1500000000000004, n=3, Accuracy: 54.22264875239923\nThresh=1.1500000000000004, n=3, Accuracy: 54.22264875239923\nThresh=1.2000000000000004, n=3, Accuracy: 54.22264875239923\nThresh=1.2000000000000004, n=3, Accuracy: 54.22264875239923\nThresh=1.2000000000000004, n=3, Accuracy: 54.22264875239923\nThresh=1.2000000000000004, n=3, Accuracy: 54.22264875239923\nThresh=1.2000000000000004, n=3, Accuracy: 54.22264875239923\nThresh=1.2000000000000004, n=3, Accuracy: 54.22264875239923\nThresh=1.2000000000000004, n=3, Accuracy: 54.22264875239923\nThresh=1.2000000000000004, n=3, Accuracy: 54.22264875239923\nThresh=1.2000000000000004, n=3, Accuracy: 54.22264875239923\nThresh=1.2000000000000004, n=3, Accuracy: 54.22264875239923\nThresh=1.2500000000000004, n=2, Accuracy: 54.41458733205374\nThresh=1.2500000000000004, n=2, Accuracy: 54.41458733205374\nThresh=1.2500000000000004, n=2, Accuracy: 54.41458733205374\nThresh=1.2500000000000004, n=2, Accuracy: 54.41458733205374\nThresh=1.2500000000000004, n=2, Accuracy: 54.41458733205374\nThresh=1.2500000000000004, n=2, Accuracy: 54.41458733205374\nThresh=1.2500000000000004, n=2, Accuracy: 54.41458733205374\nThresh=1.2500000000000004, n=2, Accuracy: 54.41458733205374\nThresh=1.2500000000000004, n=2, Accuracy: 54.41458733205374\nThresh=1.2500000000000004, n=2, Accuracy: 54.41458733205374\nThresh=1.3000000000000005, n=1, Accuracy: 53.23096609085093\nThresh=1.3000000000000005, n=1, Accuracy: 53.23096609085093\nThresh=1.3000000000000005, n=1, Accuracy: 53.23096609085093\nThresh=1.3000000000000005, n=1, Accuracy: 53.23096609085093\nThresh=1.3000000000000005, n=1, Accuracy: 53.23096609085093\nThresh=1.3000000000000005, n=1, Accuracy: 53.23096609085093\nThresh=1.3000000000000005, n=1, Accuracy: 53.23096609085093\nThresh=1.3000000000000005, n=1, Accuracy: 53.23096609085093\nThresh=1.3000000000000005, n=1, Accuracy: 53.23096609085093\nThresh=1.3000000000000005, n=1, Accuracy: 53.23096609085093\nThresh=1.3500000000000005, n=1, Accuracy: 53.23096609085093\nThresh=1.3500000000000005, n=1, Accuracy: 53.23096609085093\nThresh=1.3500000000000005, n=1, Accuracy: 53.23096609085093\nThresh=1.3500000000000005, n=1, Accuracy: 53.23096609085093\nThresh=1.3500000000000005, n=1, Accuracy: 53.23096609085093\nThresh=1.3500000000000005, n=1, Accuracy: 53.23096609085093\nThresh=1.3500000000000005, n=1, Accuracy: 53.23096609085093\nThresh=1.3500000000000005, n=1, Accuracy: 53.23096609085093\nThresh=1.3500000000000005, n=1, Accuracy: 53.23096609085093\nThresh=1.3500000000000005, n=1, Accuracy: 53.23096609085093\n"
    },
    {
     "output_type": "error",
     "ename": "XGBoostError",
     "evalue": "[17:36:35] /Users/runner/work/xgboost/xgboost/src/data/iterative_dmatrix.cc:202: Check failed: n_features >= 1 (0 vs. 1) : Data must has at least 1 column.\nStack trace:\n  [bt] (0) 1   libxgboost.dylib                    0x00000001b1ef4ab5 dmlc::LogMessageFatal::~LogMessageFatal() + 117\n  [bt] (1) 2   libxgboost.dylib                    0x00000001b20074ff xgboost::data::IterativeDMatrix::InitFromCPU(xgboost::Context const*, xgboost::BatchParam const&, void*, float, std::__1::shared_ptr<xgboost::DMatrix>) + 8431\n  [bt] (2) 3   libxgboost.dylib                    0x00000001b2004d0c xgboost::data::IterativeDMatrix::IterativeDMatrix(void*, void*, std::__1::shared_ptr<xgboost::DMatrix>, void (*)(void*), int (*)(void*), float, int, int) + 1356\n  [bt] (3) 4   libxgboost.dylib                    0x00000001b1fb9579 xgboost::DMatrix* xgboost::DMatrix::Create<void*, void*, void (void*), int (void*)>(void*, void*, std::__1::shared_ptr<xgboost::DMatrix>, void (*)(void*), int (*)(void*), float, int, int) + 121\n  [bt] (4) 5   libxgboost.dylib                    0x00000001b1effbae XGQuantileDMatrixCreateFromCallback + 590\n  [bt] (5) 6   libffi.8.dylib                      0x000000010ab1bd92 ffi_call_unix64 + 82\n\n",
     "traceback": [
      "\u001b[0;31m---------------------------------------------------------------------------\u001b[0m",
      "\u001b[0;31mXGBoostError\u001b[0m                              Traceback (most recent call last)",
      "Cell \u001b[0;32mIn[1135], line 47\u001b[0m\n\u001b[1;32m     44\u001b[0m    \u001b[38;5;28;01mfor\u001b[39;00m x \u001b[38;5;129;01min\u001b[39;00m avgs:\n\u001b[1;32m     45\u001b[0m        \u001b[38;5;28mprint\u001b[39m(x)\n\u001b[0;32m---> 47\u001b[0m \u001b[43mthreshold_selector\u001b[49m\u001b[43m(\u001b[49m\u001b[43mclf\u001b[49m\u001b[43m,\u001b[49m\u001b[43m \u001b[49m\u001b[43mX_train\u001b[49m\u001b[43m,\u001b[49m\u001b[43m \u001b[49m\u001b[43my_train\u001b[49m\u001b[43m,\u001b[49m\u001b[43m \u001b[49m\u001b[43mX_test\u001b[49m\u001b[43m,\u001b[49m\u001b[43m \u001b[49m\u001b[43my_test\u001b[49m\u001b[43m)\u001b[49m\n",
      "Cell \u001b[0;32mIn[1135], line 33\u001b[0m, in \u001b[0;36mthreshold_selector\u001b[0;34m(clf, X_train, y_train, X_test, y_test)\u001b[0m\n\u001b[1;32m     16\u001b[0m model \u001b[38;5;241m=\u001b[39m xgb\u001b[38;5;241m.\u001b[39mXGBClassifier(verbosity\u001b[38;5;241m=\u001b[39m\u001b[38;5;241m0\u001b[39m,\n\u001b[1;32m     17\u001b[0m                      reg_lambda\u001b[38;5;241m=\u001b[39m\u001b[38;5;241m0.023385762997113632\u001b[39m,\n\u001b[1;32m     18\u001b[0m                      reg_alpha\u001b[38;5;241m=\u001b[39m\u001b[38;5;241m0.003694895205081855\u001b[39m,\n\u001b[0;32m   (...)\u001b[0m\n\u001b[1;32m     30\u001b[0m                      eta\u001b[38;5;241m=\u001b[39m\u001b[38;5;241m0.1134711359195081\u001b[39m,\n\u001b[1;32m     31\u001b[0m                      seed\u001b[38;5;241m=\u001b[39m\u001b[38;5;241m1\u001b[39m)\n\u001b[1;32m     32\u001b[0m count \u001b[38;5;241m+\u001b[39m\u001b[38;5;241m=\u001b[39m\u001b[38;5;241m1\u001b[39m\n\u001b[0;32m---> 33\u001b[0m \u001b[43mmodel\u001b[49m\u001b[38;5;241;43m.\u001b[39;49m\u001b[43mfit\u001b[49m\u001b[43m(\u001b[49m\u001b[43mselect_X_train\u001b[49m\u001b[43m,\u001b[49m\u001b[43m \u001b[49m\u001b[43my_train\u001b[49m\u001b[38;5;241;43m.\u001b[39;49m\u001b[43mvalues\u001b[49m\u001b[38;5;241;43m.\u001b[39;49m\u001b[43mravel\u001b[49m\u001b[43m(\u001b[49m\u001b[43m)\u001b[49m\u001b[43m)\u001b[49m\n\u001b[1;32m     34\u001b[0m select_X_test \u001b[38;5;241m=\u001b[39m selection\u001b[38;5;241m.\u001b[39mtransform(X_test)\n\u001b[1;32m     35\u001b[0m ypred \u001b[38;5;241m=\u001b[39m model\u001b[38;5;241m.\u001b[39mpredict(select_X_test)\n",
      "File \u001b[0;32m~/miniconda3/envs/dl_hw0/lib/python3.8/site-packages/xgboost/core.py:729\u001b[0m, in \u001b[0;36mrequire_keyword_args.<locals>.throw_if.<locals>.inner_f\u001b[0;34m(*args, **kwargs)\u001b[0m\n\u001b[1;32m    727\u001b[0m \u001b[38;5;28;01mfor\u001b[39;00m k, arg \u001b[38;5;129;01min\u001b[39;00m \u001b[38;5;28mzip\u001b[39m(sig\u001b[38;5;241m.\u001b[39mparameters, args):\n\u001b[1;32m    728\u001b[0m     kwargs[k] \u001b[38;5;241m=\u001b[39m arg\n\u001b[0;32m--> 729\u001b[0m \u001b[38;5;28;01mreturn\u001b[39;00m \u001b[43mfunc\u001b[49m\u001b[43m(\u001b[49m\u001b[38;5;241;43m*\u001b[39;49m\u001b[38;5;241;43m*\u001b[39;49m\u001b[43mkwargs\u001b[49m\u001b[43m)\u001b[49m\n",
      "File \u001b[0;32m~/miniconda3/envs/dl_hw0/lib/python3.8/site-packages/xgboost/sklearn.py:1496\u001b[0m, in \u001b[0;36mXGBClassifier.fit\u001b[0;34m(self, X, y, sample_weight, base_margin, eval_set, eval_metric, early_stopping_rounds, verbose, xgb_model, sample_weight_eval_set, base_margin_eval_set, feature_weights, callbacks)\u001b[0m\n\u001b[1;32m   1485\u001b[0m     params[\u001b[38;5;124m\"\u001b[39m\u001b[38;5;124mnum_class\u001b[39m\u001b[38;5;124m\"\u001b[39m] \u001b[38;5;241m=\u001b[39m \u001b[38;5;28mself\u001b[39m\u001b[38;5;241m.\u001b[39mn_classes_\n\u001b[1;32m   1487\u001b[0m (\n\u001b[1;32m   1488\u001b[0m     model,\n\u001b[1;32m   1489\u001b[0m     metric,\n\u001b[0;32m   (...)\u001b[0m\n\u001b[1;32m   1494\u001b[0m     xgb_model, eval_metric, params, early_stopping_rounds, callbacks\n\u001b[1;32m   1495\u001b[0m )\n\u001b[0;32m-> 1496\u001b[0m train_dmatrix, evals \u001b[38;5;241m=\u001b[39m \u001b[43m_wrap_evaluation_matrices\u001b[49m\u001b[43m(\u001b[49m\n\u001b[1;32m   1497\u001b[0m \u001b[43m    \u001b[49m\u001b[43mmissing\u001b[49m\u001b[38;5;241;43m=\u001b[39;49m\u001b[38;5;28;43mself\u001b[39;49m\u001b[38;5;241;43m.\u001b[39;49m\u001b[43mmissing\u001b[49m\u001b[43m,\u001b[49m\n\u001b[1;32m   1498\u001b[0m \u001b[43m    \u001b[49m\u001b[43mX\u001b[49m\u001b[38;5;241;43m=\u001b[39;49m\u001b[43mX\u001b[49m\u001b[43m,\u001b[49m\n\u001b[1;32m   1499\u001b[0m \u001b[43m    \u001b[49m\u001b[43my\u001b[49m\u001b[38;5;241;43m=\u001b[39;49m\u001b[43my\u001b[49m\u001b[43m,\u001b[49m\n\u001b[1;32m   1500\u001b[0m \u001b[43m    \u001b[49m\u001b[43mgroup\u001b[49m\u001b[38;5;241;43m=\u001b[39;49m\u001b[38;5;28;43;01mNone\u001b[39;49;00m\u001b[43m,\u001b[49m\n\u001b[1;32m   1501\u001b[0m \u001b[43m    \u001b[49m\u001b[43mqid\u001b[49m\u001b[38;5;241;43m=\u001b[39;49m\u001b[38;5;28;43;01mNone\u001b[39;49;00m\u001b[43m,\u001b[49m\n\u001b[1;32m   1502\u001b[0m \u001b[43m    \u001b[49m\u001b[43msample_weight\u001b[49m\u001b[38;5;241;43m=\u001b[39;49m\u001b[43msample_weight\u001b[49m\u001b[43m,\u001b[49m\n\u001b[1;32m   1503\u001b[0m \u001b[43m    \u001b[49m\u001b[43mbase_margin\u001b[49m\u001b[38;5;241;43m=\u001b[39;49m\u001b[43mbase_margin\u001b[49m\u001b[43m,\u001b[49m\n\u001b[1;32m   1504\u001b[0m \u001b[43m    \u001b[49m\u001b[43mfeature_weights\u001b[49m\u001b[38;5;241;43m=\u001b[39;49m\u001b[43mfeature_weights\u001b[49m\u001b[43m,\u001b[49m\n\u001b[1;32m   1505\u001b[0m \u001b[43m    \u001b[49m\u001b[43meval_set\u001b[49m\u001b[38;5;241;43m=\u001b[39;49m\u001b[43meval_set\u001b[49m\u001b[43m,\u001b[49m\n\u001b[1;32m   1506\u001b[0m \u001b[43m    \u001b[49m\u001b[43msample_weight_eval_set\u001b[49m\u001b[38;5;241;43m=\u001b[39;49m\u001b[43msample_weight_eval_set\u001b[49m\u001b[43m,\u001b[49m\n\u001b[1;32m   1507\u001b[0m \u001b[43m    \u001b[49m\u001b[43mbase_margin_eval_set\u001b[49m\u001b[38;5;241;43m=\u001b[39;49m\u001b[43mbase_margin_eval_set\u001b[49m\u001b[43m,\u001b[49m\n\u001b[1;32m   1508\u001b[0m \u001b[43m    \u001b[49m\u001b[43meval_group\u001b[49m\u001b[38;5;241;43m=\u001b[39;49m\u001b[38;5;28;43;01mNone\u001b[39;49;00m\u001b[43m,\u001b[49m\n\u001b[1;32m   1509\u001b[0m \u001b[43m    \u001b[49m\u001b[43meval_qid\u001b[49m\u001b[38;5;241;43m=\u001b[39;49m\u001b[38;5;28;43;01mNone\u001b[39;49;00m\u001b[43m,\u001b[49m\n\u001b[1;32m   1510\u001b[0m \u001b[43m    \u001b[49m\u001b[43mcreate_dmatrix\u001b[49m\u001b[38;5;241;43m=\u001b[39;49m\u001b[38;5;28;43mself\u001b[39;49m\u001b[38;5;241;43m.\u001b[39;49m\u001b[43m_create_dmatrix\u001b[49m\u001b[43m,\u001b[49m\n\u001b[1;32m   1511\u001b[0m \u001b[43m    \u001b[49m\u001b[43menable_categorical\u001b[49m\u001b[38;5;241;43m=\u001b[39;49m\u001b[38;5;28;43mself\u001b[39;49m\u001b[38;5;241;43m.\u001b[39;49m\u001b[43menable_categorical\u001b[49m\u001b[43m,\u001b[49m\n\u001b[1;32m   1512\u001b[0m \u001b[43m    \u001b[49m\u001b[43mfeature_types\u001b[49m\u001b[38;5;241;43m=\u001b[39;49m\u001b[38;5;28;43mself\u001b[39;49m\u001b[38;5;241;43m.\u001b[39;49m\u001b[43mfeature_types\u001b[49m\u001b[43m,\u001b[49m\n\u001b[1;32m   1513\u001b[0m \u001b[43m\u001b[49m\u001b[43m)\u001b[49m\n\u001b[1;32m   1515\u001b[0m \u001b[38;5;28mself\u001b[39m\u001b[38;5;241m.\u001b[39m_Booster \u001b[38;5;241m=\u001b[39m train(\n\u001b[1;32m   1516\u001b[0m     params,\n\u001b[1;32m   1517\u001b[0m     train_dmatrix,\n\u001b[0;32m   (...)\u001b[0m\n\u001b[1;32m   1526\u001b[0m     callbacks\u001b[38;5;241m=\u001b[39mcallbacks,\n\u001b[1;32m   1527\u001b[0m )\n\u001b[1;32m   1529\u001b[0m \u001b[38;5;28;01mif\u001b[39;00m \u001b[38;5;129;01mnot\u001b[39;00m callable(\u001b[38;5;28mself\u001b[39m\u001b[38;5;241m.\u001b[39mobjective):\n",
      "File \u001b[0;32m~/miniconda3/envs/dl_hw0/lib/python3.8/site-packages/xgboost/sklearn.py:534\u001b[0m, in \u001b[0;36m_wrap_evaluation_matrices\u001b[0;34m(missing, X, y, group, qid, sample_weight, base_margin, feature_weights, eval_set, sample_weight_eval_set, base_margin_eval_set, eval_group, eval_qid, create_dmatrix, enable_categorical, feature_types)\u001b[0m\n\u001b[1;32m    514\u001b[0m \u001b[38;5;28;01mdef\u001b[39;00m \u001b[38;5;21m_wrap_evaluation_matrices\u001b[39m(\n\u001b[1;32m    515\u001b[0m     missing: \u001b[38;5;28mfloat\u001b[39m,\n\u001b[1;32m    516\u001b[0m     X: Any,\n\u001b[0;32m   (...)\u001b[0m\n\u001b[1;32m    530\u001b[0m     feature_types: Optional[FeatureTypes],\n\u001b[1;32m    531\u001b[0m ) \u001b[38;5;241m-\u001b[39m\u001b[38;5;241m>\u001b[39m Tuple[Any, List[Tuple[Any, \u001b[38;5;28mstr\u001b[39m]]]:\n\u001b[1;32m    532\u001b[0m \u001b[38;5;250m    \u001b[39m\u001b[38;5;124;03m\"\"\"Convert array_like evaluation matrices into DMatrix.  Perform validation on the\u001b[39;00m\n\u001b[1;32m    533\u001b[0m \u001b[38;5;124;03m    way.\"\"\"\u001b[39;00m\n\u001b[0;32m--> 534\u001b[0m     train_dmatrix \u001b[38;5;241m=\u001b[39m \u001b[43mcreate_dmatrix\u001b[49m\u001b[43m(\u001b[49m\n\u001b[1;32m    535\u001b[0m \u001b[43m        \u001b[49m\u001b[43mdata\u001b[49m\u001b[38;5;241;43m=\u001b[39;49m\u001b[43mX\u001b[49m\u001b[43m,\u001b[49m\n\u001b[1;32m    536\u001b[0m \u001b[43m        \u001b[49m\u001b[43mlabel\u001b[49m\u001b[38;5;241;43m=\u001b[39;49m\u001b[43my\u001b[49m\u001b[43m,\u001b[49m\n\u001b[1;32m    537\u001b[0m \u001b[43m        \u001b[49m\u001b[43mgroup\u001b[49m\u001b[38;5;241;43m=\u001b[39;49m\u001b[43mgroup\u001b[49m\u001b[43m,\u001b[49m\n\u001b[1;32m    538\u001b[0m \u001b[43m        \u001b[49m\u001b[43mqid\u001b[49m\u001b[38;5;241;43m=\u001b[39;49m\u001b[43mqid\u001b[49m\u001b[43m,\u001b[49m\n\u001b[1;32m    539\u001b[0m \u001b[43m        \u001b[49m\u001b[43mweight\u001b[49m\u001b[38;5;241;43m=\u001b[39;49m\u001b[43msample_weight\u001b[49m\u001b[43m,\u001b[49m\n\u001b[1;32m    540\u001b[0m \u001b[43m        \u001b[49m\u001b[43mbase_margin\u001b[49m\u001b[38;5;241;43m=\u001b[39;49m\u001b[43mbase_margin\u001b[49m\u001b[43m,\u001b[49m\n\u001b[1;32m    541\u001b[0m \u001b[43m        \u001b[49m\u001b[43mfeature_weights\u001b[49m\u001b[38;5;241;43m=\u001b[39;49m\u001b[43mfeature_weights\u001b[49m\u001b[43m,\u001b[49m\n\u001b[1;32m    542\u001b[0m \u001b[43m        \u001b[49m\u001b[43mmissing\u001b[49m\u001b[38;5;241;43m=\u001b[39;49m\u001b[43mmissing\u001b[49m\u001b[43m,\u001b[49m\n\u001b[1;32m    543\u001b[0m \u001b[43m        \u001b[49m\u001b[43menable_categorical\u001b[49m\u001b[38;5;241;43m=\u001b[39;49m\u001b[43menable_categorical\u001b[49m\u001b[43m,\u001b[49m\n\u001b[1;32m    544\u001b[0m \u001b[43m        \u001b[49m\u001b[43mfeature_types\u001b[49m\u001b[38;5;241;43m=\u001b[39;49m\u001b[43mfeature_types\u001b[49m\u001b[43m,\u001b[49m\n\u001b[1;32m    545\u001b[0m \u001b[43m        \u001b[49m\u001b[43mref\u001b[49m\u001b[38;5;241;43m=\u001b[39;49m\u001b[38;5;28;43;01mNone\u001b[39;49;00m\u001b[43m,\u001b[49m\n\u001b[1;32m    546\u001b[0m \u001b[43m    \u001b[49m\u001b[43m)\u001b[49m\n\u001b[1;32m    548\u001b[0m     n_validation \u001b[38;5;241m=\u001b[39m \u001b[38;5;241m0\u001b[39m \u001b[38;5;28;01mif\u001b[39;00m eval_set \u001b[38;5;129;01mis\u001b[39;00m \u001b[38;5;28;01mNone\u001b[39;00m \u001b[38;5;28;01melse\u001b[39;00m \u001b[38;5;28mlen\u001b[39m(eval_set)\n\u001b[1;32m    550\u001b[0m     \u001b[38;5;28;01mdef\u001b[39;00m \u001b[38;5;21mvalidate_or_none\u001b[39m(meta: Optional[Sequence], name: \u001b[38;5;28mstr\u001b[39m) \u001b[38;5;241m-\u001b[39m\u001b[38;5;241m>\u001b[39m Sequence:\n",
      "File \u001b[0;32m~/miniconda3/envs/dl_hw0/lib/python3.8/site-packages/xgboost/sklearn.py:954\u001b[0m, in \u001b[0;36mXGBModel._create_dmatrix\u001b[0;34m(self, ref, **kwargs)\u001b[0m\n\u001b[1;32m    952\u001b[0m \u001b[38;5;28;01mif\u001b[39;00m _can_use_qdm(\u001b[38;5;28mself\u001b[39m\u001b[38;5;241m.\u001b[39mtree_method) \u001b[38;5;129;01mand\u001b[39;00m \u001b[38;5;28mself\u001b[39m\u001b[38;5;241m.\u001b[39mbooster \u001b[38;5;241m!=\u001b[39m \u001b[38;5;124m\"\u001b[39m\u001b[38;5;124mgblinear\u001b[39m\u001b[38;5;124m\"\u001b[39m:\n\u001b[1;32m    953\u001b[0m     \u001b[38;5;28;01mtry\u001b[39;00m:\n\u001b[0;32m--> 954\u001b[0m         \u001b[38;5;28;01mreturn\u001b[39;00m \u001b[43mQuantileDMatrix\u001b[49m\u001b[43m(\u001b[49m\n\u001b[1;32m    955\u001b[0m \u001b[43m            \u001b[49m\u001b[38;5;241;43m*\u001b[39;49m\u001b[38;5;241;43m*\u001b[39;49m\u001b[43mkwargs\u001b[49m\u001b[43m,\u001b[49m\u001b[43m \u001b[49m\u001b[43mref\u001b[49m\u001b[38;5;241;43m=\u001b[39;49m\u001b[43mref\u001b[49m\u001b[43m,\u001b[49m\u001b[43m \u001b[49m\u001b[43mnthread\u001b[49m\u001b[38;5;241;43m=\u001b[39;49m\u001b[38;5;28;43mself\u001b[39;49m\u001b[38;5;241;43m.\u001b[39;49m\u001b[43mn_jobs\u001b[49m\u001b[43m,\u001b[49m\u001b[43m \u001b[49m\u001b[43mmax_bin\u001b[49m\u001b[38;5;241;43m=\u001b[39;49m\u001b[38;5;28;43mself\u001b[39;49m\u001b[38;5;241;43m.\u001b[39;49m\u001b[43mmax_bin\u001b[49m\n\u001b[1;32m    956\u001b[0m \u001b[43m        \u001b[49m\u001b[43m)\u001b[49m\n\u001b[1;32m    957\u001b[0m     \u001b[38;5;28;01mexcept\u001b[39;00m \u001b[38;5;167;01mTypeError\u001b[39;00m:  \u001b[38;5;66;03m# `QuantileDMatrix` supports lesser types than DMatrix\u001b[39;00m\n\u001b[1;32m    958\u001b[0m         \u001b[38;5;28;01mpass\u001b[39;00m\n",
      "File \u001b[0;32m~/miniconda3/envs/dl_hw0/lib/python3.8/site-packages/xgboost/core.py:729\u001b[0m, in \u001b[0;36mrequire_keyword_args.<locals>.throw_if.<locals>.inner_f\u001b[0;34m(*args, **kwargs)\u001b[0m\n\u001b[1;32m    727\u001b[0m \u001b[38;5;28;01mfor\u001b[39;00m k, arg \u001b[38;5;129;01min\u001b[39;00m \u001b[38;5;28mzip\u001b[39m(sig\u001b[38;5;241m.\u001b[39mparameters, args):\n\u001b[1;32m    728\u001b[0m     kwargs[k] \u001b[38;5;241m=\u001b[39m arg\n\u001b[0;32m--> 729\u001b[0m \u001b[38;5;28;01mreturn\u001b[39;00m \u001b[43mfunc\u001b[49m\u001b[43m(\u001b[49m\u001b[38;5;241;43m*\u001b[39;49m\u001b[38;5;241;43m*\u001b[39;49m\u001b[43mkwargs\u001b[49m\u001b[43m)\u001b[49m\n",
      "File \u001b[0;32m~/miniconda3/envs/dl_hw0/lib/python3.8/site-packages/xgboost/core.py:1528\u001b[0m, in \u001b[0;36mQuantileDMatrix.__init__\u001b[0;34m(self, data, label, weight, base_margin, missing, silent, feature_names, feature_types, nthread, max_bin, ref, group, qid, label_lower_bound, label_upper_bound, feature_weights, enable_categorical, data_split_mode)\u001b[0m\n\u001b[1;32m   1508\u001b[0m     \u001b[38;5;28;01mif\u001b[39;00m \u001b[38;5;28many\u001b[39m(\n\u001b[1;32m   1509\u001b[0m         info \u001b[38;5;129;01mis\u001b[39;00m \u001b[38;5;129;01mnot\u001b[39;00m \u001b[38;5;28;01mNone\u001b[39;00m\n\u001b[1;32m   1510\u001b[0m         \u001b[38;5;28;01mfor\u001b[39;00m info \u001b[38;5;129;01min\u001b[39;00m (\n\u001b[0;32m   (...)\u001b[0m\n\u001b[1;32m   1521\u001b[0m         )\n\u001b[1;32m   1522\u001b[0m     ):\n\u001b[1;32m   1523\u001b[0m         \u001b[38;5;28;01mraise\u001b[39;00m \u001b[38;5;167;01mValueError\u001b[39;00m(\n\u001b[1;32m   1524\u001b[0m             \u001b[38;5;124m\"\u001b[39m\u001b[38;5;124mIf data iterator is used as input, data like label should be \u001b[39m\u001b[38;5;124m\"\u001b[39m\n\u001b[1;32m   1525\u001b[0m             \u001b[38;5;124m\"\u001b[39m\u001b[38;5;124mspecified as batch argument.\u001b[39m\u001b[38;5;124m\"\u001b[39m\n\u001b[1;32m   1526\u001b[0m         )\n\u001b[0;32m-> 1528\u001b[0m \u001b[38;5;28;43mself\u001b[39;49m\u001b[38;5;241;43m.\u001b[39;49m\u001b[43m_init\u001b[49m\u001b[43m(\u001b[49m\n\u001b[1;32m   1529\u001b[0m \u001b[43m    \u001b[49m\u001b[43mdata\u001b[49m\u001b[43m,\u001b[49m\n\u001b[1;32m   1530\u001b[0m \u001b[43m    \u001b[49m\u001b[43mref\u001b[49m\u001b[38;5;241;43m=\u001b[39;49m\u001b[43mref\u001b[49m\u001b[43m,\u001b[49m\n\u001b[1;32m   1531\u001b[0m \u001b[43m    \u001b[49m\u001b[43mlabel\u001b[49m\u001b[38;5;241;43m=\u001b[39;49m\u001b[43mlabel\u001b[49m\u001b[43m,\u001b[49m\n\u001b[1;32m   1532\u001b[0m \u001b[43m    \u001b[49m\u001b[43mweight\u001b[49m\u001b[38;5;241;43m=\u001b[39;49m\u001b[43mweight\u001b[49m\u001b[43m,\u001b[49m\n\u001b[1;32m   1533\u001b[0m \u001b[43m    \u001b[49m\u001b[43mbase_margin\u001b[49m\u001b[38;5;241;43m=\u001b[39;49m\u001b[43mbase_margin\u001b[49m\u001b[43m,\u001b[49m\n\u001b[1;32m   1534\u001b[0m \u001b[43m    \u001b[49m\u001b[43mgroup\u001b[49m\u001b[38;5;241;43m=\u001b[39;49m\u001b[43mgroup\u001b[49m\u001b[43m,\u001b[49m\n\u001b[1;32m   1535\u001b[0m \u001b[43m    \u001b[49m\u001b[43mqid\u001b[49m\u001b[38;5;241;43m=\u001b[39;49m\u001b[43mqid\u001b[49m\u001b[43m,\u001b[49m\n\u001b[1;32m   1536\u001b[0m \u001b[43m    \u001b[49m\u001b[43mlabel_lower_bound\u001b[49m\u001b[38;5;241;43m=\u001b[39;49m\u001b[43mlabel_lower_bound\u001b[49m\u001b[43m,\u001b[49m\n\u001b[1;32m   1537\u001b[0m \u001b[43m    \u001b[49m\u001b[43mlabel_upper_bound\u001b[49m\u001b[38;5;241;43m=\u001b[39;49m\u001b[43mlabel_upper_bound\u001b[49m\u001b[43m,\u001b[49m\n\u001b[1;32m   1538\u001b[0m \u001b[43m    \u001b[49m\u001b[43mfeature_weights\u001b[49m\u001b[38;5;241;43m=\u001b[39;49m\u001b[43mfeature_weights\u001b[49m\u001b[43m,\u001b[49m\n\u001b[1;32m   1539\u001b[0m \u001b[43m    \u001b[49m\u001b[43mfeature_names\u001b[49m\u001b[38;5;241;43m=\u001b[39;49m\u001b[43mfeature_names\u001b[49m\u001b[43m,\u001b[49m\n\u001b[1;32m   1540\u001b[0m \u001b[43m    \u001b[49m\u001b[43mfeature_types\u001b[49m\u001b[38;5;241;43m=\u001b[39;49m\u001b[43mfeature_types\u001b[49m\u001b[43m,\u001b[49m\n\u001b[1;32m   1541\u001b[0m \u001b[43m    \u001b[49m\u001b[43menable_categorical\u001b[49m\u001b[38;5;241;43m=\u001b[39;49m\u001b[43menable_categorical\u001b[49m\u001b[43m,\u001b[49m\n\u001b[1;32m   1542\u001b[0m \u001b[43m\u001b[49m\u001b[43m)\u001b[49m\n",
      "File \u001b[0;32m~/miniconda3/envs/dl_hw0/lib/python3.8/site-packages/xgboost/core.py:1589\u001b[0m, in \u001b[0;36mQuantileDMatrix._init\u001b[0;34m(self, data, ref, enable_categorical, **meta)\u001b[0m\n\u001b[1;32m   1587\u001b[0m it\u001b[38;5;241m.\u001b[39mreraise()\n\u001b[1;32m   1588\u001b[0m \u001b[38;5;66;03m# delay check_call to throw intermediate exception first\u001b[39;00m\n\u001b[0;32m-> 1589\u001b[0m \u001b[43m_check_call\u001b[49m\u001b[43m(\u001b[49m\u001b[43mret\u001b[49m\u001b[43m)\u001b[49m\n\u001b[1;32m   1590\u001b[0m \u001b[38;5;28mself\u001b[39m\u001b[38;5;241m.\u001b[39mhandle \u001b[38;5;241m=\u001b[39m handle\n",
      "File \u001b[0;32m~/miniconda3/envs/dl_hw0/lib/python3.8/site-packages/xgboost/core.py:281\u001b[0m, in \u001b[0;36m_check_call\u001b[0;34m(ret)\u001b[0m\n\u001b[1;32m    270\u001b[0m \u001b[38;5;250m\u001b[39m\u001b[38;5;124;03m\"\"\"Check the return value of C API call\u001b[39;00m\n\u001b[1;32m    271\u001b[0m \n\u001b[1;32m    272\u001b[0m \u001b[38;5;124;03mThis function will raise exception when error occurs.\u001b[39;00m\n\u001b[0;32m   (...)\u001b[0m\n\u001b[1;32m    278\u001b[0m \u001b[38;5;124;03m    return value from API calls\u001b[39;00m\n\u001b[1;32m    279\u001b[0m \u001b[38;5;124;03m\"\"\"\u001b[39;00m\n\u001b[1;32m    280\u001b[0m \u001b[38;5;28;01mif\u001b[39;00m ret \u001b[38;5;241m!=\u001b[39m \u001b[38;5;241m0\u001b[39m:\n\u001b[0;32m--> 281\u001b[0m     \u001b[38;5;28;01mraise\u001b[39;00m XGBoostError(py_str(_LIB\u001b[38;5;241m.\u001b[39mXGBGetLastError()))\n",
      "\u001b[0;31mXGBoostError\u001b[0m: [17:36:35] /Users/runner/work/xgboost/xgboost/src/data/iterative_dmatrix.cc:202: Check failed: n_features >= 1 (0 vs. 1) : Data must has at least 1 column.\nStack trace:\n  [bt] (0) 1   libxgboost.dylib                    0x00000001b1ef4ab5 dmlc::LogMessageFatal::~LogMessageFatal() + 117\n  [bt] (1) 2   libxgboost.dylib                    0x00000001b20074ff xgboost::data::IterativeDMatrix::InitFromCPU(xgboost::Context const*, xgboost::BatchParam const&, void*, float, std::__1::shared_ptr<xgboost::DMatrix>) + 8431\n  [bt] (2) 3   libxgboost.dylib                    0x00000001b2004d0c xgboost::data::IterativeDMatrix::IterativeDMatrix(void*, void*, std::__1::shared_ptr<xgboost::DMatrix>, void (*)(void*), int (*)(void*), float, int, int) + 1356\n  [bt] (3) 4   libxgboost.dylib                    0x00000001b1fb9579 xgboost::DMatrix* xgboost::DMatrix::Create<void*, void*, void (void*), int (void*)>(void*, void*, std::__1::shared_ptr<xgboost::DMatrix>, void (*)(void*), int (*)(void*), float, int, int) + 121\n  [bt] (4) 5   libxgboost.dylib                    0x00000001b1effbae XGQuantileDMatrixCreateFromCallback + 590\n  [bt] (5) 6   libffi.8.dylib                      0x000000010ab1bd92 ffi_call_unix64 + 82\n\n"
     ]
    }
   ],
   "source": [
    "import xgboost as xgb\n",
    "from sklearn.feature_selection import SelectFromModel\n",
    "\n",
    "\n",
    "def threshold_selector(clf, X_train, y_train, X_test, y_test):\n",
    "   thresholds = np.arange(.1, 5, .05)\n",
    "   avgs = []\n",
    "   loopavg = []\n",
    "   count = 1\n",
    "\n",
    "   for thresh in thresholds:\n",
    "       # Run each threshold 10x for the avg\n",
    "       for x in range(0, 10):\n",
    "           selection = SelectFromModel(clf, threshold=f'{thresh}*median', prefit=True)\n",
    "           select_X_train = selection.transform(X_train)\n",
    "           model = xgb.XGBClassifier(verbosity=0,\n",
    "                                reg_lambda=0.023385762997113632,\n",
    "                                reg_alpha=0.003694895205081855,\n",
    "                                #tree_method=\"gpu_hist\",\n",
    "                                objective=\"binary:logistic\",\n",
    "                                n_jobs=-1,\n",
    "                                learning_rate=0.0059107879099318415,\n",
    "                                min_child_weight=15,\n",
    "                                max_depth=1,\n",
    "                                max_delta_step=10,\n",
    "                                subsample=0.5370056644955932,\n",
    "                                colsample_bytree=0.5742787613391558,\n",
    "                                gamma=0.09815563994539223,\n",
    "                                n_estimators=143,\n",
    "                                eta=0.1134711359195081,\n",
    "                                seed=1)\n",
    "           count +=1\n",
    "           model.fit(select_X_train, y_train.values.ravel())\n",
    "           select_X_test = selection.transform(X_test)\n",
    "           ypred = model.predict(select_X_test)\n",
    "           accuracy = accuracy_score(y_test, ypred)\n",
    "           msg = f\"Thresh={thresh}, n={select_X_train.shape[1]}, Accuracy: {accuracy * 100.0}\"\n",
    "           print(msg)\n",
    "           loopavg.append(accuracy)\n",
    "\n",
    "       avgs.append((thresh, np.mean(loopavg)))\n",
    "       loopavg = []\n",
    "\n",
    "   for x in avgs:\n",
    "       print(x)\n",
    "\n",
    "threshold_selector(clf, X_train, y_train, X_test, y_test)"
   ]
  },
  {
   "cell_type": "code",
   "execution_count": 24,
   "metadata": {},
   "outputs": [
    {
     "output_type": "display_data",
     "data": {
      "text/plain": "\u001b[2;36m[10/08/23 15:28:05]\u001b[0m\u001b[2;36m \u001b[0m\u001b[34mINFO    \u001b[0m Saving cached data to \u001b[35m/Users/Gautham/soccerdata/data/\u001b[0m\u001b[95mClubElo\u001b[0m             \u001b]8;id=293105;file:///Users/Gautham/miniconda3/envs/dl_hw0/lib/python3.8/site-packages/soccerdata/_common.py\u001b\\\u001b[2m_common.py\u001b[0m\u001b]8;;\u001b\\\u001b[2m:\u001b[0m\u001b]8;id=403205;file:///Users/Gautham/miniconda3/envs/dl_hw0/lib/python3.8/site-packages/soccerdata/_common.py#89\u001b\\\u001b[2m89\u001b[0m\u001b]8;;\u001b\\\n",
      "text/html": "<pre style=\"white-space:pre;overflow-x:auto;line-height:normal;font-family:Menlo,'DejaVu Sans Mono',consolas,'Courier New',monospace\"><span style=\"color: #7fbfbf; text-decoration-color: #7fbfbf\">[10/08/23 15:28:05] </span><span style=\"color: #000080; text-decoration-color: #000080\">INFO    </span> Saving cached data to <span style=\"color: #800080; text-decoration-color: #800080\">/Users/Gautham/soccerdata/data/</span><span style=\"color: #ff00ff; text-decoration-color: #ff00ff\">ClubElo</span>             <a href=\"file:///Users/Gautham/miniconda3/envs/dl_hw0/lib/python3.8/site-packages/soccerdata/_common.py\" target=\"_blank\"><span style=\"color: #7f7f7f; text-decoration-color: #7f7f7f\">_common.py</span></a><span style=\"color: #7f7f7f; text-decoration-color: #7f7f7f\">:</span><a href=\"file:///Users/Gautham/miniconda3/envs/dl_hw0/lib/python3.8/site-packages/soccerdata/_common.py#89\" target=\"_blank\"><span style=\"color: #7f7f7f; text-decoration-color: #7f7f7f\">89</span></a>\n</pre>\n"
     },
     "metadata": {}
    },
    {
     "output_type": "execute_result",
     "data": {
      "text/plain": "              rank country  level          elo       from         to  \\\nteam                                                                   \nBayern         4.0     GER      1  1940.729004 2023-10-27 2023-12-31   \nRB Leipzig    14.0     GER      1  1838.462402 2023-10-27 2023-12-31   \nDortmund      15.0     GER      1  1833.151855 2023-10-27 2023-12-31   \nLeverkusen    23.0     GER      1  1793.137573 2023-10-27 2023-12-31   \nWolfsburg     46.0     GER      1  1716.327759 2023-10-27 2023-12-31   \n...            ...     ...    ...          ...        ...        ...   \nRostock        NaN     GER      2  1403.596436 2023-10-27 2023-12-31   \nElversberg     NaN     GER      2  1369.374268 2023-10-27 2023-12-31   \nBraunschweig   NaN     GER      2  1359.264282 2023-10-27 2023-12-31   \nWehen          NaN     GER      2  1349.417236 2023-10-27 2023-12-31   \nOsnabrueck     NaN     GER      2  1331.987061 2023-10-27 2023-12-31   \n\n                      league  \nteam                          \nBayern        GER-Bundesliga  \nRB Leipzig    GER-Bundesliga  \nDortmund      GER-Bundesliga  \nLeverkusen    GER-Bundesliga  \nWolfsburg     GER-Bundesliga  \n...                      ...  \nRostock                  NaN  \nElversberg               NaN  \nBraunschweig             NaN  \nWehen                    NaN  \nOsnabrueck               NaN  \n\n[36 rows x 7 columns]",
      "text/html": "<div>\n<style scoped>\n    .dataframe tbody tr th:only-of-type {\n        vertical-align: middle;\n    }\n\n    .dataframe tbody tr th {\n        vertical-align: top;\n    }\n\n    .dataframe thead th {\n        text-align: right;\n    }\n</style>\n<table border=\"1\" class=\"dataframe\">\n  <thead>\n    <tr style=\"text-align: right;\">\n      <th></th>\n      <th>rank</th>\n      <th>country</th>\n      <th>level</th>\n      <th>elo</th>\n      <th>from</th>\n      <th>to</th>\n      <th>league</th>\n    </tr>\n    <tr>\n      <th>team</th>\n      <th></th>\n      <th></th>\n      <th></th>\n      <th></th>\n      <th></th>\n      <th></th>\n      <th></th>\n    </tr>\n  </thead>\n  <tbody>\n    <tr>\n      <th>Bayern</th>\n      <td>4.0</td>\n      <td>GER</td>\n      <td>1</td>\n      <td>1940.729004</td>\n      <td>2023-10-27</td>\n      <td>2023-12-31</td>\n      <td>GER-Bundesliga</td>\n    </tr>\n    <tr>\n      <th>RB Leipzig</th>\n      <td>14.0</td>\n      <td>GER</td>\n      <td>1</td>\n      <td>1838.462402</td>\n      <td>2023-10-27</td>\n      <td>2023-12-31</td>\n      <td>GER-Bundesliga</td>\n    </tr>\n    <tr>\n      <th>Dortmund</th>\n      <td>15.0</td>\n      <td>GER</td>\n      <td>1</td>\n      <td>1833.151855</td>\n      <td>2023-10-27</td>\n      <td>2023-12-31</td>\n      <td>GER-Bundesliga</td>\n    </tr>\n    <tr>\n      <th>Leverkusen</th>\n      <td>23.0</td>\n      <td>GER</td>\n      <td>1</td>\n      <td>1793.137573</td>\n      <td>2023-10-27</td>\n      <td>2023-12-31</td>\n      <td>GER-Bundesliga</td>\n    </tr>\n    <tr>\n      <th>Wolfsburg</th>\n      <td>46.0</td>\n      <td>GER</td>\n      <td>1</td>\n      <td>1716.327759</td>\n      <td>2023-10-27</td>\n      <td>2023-12-31</td>\n      <td>GER-Bundesliga</td>\n    </tr>\n    <tr>\n      <th>...</th>\n      <td>...</td>\n      <td>...</td>\n      <td>...</td>\n      <td>...</td>\n      <td>...</td>\n      <td>...</td>\n      <td>...</td>\n    </tr>\n    <tr>\n      <th>Rostock</th>\n      <td>NaN</td>\n      <td>GER</td>\n      <td>2</td>\n      <td>1403.596436</td>\n      <td>2023-10-27</td>\n      <td>2023-12-31</td>\n      <td>NaN</td>\n    </tr>\n    <tr>\n      <th>Elversberg</th>\n      <td>NaN</td>\n      <td>GER</td>\n      <td>2</td>\n      <td>1369.374268</td>\n      <td>2023-10-27</td>\n      <td>2023-12-31</td>\n      <td>NaN</td>\n    </tr>\n    <tr>\n      <th>Braunschweig</th>\n      <td>NaN</td>\n      <td>GER</td>\n      <td>2</td>\n      <td>1359.264282</td>\n      <td>2023-10-27</td>\n      <td>2023-12-31</td>\n      <td>NaN</td>\n    </tr>\n    <tr>\n      <th>Wehen</th>\n      <td>NaN</td>\n      <td>GER</td>\n      <td>2</td>\n      <td>1349.417236</td>\n      <td>2023-10-27</td>\n      <td>2023-12-31</td>\n      <td>NaN</td>\n    </tr>\n    <tr>\n      <th>Osnabrueck</th>\n      <td>NaN</td>\n      <td>GER</td>\n      <td>2</td>\n      <td>1331.987061</td>\n      <td>2023-10-27</td>\n      <td>2023-12-31</td>\n      <td>NaN</td>\n    </tr>\n  </tbody>\n</table>\n<p>36 rows × 7 columns</p>\n</div>"
     },
     "metadata": {},
     "execution_count": 24
    }
   ],
   "source": [
    "clubelo = sd.ClubElo('GER-Bundesliga', '2223')\n",
    "#clubelo = clubelo.read_team_history('Düsseldorf')\n",
    "#clubelo\n",
    "v = clubelo.read_by_date('2023-11-08')\n",
    "v[v['country'] == 'GER']#.team"
   ]
  },
  {
   "cell_type": "code",
   "execution_count": 25,
   "metadata": {},
   "outputs": [
    {
     "output_type": "execute_result",
     "data": {
      "text/plain": "['Bayern',\n 'RB Leipzig',\n 'Dortmund',\n 'Leverkusen',\n 'Wolfsburg',\n 'Freiburg',\n 'Frankfurt',\n 'Union Berlin',\n 'Stuttgart',\n 'Hoffenheim',\n 'Gladbach',\n 'Mainz',\n 'Koeln',\n 'Werder',\n 'Bochum',\n 'Hamburg',\n 'Augsburg',\n 'Heidenheim',\n 'St Pauli',\n 'Duesseldorf',\n 'Darmstadt',\n 'Hertha',\n 'Schalke',\n 'Paderborn',\n 'Holstein',\n 'Hannover',\n 'Fuerth',\n 'Karlsruhe',\n 'Magdeburg',\n 'Lautern',\n 'Nuernberg',\n 'Rostock',\n 'Elversberg',\n 'Braunschweig',\n 'Wehen',\n 'Osnabrueck']"
     },
     "metadata": {},
     "execution_count": 25
    }
   ],
   "source": [
    "list(v[v['country'] == 'GER'].reset_index().team)"
   ]
  },
  {
   "cell_type": "code",
   "execution_count": 37,
   "metadata": {},
   "outputs": [
    {
     "output_type": "execute_result",
     "data": {
      "text/plain": "            rank    team country  level          elo         to\nfrom                                                           \n1948-07-04   NaN  Verona     ITA      2  1471.397217 1948-09-19\n1948-09-20   NaN  Verona     ITA      2  1467.319214 1948-09-26\n1948-09-27   NaN  Verona     ITA      2  1471.588501 1948-10-03\n1948-10-04   NaN  Verona     ITA      2  1466.306152 1948-10-10\n1948-10-11   NaN  Verona     ITA      2  1471.820801 1948-10-17\n...          ...     ...     ...    ...          ...        ...\n2023-09-22  94.0  Verona     ITA      1  1623.596191 2023-09-23\n2023-09-24  95.0  Verona     ITA      1  1621.083252 2023-09-27\n2023-09-28  95.0  Verona     ITA      1  1621.083252 2023-10-02\n2023-10-03  95.0  Verona     ITA      1  1621.083252 2023-10-08\n2023-10-09  95.0  Verona     ITA      1  1621.083252 2023-12-31\n\n[4945 rows x 6 columns]",
      "text/html": "<div>\n<style scoped>\n    .dataframe tbody tr th:only-of-type {\n        vertical-align: middle;\n    }\n\n    .dataframe tbody tr th {\n        vertical-align: top;\n    }\n\n    .dataframe thead th {\n        text-align: right;\n    }\n</style>\n<table border=\"1\" class=\"dataframe\">\n  <thead>\n    <tr style=\"text-align: right;\">\n      <th></th>\n      <th>rank</th>\n      <th>team</th>\n      <th>country</th>\n      <th>level</th>\n      <th>elo</th>\n      <th>to</th>\n    </tr>\n    <tr>\n      <th>from</th>\n      <th></th>\n      <th></th>\n      <th></th>\n      <th></th>\n      <th></th>\n      <th></th>\n    </tr>\n  </thead>\n  <tbody>\n    <tr>\n      <th>1948-07-04</th>\n      <td>NaN</td>\n      <td>Verona</td>\n      <td>ITA</td>\n      <td>2</td>\n      <td>1471.397217</td>\n      <td>1948-09-19</td>\n    </tr>\n    <tr>\n      <th>1948-09-20</th>\n      <td>NaN</td>\n      <td>Verona</td>\n      <td>ITA</td>\n      <td>2</td>\n      <td>1467.319214</td>\n      <td>1948-09-26</td>\n    </tr>\n    <tr>\n      <th>1948-09-27</th>\n      <td>NaN</td>\n      <td>Verona</td>\n      <td>ITA</td>\n      <td>2</td>\n      <td>1471.588501</td>\n      <td>1948-10-03</td>\n    </tr>\n    <tr>\n      <th>1948-10-04</th>\n      <td>NaN</td>\n      <td>Verona</td>\n      <td>ITA</td>\n      <td>2</td>\n      <td>1466.306152</td>\n      <td>1948-10-10</td>\n    </tr>\n    <tr>\n      <th>1948-10-11</th>\n      <td>NaN</td>\n      <td>Verona</td>\n      <td>ITA</td>\n      <td>2</td>\n      <td>1471.820801</td>\n      <td>1948-10-17</td>\n    </tr>\n    <tr>\n      <th>...</th>\n      <td>...</td>\n      <td>...</td>\n      <td>...</td>\n      <td>...</td>\n      <td>...</td>\n      <td>...</td>\n    </tr>\n    <tr>\n      <th>2023-09-22</th>\n      <td>94.0</td>\n      <td>Verona</td>\n      <td>ITA</td>\n      <td>1</td>\n      <td>1623.596191</td>\n      <td>2023-09-23</td>\n    </tr>\n    <tr>\n      <th>2023-09-24</th>\n      <td>95.0</td>\n      <td>Verona</td>\n      <td>ITA</td>\n      <td>1</td>\n      <td>1621.083252</td>\n      <td>2023-09-27</td>\n    </tr>\n    <tr>\n      <th>2023-09-28</th>\n      <td>95.0</td>\n      <td>Verona</td>\n      <td>ITA</td>\n      <td>1</td>\n      <td>1621.083252</td>\n      <td>2023-10-02</td>\n    </tr>\n    <tr>\n      <th>2023-10-03</th>\n      <td>95.0</td>\n      <td>Verona</td>\n      <td>ITA</td>\n      <td>1</td>\n      <td>1621.083252</td>\n      <td>2023-10-08</td>\n    </tr>\n    <tr>\n      <th>2023-10-09</th>\n      <td>95.0</td>\n      <td>Verona</td>\n      <td>ITA</td>\n      <td>1</td>\n      <td>1621.083252</td>\n      <td>2023-12-31</td>\n    </tr>\n  </tbody>\n</table>\n<p>4945 rows × 6 columns</p>\n</div>"
     },
     "metadata": {},
     "execution_count": 37
    }
   ],
   "source": [
    "lo#['home_team'].unique()"
   ]
  },
  {
   "cell_type": "code",
   "execution_count": 47,
   "metadata": {},
   "outputs": [
    {
     "output_type": "stream",
     "name": "stdout",
     "text": "Collecting understatapi\n  Downloading understatapi-0.6.1.tar.gz (397 kB)\n\u001b[2K     \u001b[90m━━━━━━━━━━━━━━━━━━━━━━━━━━━━━━━━━━━━━━━\u001b[0m \u001b[32m397.2/397.2 kB\u001b[0m \u001b[31m6.4 MB/s\u001b[0m eta \u001b[36m0:00:00\u001b[0m\n\u001b[?25h  Installing build dependencies ... \u001b[?25ldone\n\u001b[?25h  Getting requirements to build wheel ... \u001b[?25ldone\n\u001b[?25h  Installing backend dependencies ... \u001b[?25ldone\n\u001b[?25h  Preparing metadata (pyproject.toml) ... \u001b[?25ldone\n\u001b[?25hCollecting chardet==4.0.0\n  Using cached chardet-4.0.0-py2.py3-none-any.whl (178 kB)\nCollecting urllib3==1.26.5\n  Downloading urllib3-1.26.5-py2.py3-none-any.whl (138 kB)\n\u001b[2K     \u001b[90m━━━━━━━━━━━━━━━━━━━━━━━━━━━━━━━━━━━━━━━\u001b[0m \u001b[32m138.1/138.1 kB\u001b[0m \u001b[31m5.1 MB/s\u001b[0m eta \u001b[36m0:00:00\u001b[0m\n\u001b[?25hCollecting requests==2.25.1\n  Using cached requests-2.25.1-py2.py3-none-any.whl (61 kB)\nCollecting idna==2.10\n  Using cached idna-2.10-py2.py3-none-any.whl (58 kB)\nCollecting certifi==2020.12.5\n  Using cached certifi-2020.12.5-py2.py3-none-any.whl (147 kB)\nBuilding wheels for collected packages: understatapi\n  Building wheel for understatapi (pyproject.toml) ... \u001b[?25ldone\n\u001b[?25h  Created wheel for understatapi: filename=understatapi-0.6.1-py3-none-any.whl size=15008 sha256=31ef9491e17f34f641ab77474bfef7fad7ee92662f2f161108ef2669937397e5\n  Stored in directory: /Users/Gautham/Library/Caches/pip/wheels/d1/6c/3a/269f970838b6faad43755592efb08e3d545902d0cd509b7c22\nSuccessfully built understatapi\nInstalling collected packages: certifi, urllib3, idna, chardet, requests, understatapi\n  Attempting uninstall: certifi\n    Found existing installation: certifi 2023.7.22\n    Uninstalling certifi-2023.7.22:\n      Successfully uninstalled certifi-2023.7.22\n  Attempting uninstall: urllib3\n    Found existing installation: urllib3 2.0.4\n    Uninstalling urllib3-2.0.4:\n      Successfully uninstalled urllib3-2.0.4\n  Attempting uninstall: idna\n    Found existing installation: idna 3.4\n    Uninstalling idna-3.4:\n      Successfully uninstalled idna-3.4\n  Attempting uninstall: requests\n    Found existing installation: requests 2.31.0\n    Uninstalling requests-2.31.0:\n      Successfully uninstalled requests-2.31.0\n\u001b[31mERROR: pip's dependency resolver does not currently take into account all the packages that are installed. This behaviour is the source of the following dependency conflicts.\nselenium 4.12.0 requires certifi>=2021.10.8, but you have certifi 2020.12.5 which is incompatible.\u001b[0m\u001b[31m\n\u001b[0mSuccessfully installed certifi-2020.12.5 chardet-4.0.0 idna-2.10 requests-2.25.1 understatapi-0.6.1 urllib3-1.26.5\n"
    }
   ],
   "source": [
    "! pip install understatapi"
   ]
  },
  {
   "cell_type": "code",
   "execution_count": 74,
   "metadata": {},
   "outputs": [
    {
     "output_type": "execute_result",
     "data": {
      "text/plain": "array(['Crystal Palace', 'West Ham', 'Arsenal', 'Man City', 'Tottenham',\n       'Watford', 'Aston Villa', 'Brentford', 'Brighton', 'Everton',\n       'Burnley', 'Leeds', 'Chelsea', 'Liverpool', 'Man United', 'Wolves',\n       'Southampton', 'Norwich', 'Newcastle', 'Leicester', 'Forest',\n       'Bournemouth', 'Fulham'], dtype=object)"
     },
     "metadata": {},
     "execution_count": 74
    }
   ],
   "source": [
    "processed = pd.read_csv('cache/PremierLeague/processed.csv')\n",
    "processed[processed['Date'].str.contains('2022')]['Team'].unique()"
   ]
  },
  {
   "cell_type": "code",
   "execution_count": 126,
   "metadata": {},
   "outputs": [],
   "source": [
    "t = understat.league('EPL').get_team_data('2022')\n"
   ]
  },
  {
   "cell_type": "code",
   "execution_count": 127,
   "metadata": {},
   "outputs": [
    {
     "output_type": "execute_result",
     "data": {
      "text/plain": "{'Arsenal',\n 'Aston Villa',\n 'Bournemouth',\n 'Brentford',\n 'Brighton',\n 'Chelsea',\n 'Crystal Palace',\n 'Everton',\n 'Fulham',\n 'Leeds',\n 'Leicester',\n 'Liverpool',\n 'Manchester City',\n 'Manchester United',\n 'Newcastle United',\n 'Nottingham Forest',\n 'Southampton',\n 'Tottenham',\n 'West Ham',\n 'Wolverhampton Wanderers'}"
     },
     "metadata": {},
     "execution_count": 127
    }
   ],
   "source": [
    "df = pd.DataFrame(t)#json_normalize(t)\n",
    "set(df.reset_index().iloc[1].unique()[1:])"
   ]
  },
  {
   "cell_type": "code",
   "execution_count": 374,
   "metadata": {
    "tags": [
     "outputPrepend",
     "outputPrepend",
     "outputPrepend",
     "outputPrepend",
     "outputPrepend",
     "outputPrepend",
     "outputPrepend",
     "outputPrepend",
     "outputPrepend",
     "outputPrepend",
     "outputPrepend",
     "outputPrepend",
     "outputPrepend"
    ]
   },
   "outputs": [
    {
     "output_type": "stream",
     "name": "stdout",
     "text": "{'Rayo Vallecano', 'Espanyol', 'Athletic Club', 'Real Valladolid', 'Atletico Madrid', 'Eibar', 'Villarreal', 'Levante', 'Almeria', 'Alaves', 'Real Betis', 'Sevilla', 'Deportivo La Coruna', 'Cadiz', 'Leganes', 'Getafe', 'Osasuna', 'SD Huesca', 'Valencia', 'Las Palmas', 'Barcelona', 'Malaga', 'Granada', 'Cordoba', 'Real Madrid', 'Sporting Gijon', 'Mallorca', 'Elche', 'Celta Vigo', 'Real Sociedad', 'Girona'}\nRayo Vallecano\n2014\n2015\n2016\n2017\n2018\n2019\n2020\n2021\n2022\n2023\nEspanyol\n2014\n2015\n2016\n2017\n2018\n2019\n2020\n2021\n2022\n2023\nAthletic Club\n2014\n2015\n2016\n2017\n2018\n2019\n2020\n2021\n2022\n2023\nReal Valladolid\n2014\n2015\n2016\n2017\n2018\n2019\n2020\n2021\n2022\n2023\nAtletico Madrid\n2014\n2015\n2016\n2017\n2018\n2019\n2020\n2021\n2022\n2023\nEibar\n2014\n2015\n2016\n2017\n2018\n2019\n2020\n2021\n2022\n2023\nVillarreal\n2014\n2015\n2016\n2017\n2018\n2019\n2020\n2021\n2022\n2023\nLevante\n2014\n2015\n2016\n2017\n2018\n2019\n2020\n2021\n2022\n2023\nAlmeria\n2014\n2015\n2016\n2017\n2018\n2019\n2020\n2021\n2022\n2023\nAlaves\n2014\n2015\n2016\n2017\n2018\n2019\n2020\n2021\n2022\n2023\nReal Betis\n2014\n2015\n2016\n2017\n2018\n2019\n2020\n2021\n2022\n2023\nSevilla\n2014\n2015\n2016\n2017\n2018\n2019\n2020\n2021\n2022\n2023\nDeportivo La Coruna\n2014\n2015\n2016\n2017\n2018\n2019\n2020\n2021\n2022\n2023\nCadiz\n2014\n2015\n2016\n2017\n2018\n2019\n2020\n2021\n2022\n2023\nLeganes\n2014\n2015\n2016\n2017\n2018\n2019\n2020\n2021\n2022\n2023\nGetafe\n2014\n2015\n2016\n2017\n2018\n2019\n2020\n2021\n2022\n2023\nOsasuna\n2014\n2015\n2016\n2017\n2018\n2019\n2020\n2021\n2022\n2023\nSD Huesca\n2014\n2015\n2016\n2017\n2018\n2019\n2020\n2021\n2022\n2023\nValencia\n2014\n2015\n2016\n2017\n2018\n2019\n2020\n2021\n2022\n2023\nLas Palmas\n2014\n2015\n2016\n2017\n2018\n2019\n2020\n2021\n2022\n2023\nBarcelona\n2014\n2015\n2016\n2017\n2018\n2019\n2020\n2021\n2022\n2023\nMalaga\n2014\n2015\n2016\n2017\n2018\n2019\n2020\n2021\n2022\n2023\nGranada\n2014\n2015\n2016\n2017\n2018\n2019\n2020\n2021\n2022\n2023\nCordoba\n2014\n2015\n2016\n2017\n2018\n2019\n2020\n2021\n2022\n2023\nReal Madrid\n2014\n2015\n2016\n2017\n2018\n2019\n2020\n2021\n2022\n2023\nSporting Gijon\n2014\n2015\n2016\n2017\n2018\n2019\n2020\n2021\n2022\n2023\nMallorca\n2014\n2015\n2016\n2017\n2018\n2019\n2020\n2021\n2022\n2023\nElche\n2014\n2015\n2016\n2017\n2018\n2019\n2020\n2021\n2022\n2023\nCelta Vigo\n2014\n2015\n2016\n2017\n2018\n2019\n2020\n2021\n2022\n2023\nReal Sociedad\n2014\n2015\n2016\n2017\n2018\n2019\n2020\n2021\n2022\n2023\nGirona\n2014\n2015\n2016\n2017\n2018\n2019\n2020\n2021\n2022\n2023\n"
    },
    {
     "output_type": "execute_result",
     "data": {
      "text/plain": "       id  isResult side             datetime result h.id  \\\n0    5835      True    h  2014-08-25 21:00:00      d  145   \n1    5843      True    a  2014-08-31 20:00:00      d  139   \n2    5791      True    h  2014-09-14 11:00:00      l  145   \n3    5802      True    a  2014-09-21 16:00:00      l  154   \n4    5809      True    h  2014-09-24 19:00:00      w  145   \n..    ...       ...  ...                  ...    ...  ...   \n33  23019     False    h  2024-05-05 15:00:00    NaN  223   \n34  23030     False    a  2024-05-12 15:00:00    NaN  158   \n35  23036     False    h  2024-05-15 15:00:00    NaN  223   \n36  23053     False    a  2024-05-19 15:00:00    NaN  146   \n37  23058     False    h  2024-05-26 15:00:00    NaN  223   \n\n                h.title h.short_title a.id          a.title a.short_title  \\\n0        Rayo Vallecano           RVL  143  Atletico Madrid           ATL   \n1   Deportivo La Coruna           DEP  145   Rayo Vallecano           RVL   \n2        Rayo Vallecano           RVL  207            Elche           ELC   \n3            Villarreal           VIL  145   Rayo Vallecano           RVL   \n4        Rayo Vallecano           RVL  147    Athletic Club           ATH   \n..                  ...           ...  ...              ...           ...   \n33               Girona           GIR  148        Barcelona           BAR   \n34               Alaves           ALA  223           Girona           GIR   \n35               Girona           GIR  154       Villarreal           VIL   \n36             Valencia           VAL  223           Girona           GIR   \n37               Girona           GIR  155          Granada           GRA   \n\n   goals.h goals.a      xG.h      xG.a  forecast.w  forecast.d  forecast.l  \n0        0       0  0.357337  0.901586    0.141433    0.383080    0.475487  \n1        2       2   1.89944   2.23586    0.335892    0.200879    0.463228  \n2        2       3   1.42044  0.570631    0.579321    0.271782    0.148897  \n3        4       2   4.38395   1.40506    0.854352    0.080726    0.064867  \n4        2       1   3.17965   1.06179    0.786358    0.123061    0.090580  \n..     ...     ...       ...       ...         ...         ...         ...  \n33    None    None      None      None         NaN         NaN         NaN  \n34    None    None      None      None         NaN         NaN         NaN  \n35    None    None      None      None         NaN         NaN         NaN  \n36    None    None      None      None         NaN         NaN         NaN  \n37    None    None      None      None         NaN         NaN         NaN  \n\n[11780 rows x 18 columns]",
      "text/html": "<div>\n<style scoped>\n    .dataframe tbody tr th:only-of-type {\n        vertical-align: middle;\n    }\n\n    .dataframe tbody tr th {\n        vertical-align: top;\n    }\n\n    .dataframe thead th {\n        text-align: right;\n    }\n</style>\n<table border=\"1\" class=\"dataframe\">\n  <thead>\n    <tr style=\"text-align: right;\">\n      <th></th>\n      <th>id</th>\n      <th>isResult</th>\n      <th>side</th>\n      <th>datetime</th>\n      <th>result</th>\n      <th>h.id</th>\n      <th>h.title</th>\n      <th>h.short_title</th>\n      <th>a.id</th>\n      <th>a.title</th>\n      <th>a.short_title</th>\n      <th>goals.h</th>\n      <th>goals.a</th>\n      <th>xG.h</th>\n      <th>xG.a</th>\n      <th>forecast.w</th>\n      <th>forecast.d</th>\n      <th>forecast.l</th>\n    </tr>\n  </thead>\n  <tbody>\n    <tr>\n      <th>0</th>\n      <td>5835</td>\n      <td>True</td>\n      <td>h</td>\n      <td>2014-08-25 21:00:00</td>\n      <td>d</td>\n      <td>145</td>\n      <td>Rayo Vallecano</td>\n      <td>RVL</td>\n      <td>143</td>\n      <td>Atletico Madrid</td>\n      <td>ATL</td>\n      <td>0</td>\n      <td>0</td>\n      <td>0.357337</td>\n      <td>0.901586</td>\n      <td>0.141433</td>\n      <td>0.383080</td>\n      <td>0.475487</td>\n    </tr>\n    <tr>\n      <th>1</th>\n      <td>5843</td>\n      <td>True</td>\n      <td>a</td>\n      <td>2014-08-31 20:00:00</td>\n      <td>d</td>\n      <td>139</td>\n      <td>Deportivo La Coruna</td>\n      <td>DEP</td>\n      <td>145</td>\n      <td>Rayo Vallecano</td>\n      <td>RVL</td>\n      <td>2</td>\n      <td>2</td>\n      <td>1.89944</td>\n      <td>2.23586</td>\n      <td>0.335892</td>\n      <td>0.200879</td>\n      <td>0.463228</td>\n    </tr>\n    <tr>\n      <th>2</th>\n      <td>5791</td>\n      <td>True</td>\n      <td>h</td>\n      <td>2014-09-14 11:00:00</td>\n      <td>l</td>\n      <td>145</td>\n      <td>Rayo Vallecano</td>\n      <td>RVL</td>\n      <td>207</td>\n      <td>Elche</td>\n      <td>ELC</td>\n      <td>2</td>\n      <td>3</td>\n      <td>1.42044</td>\n      <td>0.570631</td>\n      <td>0.579321</td>\n      <td>0.271782</td>\n      <td>0.148897</td>\n    </tr>\n    <tr>\n      <th>3</th>\n      <td>5802</td>\n      <td>True</td>\n      <td>a</td>\n      <td>2014-09-21 16:00:00</td>\n      <td>l</td>\n      <td>154</td>\n      <td>Villarreal</td>\n      <td>VIL</td>\n      <td>145</td>\n      <td>Rayo Vallecano</td>\n      <td>RVL</td>\n      <td>4</td>\n      <td>2</td>\n      <td>4.38395</td>\n      <td>1.40506</td>\n      <td>0.854352</td>\n      <td>0.080726</td>\n      <td>0.064867</td>\n    </tr>\n    <tr>\n      <th>4</th>\n      <td>5809</td>\n      <td>True</td>\n      <td>h</td>\n      <td>2014-09-24 19:00:00</td>\n      <td>w</td>\n      <td>145</td>\n      <td>Rayo Vallecano</td>\n      <td>RVL</td>\n      <td>147</td>\n      <td>Athletic Club</td>\n      <td>ATH</td>\n      <td>2</td>\n      <td>1</td>\n      <td>3.17965</td>\n      <td>1.06179</td>\n      <td>0.786358</td>\n      <td>0.123061</td>\n      <td>0.090580</td>\n    </tr>\n    <tr>\n      <th>...</th>\n      <td>...</td>\n      <td>...</td>\n      <td>...</td>\n      <td>...</td>\n      <td>...</td>\n      <td>...</td>\n      <td>...</td>\n      <td>...</td>\n      <td>...</td>\n      <td>...</td>\n      <td>...</td>\n      <td>...</td>\n      <td>...</td>\n      <td>...</td>\n      <td>...</td>\n      <td>...</td>\n      <td>...</td>\n      <td>...</td>\n    </tr>\n    <tr>\n      <th>33</th>\n      <td>23019</td>\n      <td>False</td>\n      <td>h</td>\n      <td>2024-05-05 15:00:00</td>\n      <td>NaN</td>\n      <td>223</td>\n      <td>Girona</td>\n      <td>GIR</td>\n      <td>148</td>\n      <td>Barcelona</td>\n      <td>BAR</td>\n      <td>None</td>\n      <td>None</td>\n      <td>None</td>\n      <td>None</td>\n      <td>NaN</td>\n      <td>NaN</td>\n      <td>NaN</td>\n    </tr>\n    <tr>\n      <th>34</th>\n      <td>23030</td>\n      <td>False</td>\n      <td>a</td>\n      <td>2024-05-12 15:00:00</td>\n      <td>NaN</td>\n      <td>158</td>\n      <td>Alaves</td>\n      <td>ALA</td>\n      <td>223</td>\n      <td>Girona</td>\n      <td>GIR</td>\n      <td>None</td>\n      <td>None</td>\n      <td>None</td>\n      <td>None</td>\n      <td>NaN</td>\n      <td>NaN</td>\n      <td>NaN</td>\n    </tr>\n    <tr>\n      <th>35</th>\n      <td>23036</td>\n      <td>False</td>\n      <td>h</td>\n      <td>2024-05-15 15:00:00</td>\n      <td>NaN</td>\n      <td>223</td>\n      <td>Girona</td>\n      <td>GIR</td>\n      <td>154</td>\n      <td>Villarreal</td>\n      <td>VIL</td>\n      <td>None</td>\n      <td>None</td>\n      <td>None</td>\n      <td>None</td>\n      <td>NaN</td>\n      <td>NaN</td>\n      <td>NaN</td>\n    </tr>\n    <tr>\n      <th>36</th>\n      <td>23053</td>\n      <td>False</td>\n      <td>a</td>\n      <td>2024-05-19 15:00:00</td>\n      <td>NaN</td>\n      <td>146</td>\n      <td>Valencia</td>\n      <td>VAL</td>\n      <td>223</td>\n      <td>Girona</td>\n      <td>GIR</td>\n      <td>None</td>\n      <td>None</td>\n      <td>None</td>\n      <td>None</td>\n      <td>NaN</td>\n      <td>NaN</td>\n      <td>NaN</td>\n    </tr>\n    <tr>\n      <th>37</th>\n      <td>23058</td>\n      <td>False</td>\n      <td>h</td>\n      <td>2024-05-26 15:00:00</td>\n      <td>NaN</td>\n      <td>223</td>\n      <td>Girona</td>\n      <td>GIR</td>\n      <td>155</td>\n      <td>Granada</td>\n      <td>GRA</td>\n      <td>None</td>\n      <td>None</td>\n      <td>None</td>\n      <td>None</td>\n      <td>NaN</td>\n      <td>NaN</td>\n      <td>NaN</td>\n    </tr>\n  </tbody>\n</table>\n<p>11780 rows × 18 columns</p>\n</div>"
     },
     "metadata": {},
     "execution_count": 374
    }
   ],
   "source": [
    "\n",
    "\n",
    "from understatapi import UnderstatClient\n",
    "understat = UnderstatClient()\n",
    "years = range(2014,2024)\n",
    "teams = set()\n",
    "for year in years:\n",
    "    t = understat.league('La_Liga').get_team_data(str(year))\n",
    "    df = pd.DataFrame(t)\n",
    "    ts = df.reset_index().iloc[1].unique()[1:]\n",
    "    y = set(ts)\n",
    "    teams.update(y)\n",
    "#print(teams)\n",
    "understat = UnderstatClient()\n",
    "df = pd.DataFrame()\n",
    "missing = {}\n",
    "print(teams)\n",
    "for team in teams:\n",
    "    t = understat.team(team=team)\n",
    "    print(team)\n",
    "    for year in years:\n",
    "        print(year)\n",
    "        try:\n",
    "            y = pd.json_normalize(t.get_match_data(str(year)))\n",
    "            df = pd.concat([df, y])\n",
    "        except:\n",
    "            missing[year] = missing.get(year, []) + [team]\n",
    "        \n",
    "df\n"
   ]
  },
  {
   "cell_type": "code",
   "execution_count": 378,
   "metadata": {},
   "outputs": [
    {
     "output_type": "execute_result",
     "data": {
      "text/plain": "{}"
     },
     "metadata": {},
     "execution_count": 378
    }
   ],
   "source": [
    "missing"
   ]
  },
  {
   "cell_type": "code",
   "execution_count": 379,
   "metadata": {},
   "outputs": [],
   "source": [
    "#t = understat.team(team='Arsenal')\n",
    "#df = pd.json_normalize(t.get_match_data(str(2022)))\n",
    "league = 'LaLiga'\n",
    "df.to_csv(f'cache/{league}/understat.csv')"
   ]
  },
  {
   "cell_type": "code",
   "execution_count": 387,
   "metadata": {},
   "outputs": [
    {
     "output_type": "execute_result",
     "data": {
      "text/plain": "       Unnamed: 0     id  isResult side        Date result  h.id HomeTeam  \\\n7980            0   5826      True    h  2014-08-23      w   137   Malaga   \n760             0   5826      True    a  2014-08-23      l   137   Malaga   \n6840            0   5827      True    a  2014-08-23      d   138  Sevilla   \n4560            0   5828      True    a  2014-08-23      l   155  Granada   \n4180            0   5827      True    h  2014-08-23      d   138  Sevilla   \n...           ...    ...       ...  ...         ...    ...   ...      ...   \n2659           37  23059     False    a  2024-05-26    NaN   157  Osasuna   \n8511           37  23058     False    a  2024-05-26    NaN   223   Girona   \n8549           37  23058     False    a  2024-05-26    NaN   223   Girona   \n8739           37  23058     False    a  2024-05-26    NaN   223   Girona   \n11779          37  23058     False    h  2024-05-26    NaN   223   Girona   \n\n      h.short_title  a.id             AwayTeam a.short_title  goals.h  \\\n7980            MAL   147        Athletic Club           ATH      1.0   \n760             MAL   147        Athletic Club           ATH      1.0   \n6840            SEV   146             Valencia           VAL      1.0   \n4560            GRA   139  Deportivo La Coruna           DEP      2.0   \n4180            SEV   146             Valencia           VAL      1.0   \n...             ...   ...                  ...           ...      ...   \n2659            OSA   154           Villarreal           VIL      NaN   \n8511            GIR   155              Granada           GRA      NaN   \n8549            GIR   155              Granada           GRA      NaN   \n8739            GIR   155              Granada           GRA      NaN   \n11779           GIR   155              Granada           GRA      NaN   \n\n       goals.a  HomeTeamxG  AwayTeamxG  forecast.w  forecast.d  forecast.l  \n7980       0.0    1.321070    1.141510    0.407462    0.271098    0.321440  \n760        0.0    1.321070    1.141510    0.407462    0.271098    0.321440  \n6840       1.0    1.171970    1.749030    0.255453    0.235605    0.508941  \n4560       1.0    0.548351    0.379371    0.317067    0.482098    0.200835  \n4180       1.0    1.171970    1.749030    0.255453    0.235605    0.508941  \n...        ...         ...         ...         ...         ...         ...  \n2659       NaN         NaN         NaN         NaN         NaN         NaN  \n8511       NaN         NaN         NaN         NaN         NaN         NaN  \n8549       NaN         NaN         NaN         NaN         NaN         NaN  \n8739       NaN         NaN         NaN         NaN         NaN         NaN  \n11779      NaN         NaN         NaN         NaN         NaN         NaN  \n\n[11780 rows x 19 columns]",
      "text/html": "<div>\n<style scoped>\n    .dataframe tbody tr th:only-of-type {\n        vertical-align: middle;\n    }\n\n    .dataframe tbody tr th {\n        vertical-align: top;\n    }\n\n    .dataframe thead th {\n        text-align: right;\n    }\n</style>\n<table border=\"1\" class=\"dataframe\">\n  <thead>\n    <tr style=\"text-align: right;\">\n      <th></th>\n      <th>Unnamed: 0</th>\n      <th>id</th>\n      <th>isResult</th>\n      <th>side</th>\n      <th>Date</th>\n      <th>result</th>\n      <th>h.id</th>\n      <th>HomeTeam</th>\n      <th>h.short_title</th>\n      <th>a.id</th>\n      <th>AwayTeam</th>\n      <th>a.short_title</th>\n      <th>goals.h</th>\n      <th>goals.a</th>\n      <th>HomeTeamxG</th>\n      <th>AwayTeamxG</th>\n      <th>forecast.w</th>\n      <th>forecast.d</th>\n      <th>forecast.l</th>\n    </tr>\n  </thead>\n  <tbody>\n    <tr>\n      <th>7980</th>\n      <td>0</td>\n      <td>5826</td>\n      <td>True</td>\n      <td>h</td>\n      <td>2014-08-23</td>\n      <td>w</td>\n      <td>137</td>\n      <td>Malaga</td>\n      <td>MAL</td>\n      <td>147</td>\n      <td>Athletic Club</td>\n      <td>ATH</td>\n      <td>1.0</td>\n      <td>0.0</td>\n      <td>1.321070</td>\n      <td>1.141510</td>\n      <td>0.407462</td>\n      <td>0.271098</td>\n      <td>0.321440</td>\n    </tr>\n    <tr>\n      <th>760</th>\n      <td>0</td>\n      <td>5826</td>\n      <td>True</td>\n      <td>a</td>\n      <td>2014-08-23</td>\n      <td>l</td>\n      <td>137</td>\n      <td>Malaga</td>\n      <td>MAL</td>\n      <td>147</td>\n      <td>Athletic Club</td>\n      <td>ATH</td>\n      <td>1.0</td>\n      <td>0.0</td>\n      <td>1.321070</td>\n      <td>1.141510</td>\n      <td>0.407462</td>\n      <td>0.271098</td>\n      <td>0.321440</td>\n    </tr>\n    <tr>\n      <th>6840</th>\n      <td>0</td>\n      <td>5827</td>\n      <td>True</td>\n      <td>a</td>\n      <td>2014-08-23</td>\n      <td>d</td>\n      <td>138</td>\n      <td>Sevilla</td>\n      <td>SEV</td>\n      <td>146</td>\n      <td>Valencia</td>\n      <td>VAL</td>\n      <td>1.0</td>\n      <td>1.0</td>\n      <td>1.171970</td>\n      <td>1.749030</td>\n      <td>0.255453</td>\n      <td>0.235605</td>\n      <td>0.508941</td>\n    </tr>\n    <tr>\n      <th>4560</th>\n      <td>0</td>\n      <td>5828</td>\n      <td>True</td>\n      <td>a</td>\n      <td>2014-08-23</td>\n      <td>l</td>\n      <td>155</td>\n      <td>Granada</td>\n      <td>GRA</td>\n      <td>139</td>\n      <td>Deportivo La Coruna</td>\n      <td>DEP</td>\n      <td>2.0</td>\n      <td>1.0</td>\n      <td>0.548351</td>\n      <td>0.379371</td>\n      <td>0.317067</td>\n      <td>0.482098</td>\n      <td>0.200835</td>\n    </tr>\n    <tr>\n      <th>4180</th>\n      <td>0</td>\n      <td>5827</td>\n      <td>True</td>\n      <td>h</td>\n      <td>2014-08-23</td>\n      <td>d</td>\n      <td>138</td>\n      <td>Sevilla</td>\n      <td>SEV</td>\n      <td>146</td>\n      <td>Valencia</td>\n      <td>VAL</td>\n      <td>1.0</td>\n      <td>1.0</td>\n      <td>1.171970</td>\n      <td>1.749030</td>\n      <td>0.255453</td>\n      <td>0.235605</td>\n      <td>0.508941</td>\n    </tr>\n    <tr>\n      <th>...</th>\n      <td>...</td>\n      <td>...</td>\n      <td>...</td>\n      <td>...</td>\n      <td>...</td>\n      <td>...</td>\n      <td>...</td>\n      <td>...</td>\n      <td>...</td>\n      <td>...</td>\n      <td>...</td>\n      <td>...</td>\n      <td>...</td>\n      <td>...</td>\n      <td>...</td>\n      <td>...</td>\n      <td>...</td>\n      <td>...</td>\n      <td>...</td>\n    </tr>\n    <tr>\n      <th>2659</th>\n      <td>37</td>\n      <td>23059</td>\n      <td>False</td>\n      <td>a</td>\n      <td>2024-05-26</td>\n      <td>NaN</td>\n      <td>157</td>\n      <td>Osasuna</td>\n      <td>OSA</td>\n      <td>154</td>\n      <td>Villarreal</td>\n      <td>VIL</td>\n      <td>NaN</td>\n      <td>NaN</td>\n      <td>NaN</td>\n      <td>NaN</td>\n      <td>NaN</td>\n      <td>NaN</td>\n      <td>NaN</td>\n    </tr>\n    <tr>\n      <th>8511</th>\n      <td>37</td>\n      <td>23058</td>\n      <td>False</td>\n      <td>a</td>\n      <td>2024-05-26</td>\n      <td>NaN</td>\n      <td>223</td>\n      <td>Girona</td>\n      <td>GIR</td>\n      <td>155</td>\n      <td>Granada</td>\n      <td>GRA</td>\n      <td>NaN</td>\n      <td>NaN</td>\n      <td>NaN</td>\n      <td>NaN</td>\n      <td>NaN</td>\n      <td>NaN</td>\n      <td>NaN</td>\n    </tr>\n    <tr>\n      <th>8549</th>\n      <td>37</td>\n      <td>23058</td>\n      <td>False</td>\n      <td>a</td>\n      <td>2024-05-26</td>\n      <td>NaN</td>\n      <td>223</td>\n      <td>Girona</td>\n      <td>GIR</td>\n      <td>155</td>\n      <td>Granada</td>\n      <td>GRA</td>\n      <td>NaN</td>\n      <td>NaN</td>\n      <td>NaN</td>\n      <td>NaN</td>\n      <td>NaN</td>\n      <td>NaN</td>\n      <td>NaN</td>\n    </tr>\n    <tr>\n      <th>8739</th>\n      <td>37</td>\n      <td>23058</td>\n      <td>False</td>\n      <td>a</td>\n      <td>2024-05-26</td>\n      <td>NaN</td>\n      <td>223</td>\n      <td>Girona</td>\n      <td>GIR</td>\n      <td>155</td>\n      <td>Granada</td>\n      <td>GRA</td>\n      <td>NaN</td>\n      <td>NaN</td>\n      <td>NaN</td>\n      <td>NaN</td>\n      <td>NaN</td>\n      <td>NaN</td>\n      <td>NaN</td>\n    </tr>\n    <tr>\n      <th>11779</th>\n      <td>37</td>\n      <td>23058</td>\n      <td>False</td>\n      <td>h</td>\n      <td>2024-05-26</td>\n      <td>NaN</td>\n      <td>223</td>\n      <td>Girona</td>\n      <td>GIR</td>\n      <td>155</td>\n      <td>Granada</td>\n      <td>GRA</td>\n      <td>NaN</td>\n      <td>NaN</td>\n      <td>NaN</td>\n      <td>NaN</td>\n      <td>NaN</td>\n      <td>NaN</td>\n      <td>NaN</td>\n    </tr>\n  </tbody>\n</table>\n<p>11780 rows × 19 columns</p>\n</div>"
     },
     "metadata": {},
     "execution_count": 387
    }
   ],
   "source": [
    "df1 = pd.read_csv(f'cache/{league}/understat.csv')\n",
    "df1 = df1.sort_values('datetime')\n",
    "df1 = df1.rename(columns={'h.title':'HomeTeam', 'a.title':'AwayTeam', 'datetime': 'Date',\n",
    "'xG.h': 'HomeTeamxG', 'xG.a': 'AwayTeamxG'})\n",
    "\n",
    "df1['Date'] = pd.to_datetime(df1['Date']).dt.strftime('%Y-%m-%d')\n",
    "df1"
   ]
  },
  {
   "cell_type": "code",
   "execution_count": 388,
   "metadata": {},
   "outputs": [
    {
     "output_type": "execute_result",
     "data": {
      "text/plain": "       Unnamed: 0     id  isResult side        Date Result  h.id  \\\n7980            0   5826      True    h  2014-08-23      W   137   \n6840            0   5827      True    a  2014-08-23      D   138   \n4560            0   5828      True    a  2014-08-23      L   155   \n380             0   5829      True    a  2014-08-23      D   208   \n1900            0   5830      True    h  2014-08-24      W   156   \n...           ...    ...       ...  ...         ...    ...   ...   \n4179           37  23063     False    a  2024-05-26    NaN   150   \n1139           37  23060     False    a  2024-05-26    NaN   145   \n11665          37  23058     False    h  2024-05-26    NaN   223   \n11399          37  23061     False    h  2024-05-26    NaN   140   \n7979           37  23062     False    a  2024-05-26    NaN   138   \n\n             HomeTeam h.short_title  a.id             AwayTeam a.short_title  \\\n7980           Malaga           MAL   147        Athletic Club           ATH   \n6840          Sevilla           SEV   146             Valencia           VAL   \n4560          Granada           GRA   139  Deportivo La Coruna           DEP   \n380           Almeria           ALM   141             Espanyol           ESP   \n1900            Eibar           EIB   140        Real Sociedad           SOC   \n...               ...           ...   ...                  ...           ...   \n4179      Real Madrid           RMA   153           Real Betis           BET   \n1139   Rayo Vallecano           RVL   147        Athletic Club           ATH   \n11665          Girona           GIR   155              Granada           GRA   \n11399   Real Sociedad           SOC   143      Atletico Madrid           ATL   \n7979          Sevilla           SEV   148            Barcelona           BAR   \n\n       goals.h  goals.a  HomeTeamxG  AwayTeamxG  forecast.w  forecast.d  \\\n7980       1.0      0.0    1.321070    1.141510    0.407462    0.271098   \n6840       1.0      1.0    1.171970    1.749030    0.255453    0.235605   \n4560       2.0      1.0    0.548351    0.379371    0.317067    0.482098   \n380        1.0      1.0    0.978788    0.399306    0.491630    0.360626   \n1900       1.0      0.0    0.465398    0.975523    0.171885    0.357008   \n...        ...      ...         ...         ...         ...         ...   \n4179       NaN      NaN         NaN         NaN         NaN         NaN   \n1139       NaN      NaN         NaN         NaN         NaN         NaN   \n11665      NaN      NaN         NaN         NaN         NaN         NaN   \n11399      NaN      NaN         NaN         NaN         NaN         NaN   \n7979       NaN      NaN         NaN         NaN         NaN         NaN   \n\n       forecast.l  \n7980     0.321440  \n6840     0.508941  \n4560     0.200835  \n380      0.147744  \n1900     0.471107  \n...           ...  \n4179          NaN  \n1139          NaN  \n11665         NaN  \n11399         NaN  \n7979          NaN  \n\n[3800 rows x 19 columns]",
      "text/html": "<div>\n<style scoped>\n    .dataframe tbody tr th:only-of-type {\n        vertical-align: middle;\n    }\n\n    .dataframe tbody tr th {\n        vertical-align: top;\n    }\n\n    .dataframe thead th {\n        text-align: right;\n    }\n</style>\n<table border=\"1\" class=\"dataframe\">\n  <thead>\n    <tr style=\"text-align: right;\">\n      <th></th>\n      <th>Unnamed: 0</th>\n      <th>id</th>\n      <th>isResult</th>\n      <th>side</th>\n      <th>Date</th>\n      <th>Result</th>\n      <th>h.id</th>\n      <th>HomeTeam</th>\n      <th>h.short_title</th>\n      <th>a.id</th>\n      <th>AwayTeam</th>\n      <th>a.short_title</th>\n      <th>goals.h</th>\n      <th>goals.a</th>\n      <th>HomeTeamxG</th>\n      <th>AwayTeamxG</th>\n      <th>forecast.w</th>\n      <th>forecast.d</th>\n      <th>forecast.l</th>\n    </tr>\n  </thead>\n  <tbody>\n    <tr>\n      <th>7980</th>\n      <td>0</td>\n      <td>5826</td>\n      <td>True</td>\n      <td>h</td>\n      <td>2014-08-23</td>\n      <td>W</td>\n      <td>137</td>\n      <td>Malaga</td>\n      <td>MAL</td>\n      <td>147</td>\n      <td>Athletic Club</td>\n      <td>ATH</td>\n      <td>1.0</td>\n      <td>0.0</td>\n      <td>1.321070</td>\n      <td>1.141510</td>\n      <td>0.407462</td>\n      <td>0.271098</td>\n      <td>0.321440</td>\n    </tr>\n    <tr>\n      <th>6840</th>\n      <td>0</td>\n      <td>5827</td>\n      <td>True</td>\n      <td>a</td>\n      <td>2014-08-23</td>\n      <td>D</td>\n      <td>138</td>\n      <td>Sevilla</td>\n      <td>SEV</td>\n      <td>146</td>\n      <td>Valencia</td>\n      <td>VAL</td>\n      <td>1.0</td>\n      <td>1.0</td>\n      <td>1.171970</td>\n      <td>1.749030</td>\n      <td>0.255453</td>\n      <td>0.235605</td>\n      <td>0.508941</td>\n    </tr>\n    <tr>\n      <th>4560</th>\n      <td>0</td>\n      <td>5828</td>\n      <td>True</td>\n      <td>a</td>\n      <td>2014-08-23</td>\n      <td>L</td>\n      <td>155</td>\n      <td>Granada</td>\n      <td>GRA</td>\n      <td>139</td>\n      <td>Deportivo La Coruna</td>\n      <td>DEP</td>\n      <td>2.0</td>\n      <td>1.0</td>\n      <td>0.548351</td>\n      <td>0.379371</td>\n      <td>0.317067</td>\n      <td>0.482098</td>\n      <td>0.200835</td>\n    </tr>\n    <tr>\n      <th>380</th>\n      <td>0</td>\n      <td>5829</td>\n      <td>True</td>\n      <td>a</td>\n      <td>2014-08-23</td>\n      <td>D</td>\n      <td>208</td>\n      <td>Almeria</td>\n      <td>ALM</td>\n      <td>141</td>\n      <td>Espanyol</td>\n      <td>ESP</td>\n      <td>1.0</td>\n      <td>1.0</td>\n      <td>0.978788</td>\n      <td>0.399306</td>\n      <td>0.491630</td>\n      <td>0.360626</td>\n      <td>0.147744</td>\n    </tr>\n    <tr>\n      <th>1900</th>\n      <td>0</td>\n      <td>5830</td>\n      <td>True</td>\n      <td>h</td>\n      <td>2014-08-24</td>\n      <td>W</td>\n      <td>156</td>\n      <td>Eibar</td>\n      <td>EIB</td>\n      <td>140</td>\n      <td>Real Sociedad</td>\n      <td>SOC</td>\n      <td>1.0</td>\n      <td>0.0</td>\n      <td>0.465398</td>\n      <td>0.975523</td>\n      <td>0.171885</td>\n      <td>0.357008</td>\n      <td>0.471107</td>\n    </tr>\n    <tr>\n      <th>...</th>\n      <td>...</td>\n      <td>...</td>\n      <td>...</td>\n      <td>...</td>\n      <td>...</td>\n      <td>...</td>\n      <td>...</td>\n      <td>...</td>\n      <td>...</td>\n      <td>...</td>\n      <td>...</td>\n      <td>...</td>\n      <td>...</td>\n      <td>...</td>\n      <td>...</td>\n      <td>...</td>\n      <td>...</td>\n      <td>...</td>\n      <td>...</td>\n    </tr>\n    <tr>\n      <th>4179</th>\n      <td>37</td>\n      <td>23063</td>\n      <td>False</td>\n      <td>a</td>\n      <td>2024-05-26</td>\n      <td>NaN</td>\n      <td>150</td>\n      <td>Real Madrid</td>\n      <td>RMA</td>\n      <td>153</td>\n      <td>Real Betis</td>\n      <td>BET</td>\n      <td>NaN</td>\n      <td>NaN</td>\n      <td>NaN</td>\n      <td>NaN</td>\n      <td>NaN</td>\n      <td>NaN</td>\n      <td>NaN</td>\n    </tr>\n    <tr>\n      <th>1139</th>\n      <td>37</td>\n      <td>23060</td>\n      <td>False</td>\n      <td>a</td>\n      <td>2024-05-26</td>\n      <td>NaN</td>\n      <td>145</td>\n      <td>Rayo Vallecano</td>\n      <td>RVL</td>\n      <td>147</td>\n      <td>Athletic Club</td>\n      <td>ATH</td>\n      <td>NaN</td>\n      <td>NaN</td>\n      <td>NaN</td>\n      <td>NaN</td>\n      <td>NaN</td>\n      <td>NaN</td>\n      <td>NaN</td>\n    </tr>\n    <tr>\n      <th>11665</th>\n      <td>37</td>\n      <td>23058</td>\n      <td>False</td>\n      <td>h</td>\n      <td>2024-05-26</td>\n      <td>NaN</td>\n      <td>223</td>\n      <td>Girona</td>\n      <td>GIR</td>\n      <td>155</td>\n      <td>Granada</td>\n      <td>GRA</td>\n      <td>NaN</td>\n      <td>NaN</td>\n      <td>NaN</td>\n      <td>NaN</td>\n      <td>NaN</td>\n      <td>NaN</td>\n      <td>NaN</td>\n    </tr>\n    <tr>\n      <th>11399</th>\n      <td>37</td>\n      <td>23061</td>\n      <td>False</td>\n      <td>h</td>\n      <td>2024-05-26</td>\n      <td>NaN</td>\n      <td>140</td>\n      <td>Real Sociedad</td>\n      <td>SOC</td>\n      <td>143</td>\n      <td>Atletico Madrid</td>\n      <td>ATL</td>\n      <td>NaN</td>\n      <td>NaN</td>\n      <td>NaN</td>\n      <td>NaN</td>\n      <td>NaN</td>\n      <td>NaN</td>\n      <td>NaN</td>\n    </tr>\n    <tr>\n      <th>7979</th>\n      <td>37</td>\n      <td>23062</td>\n      <td>False</td>\n      <td>a</td>\n      <td>2024-05-26</td>\n      <td>NaN</td>\n      <td>138</td>\n      <td>Sevilla</td>\n      <td>SEV</td>\n      <td>148</td>\n      <td>Barcelona</td>\n      <td>BAR</td>\n      <td>NaN</td>\n      <td>NaN</td>\n      <td>NaN</td>\n      <td>NaN</td>\n      <td>NaN</td>\n      <td>NaN</td>\n      <td>NaN</td>\n    </tr>\n  </tbody>\n</table>\n<p>3800 rows × 19 columns</p>\n</div>"
     },
     "metadata": {},
     "execution_count": 388
    }
   ],
   "source": [
    "#df = pd.read_csv('understat.csv')\n",
    "df1 = df1.rename(columns={'xG.h': 'HomeTeamxG', 'xG.a': 'AwayTeamxG', 'result': 'Result'}\n",
    ")\n",
    "df1['Result'] = df1['Result'].str.upper()\n",
    "df1 = df1.drop_duplicates(['id'])#['Date', 'HomeTeam', 'AwayTeam'])\n",
    "df1"
   ]
  },
  {
   "cell_type": "code",
   "execution_count": 389,
   "metadata": {},
   "outputs": [
    {
     "output_type": "execute_result",
     "data": {
      "text/plain": "      Unnamed: 0     id  isResult side        Date Result  h.id  \\\n6950           5  22743      True    h  2023-09-24      W   140   \n6951           5  22743      True    h  2023-09-24      W   140   \n6952           5  22741      True    h  2023-09-24      D   145   \n6953           5  22741      True    h  2023-09-24      D   145   \n6954           5  22738      True    a  2023-09-24      D   153   \n6955           5  22738      True    a  2023-09-24      D   153   \n6956           5  22744      True    h  2023-09-24      W   144   \n6957           5  22744      True    h  2023-09-24      W   144   \n6958           5  22736      True    h  2023-09-24      W   143   \n6959           5  22736      True    h  2023-09-24      W   143   \n\n                 Team h.short_title  a.id         Opponent a.short_title  \\\n6950         Sociedad           SOC   142           Getafe           GET   \n6951           Getafe           SOC   142         Sociedad           GET   \n6952       Villarreal           RVL   154   Rayo Vallecano           VIL   \n6953   Rayo Vallecano           RVL   154       Villarreal           VIL   \n6954       Real Betis           BET   261            Cadiz           CAD   \n6955            Cadiz           BET   261       Real Betis           CAD   \n6956          Granada           LPL   155       Las Palmas           GRA   \n6957       Las Palmas           LPL   155          Granada           GRA   \n6958      Real Madrid           ATL   150  Atletico Madrid           RMA   \n6959  Atletico Madrid           ATL   150      Real Madrid           RMA   \n\n      goals.h  goals.a    TeamxG  OpponentxG  forecast.w  forecast.d  \\\n6950      4.0      3.0  2.133840    1.593980    0.502482    0.208080   \n6951      4.0      3.0  1.593980    2.133840    0.502482    0.208080   \n6952      1.0      1.0  1.036500    1.034500    0.348443    0.302081   \n6953      1.0      1.0  1.034500    1.036500    0.348443    0.302081   \n6954      1.0      1.0  2.707420    0.570946    0.822301    0.122730   \n6955      1.0      1.0  0.570946    2.707420    0.822301    0.122730   \n6956      1.0      0.0  0.037865    0.701293    0.491048    0.490280   \n6957      1.0      0.0  0.701293    0.037865    0.491048    0.490280   \n6958      3.0      1.0  0.847915    1.795780    0.598186    0.228245   \n6959      3.0      1.0  1.795780    0.847915    0.598186    0.228245   \n\n      forecast.l Venue  GameID  \n6950    0.289438  Home    3475  \n6951    0.289438  Away    3475  \n6952    0.349476  Away    3476  \n6953    0.349476  Home    3476  \n6954    0.054969  Home    3477  \n6955    0.054969  Away    3477  \n6956    0.018672  Away    3478  \n6957    0.018672  Home    3478  \n6958    0.173569  Away    3479  \n6959    0.173569  Home    3479  ",
      "text/html": "<div>\n<style scoped>\n    .dataframe tbody tr th:only-of-type {\n        vertical-align: middle;\n    }\n\n    .dataframe tbody tr th {\n        vertical-align: top;\n    }\n\n    .dataframe thead th {\n        text-align: right;\n    }\n</style>\n<table border=\"1\" class=\"dataframe\">\n  <thead>\n    <tr style=\"text-align: right;\">\n      <th></th>\n      <th>Unnamed: 0</th>\n      <th>id</th>\n      <th>isResult</th>\n      <th>side</th>\n      <th>Date</th>\n      <th>Result</th>\n      <th>h.id</th>\n      <th>Team</th>\n      <th>h.short_title</th>\n      <th>a.id</th>\n      <th>Opponent</th>\n      <th>a.short_title</th>\n      <th>goals.h</th>\n      <th>goals.a</th>\n      <th>TeamxG</th>\n      <th>OpponentxG</th>\n      <th>forecast.w</th>\n      <th>forecast.d</th>\n      <th>forecast.l</th>\n      <th>Venue</th>\n      <th>GameID</th>\n    </tr>\n  </thead>\n  <tbody>\n    <tr>\n      <th>6950</th>\n      <td>5</td>\n      <td>22743</td>\n      <td>True</td>\n      <td>h</td>\n      <td>2023-09-24</td>\n      <td>W</td>\n      <td>140</td>\n      <td>Sociedad</td>\n      <td>SOC</td>\n      <td>142</td>\n      <td>Getafe</td>\n      <td>GET</td>\n      <td>4.0</td>\n      <td>3.0</td>\n      <td>2.133840</td>\n      <td>1.593980</td>\n      <td>0.502482</td>\n      <td>0.208080</td>\n      <td>0.289438</td>\n      <td>Home</td>\n      <td>3475</td>\n    </tr>\n    <tr>\n      <th>6951</th>\n      <td>5</td>\n      <td>22743</td>\n      <td>True</td>\n      <td>h</td>\n      <td>2023-09-24</td>\n      <td>W</td>\n      <td>140</td>\n      <td>Getafe</td>\n      <td>SOC</td>\n      <td>142</td>\n      <td>Sociedad</td>\n      <td>GET</td>\n      <td>4.0</td>\n      <td>3.0</td>\n      <td>1.593980</td>\n      <td>2.133840</td>\n      <td>0.502482</td>\n      <td>0.208080</td>\n      <td>0.289438</td>\n      <td>Away</td>\n      <td>3475</td>\n    </tr>\n    <tr>\n      <th>6952</th>\n      <td>5</td>\n      <td>22741</td>\n      <td>True</td>\n      <td>h</td>\n      <td>2023-09-24</td>\n      <td>D</td>\n      <td>145</td>\n      <td>Villarreal</td>\n      <td>RVL</td>\n      <td>154</td>\n      <td>Rayo Vallecano</td>\n      <td>VIL</td>\n      <td>1.0</td>\n      <td>1.0</td>\n      <td>1.036500</td>\n      <td>1.034500</td>\n      <td>0.348443</td>\n      <td>0.302081</td>\n      <td>0.349476</td>\n      <td>Away</td>\n      <td>3476</td>\n    </tr>\n    <tr>\n      <th>6953</th>\n      <td>5</td>\n      <td>22741</td>\n      <td>True</td>\n      <td>h</td>\n      <td>2023-09-24</td>\n      <td>D</td>\n      <td>145</td>\n      <td>Rayo Vallecano</td>\n      <td>RVL</td>\n      <td>154</td>\n      <td>Villarreal</td>\n      <td>VIL</td>\n      <td>1.0</td>\n      <td>1.0</td>\n      <td>1.034500</td>\n      <td>1.036500</td>\n      <td>0.348443</td>\n      <td>0.302081</td>\n      <td>0.349476</td>\n      <td>Home</td>\n      <td>3476</td>\n    </tr>\n    <tr>\n      <th>6954</th>\n      <td>5</td>\n      <td>22738</td>\n      <td>True</td>\n      <td>a</td>\n      <td>2023-09-24</td>\n      <td>D</td>\n      <td>153</td>\n      <td>Real Betis</td>\n      <td>BET</td>\n      <td>261</td>\n      <td>Cadiz</td>\n      <td>CAD</td>\n      <td>1.0</td>\n      <td>1.0</td>\n      <td>2.707420</td>\n      <td>0.570946</td>\n      <td>0.822301</td>\n      <td>0.122730</td>\n      <td>0.054969</td>\n      <td>Home</td>\n      <td>3477</td>\n    </tr>\n    <tr>\n      <th>6955</th>\n      <td>5</td>\n      <td>22738</td>\n      <td>True</td>\n      <td>a</td>\n      <td>2023-09-24</td>\n      <td>D</td>\n      <td>153</td>\n      <td>Cadiz</td>\n      <td>BET</td>\n      <td>261</td>\n      <td>Real Betis</td>\n      <td>CAD</td>\n      <td>1.0</td>\n      <td>1.0</td>\n      <td>0.570946</td>\n      <td>2.707420</td>\n      <td>0.822301</td>\n      <td>0.122730</td>\n      <td>0.054969</td>\n      <td>Away</td>\n      <td>3477</td>\n    </tr>\n    <tr>\n      <th>6956</th>\n      <td>5</td>\n      <td>22744</td>\n      <td>True</td>\n      <td>h</td>\n      <td>2023-09-24</td>\n      <td>W</td>\n      <td>144</td>\n      <td>Granada</td>\n      <td>LPL</td>\n      <td>155</td>\n      <td>Las Palmas</td>\n      <td>GRA</td>\n      <td>1.0</td>\n      <td>0.0</td>\n      <td>0.037865</td>\n      <td>0.701293</td>\n      <td>0.491048</td>\n      <td>0.490280</td>\n      <td>0.018672</td>\n      <td>Away</td>\n      <td>3478</td>\n    </tr>\n    <tr>\n      <th>6957</th>\n      <td>5</td>\n      <td>22744</td>\n      <td>True</td>\n      <td>h</td>\n      <td>2023-09-24</td>\n      <td>W</td>\n      <td>144</td>\n      <td>Las Palmas</td>\n      <td>LPL</td>\n      <td>155</td>\n      <td>Granada</td>\n      <td>GRA</td>\n      <td>1.0</td>\n      <td>0.0</td>\n      <td>0.701293</td>\n      <td>0.037865</td>\n      <td>0.491048</td>\n      <td>0.490280</td>\n      <td>0.018672</td>\n      <td>Home</td>\n      <td>3478</td>\n    </tr>\n    <tr>\n      <th>6958</th>\n      <td>5</td>\n      <td>22736</td>\n      <td>True</td>\n      <td>h</td>\n      <td>2023-09-24</td>\n      <td>W</td>\n      <td>143</td>\n      <td>Real Madrid</td>\n      <td>ATL</td>\n      <td>150</td>\n      <td>Atletico Madrid</td>\n      <td>RMA</td>\n      <td>3.0</td>\n      <td>1.0</td>\n      <td>0.847915</td>\n      <td>1.795780</td>\n      <td>0.598186</td>\n      <td>0.228245</td>\n      <td>0.173569</td>\n      <td>Away</td>\n      <td>3479</td>\n    </tr>\n    <tr>\n      <th>6959</th>\n      <td>5</td>\n      <td>22736</td>\n      <td>True</td>\n      <td>h</td>\n      <td>2023-09-24</td>\n      <td>W</td>\n      <td>143</td>\n      <td>Atletico Madrid</td>\n      <td>ATL</td>\n      <td>150</td>\n      <td>Real Madrid</td>\n      <td>RMA</td>\n      <td>3.0</td>\n      <td>1.0</td>\n      <td>1.795780</td>\n      <td>0.847915</td>\n      <td>0.598186</td>\n      <td>0.228245</td>\n      <td>0.173569</td>\n      <td>Home</td>\n      <td>3479</td>\n    </tr>\n  </tbody>\n</table>\n</div>"
     },
     "metadata": {},
     "execution_count": 389
    }
   ],
   "source": [
    "class MissingDict(dict):\n",
    "    __missing__ = lambda self, key: key\n",
    "map_values = {\n",
    "    'Middlesboro': 'Middlesbrough',\n",
    "    \"Nott'm Forest\": 'Forest',\n",
    "    'Newcastle Utd': 'Newcastle',\n",
    "    'Luton Town': 'Luton',\n",
    "    'Manchester City': 'Man City',\n",
    "    'Manchester Utd': 'Man United',\n",
    "    'Sheffield Utd': 'Sheffield United',\n",
    "    \"Nott'ham Forest\": 'Forest',\n",
    "    \"Nottingham Forest\": 'Forest',\n",
    "    'Manchester United': 'Man United',\n",
    "    'Wolverhampton Wanderers': 'Wolves',\n",
    "    'Leicester City': 'Leicester',\n",
    "    'Newcastle United': 'Newcastle',\n",
    "    'Queens Park Rangers': 'QPR',\n",
    "    'West Bromwich Albion': 'West Brom',\n",
    "    'Vallecano': 'Rayo Vallecano', \n",
    "    'Ath Bilbao': 'Bilbao', \n",
    "    'Ath Madrid': 'Atletico', \n",
    "    'Espanol': 'Espanyol', \n",
    "    'Sp Gijon': 'Gijon', \n",
    "    'Celta Vigo': 'Celta', \n",
    "    'Atlético Madrid': 'Atletico', \n",
    "    'Athletic Club': 'Bilbao',\n",
    "    'Real Sociedad': 'Sociedad',\n",
    "    'Almería': 'Almeria',\n",
    "    'Cádiz': 'Cadiz',\n",
    "    'Alavés': 'Alaves',\n",
    "    'Hellas Verona': 'Verona',\n",
    "    'Atletico Madrid': 'Atletico', \n",
    "    'Sporting Gijon': 'Gijon',\n",
    "    'Real Betis': 'Betis',\n",
    "    'Real Valladolid': 'Valladolid'\n",
    "\n",
    "}\n",
    "mapping = MissingDict(**map_values)\n",
    "\n",
    "def rename_cols(df):\n",
    "    c1 = df.filter(like='HomeTeam').columns\n",
    "\n",
    "    c2 = c1.str.replace('HomeTeam', 'Team')\n",
    "    df = df.rename(columns={**dict(zip(c1, c2)), **dict(zip(c2, c1))})\n",
    "    c1 = df.filter(like='AwayTeam').columns\n",
    "\n",
    "    c2 = c1.str.replace('AwayTeam', 'Opponent')\n",
    "\n",
    "    df = df.rename(columns={**dict(zip(c1, c2)), **dict(zip(c2, c1))})\n",
    "    df['Team'] = df['Team'].map(mapping)\n",
    "    df['Opponent'] = df['Opponent'].map(mapping)\n",
    "\n",
    "    df['Venue'] = 'Home'\n",
    "    return df\n",
    "df2 = home_away(df1)#.drop_duplicates()\n",
    "df2[df2['Date'] == '2023-09-24']\n"
   ]
  },
  {
   "cell_type": "code",
   "execution_count": 373,
   "metadata": {},
   "outputs": [],
   "source": [
    "df2.to_csv(f'cache/{league}/xG.csv')"
   ]
  },
  {
   "cell_type": "code",
   "execution_count": 385,
   "metadata": {},
   "outputs": [],
   "source": [
    "elo = pd.read_csv(f'cache/{league}/elo.csv')"
   ]
  },
  {
   "cell_type": "code",
   "execution_count": 390,
   "metadata": {},
   "outputs": [
    {
     "output_type": "stream",
     "name": "stdout",
     "text": "['Deportivo La Coruna', 'Atletico Madrid', 'Sporting Gijon', 'Real Betis', 'Real Valladolid', 'SD Huesca']\n"
    }
   ],
   "source": [
    "li1 = df2['Team'].unique()\n",
    "s = set(elo['Team'].unique())\n",
    "\n",
    "print([x for x in li1 if x not in s])"
   ]
  },
  {
   "cell_type": "code",
   "execution_count": 342,
   "metadata": {},
   "outputs": [
    {
     "output_type": "execute_result",
     "data": {
      "text/plain": "      Unnamed: 0     id  isResult side        Date Result  h.id  \\\n6932           5  21951      True    h  2023-09-24      W   220   \n6933           5  21951      True    h  2023-09-24      W   220   \n6934           5  21947      True    a  2023-09-24      W    80   \n6935           5  21947      True    a  2023-09-24      W    80   \n6936           5  21954      True    h  2023-09-24      L   238   \n6937           5  21954      True    h  2023-09-24      L   238   \n\n                  Team h.short_title  a.id          Opponent a.short_title  \\\n6932          Brighton           BRI    73       Bournemouth           BOU   \n6933       Bournemouth           BRI    73          Brighton           BOU   \n6934       Aston Villa           CHE    71           Chelsea           AVL   \n6935           Chelsea           CHE    71       Aston Villa           AVL   \n6936         Newcastle           SHE    86  Sheffield United           NEW   \n6937  Sheffield United           SHE    86         Newcastle           NEW   \n\n      goals.h  goals.a    TeamxG  OpponentxG  forecast.w  forecast.d  \\\n6932      3.0      1.0  2.145330    1.589840    0.505717    0.207456   \n6933      3.0      1.0  1.589840    2.145330    0.505717    0.207456   \n6934      0.0      1.0  1.134790    1.197160    0.374712    0.281202   \n6935      0.0      1.0  1.197160    1.134790    0.374712    0.281202   \n6936      0.0      8.0  5.108200    0.579392    0.008346    0.023782   \n6937      0.0      8.0  0.579392    5.108200    0.008346    0.023782   \n\n      forecast.l Venue  GameID  \n6932    0.286827  Home    3466  \n6933    0.286827  Away    3466  \n6934    0.344086  Away    3467  \n6935    0.344086  Home    3467  \n6936    0.967590  Away    3468  \n6937    0.967590  Home    3468  ",
      "text/html": "<div>\n<style scoped>\n    .dataframe tbody tr th:only-of-type {\n        vertical-align: middle;\n    }\n\n    .dataframe tbody tr th {\n        vertical-align: top;\n    }\n\n    .dataframe thead th {\n        text-align: right;\n    }\n</style>\n<table border=\"1\" class=\"dataframe\">\n  <thead>\n    <tr style=\"text-align: right;\">\n      <th></th>\n      <th>Unnamed: 0</th>\n      <th>id</th>\n      <th>isResult</th>\n      <th>side</th>\n      <th>Date</th>\n      <th>Result</th>\n      <th>h.id</th>\n      <th>Team</th>\n      <th>h.short_title</th>\n      <th>a.id</th>\n      <th>Opponent</th>\n      <th>a.short_title</th>\n      <th>goals.h</th>\n      <th>goals.a</th>\n      <th>TeamxG</th>\n      <th>OpponentxG</th>\n      <th>forecast.w</th>\n      <th>forecast.d</th>\n      <th>forecast.l</th>\n      <th>Venue</th>\n      <th>GameID</th>\n    </tr>\n  </thead>\n  <tbody>\n    <tr>\n      <th>6932</th>\n      <td>5</td>\n      <td>21951</td>\n      <td>True</td>\n      <td>h</td>\n      <td>2023-09-24</td>\n      <td>W</td>\n      <td>220</td>\n      <td>Brighton</td>\n      <td>BRI</td>\n      <td>73</td>\n      <td>Bournemouth</td>\n      <td>BOU</td>\n      <td>3.0</td>\n      <td>1.0</td>\n      <td>2.145330</td>\n      <td>1.589840</td>\n      <td>0.505717</td>\n      <td>0.207456</td>\n      <td>0.286827</td>\n      <td>Home</td>\n      <td>3466</td>\n    </tr>\n    <tr>\n      <th>6933</th>\n      <td>5</td>\n      <td>21951</td>\n      <td>True</td>\n      <td>h</td>\n      <td>2023-09-24</td>\n      <td>W</td>\n      <td>220</td>\n      <td>Bournemouth</td>\n      <td>BRI</td>\n      <td>73</td>\n      <td>Brighton</td>\n      <td>BOU</td>\n      <td>3.0</td>\n      <td>1.0</td>\n      <td>1.589840</td>\n      <td>2.145330</td>\n      <td>0.505717</td>\n      <td>0.207456</td>\n      <td>0.286827</td>\n      <td>Away</td>\n      <td>3466</td>\n    </tr>\n    <tr>\n      <th>6934</th>\n      <td>5</td>\n      <td>21947</td>\n      <td>True</td>\n      <td>a</td>\n      <td>2023-09-24</td>\n      <td>W</td>\n      <td>80</td>\n      <td>Aston Villa</td>\n      <td>CHE</td>\n      <td>71</td>\n      <td>Chelsea</td>\n      <td>AVL</td>\n      <td>0.0</td>\n      <td>1.0</td>\n      <td>1.134790</td>\n      <td>1.197160</td>\n      <td>0.374712</td>\n      <td>0.281202</td>\n      <td>0.344086</td>\n      <td>Away</td>\n      <td>3467</td>\n    </tr>\n    <tr>\n      <th>6935</th>\n      <td>5</td>\n      <td>21947</td>\n      <td>True</td>\n      <td>a</td>\n      <td>2023-09-24</td>\n      <td>W</td>\n      <td>80</td>\n      <td>Chelsea</td>\n      <td>CHE</td>\n      <td>71</td>\n      <td>Aston Villa</td>\n      <td>AVL</td>\n      <td>0.0</td>\n      <td>1.0</td>\n      <td>1.197160</td>\n      <td>1.134790</td>\n      <td>0.374712</td>\n      <td>0.281202</td>\n      <td>0.344086</td>\n      <td>Home</td>\n      <td>3467</td>\n    </tr>\n    <tr>\n      <th>6936</th>\n      <td>5</td>\n      <td>21954</td>\n      <td>True</td>\n      <td>h</td>\n      <td>2023-09-24</td>\n      <td>L</td>\n      <td>238</td>\n      <td>Newcastle</td>\n      <td>SHE</td>\n      <td>86</td>\n      <td>Sheffield United</td>\n      <td>NEW</td>\n      <td>0.0</td>\n      <td>8.0</td>\n      <td>5.108200</td>\n      <td>0.579392</td>\n      <td>0.008346</td>\n      <td>0.023782</td>\n      <td>0.967590</td>\n      <td>Away</td>\n      <td>3468</td>\n    </tr>\n    <tr>\n      <th>6937</th>\n      <td>5</td>\n      <td>21954</td>\n      <td>True</td>\n      <td>h</td>\n      <td>2023-09-24</td>\n      <td>L</td>\n      <td>238</td>\n      <td>Sheffield United</td>\n      <td>SHE</td>\n      <td>86</td>\n      <td>Newcastle</td>\n      <td>NEW</td>\n      <td>0.0</td>\n      <td>8.0</td>\n      <td>0.579392</td>\n      <td>5.108200</td>\n      <td>0.008346</td>\n      <td>0.023782</td>\n      <td>0.967590</td>\n      <td>Home</td>\n      <td>3468</td>\n    </tr>\n  </tbody>\n</table>\n</div>"
     },
     "metadata": {},
     "execution_count": 342
    }
   ],
   "source": [
    "df[df['Date'] == '2023-09-24']"
   ]
  },
  {
   "cell_type": "code",
   "execution_count": 344,
   "metadata": {},
   "outputs": [],
   "source": [
    "\n",
    "#elo = elo[elo['Date'] >= '2014-08']\n",
    "elo\n",
    "new1 = elo.merge(df[['Date','Team', 'TeamxG', 'OpponentxG', 'Opponent']], on=['Date','Team', 'Opponent'], how='left').drop_duplicates()\n",
    "new1.isna().sum()\n",
    "\n",
    "new1.to_csv('xG.csv')\n",
    "#new1.merge(df[['Date','Team', 'TeamxG', 'OpponentxG', 'Opponent']], on=['Date', 'Opponent'], how='left').drop_duplicates()"
   ]
  },
  {
   "cell_type": "code",
   "execution_count": 352,
   "metadata": {},
   "outputs": [
    {
     "output_type": "execute_result",
     "data": {
      "text/plain": "     Unnamed: 0  week  day        Date   time              Team  home_xg  \\\n0             0     1  Fri  2023-08-11  20:00           Burnley      0.3   \n1             1     1  Sat  2023-08-12  12:30           Arsenal      0.8   \n2             2     1  Sat  2023-08-12  15:00       Bournemouth      1.3   \n3             3     1  Sat  2023-08-12  15:00          Brighton      4.0   \n4             4     1  Sat  2023-08-12  15:00           Everton      2.7   \n..          ...   ...  ...         ...    ...               ...      ...   \n375         375    38  Sun  2024-05-19    NaN    Crystal Palace      NaN   \n376         376    38  Sun  2024-05-19    NaN         Liverpool      NaN   \n377         377    38  Sun  2024-05-19    NaN             Luton      NaN   \n378         378    38  Sun  2024-05-19    NaN          Man City      NaN   \n379         379    38  Sun  2024-05-19    NaN  Sheffield United      NaN   \n\n    score  away_xg     Opponent  attendance  \\\n0     0–3      1.9     Man City     21572.0   \n1     2–1      1.2       Forest     59984.0   \n2     1–1      1.1     West Ham     11245.0   \n3     4–1      1.5        Luton     31872.0   \n4     0–1      1.5       Fulham     39940.0   \n..    ...      ...          ...         ...   \n375   NaN      NaN  Aston Villa         NaN   \n376   NaN      NaN       Wolves         NaN   \n377   NaN      NaN       Fulham         NaN   \n378   NaN      NaN     West Ham         NaN   \n379   NaN      NaN    Tottenham         NaN   \n\n                                      venue         Referee  \\\n0                                 Turf Moor    Craig Pawson   \n1                          Emirates Stadium  Michael Oliver   \n2                          Vitality Stadium    Peter Bankes   \n3    The American Express Community Stadium     David Coote   \n4                             Goodison Park  Stuart Attwell   \n..                                      ...             ...   \n375                           Selhurst Park             NaN   \n376                                 Anfield             NaN   \n377                 Kenilworth Road Stadium             NaN   \n378                          Etihad Stadium             NaN   \n379                            Bramall Lane             NaN   \n\n                                          match_report notes   game_id  \\\n0    /en/matches/3a6836b4/Burnley-Manchester-City-A...   NaN  3a6836b4   \n1    /en/matches/26a7f90c/Arsenal-Nottingham-Forest...   NaN  26a7f90c   \n2    /en/matches/d6bbf293/Bournemouth-West-Ham-Unit...   NaN  d6bbf293   \n3    /en/matches/56a137f7/Brighton-and-Hove-Albion-...   NaN  56a137f7   \n4    /en/matches/15addfc7/Everton-Fulham-August-12-...   NaN  15addfc7   \n..                                                 ...   ...       ...   \n375                                                NaN   NaN       NaN   \n376                                                NaN   NaN       NaN   \n377                                                NaN   NaN       NaN   \n378                                                NaN   NaN       NaN   \n379                                                NaN   NaN       NaN   \n\n     BbAv>2.5  BbAv<2.5  BbAvH  BbAvD  BbAvA Venue  \n0         NaN       NaN    NaN    NaN    NaN  Home  \n1         NaN       NaN    NaN    NaN    NaN  Home  \n2         NaN       NaN    NaN    NaN    NaN  Home  \n3         NaN       NaN    NaN    NaN    NaN  Home  \n4         NaN       NaN    NaN    NaN    NaN  Home  \n..        ...       ...    ...    ...    ...   ...  \n375       NaN       NaN    NaN    NaN    NaN  Home  \n376       NaN       NaN    NaN    NaN    NaN  Home  \n377       NaN       NaN    NaN    NaN    NaN  Home  \n378       NaN       NaN    NaN    NaN    NaN  Home  \n379       NaN       NaN    NaN    NaN    NaN  Home  \n\n[380 rows x 22 columns]",
      "text/html": "<div>\n<style scoped>\n    .dataframe tbody tr th:only-of-type {\n        vertical-align: middle;\n    }\n\n    .dataframe tbody tr th {\n        vertical-align: top;\n    }\n\n    .dataframe thead th {\n        text-align: right;\n    }\n</style>\n<table border=\"1\" class=\"dataframe\">\n  <thead>\n    <tr style=\"text-align: right;\">\n      <th></th>\n      <th>Unnamed: 0</th>\n      <th>week</th>\n      <th>day</th>\n      <th>Date</th>\n      <th>time</th>\n      <th>Team</th>\n      <th>home_xg</th>\n      <th>score</th>\n      <th>away_xg</th>\n      <th>Opponent</th>\n      <th>attendance</th>\n      <th>venue</th>\n      <th>Referee</th>\n      <th>match_report</th>\n      <th>notes</th>\n      <th>game_id</th>\n      <th>BbAv&gt;2.5</th>\n      <th>BbAv&lt;2.5</th>\n      <th>BbAvH</th>\n      <th>BbAvD</th>\n      <th>BbAvA</th>\n      <th>Venue</th>\n    </tr>\n  </thead>\n  <tbody>\n    <tr>\n      <th>0</th>\n      <td>0</td>\n      <td>1</td>\n      <td>Fri</td>\n      <td>2023-08-11</td>\n      <td>20:00</td>\n      <td>Burnley</td>\n      <td>0.3</td>\n      <td>0–3</td>\n      <td>1.9</td>\n      <td>Man City</td>\n      <td>21572.0</td>\n      <td>Turf Moor</td>\n      <td>Craig Pawson</td>\n      <td>/en/matches/3a6836b4/Burnley-Manchester-City-A...</td>\n      <td>NaN</td>\n      <td>3a6836b4</td>\n      <td>NaN</td>\n      <td>NaN</td>\n      <td>NaN</td>\n      <td>NaN</td>\n      <td>NaN</td>\n      <td>Home</td>\n    </tr>\n    <tr>\n      <th>1</th>\n      <td>1</td>\n      <td>1</td>\n      <td>Sat</td>\n      <td>2023-08-12</td>\n      <td>12:30</td>\n      <td>Arsenal</td>\n      <td>0.8</td>\n      <td>2–1</td>\n      <td>1.2</td>\n      <td>Forest</td>\n      <td>59984.0</td>\n      <td>Emirates Stadium</td>\n      <td>Michael Oliver</td>\n      <td>/en/matches/26a7f90c/Arsenal-Nottingham-Forest...</td>\n      <td>NaN</td>\n      <td>26a7f90c</td>\n      <td>NaN</td>\n      <td>NaN</td>\n      <td>NaN</td>\n      <td>NaN</td>\n      <td>NaN</td>\n      <td>Home</td>\n    </tr>\n    <tr>\n      <th>2</th>\n      <td>2</td>\n      <td>1</td>\n      <td>Sat</td>\n      <td>2023-08-12</td>\n      <td>15:00</td>\n      <td>Bournemouth</td>\n      <td>1.3</td>\n      <td>1–1</td>\n      <td>1.1</td>\n      <td>West Ham</td>\n      <td>11245.0</td>\n      <td>Vitality Stadium</td>\n      <td>Peter Bankes</td>\n      <td>/en/matches/d6bbf293/Bournemouth-West-Ham-Unit...</td>\n      <td>NaN</td>\n      <td>d6bbf293</td>\n      <td>NaN</td>\n      <td>NaN</td>\n      <td>NaN</td>\n      <td>NaN</td>\n      <td>NaN</td>\n      <td>Home</td>\n    </tr>\n    <tr>\n      <th>3</th>\n      <td>3</td>\n      <td>1</td>\n      <td>Sat</td>\n      <td>2023-08-12</td>\n      <td>15:00</td>\n      <td>Brighton</td>\n      <td>4.0</td>\n      <td>4–1</td>\n      <td>1.5</td>\n      <td>Luton</td>\n      <td>31872.0</td>\n      <td>The American Express Community Stadium</td>\n      <td>David Coote</td>\n      <td>/en/matches/56a137f7/Brighton-and-Hove-Albion-...</td>\n      <td>NaN</td>\n      <td>56a137f7</td>\n      <td>NaN</td>\n      <td>NaN</td>\n      <td>NaN</td>\n      <td>NaN</td>\n      <td>NaN</td>\n      <td>Home</td>\n    </tr>\n    <tr>\n      <th>4</th>\n      <td>4</td>\n      <td>1</td>\n      <td>Sat</td>\n      <td>2023-08-12</td>\n      <td>15:00</td>\n      <td>Everton</td>\n      <td>2.7</td>\n      <td>0–1</td>\n      <td>1.5</td>\n      <td>Fulham</td>\n      <td>39940.0</td>\n      <td>Goodison Park</td>\n      <td>Stuart Attwell</td>\n      <td>/en/matches/15addfc7/Everton-Fulham-August-12-...</td>\n      <td>NaN</td>\n      <td>15addfc7</td>\n      <td>NaN</td>\n      <td>NaN</td>\n      <td>NaN</td>\n      <td>NaN</td>\n      <td>NaN</td>\n      <td>Home</td>\n    </tr>\n    <tr>\n      <th>...</th>\n      <td>...</td>\n      <td>...</td>\n      <td>...</td>\n      <td>...</td>\n      <td>...</td>\n      <td>...</td>\n      <td>...</td>\n      <td>...</td>\n      <td>...</td>\n      <td>...</td>\n      <td>...</td>\n      <td>...</td>\n      <td>...</td>\n      <td>...</td>\n      <td>...</td>\n      <td>...</td>\n      <td>...</td>\n      <td>...</td>\n      <td>...</td>\n      <td>...</td>\n      <td>...</td>\n      <td>...</td>\n    </tr>\n    <tr>\n      <th>375</th>\n      <td>375</td>\n      <td>38</td>\n      <td>Sun</td>\n      <td>2024-05-19</td>\n      <td>NaN</td>\n      <td>Crystal Palace</td>\n      <td>NaN</td>\n      <td>NaN</td>\n      <td>NaN</td>\n      <td>Aston Villa</td>\n      <td>NaN</td>\n      <td>Selhurst Park</td>\n      <td>NaN</td>\n      <td>NaN</td>\n      <td>NaN</td>\n      <td>NaN</td>\n      <td>NaN</td>\n      <td>NaN</td>\n      <td>NaN</td>\n      <td>NaN</td>\n      <td>NaN</td>\n      <td>Home</td>\n    </tr>\n    <tr>\n      <th>376</th>\n      <td>376</td>\n      <td>38</td>\n      <td>Sun</td>\n      <td>2024-05-19</td>\n      <td>NaN</td>\n      <td>Liverpool</td>\n      <td>NaN</td>\n      <td>NaN</td>\n      <td>NaN</td>\n      <td>Wolves</td>\n      <td>NaN</td>\n      <td>Anfield</td>\n      <td>NaN</td>\n      <td>NaN</td>\n      <td>NaN</td>\n      <td>NaN</td>\n      <td>NaN</td>\n      <td>NaN</td>\n      <td>NaN</td>\n      <td>NaN</td>\n      <td>NaN</td>\n      <td>Home</td>\n    </tr>\n    <tr>\n      <th>377</th>\n      <td>377</td>\n      <td>38</td>\n      <td>Sun</td>\n      <td>2024-05-19</td>\n      <td>NaN</td>\n      <td>Luton</td>\n      <td>NaN</td>\n      <td>NaN</td>\n      <td>NaN</td>\n      <td>Fulham</td>\n      <td>NaN</td>\n      <td>Kenilworth Road Stadium</td>\n      <td>NaN</td>\n      <td>NaN</td>\n      <td>NaN</td>\n      <td>NaN</td>\n      <td>NaN</td>\n      <td>NaN</td>\n      <td>NaN</td>\n      <td>NaN</td>\n      <td>NaN</td>\n      <td>Home</td>\n    </tr>\n    <tr>\n      <th>378</th>\n      <td>378</td>\n      <td>38</td>\n      <td>Sun</td>\n      <td>2024-05-19</td>\n      <td>NaN</td>\n      <td>Man City</td>\n      <td>NaN</td>\n      <td>NaN</td>\n      <td>NaN</td>\n      <td>West Ham</td>\n      <td>NaN</td>\n      <td>Etihad Stadium</td>\n      <td>NaN</td>\n      <td>NaN</td>\n      <td>NaN</td>\n      <td>NaN</td>\n      <td>NaN</td>\n      <td>NaN</td>\n      <td>NaN</td>\n      <td>NaN</td>\n      <td>NaN</td>\n      <td>Home</td>\n    </tr>\n    <tr>\n      <th>379</th>\n      <td>379</td>\n      <td>38</td>\n      <td>Sun</td>\n      <td>2024-05-19</td>\n      <td>NaN</td>\n      <td>Sheffield United</td>\n      <td>NaN</td>\n      <td>NaN</td>\n      <td>NaN</td>\n      <td>Tottenham</td>\n      <td>NaN</td>\n      <td>Bramall Lane</td>\n      <td>NaN</td>\n      <td>NaN</td>\n      <td>NaN</td>\n      <td>NaN</td>\n      <td>NaN</td>\n      <td>NaN</td>\n      <td>NaN</td>\n      <td>NaN</td>\n      <td>NaN</td>\n      <td>Home</td>\n    </tr>\n  </tbody>\n</table>\n<p>380 rows × 22 columns</p>\n</div>"
     },
     "metadata": {},
     "execution_count": 352
    }
   ],
   "source": [
    "sched = pd.read_csv(f'cache/PremierLeague/schedule.csv')\n",
    "sched = rename_cols(sched)\n",
    "sched\n",
    "sched.merge(df[['Date', 'Team', 'TeamxG', 'OpponentxG']], on=['Date', 'Team'])"
   ]
  },
  {
   "cell_type": "code",
   "execution_count": 28,
   "metadata": {},
   "outputs": [
    {
     "output_type": "display_data",
     "data": {
      "text/plain": "\u001b[2;36m[09/28/23 12:33:52]\u001b[0m\u001b[2;36m \u001b[0m\u001b[34mINFO    \u001b[0m Saving cached data to \u001b[35m/Users/Gautham/soccerdata/data/\u001b[0m\u001b[95mFBref\u001b[0m               \u001b]8;id=399759;file:///Users/Gautham/miniconda3/envs/dl_hw0/lib/python3.8/site-packages/soccerdata/_common.py\u001b\\\u001b[2m_common.py\u001b[0m\u001b]8;;\u001b\\\u001b[2m:\u001b[0m\u001b]8;id=390898;file:///Users/Gautham/miniconda3/envs/dl_hw0/lib/python3.8/site-packages/soccerdata/_common.py#89\u001b\\\u001b[2m89\u001b[0m\u001b]8;;\u001b\\\n",
      "text/html": "<pre style=\"white-space:pre;overflow-x:auto;line-height:normal;font-family:Menlo,'DejaVu Sans Mono',consolas,'Courier New',monospace\"><span style=\"color: #7fbfbf; text-decoration-color: #7fbfbf\">[09/28/23 12:33:52] </span><span style=\"color: #000080; text-decoration-color: #000080\">INFO    </span> Saving cached data to <span style=\"color: #800080; text-decoration-color: #800080\">/Users/Gautham/soccerdata/data/</span><span style=\"color: #ff00ff; text-decoration-color: #ff00ff\">FBref</span>               <a href=\"file:///Users/Gautham/miniconda3/envs/dl_hw0/lib/python3.8/site-packages/soccerdata/_common.py\" target=\"_blank\"><span style=\"color: #7f7f7f; text-decoration-color: #7f7f7f\">_common.py</span></a><span style=\"color: #7f7f7f; text-decoration-color: #7f7f7f\">:</span><a href=\"file:///Users/Gautham/miniconda3/envs/dl_hw0/lib/python3.8/site-packages/soccerdata/_common.py#89\" target=\"_blank\"><span style=\"color: #7f7f7f; text-decoration-color: #7f7f7f\">89</span></a>\n</pre>\n"
     },
     "metadata": {}
    },
    {
     "output_type": "execute_result",
     "data": {
      "text/plain": "                                                                         date  \\\nleague             season team    game                                          \nENG-Premier League 1920   Arsenal 2019-08-11 Newcastle Utd-Arsenal 2019-08-11   \n                                  2019-08-17 Arsenal-Burnley       2019-08-17   \n                                  2019-08-24 Liverpool-Arsenal     2019-08-24   \n                                  2019-09-01 Arsenal-Tottenham     2019-09-01   \n                                  2019-09-15 Watford-Arsenal       2019-09-15   \n...                                                                       ...   \n                          Wolves  2020-07-08 Sheffield Utd-Wolves  2020-07-08   \n                                  2020-07-12 Wolves-Everton        2020-07-12   \n                                  2020-07-15 Burnley-Wolves        2020-07-15   \n                                  2020-07-20 Wolves-Crystal Palace 2020-07-20   \n                                  2020-07-26 Chelsea-Wolves        2020-07-26   \n\n                                                                        time  \\\nleague             season team    game                                         \nENG-Premier League 1920   Arsenal 2019-08-11 Newcastle Utd-Arsenal  14:00:00   \n                                  2019-08-17 Arsenal-Burnley        12:30:00   \n                                  2019-08-24 Liverpool-Arsenal      17:30:00   \n                                  2019-09-01 Arsenal-Tottenham      16:30:00   \n                                  2019-09-15 Watford-Arsenal        16:30:00   \n...                                                                      ...   \n                          Wolves  2020-07-08 Sheffield Utd-Wolves   18:00:00   \n                                  2020-07-12 Wolves-Everton         12:00:00   \n                                  2020-07-15 Burnley-Wolves         18:00:00   \n                                  2020-07-20 Wolves-Crystal Palace  20:15:00   \n                                  2020-07-26 Chelsea-Wolves         16:00:00   \n\n                                                                           round  \\\nleague             season team    game                                             \nENG-Premier League 1920   Arsenal 2019-08-11 Newcastle Utd-Arsenal   Matchweek 1   \n                                  2019-08-17 Arsenal-Burnley         Matchweek 2   \n                                  2019-08-24 Liverpool-Arsenal       Matchweek 3   \n                                  2019-09-01 Arsenal-Tottenham       Matchweek 4   \n                                  2019-09-15 Watford-Arsenal         Matchweek 5   \n...                                                                          ...   \n                          Wolves  2020-07-08 Sheffield Utd-Wolves   Matchweek 34   \n                                  2020-07-12 Wolves-Everton         Matchweek 35   \n                                  2020-07-15 Burnley-Wolves         Matchweek 36   \n                                  2020-07-20 Wolves-Crystal Palace  Matchweek 37   \n                                  2020-07-26 Chelsea-Wolves         Matchweek 38   \n\n                                                                    day venue  \\\nleague             season team    game                                          \nENG-Premier League 1920   Arsenal 2019-08-11 Newcastle Utd-Arsenal  Sun  Away   \n                                  2019-08-17 Arsenal-Burnley        Sat  Home   \n                                  2019-08-24 Liverpool-Arsenal      Sat  Away   \n                                  2019-09-01 Arsenal-Tottenham      Sun  Home   \n                                  2019-09-15 Watford-Arsenal        Sun  Away   \n...                                                                 ...   ...   \n                          Wolves  2020-07-08 Sheffield Utd-Wolves   Wed  Away   \n                                  2020-07-12 Wolves-Everton         Sun  Home   \n                                  2020-07-15 Burnley-Wolves         Wed  Away   \n                                  2020-07-20 Wolves-Crystal Palace  Mon  Home   \n                                  2020-07-26 Chelsea-Wolves         Sun  Away   \n\n                                                                   result GF  \\\nleague             season team    game                                         \nENG-Premier League 1920   Arsenal 2019-08-11 Newcastle Utd-Arsenal      W  1   \n                                  2019-08-17 Arsenal-Burnley            W  2   \n                                  2019-08-24 Liverpool-Arsenal          L  1   \n                                  2019-09-01 Arsenal-Tottenham          D  2   \n                                  2019-09-15 Watford-Arsenal            D  2   \n...                                                                   ... ..   \n                          Wolves  2020-07-08 Sheffield Utd-Wolves       L  0   \n                                  2020-07-12 Wolves-Everton             W  3   \n                                  2020-07-15 Burnley-Wolves             D  1   \n                                  2020-07-20 Wolves-Crystal Palace      W  2   \n                                  2020-07-26 Chelsea-Wolves             L  0   \n\n                                                                   GA  \\\nleague             season team    game                                  \nENG-Premier League 1920   Arsenal 2019-08-11 Newcastle Utd-Arsenal  0   \n                                  2019-08-17 Arsenal-Burnley        1   \n                                  2019-08-24 Liverpool-Arsenal      3   \n                                  2019-09-01 Arsenal-Tottenham      2   \n                                  2019-09-15 Watford-Arsenal        2   \n...                                                                ..   \n                          Wolves  2020-07-08 Sheffield Utd-Wolves   1   \n                                  2020-07-12 Wolves-Everton         0   \n                                  2020-07-15 Burnley-Wolves         1   \n                                  2020-07-20 Wolves-Crystal Palace  0   \n                                  2020-07-26 Chelsea-Wolves         2   \n\n                                                                          opponent  \\\nleague             season team    game                                               \nENG-Premier League 1920   Arsenal 2019-08-11 Newcastle Utd-Arsenal   Newcastle Utd   \n                                  2019-08-17 Arsenal-Burnley               Burnley   \n                                  2019-08-24 Liverpool-Arsenal           Liverpool   \n                                  2019-09-01 Arsenal-Tottenham           Tottenham   \n                                  2019-09-15 Watford-Arsenal               Watford   \n...                                                                            ...   \n                          Wolves  2020-07-08 Sheffield Utd-Wolves    Sheffield Utd   \n                                  2020-07-12 Wolves-Everton                Everton   \n                                  2020-07-15 Burnley-Wolves                Burnley   \n                                  2020-07-20 Wolves-Crystal Palace  Crystal Palace   \n                                  2020-07-26 Chelsea-Wolves                Chelsea   \n\n                                                                     xG  xGA  \\\nleague             season team    game                                         \nENG-Premier League 1920   Arsenal 2019-08-11 Newcastle Utd-Arsenal  1.1  0.4   \n                                  2019-08-17 Arsenal-Burnley        0.8  1.5   \n                                  2019-08-24 Liverpool-Arsenal      1.0  2.5   \n                                  2019-09-01 Arsenal-Tottenham      2.4  2.0   \n                                  2019-09-15 Watford-Arsenal        0.8  2.7   \n...                                                                 ...  ...   \n                          Wolves  2020-07-08 Sheffield Utd-Wolves   0.4  0.5   \n                                  2020-07-12 Wolves-Everton         2.6  0.3   \n                                  2020-07-15 Burnley-Wolves         1.2  1.9   \n                                  2020-07-20 Wolves-Crystal Palace  1.5  0.4   \n                                  2020-07-26 Chelsea-Wolves         0.2  1.4   \n\n                                                                    Poss  \\\nleague             season team    game                                     \nENG-Premier League 1920   Arsenal 2019-08-11 Newcastle Utd-Arsenal    62   \n                                  2019-08-17 Arsenal-Burnley          67   \n                                  2019-08-24 Liverpool-Arsenal        48   \n                                  2019-09-01 Arsenal-Tottenham        55   \n                                  2019-09-15 Watford-Arsenal          48   \n...                                                                  ...   \n                          Wolves  2020-07-08 Sheffield Utd-Wolves     56   \n                                  2020-07-12 Wolves-Everton           55   \n                                  2020-07-15 Burnley-Wolves           53   \n                                  2020-07-20 Wolves-Crystal Palace    53   \n                                  2020-07-26 Chelsea-Wolves           38   \n\n                                                                    Attendance  \\\nleague             season team    game                                           \nENG-Premier League 1920   Arsenal 2019-08-11 Newcastle Utd-Arsenal       47635   \n                                  2019-08-17 Arsenal-Burnley             60214   \n                                  2019-08-24 Liverpool-Arsenal           53298   \n                                  2019-09-01 Arsenal-Tottenham           60333   \n                                  2019-09-15 Watford-Arsenal             21360   \n...                                                                        ...   \n                          Wolves  2020-07-08 Sheffield Utd-Wolves         <NA>   \n                                  2020-07-12 Wolves-Everton               <NA>   \n                                  2020-07-15 Burnley-Wolves               <NA>   \n                                  2020-07-20 Wolves-Crystal Palace        <NA>   \n                                  2020-07-26 Chelsea-Wolves               <NA>   \n\n                                                                          Captain  \\\nleague             season team    game                                              \nENG-Premier League 1920   Arsenal 2019-08-11 Newcastle Utd-Arsenal   Granit Xhaka   \n                                  2019-08-17 Arsenal-Burnley        Nacho Monreal   \n                                  2019-08-24 Liverpool-Arsenal       Granit Xhaka   \n                                  2019-09-01 Arsenal-Tottenham       Granit Xhaka   \n                                  2019-09-15 Watford-Arsenal         Granit Xhaka   \n...                                                                           ...   \n                          Wolves  2020-07-08 Sheffield Utd-Wolves     Conor Coady   \n                                  2020-07-12 Wolves-Everton           Conor Coady   \n                                  2020-07-15 Burnley-Wolves           Conor Coady   \n                                  2020-07-20 Wolves-Crystal Palace    Conor Coady   \n                                  2020-07-26 Chelsea-Wolves           Conor Coady   \n\n                                                                     Formation  \\\nleague             season team    game                                           \nENG-Premier League 1920   Arsenal 2019-08-11 Newcastle Utd-Arsenal     4-2-3-1   \n                                  2019-08-17 Arsenal-Burnley           4-2-3-1   \n                                  2019-08-24 Liverpool-Arsenal         4-3-1-2   \n                                  2019-09-01 Arsenal-Tottenham           4-3-3   \n                                  2019-09-15 Watford-Arsenal        4-1-2-1-2◆   \n...                                                                        ...   \n                          Wolves  2020-07-08 Sheffield Utd-Wolves        3-4-3   \n                                  2020-07-12 Wolves-Everton              3-4-3   \n                                  2020-07-15 Burnley-Wolves              3-4-3   \n                                  2020-07-20 Wolves-Crystal Palace       3-4-3   \n                                  2020-07-26 Chelsea-Wolves              3-4-3   \n\n                                                                            Referee  \\\nleague             season team    game                                                \nENG-Premier League 1920   Arsenal 2019-08-11 Newcastle Utd-Arsenal  Martin Atkinson   \n                                  2019-08-17 Arsenal-Burnley              Mike Dean   \n                                  2019-08-24 Liverpool-Arsenal       Anthony Taylor   \n                                  2019-09-01 Arsenal-Tottenham      Martin Atkinson   \n                                  2019-09-15 Watford-Arsenal         Anthony Taylor   \n...                                                                             ...   \n                          Wolves  2020-07-08 Sheffield Utd-Wolves   Martin Atkinson   \n                                  2020-07-12 Wolves-Everton          Anthony Taylor   \n                                  2020-07-15 Burnley-Wolves               Mike Dean   \n                                  2020-07-20 Wolves-Crystal Palace     Peter Bankes   \n                                  2020-07-26 Chelsea-Wolves          Stuart Attwell   \n\n                                                                                                         match_report  \\\nleague             season team    game                                                                                  \nENG-Premier League 1920   Arsenal 2019-08-11 Newcastle Utd-Arsenal  /en/matches/1405a610/Newcastle-United-Arsenal-...   \n                                  2019-08-17 Arsenal-Burnley        /en/matches/ff7eda21/Arsenal-Burnley-August-17...   \n                                  2019-08-24 Liverpool-Arsenal      /en/matches/102b241e/Liverpool-Arsenal-August-...   \n                                  2019-09-01 Arsenal-Tottenham      /en/matches/0b6b8aaf/North-London-Derby-Arsena...   \n                                  2019-09-15 Watford-Arsenal        /en/matches/8257eda8/Watford-Arsenal-September...   \n...                                                                                                               ...   \n                          Wolves  2020-07-08 Sheffield Utd-Wolves   /en/matches/f898c8ea/Sheffield-United-Wolverha...   \n                                  2020-07-12 Wolves-Everton         /en/matches/476e8583/Wolverhampton-Wanderers-E...   \n                                  2020-07-15 Burnley-Wolves         /en/matches/a7c5d31f/Burnley-Wolverhampton-Wan...   \n                                  2020-07-20 Wolves-Crystal Palace  /en/matches/70598e52/Wolverhampton-Wanderers-C...   \n                                  2020-07-26 Chelsea-Wolves         /en/matches/9cca4ba0/Chelsea-Wolverhampton-Wan...   \n\n                                                                   Notes  \nleague             season team    game                                    \nENG-Premier League 1920   Arsenal 2019-08-11 Newcastle Utd-Arsenal  <NA>  \n                                  2019-08-17 Arsenal-Burnley        <NA>  \n                                  2019-08-24 Liverpool-Arsenal      <NA>  \n                                  2019-09-01 Arsenal-Tottenham      <NA>  \n                                  2019-09-15 Watford-Arsenal        <NA>  \n...                                                                  ...  \n                          Wolves  2020-07-08 Sheffield Utd-Wolves   <NA>  \n                                  2020-07-12 Wolves-Everton         <NA>  \n                                  2020-07-15 Burnley-Wolves         <NA>  \n                                  2020-07-20 Wolves-Crystal Palace  <NA>  \n                                  2020-07-26 Chelsea-Wolves         <NA>  \n\n[760 rows x 18 columns]",
      "text/html": "<div>\n<style scoped>\n    .dataframe tbody tr th:only-of-type {\n        vertical-align: middle;\n    }\n\n    .dataframe tbody tr th {\n        vertical-align: top;\n    }\n\n    .dataframe thead th {\n        text-align: right;\n    }\n</style>\n<table border=\"1\" class=\"dataframe\">\n  <thead>\n    <tr style=\"text-align: right;\">\n      <th></th>\n      <th></th>\n      <th></th>\n      <th></th>\n      <th>date</th>\n      <th>time</th>\n      <th>round</th>\n      <th>day</th>\n      <th>venue</th>\n      <th>result</th>\n      <th>GF</th>\n      <th>GA</th>\n      <th>opponent</th>\n      <th>xG</th>\n      <th>xGA</th>\n      <th>Poss</th>\n      <th>Attendance</th>\n      <th>Captain</th>\n      <th>Formation</th>\n      <th>Referee</th>\n      <th>match_report</th>\n      <th>Notes</th>\n    </tr>\n    <tr>\n      <th>league</th>\n      <th>season</th>\n      <th>team</th>\n      <th>game</th>\n      <th></th>\n      <th></th>\n      <th></th>\n      <th></th>\n      <th></th>\n      <th></th>\n      <th></th>\n      <th></th>\n      <th></th>\n      <th></th>\n      <th></th>\n      <th></th>\n      <th></th>\n      <th></th>\n      <th></th>\n      <th></th>\n      <th></th>\n      <th></th>\n    </tr>\n  </thead>\n  <tbody>\n    <tr>\n      <th rowspan=\"11\" valign=\"top\">ENG-Premier League</th>\n      <th rowspan=\"11\" valign=\"top\">1920</th>\n      <th rowspan=\"5\" valign=\"top\">Arsenal</th>\n      <th>2019-08-11 Newcastle Utd-Arsenal</th>\n      <td>2019-08-11</td>\n      <td>14:00:00</td>\n      <td>Matchweek 1</td>\n      <td>Sun</td>\n      <td>Away</td>\n      <td>W</td>\n      <td>1</td>\n      <td>0</td>\n      <td>Newcastle Utd</td>\n      <td>1.1</td>\n      <td>0.4</td>\n      <td>62</td>\n      <td>47635</td>\n      <td>Granit Xhaka</td>\n      <td>4-2-3-1</td>\n      <td>Martin Atkinson</td>\n      <td>/en/matches/1405a610/Newcastle-United-Arsenal-...</td>\n      <td>&lt;NA&gt;</td>\n    </tr>\n    <tr>\n      <th>2019-08-17 Arsenal-Burnley</th>\n      <td>2019-08-17</td>\n      <td>12:30:00</td>\n      <td>Matchweek 2</td>\n      <td>Sat</td>\n      <td>Home</td>\n      <td>W</td>\n      <td>2</td>\n      <td>1</td>\n      <td>Burnley</td>\n      <td>0.8</td>\n      <td>1.5</td>\n      <td>67</td>\n      <td>60214</td>\n      <td>Nacho Monreal</td>\n      <td>4-2-3-1</td>\n      <td>Mike Dean</td>\n      <td>/en/matches/ff7eda21/Arsenal-Burnley-August-17...</td>\n      <td>&lt;NA&gt;</td>\n    </tr>\n    <tr>\n      <th>2019-08-24 Liverpool-Arsenal</th>\n      <td>2019-08-24</td>\n      <td>17:30:00</td>\n      <td>Matchweek 3</td>\n      <td>Sat</td>\n      <td>Away</td>\n      <td>L</td>\n      <td>1</td>\n      <td>3</td>\n      <td>Liverpool</td>\n      <td>1.0</td>\n      <td>2.5</td>\n      <td>48</td>\n      <td>53298</td>\n      <td>Granit Xhaka</td>\n      <td>4-3-1-2</td>\n      <td>Anthony Taylor</td>\n      <td>/en/matches/102b241e/Liverpool-Arsenal-August-...</td>\n      <td>&lt;NA&gt;</td>\n    </tr>\n    <tr>\n      <th>2019-09-01 Arsenal-Tottenham</th>\n      <td>2019-09-01</td>\n      <td>16:30:00</td>\n      <td>Matchweek 4</td>\n      <td>Sun</td>\n      <td>Home</td>\n      <td>D</td>\n      <td>2</td>\n      <td>2</td>\n      <td>Tottenham</td>\n      <td>2.4</td>\n      <td>2.0</td>\n      <td>55</td>\n      <td>60333</td>\n      <td>Granit Xhaka</td>\n      <td>4-3-3</td>\n      <td>Martin Atkinson</td>\n      <td>/en/matches/0b6b8aaf/North-London-Derby-Arsena...</td>\n      <td>&lt;NA&gt;</td>\n    </tr>\n    <tr>\n      <th>2019-09-15 Watford-Arsenal</th>\n      <td>2019-09-15</td>\n      <td>16:30:00</td>\n      <td>Matchweek 5</td>\n      <td>Sun</td>\n      <td>Away</td>\n      <td>D</td>\n      <td>2</td>\n      <td>2</td>\n      <td>Watford</td>\n      <td>0.8</td>\n      <td>2.7</td>\n      <td>48</td>\n      <td>21360</td>\n      <td>Granit Xhaka</td>\n      <td>4-1-2-1-2◆</td>\n      <td>Anthony Taylor</td>\n      <td>/en/matches/8257eda8/Watford-Arsenal-September...</td>\n      <td>&lt;NA&gt;</td>\n    </tr>\n    <tr>\n      <th>...</th>\n      <th>...</th>\n      <td>...</td>\n      <td>...</td>\n      <td>...</td>\n      <td>...</td>\n      <td>...</td>\n      <td>...</td>\n      <td>...</td>\n      <td>...</td>\n      <td>...</td>\n      <td>...</td>\n      <td>...</td>\n      <td>...</td>\n      <td>...</td>\n      <td>...</td>\n      <td>...</td>\n      <td>...</td>\n      <td>...</td>\n      <td>...</td>\n    </tr>\n    <tr>\n      <th rowspan=\"5\" valign=\"top\">Wolves</th>\n      <th>2020-07-08 Sheffield Utd-Wolves</th>\n      <td>2020-07-08</td>\n      <td>18:00:00</td>\n      <td>Matchweek 34</td>\n      <td>Wed</td>\n      <td>Away</td>\n      <td>L</td>\n      <td>0</td>\n      <td>1</td>\n      <td>Sheffield Utd</td>\n      <td>0.4</td>\n      <td>0.5</td>\n      <td>56</td>\n      <td>&lt;NA&gt;</td>\n      <td>Conor Coady</td>\n      <td>3-4-3</td>\n      <td>Martin Atkinson</td>\n      <td>/en/matches/f898c8ea/Sheffield-United-Wolverha...</td>\n      <td>&lt;NA&gt;</td>\n    </tr>\n    <tr>\n      <th>2020-07-12 Wolves-Everton</th>\n      <td>2020-07-12</td>\n      <td>12:00:00</td>\n      <td>Matchweek 35</td>\n      <td>Sun</td>\n      <td>Home</td>\n      <td>W</td>\n      <td>3</td>\n      <td>0</td>\n      <td>Everton</td>\n      <td>2.6</td>\n      <td>0.3</td>\n      <td>55</td>\n      <td>&lt;NA&gt;</td>\n      <td>Conor Coady</td>\n      <td>3-4-3</td>\n      <td>Anthony Taylor</td>\n      <td>/en/matches/476e8583/Wolverhampton-Wanderers-E...</td>\n      <td>&lt;NA&gt;</td>\n    </tr>\n    <tr>\n      <th>2020-07-15 Burnley-Wolves</th>\n      <td>2020-07-15</td>\n      <td>18:00:00</td>\n      <td>Matchweek 36</td>\n      <td>Wed</td>\n      <td>Away</td>\n      <td>D</td>\n      <td>1</td>\n      <td>1</td>\n      <td>Burnley</td>\n      <td>1.2</td>\n      <td>1.9</td>\n      <td>53</td>\n      <td>&lt;NA&gt;</td>\n      <td>Conor Coady</td>\n      <td>3-4-3</td>\n      <td>Mike Dean</td>\n      <td>/en/matches/a7c5d31f/Burnley-Wolverhampton-Wan...</td>\n      <td>&lt;NA&gt;</td>\n    </tr>\n    <tr>\n      <th>2020-07-20 Wolves-Crystal Palace</th>\n      <td>2020-07-20</td>\n      <td>20:15:00</td>\n      <td>Matchweek 37</td>\n      <td>Mon</td>\n      <td>Home</td>\n      <td>W</td>\n      <td>2</td>\n      <td>0</td>\n      <td>Crystal Palace</td>\n      <td>1.5</td>\n      <td>0.4</td>\n      <td>53</td>\n      <td>&lt;NA&gt;</td>\n      <td>Conor Coady</td>\n      <td>3-4-3</td>\n      <td>Peter Bankes</td>\n      <td>/en/matches/70598e52/Wolverhampton-Wanderers-C...</td>\n      <td>&lt;NA&gt;</td>\n    </tr>\n    <tr>\n      <th>2020-07-26 Chelsea-Wolves</th>\n      <td>2020-07-26</td>\n      <td>16:00:00</td>\n      <td>Matchweek 38</td>\n      <td>Sun</td>\n      <td>Away</td>\n      <td>L</td>\n      <td>0</td>\n      <td>2</td>\n      <td>Chelsea</td>\n      <td>0.2</td>\n      <td>1.4</td>\n      <td>38</td>\n      <td>&lt;NA&gt;</td>\n      <td>Conor Coady</td>\n      <td>3-4-3</td>\n      <td>Stuart Attwell</td>\n      <td>/en/matches/9cca4ba0/Chelsea-Wolverhampton-Wan...</td>\n      <td>&lt;NA&gt;</td>\n    </tr>\n  </tbody>\n</table>\n<p>760 rows × 18 columns</p>\n</div>"
     },
     "metadata": {},
     "execution_count": 28
    }
   ],
   "source": [
    "fbref = sd.FBref(leagues='ENG-Premier League', seasons=2019)\n",
    "fbref.read_team_match_stats()"
   ]
  },
  {
   "cell_type": "code",
   "execution_count": 19,
   "metadata": {},
   "outputs": [
    {
     "output_type": "display_data",
     "data": {
      "text/plain": "\u001b[2;36m[09/27/23 13:11:45]\u001b[0m\u001b[2;36m \u001b[0m\u001b[34mINFO    \u001b[0m Saving cached data to \u001b[35m/Users/Gautham/soccerdata/data/\u001b[0m\u001b[95mClubElo\u001b[0m             \u001b]8;id=79739;file:///Users/Gautham/miniconda3/envs/dl_hw0/lib/python3.8/site-packages/soccerdata/_common.py\u001b\\\u001b[2m_common.py\u001b[0m\u001b]8;;\u001b\\\u001b[2m:\u001b[0m\u001b]8;id=517298;file:///Users/Gautham/miniconda3/envs/dl_hw0/lib/python3.8/site-packages/soccerdata/_common.py#89\u001b\\\u001b[2m89\u001b[0m\u001b]8;;\u001b\\\n",
      "text/html": "<pre style=\"white-space:pre;overflow-x:auto;line-height:normal;font-family:Menlo,'DejaVu Sans Mono',consolas,'Courier New',monospace\"><span style=\"color: #7fbfbf; text-decoration-color: #7fbfbf\">[09/27/23 13:11:45] </span><span style=\"color: #000080; text-decoration-color: #000080\">INFO    </span> Saving cached data to <span style=\"color: #800080; text-decoration-color: #800080\">/Users/Gautham/soccerdata/data/</span><span style=\"color: #ff00ff; text-decoration-color: #ff00ff\">ClubElo</span>             <a href=\"file:///Users/Gautham/miniconda3/envs/dl_hw0/lib/python3.8/site-packages/soccerdata/_common.py\" target=\"_blank\"><span style=\"color: #7f7f7f; text-decoration-color: #7f7f7f\">_common.py</span></a><span style=\"color: #7f7f7f; text-decoration-color: #7f7f7f\">:</span><a href=\"file:///Users/Gautham/miniconda3/envs/dl_hw0/lib/python3.8/site-packages/soccerdata/_common.py#89\" target=\"_blank\"><span style=\"color: #7f7f7f; text-decoration-color: #7f7f7f\">89</span></a>\n</pre>\n"
     },
     "metadata": {}
    },
    {
     "output_type": "stream",
     "name": "stdout",
     "text": "hi Charlton\nhi Man City\nhi Chelsea\nhi West Ham\nhi Coventry\nhi Middlesbrough\nhi Southampton\nhi Derby\nhi Leeds\nhi Everton\nhi Leicester\nhi Aston Villa\nhi Bradford\nhi Liverpool\nhi Arsenal\nhi Sunderland\nhi Ipswich\nhi Tottenham\nhi Newcastle\nhi Man United\nhi Bolton\nhi Blackburn\nhi Fulham\nhi West Brom\nhi Birmingham\nhi Portsmouth\nhi Wolves\nhi Norwich\nhi Crystal Palace\nhi Wigan\nhi Watford\nhi Reading\nhi Sheffield United\nhi Hull\nhi Stoke\nhi Burnley\nhi Blackpool\nhi QPR\nhi Swansea\nhi Cardiff\nhi Bournemouth\nhi Brighton\nhi Huddersfield\nhi Brentford\nhi Forest\nhi Luton\n[]\n"
    }
   ],
   "source": [
    "#! pip install pandasql\n",
    "import pandasql as ps\n",
    "processed = pd.read_csv('cache/PremierLeague/processed.csv')\n",
    "clubelo = sd.ClubElo('ENG-Premier League')#self.dic[self.league])\n",
    "missing = []\n",
    "# create elo df\n",
    "elo_df = pd.DataFrame()\n",
    "#print(full_df['Team'].unique())\n",
    "for club in processed['Team'].unique():\n",
    "    print('hi', club)\n",
    "    try:\n",
    "        elo = clubelo.read_team_history(club)\n",
    "        elo_df = pd.concat([elo_df,elo])\n",
    "    except:\n",
    "        missing.append(club)\n",
    "    #print(elo_df)\n",
    "print(missing)\n",
    "elo_df = elo_df.reset_index()\n",
    "elo_df = elo_df[elo_df['from'] > '2000'] \n",
    "\n"
   ]
  },
  {
   "cell_type": "code",
   "execution_count": 26,
   "metadata": {},
   "outputs": [
    {
     "output_type": "error",
     "ename": "MergeError",
     "evalue": "can only asof on a key for left",
     "traceback": [
      "\u001b[0;31m---------------------------------------------------------------------------\u001b[0m",
      "\u001b[0;31mMergeError\u001b[0m                                Traceback (most recent call last)",
      "Cell \u001b[0;32mIn[26], line 1\u001b[0m\n\u001b[0;32m----> 1\u001b[0m out \u001b[38;5;241m=\u001b[39m \u001b[43mpd\u001b[49m\u001b[38;5;241;43m.\u001b[39;49m\u001b[43mmerge_asof\u001b[49m\u001b[43m(\u001b[49m\u001b[43mprocessed\u001b[49m\u001b[43m,\u001b[49m\u001b[43m \u001b[49m\u001b[43melo_df\u001b[49m\u001b[43m[\u001b[49m\u001b[43m[\u001b[49m\u001b[38;5;124;43m'\u001b[39;49m\u001b[38;5;124;43mteam\u001b[39;49m\u001b[38;5;124;43m'\u001b[39;49m\u001b[43m,\u001b[49m\u001b[43m \u001b[49m\u001b[38;5;124;43m'\u001b[39;49m\u001b[38;5;124;43melo\u001b[39;49m\u001b[38;5;124;43m'\u001b[39;49m\u001b[43m,\u001b[49m\u001b[43m \u001b[49m\u001b[38;5;124;43m'\u001b[39;49m\u001b[38;5;124;43mfrom\u001b[39;49m\u001b[38;5;124;43m'\u001b[39;49m\u001b[43m,\u001b[49m\u001b[43m \u001b[49m\u001b[38;5;124;43m'\u001b[39;49m\u001b[38;5;124;43mto\u001b[39;49m\u001b[38;5;124;43m'\u001b[39;49m\u001b[43m]\u001b[49m\u001b[43m]\u001b[49m\u001b[43m,\u001b[49m\u001b[43m \u001b[49m\u001b[43mleft_on\u001b[49m\u001b[38;5;241;43m=\u001b[39;49m\u001b[43m[\u001b[49m\u001b[38;5;124;43m'\u001b[39;49m\u001b[38;5;124;43mTeam\u001b[39;49m\u001b[38;5;124;43m'\u001b[39;49m\u001b[43m,\u001b[49m\u001b[43m \u001b[49m\u001b[38;5;124;43m'\u001b[39;49m\u001b[38;5;124;43mDate\u001b[39;49m\u001b[38;5;124;43m'\u001b[39;49m\u001b[43m]\u001b[49m\u001b[43m,\u001b[49m\u001b[43m \u001b[49m\u001b[43mright_on\u001b[49m\u001b[38;5;241;43m=\u001b[39;49m\u001b[43m[\u001b[49m\u001b[38;5;124;43m'\u001b[39;49m\u001b[38;5;124;43mteam\u001b[39;49m\u001b[38;5;124;43m'\u001b[39;49m\u001b[43m,\u001b[49m\u001b[43m \u001b[49m\u001b[38;5;124;43m'\u001b[39;49m\u001b[38;5;124;43mfrom\u001b[39;49m\u001b[38;5;124;43m'\u001b[39;49m\u001b[43m]\u001b[49m\u001b[43m,\u001b[49m\u001b[43m \u001b[49m\u001b[43mallow_exact_matches\u001b[49m\u001b[38;5;241;43m=\u001b[39;49m\u001b[38;5;28;43;01mTrue\u001b[39;49;00m\u001b[43m)\u001b[49m \n\u001b[1;32m      2\u001b[0m \u001b[38;5;66;03m#out = out.query('Date.between(`from`, `to`)')\u001b[39;00m\n\u001b[1;32m      3\u001b[0m \u001b[38;5;66;03m#out = out.merge(elo_df[['team', 'elo', 'from', 'to']], how='left', left_on=['Opponent'], right_on=['team']) \u001b[39;00m\n\u001b[1;32m      4\u001b[0m \u001b[38;5;66;03m#out = out.query('Date.between(`from_y`, `to_y`)')\u001b[39;00m\n\u001b[1;32m      5\u001b[0m out\n",
      "File \u001b[0;32m~/miniconda3/envs/dl_hw0/lib/python3.8/site-packages/pandas/core/reshape/merge.py:616\u001b[0m, in \u001b[0;36mmerge_asof\u001b[0;34m(left, right, on, left_on, right_on, left_index, right_index, by, left_by, right_by, suffixes, tolerance, allow_exact_matches, direction)\u001b[0m\n\u001b[1;32m    361\u001b[0m \u001b[38;5;28;01mdef\u001b[39;00m \u001b[38;5;21mmerge_asof\u001b[39m(\n\u001b[1;32m    362\u001b[0m     left: DataFrame \u001b[38;5;241m|\u001b[39m Series,\n\u001b[1;32m    363\u001b[0m     right: DataFrame \u001b[38;5;241m|\u001b[39m Series,\n\u001b[0;32m   (...)\u001b[0m\n\u001b[1;32m    375\u001b[0m     direction: \u001b[38;5;28mstr\u001b[39m \u001b[38;5;241m=\u001b[39m \u001b[38;5;124m\"\u001b[39m\u001b[38;5;124mbackward\u001b[39m\u001b[38;5;124m\"\u001b[39m,\n\u001b[1;32m    376\u001b[0m ) \u001b[38;5;241m-\u001b[39m\u001b[38;5;241m>\u001b[39m DataFrame:\n\u001b[1;32m    377\u001b[0m \u001b[38;5;250m    \u001b[39m\u001b[38;5;124;03m\"\"\"\u001b[39;00m\n\u001b[1;32m    378\u001b[0m \u001b[38;5;124;03m    Perform a merge by key distance.\u001b[39;00m\n\u001b[1;32m    379\u001b[0m \n\u001b[0;32m   (...)\u001b[0m\n\u001b[1;32m    614\u001b[0m \u001b[38;5;124;03m    4 2016-05-25 13:30:00.048   AAPL   98.00       100     NaN     NaN\u001b[39;00m\n\u001b[1;32m    615\u001b[0m \u001b[38;5;124;03m    \"\"\"\u001b[39;00m\n\u001b[0;32m--> 616\u001b[0m     op \u001b[38;5;241m=\u001b[39m \u001b[43m_AsOfMerge\u001b[49m\u001b[43m(\u001b[49m\n\u001b[1;32m    617\u001b[0m \u001b[43m        \u001b[49m\u001b[43mleft\u001b[49m\u001b[43m,\u001b[49m\n\u001b[1;32m    618\u001b[0m \u001b[43m        \u001b[49m\u001b[43mright\u001b[49m\u001b[43m,\u001b[49m\n\u001b[1;32m    619\u001b[0m \u001b[43m        \u001b[49m\u001b[43mon\u001b[49m\u001b[38;5;241;43m=\u001b[39;49m\u001b[43mon\u001b[49m\u001b[43m,\u001b[49m\n\u001b[1;32m    620\u001b[0m \u001b[43m        \u001b[49m\u001b[43mleft_on\u001b[49m\u001b[38;5;241;43m=\u001b[39;49m\u001b[43mleft_on\u001b[49m\u001b[43m,\u001b[49m\n\u001b[1;32m    621\u001b[0m \u001b[43m        \u001b[49m\u001b[43mright_on\u001b[49m\u001b[38;5;241;43m=\u001b[39;49m\u001b[43mright_on\u001b[49m\u001b[43m,\u001b[49m\n\u001b[1;32m    622\u001b[0m \u001b[43m        \u001b[49m\u001b[43mleft_index\u001b[49m\u001b[38;5;241;43m=\u001b[39;49m\u001b[43mleft_index\u001b[49m\u001b[43m,\u001b[49m\n\u001b[1;32m    623\u001b[0m \u001b[43m        \u001b[49m\u001b[43mright_index\u001b[49m\u001b[38;5;241;43m=\u001b[39;49m\u001b[43mright_index\u001b[49m\u001b[43m,\u001b[49m\n\u001b[1;32m    624\u001b[0m \u001b[43m        \u001b[49m\u001b[43mby\u001b[49m\u001b[38;5;241;43m=\u001b[39;49m\u001b[43mby\u001b[49m\u001b[43m,\u001b[49m\n\u001b[1;32m    625\u001b[0m \u001b[43m        \u001b[49m\u001b[43mleft_by\u001b[49m\u001b[38;5;241;43m=\u001b[39;49m\u001b[43mleft_by\u001b[49m\u001b[43m,\u001b[49m\n\u001b[1;32m    626\u001b[0m \u001b[43m        \u001b[49m\u001b[43mright_by\u001b[49m\u001b[38;5;241;43m=\u001b[39;49m\u001b[43mright_by\u001b[49m\u001b[43m,\u001b[49m\n\u001b[1;32m    627\u001b[0m \u001b[43m        \u001b[49m\u001b[43msuffixes\u001b[49m\u001b[38;5;241;43m=\u001b[39;49m\u001b[43msuffixes\u001b[49m\u001b[43m,\u001b[49m\n\u001b[1;32m    628\u001b[0m \u001b[43m        \u001b[49m\u001b[43mhow\u001b[49m\u001b[38;5;241;43m=\u001b[39;49m\u001b[38;5;124;43m\"\u001b[39;49m\u001b[38;5;124;43masof\u001b[39;49m\u001b[38;5;124;43m\"\u001b[39;49m\u001b[43m,\u001b[49m\n\u001b[1;32m    629\u001b[0m \u001b[43m        \u001b[49m\u001b[43mtolerance\u001b[49m\u001b[38;5;241;43m=\u001b[39;49m\u001b[43mtolerance\u001b[49m\u001b[43m,\u001b[49m\n\u001b[1;32m    630\u001b[0m \u001b[43m        \u001b[49m\u001b[43mallow_exact_matches\u001b[49m\u001b[38;5;241;43m=\u001b[39;49m\u001b[43mallow_exact_matches\u001b[49m\u001b[43m,\u001b[49m\n\u001b[1;32m    631\u001b[0m \u001b[43m        \u001b[49m\u001b[43mdirection\u001b[49m\u001b[38;5;241;43m=\u001b[39;49m\u001b[43mdirection\u001b[49m\u001b[43m,\u001b[49m\n\u001b[1;32m    632\u001b[0m \u001b[43m    \u001b[49m\u001b[43m)\u001b[49m\n\u001b[1;32m    633\u001b[0m     \u001b[38;5;28;01mreturn\u001b[39;00m op\u001b[38;5;241m.\u001b[39mget_result()\n",
      "File \u001b[0;32m~/miniconda3/envs/dl_hw0/lib/python3.8/site-packages/pandas/core/reshape/merge.py:1898\u001b[0m, in \u001b[0;36m_AsOfMerge.__init__\u001b[0;34m(self, left, right, on, left_on, right_on, left_index, right_index, by, left_by, right_by, axis, suffixes, copy, fill_method, how, tolerance, allow_exact_matches, direction)\u001b[0m\n\u001b[1;32m   1895\u001b[0m \u001b[38;5;28mself\u001b[39m\u001b[38;5;241m.\u001b[39mallow_exact_matches \u001b[38;5;241m=\u001b[39m allow_exact_matches\n\u001b[1;32m   1896\u001b[0m \u001b[38;5;28mself\u001b[39m\u001b[38;5;241m.\u001b[39mdirection \u001b[38;5;241m=\u001b[39m direction\n\u001b[0;32m-> 1898\u001b[0m \u001b[43m_OrderedMerge\u001b[49m\u001b[38;5;241;43m.\u001b[39;49m\u001b[38;5;21;43m__init__\u001b[39;49m\u001b[43m(\u001b[49m\n\u001b[1;32m   1899\u001b[0m \u001b[43m    \u001b[49m\u001b[38;5;28;43mself\u001b[39;49m\u001b[43m,\u001b[49m\n\u001b[1;32m   1900\u001b[0m \u001b[43m    \u001b[49m\u001b[43mleft\u001b[49m\u001b[43m,\u001b[49m\n\u001b[1;32m   1901\u001b[0m \u001b[43m    \u001b[49m\u001b[43mright\u001b[49m\u001b[43m,\u001b[49m\n\u001b[1;32m   1902\u001b[0m \u001b[43m    \u001b[49m\u001b[43mon\u001b[49m\u001b[38;5;241;43m=\u001b[39;49m\u001b[43mon\u001b[49m\u001b[43m,\u001b[49m\n\u001b[1;32m   1903\u001b[0m \u001b[43m    \u001b[49m\u001b[43mleft_on\u001b[49m\u001b[38;5;241;43m=\u001b[39;49m\u001b[43mleft_on\u001b[49m\u001b[43m,\u001b[49m\n\u001b[1;32m   1904\u001b[0m \u001b[43m    \u001b[49m\u001b[43mright_on\u001b[49m\u001b[38;5;241;43m=\u001b[39;49m\u001b[43mright_on\u001b[49m\u001b[43m,\u001b[49m\n\u001b[1;32m   1905\u001b[0m \u001b[43m    \u001b[49m\u001b[43mleft_index\u001b[49m\u001b[38;5;241;43m=\u001b[39;49m\u001b[43mleft_index\u001b[49m\u001b[43m,\u001b[49m\n\u001b[1;32m   1906\u001b[0m \u001b[43m    \u001b[49m\u001b[43mright_index\u001b[49m\u001b[38;5;241;43m=\u001b[39;49m\u001b[43mright_index\u001b[49m\u001b[43m,\u001b[49m\n\u001b[1;32m   1907\u001b[0m \u001b[43m    \u001b[49m\u001b[43maxis\u001b[49m\u001b[38;5;241;43m=\u001b[39;49m\u001b[43maxis\u001b[49m\u001b[43m,\u001b[49m\n\u001b[1;32m   1908\u001b[0m \u001b[43m    \u001b[49m\u001b[43mhow\u001b[49m\u001b[38;5;241;43m=\u001b[39;49m\u001b[43mhow\u001b[49m\u001b[43m,\u001b[49m\n\u001b[1;32m   1909\u001b[0m \u001b[43m    \u001b[49m\u001b[43msuffixes\u001b[49m\u001b[38;5;241;43m=\u001b[39;49m\u001b[43msuffixes\u001b[49m\u001b[43m,\u001b[49m\n\u001b[1;32m   1910\u001b[0m \u001b[43m    \u001b[49m\u001b[43mfill_method\u001b[49m\u001b[38;5;241;43m=\u001b[39;49m\u001b[43mfill_method\u001b[49m\u001b[43m,\u001b[49m\n\u001b[1;32m   1911\u001b[0m \u001b[43m\u001b[49m\u001b[43m)\u001b[49m\n",
      "File \u001b[0;32m~/miniconda3/envs/dl_hw0/lib/python3.8/site-packages/pandas/core/reshape/merge.py:1800\u001b[0m, in \u001b[0;36m_OrderedMerge.__init__\u001b[0;34m(self, left, right, on, left_on, right_on, left_index, right_index, axis, suffixes, fill_method, how)\u001b[0m\n\u001b[1;32m   1785\u001b[0m \u001b[38;5;28;01mdef\u001b[39;00m \u001b[38;5;21m__init__\u001b[39m(\n\u001b[1;32m   1786\u001b[0m     \u001b[38;5;28mself\u001b[39m,\n\u001b[1;32m   1787\u001b[0m     left: DataFrame \u001b[38;5;241m|\u001b[39m Series,\n\u001b[0;32m   (...)\u001b[0m\n\u001b[1;32m   1797\u001b[0m     how: JoinHow \u001b[38;5;241m|\u001b[39m Literal[\u001b[38;5;124m\"\u001b[39m\u001b[38;5;124masof\u001b[39m\u001b[38;5;124m\"\u001b[39m] \u001b[38;5;241m=\u001b[39m \u001b[38;5;124m\"\u001b[39m\u001b[38;5;124mouter\u001b[39m\u001b[38;5;124m\"\u001b[39m,\n\u001b[1;32m   1798\u001b[0m ) \u001b[38;5;241m-\u001b[39m\u001b[38;5;241m>\u001b[39m \u001b[38;5;28;01mNone\u001b[39;00m:\n\u001b[1;32m   1799\u001b[0m     \u001b[38;5;28mself\u001b[39m\u001b[38;5;241m.\u001b[39mfill_method \u001b[38;5;241m=\u001b[39m fill_method\n\u001b[0;32m-> 1800\u001b[0m     \u001b[43m_MergeOperation\u001b[49m\u001b[38;5;241;43m.\u001b[39;49m\u001b[38;5;21;43m__init__\u001b[39;49m\u001b[43m(\u001b[49m\n\u001b[1;32m   1801\u001b[0m \u001b[43m        \u001b[49m\u001b[38;5;28;43mself\u001b[39;49m\u001b[43m,\u001b[49m\n\u001b[1;32m   1802\u001b[0m \u001b[43m        \u001b[49m\u001b[43mleft\u001b[49m\u001b[43m,\u001b[49m\n\u001b[1;32m   1803\u001b[0m \u001b[43m        \u001b[49m\u001b[43mright\u001b[49m\u001b[43m,\u001b[49m\n\u001b[1;32m   1804\u001b[0m \u001b[43m        \u001b[49m\u001b[43mon\u001b[49m\u001b[38;5;241;43m=\u001b[39;49m\u001b[43mon\u001b[49m\u001b[43m,\u001b[49m\n\u001b[1;32m   1805\u001b[0m \u001b[43m        \u001b[49m\u001b[43mleft_on\u001b[49m\u001b[38;5;241;43m=\u001b[39;49m\u001b[43mleft_on\u001b[49m\u001b[43m,\u001b[49m\n\u001b[1;32m   1806\u001b[0m \u001b[43m        \u001b[49m\u001b[43mleft_index\u001b[49m\u001b[38;5;241;43m=\u001b[39;49m\u001b[43mleft_index\u001b[49m\u001b[43m,\u001b[49m\n\u001b[1;32m   1807\u001b[0m \u001b[43m        \u001b[49m\u001b[43mright_index\u001b[49m\u001b[38;5;241;43m=\u001b[39;49m\u001b[43mright_index\u001b[49m\u001b[43m,\u001b[49m\n\u001b[1;32m   1808\u001b[0m \u001b[43m        \u001b[49m\u001b[43mright_on\u001b[49m\u001b[38;5;241;43m=\u001b[39;49m\u001b[43mright_on\u001b[49m\u001b[43m,\u001b[49m\n\u001b[1;32m   1809\u001b[0m \u001b[43m        \u001b[49m\u001b[43maxis\u001b[49m\u001b[38;5;241;43m=\u001b[39;49m\u001b[43maxis\u001b[49m\u001b[43m,\u001b[49m\n\u001b[1;32m   1810\u001b[0m \u001b[43m        \u001b[49m\u001b[43mhow\u001b[49m\u001b[38;5;241;43m=\u001b[39;49m\u001b[43mhow\u001b[49m\u001b[43m,\u001b[49m\n\u001b[1;32m   1811\u001b[0m \u001b[43m        \u001b[49m\u001b[43msuffixes\u001b[49m\u001b[38;5;241;43m=\u001b[39;49m\u001b[43msuffixes\u001b[49m\u001b[43m,\u001b[49m\n\u001b[1;32m   1812\u001b[0m \u001b[43m        \u001b[49m\u001b[43msort\u001b[49m\u001b[38;5;241;43m=\u001b[39;49m\u001b[38;5;28;43;01mTrue\u001b[39;49;00m\u001b[43m,\u001b[49m\u001b[43m  \u001b[49m\u001b[38;5;66;43;03m# factorize sorts\u001b[39;49;00m\n\u001b[1;32m   1813\u001b[0m \u001b[43m    \u001b[49m\u001b[43m)\u001b[49m\n",
      "File \u001b[0;32m~/miniconda3/envs/dl_hw0/lib/python3.8/site-packages/pandas/core/reshape/merge.py:719\u001b[0m, in \u001b[0;36m_MergeOperation.__init__\u001b[0;34m(self, left, right, how, on, left_on, right_on, axis, left_index, right_index, sort, suffixes, indicator, validate)\u001b[0m\n\u001b[1;32m    712\u001b[0m     msg \u001b[38;5;241m=\u001b[39m (\n\u001b[1;32m    713\u001b[0m         \u001b[38;5;124m\"\u001b[39m\u001b[38;5;124mNot allowed to merge between different levels. \u001b[39m\u001b[38;5;124m\"\u001b[39m\n\u001b[1;32m    714\u001b[0m         \u001b[38;5;124mf\u001b[39m\u001b[38;5;124m\"\u001b[39m\u001b[38;5;124m(\u001b[39m\u001b[38;5;132;01m{\u001b[39;00m_left\u001b[38;5;241m.\u001b[39mcolumns\u001b[38;5;241m.\u001b[39mnlevels\u001b[38;5;132;01m}\u001b[39;00m\u001b[38;5;124m levels on the left, \u001b[39m\u001b[38;5;124m\"\u001b[39m\n\u001b[1;32m    715\u001b[0m         \u001b[38;5;124mf\u001b[39m\u001b[38;5;124m\"\u001b[39m\u001b[38;5;132;01m{\u001b[39;00m_right\u001b[38;5;241m.\u001b[39mcolumns\u001b[38;5;241m.\u001b[39mnlevels\u001b[38;5;132;01m}\u001b[39;00m\u001b[38;5;124m on the right)\u001b[39m\u001b[38;5;124m\"\u001b[39m\n\u001b[1;32m    716\u001b[0m     )\n\u001b[1;32m    717\u001b[0m     \u001b[38;5;28;01mraise\u001b[39;00m MergeError(msg)\n\u001b[0;32m--> 719\u001b[0m \u001b[38;5;28mself\u001b[39m\u001b[38;5;241m.\u001b[39mleft_on, \u001b[38;5;28mself\u001b[39m\u001b[38;5;241m.\u001b[39mright_on \u001b[38;5;241m=\u001b[39m \u001b[38;5;28;43mself\u001b[39;49m\u001b[38;5;241;43m.\u001b[39;49m\u001b[43m_validate_left_right_on\u001b[49m\u001b[43m(\u001b[49m\u001b[43mleft_on\u001b[49m\u001b[43m,\u001b[49m\u001b[43m \u001b[49m\u001b[43mright_on\u001b[49m\u001b[43m)\u001b[49m\n\u001b[1;32m    721\u001b[0m cross_col \u001b[38;5;241m=\u001b[39m \u001b[38;5;28;01mNone\u001b[39;00m\n\u001b[1;32m    722\u001b[0m \u001b[38;5;28;01mif\u001b[39;00m \u001b[38;5;28mself\u001b[39m\u001b[38;5;241m.\u001b[39mhow \u001b[38;5;241m==\u001b[39m \u001b[38;5;124m\"\u001b[39m\u001b[38;5;124mcross\u001b[39m\u001b[38;5;124m\"\u001b[39m:\n",
      "File \u001b[0;32m~/miniconda3/envs/dl_hw0/lib/python3.8/site-packages/pandas/core/reshape/merge.py:1918\u001b[0m, in \u001b[0;36m_AsOfMerge._validate_left_right_on\u001b[0;34m(self, left_on, right_on)\u001b[0m\n\u001b[1;32m   1916\u001b[0m \u001b[38;5;66;03m# we only allow on to be a single item for on\u001b[39;00m\n\u001b[1;32m   1917\u001b[0m \u001b[38;5;28;01mif\u001b[39;00m \u001b[38;5;28mlen\u001b[39m(left_on) \u001b[38;5;241m!=\u001b[39m \u001b[38;5;241m1\u001b[39m \u001b[38;5;129;01mand\u001b[39;00m \u001b[38;5;129;01mnot\u001b[39;00m \u001b[38;5;28mself\u001b[39m\u001b[38;5;241m.\u001b[39mleft_index:\n\u001b[0;32m-> 1918\u001b[0m     \u001b[38;5;28;01mraise\u001b[39;00m MergeError(\u001b[38;5;124m\"\u001b[39m\u001b[38;5;124mcan only asof on a key for left\u001b[39m\u001b[38;5;124m\"\u001b[39m)\n\u001b[1;32m   1920\u001b[0m \u001b[38;5;28;01mif\u001b[39;00m \u001b[38;5;28mlen\u001b[39m(right_on) \u001b[38;5;241m!=\u001b[39m \u001b[38;5;241m1\u001b[39m \u001b[38;5;129;01mand\u001b[39;00m \u001b[38;5;129;01mnot\u001b[39;00m \u001b[38;5;28mself\u001b[39m\u001b[38;5;241m.\u001b[39mright_index:\n\u001b[1;32m   1921\u001b[0m     \u001b[38;5;28;01mraise\u001b[39;00m MergeError(\u001b[38;5;124m\"\u001b[39m\u001b[38;5;124mcan only asof on a key for right\u001b[39m\u001b[38;5;124m\"\u001b[39m)\n",
      "\u001b[0;31mMergeError\u001b[0m: can only asof on a key for left"
     ]
    }
   ],
   "source": [
    "out = pd.merge_asof(processed, elo_df[['team', 'elo', 'from', 'to']], left_on=['Team', 'Date'], right_on=['team', 'from'], allow_exact_matches=True) \n",
    "#out = out.query('Date.between(`from`, `to`)')\n",
    "#out = out.merge(elo_df[['team', 'elo', 'from', 'to']], how='left', left_on=['Opponent'], right_on=['team']) \n",
    "#out = out.query('Date.between(`from_y`, `to_y`)')\n",
    "out"
   ]
  },
  {
   "cell_type": "code",
   "execution_count": 121,
   "metadata": {},
   "outputs": [],
   "source": [
    "sqlcode = '''\n",
    "SELECT * FROM processed as a join elo_df as b on a.Team=b.team where a.Date >= b.from and a.Date <= b.to\n",
    "'''\n",
    "sqlcode = 'SELECT * from processed join elo_df'\n",
    "\n",
    "newdf = ps.sqldf(sqlcode,locals())\n",
    "newdf"
   ]
  },
  {
   "cell_type": "code",
   "execution_count": 119,
   "metadata": {},
   "outputs": [
    {
     "output_type": "execute_result",
     "data": {
      "text/plain": "       Unnamed: 0  GameID        Date         Team       Opponent  TotalGoals  \\\n0               0       0  2000-08-19     Charlton       Man City           4   \n1               1       0  2000-08-19     Man City       Charlton           4   \n2               2       1  2000-08-19      Chelsea       West Ham           6   \n3               3       1  2000-08-19     West Ham        Chelsea           6   \n4               4       2  2000-08-19     Coventry  Middlesbrough           4   \n...           ...     ...         ...          ...            ...         ...   \n16893       16893    8446  2023-09-17      Arsenal        Everton           1   \n16894       16894    8447  2023-09-17  Bournemouth        Chelsea           0   \n16895       16895    8447  2023-09-17      Chelsea    Bournemouth           0   \n16896       16896    8448  2023-09-18       Forest        Burnley           2   \n16897       16897    8448  2023-09-18      Burnley         Forest           2   \n\n       TeamGoals  OpponentGoals Result        Referee  TeamShots  \\\n0              4              0      W     Rob Harris         17   \n1              0              4      L     Rob Harris          8   \n2              4              2      W  Graham Barber         17   \n3              2              4      L  Graham Barber         12   \n4              1              3      L   Barry Knight          6   \n...          ...            ...    ...            ...        ...   \n16893          1              0      W       S Hooper         13   \n16894          0              0      D        D Coote         13   \n16895          0              0      D        D Coote         14   \n16896          1              1      D        R Jones         14   \n16897          1              1      D        R Jones         10   \n\n       OpponentShots  TeamShotsonTarget  OpponentShotsonTarget  TeamFouls  \\\n0                  8                 14                      4         13   \n1                 17                  4                     14         12   \n2                 12                 10                      5         19   \n3                 17                  5                     10         14   \n4                 16                  3                      9         15   \n...              ...                ...                    ...        ...   \n16893              8                  4                      1         10   \n16894             14                  4                      6         15   \n16895             13                  6                      4         20   \n16896             10                  4                      3         16   \n16897             14                  3                      4         10   \n\n       OpponentFouls  TeamCorners  OpponentCorners  TeamYellowCards  \\\n0                 12            6                6                1   \n1                 13            6                6                2   \n2                 14            7                7                1   \n3                 19            7                7                2   \n4                 21            8                4                5   \n...              ...          ...              ...              ...   \n16893             12           11                1                1   \n16894             20            1                7                1   \n16895             15            7                1                5   \n16896             10            5                4                2   \n16897             16            4                5                3   \n\n       OpponentYellowCards  TeamRedCards  OpponentRedCards  O2.5  U2.5  \\\n0                        2             0                 0   NaN   NaN   \n1                        1             0                 0   NaN   NaN   \n2                        2             0                 0   NaN   NaN   \n3                        1             0                 0   NaN   NaN   \n4                        3             1                 0   NaN   NaN   \n...                    ...           ...               ...   ...   ...   \n16893                    1             0                 0  1.67  2.23   \n16894                    5             0                 0  1.67  2.19   \n16895                    1             0                 0  1.67  2.19   \n16896                    3             0                 1  1.92  1.87   \n16897                    2             1                 0  1.92  1.87   \n\n       TeamWinOdds  DrawOdds  OpponentWinOdds Venue  \n0              NaN       NaN              NaN  Home  \n1              NaN       NaN              NaN  Away  \n2              NaN       NaN              NaN  Home  \n3              NaN       NaN              NaN  Away  \n4              NaN       NaN              NaN  Home  \n...            ...       ...              ...   ...  \n16893         1.50      4.50             6.00  Away  \n16894         4.33      3.75             1.80  Home  \n16895         1.80      3.75             4.33  Away  \n16896         2.20      3.50             3.25  Home  \n16897         3.25      3.50             2.20  Away  \n\n[16898 rows x 28 columns]",
      "text/html": "<div>\n<style scoped>\n    .dataframe tbody tr th:only-of-type {\n        vertical-align: middle;\n    }\n\n    .dataframe tbody tr th {\n        vertical-align: top;\n    }\n\n    .dataframe thead th {\n        text-align: right;\n    }\n</style>\n<table border=\"1\" class=\"dataframe\">\n  <thead>\n    <tr style=\"text-align: right;\">\n      <th></th>\n      <th>Unnamed: 0</th>\n      <th>GameID</th>\n      <th>Date</th>\n      <th>Team</th>\n      <th>Opponent</th>\n      <th>TotalGoals</th>\n      <th>TeamGoals</th>\n      <th>OpponentGoals</th>\n      <th>Result</th>\n      <th>Referee</th>\n      <th>TeamShots</th>\n      <th>OpponentShots</th>\n      <th>TeamShotsonTarget</th>\n      <th>OpponentShotsonTarget</th>\n      <th>TeamFouls</th>\n      <th>OpponentFouls</th>\n      <th>TeamCorners</th>\n      <th>OpponentCorners</th>\n      <th>TeamYellowCards</th>\n      <th>OpponentYellowCards</th>\n      <th>TeamRedCards</th>\n      <th>OpponentRedCards</th>\n      <th>O2.5</th>\n      <th>U2.5</th>\n      <th>TeamWinOdds</th>\n      <th>DrawOdds</th>\n      <th>OpponentWinOdds</th>\n      <th>Venue</th>\n    </tr>\n  </thead>\n  <tbody>\n    <tr>\n      <th>0</th>\n      <td>0</td>\n      <td>0</td>\n      <td>2000-08-19</td>\n      <td>Charlton</td>\n      <td>Man City</td>\n      <td>4</td>\n      <td>4</td>\n      <td>0</td>\n      <td>W</td>\n      <td>Rob Harris</td>\n      <td>17</td>\n      <td>8</td>\n      <td>14</td>\n      <td>4</td>\n      <td>13</td>\n      <td>12</td>\n      <td>6</td>\n      <td>6</td>\n      <td>1</td>\n      <td>2</td>\n      <td>0</td>\n      <td>0</td>\n      <td>NaN</td>\n      <td>NaN</td>\n      <td>NaN</td>\n      <td>NaN</td>\n      <td>NaN</td>\n      <td>Home</td>\n    </tr>\n    <tr>\n      <th>1</th>\n      <td>1</td>\n      <td>0</td>\n      <td>2000-08-19</td>\n      <td>Man City</td>\n      <td>Charlton</td>\n      <td>4</td>\n      <td>0</td>\n      <td>4</td>\n      <td>L</td>\n      <td>Rob Harris</td>\n      <td>8</td>\n      <td>17</td>\n      <td>4</td>\n      <td>14</td>\n      <td>12</td>\n      <td>13</td>\n      <td>6</td>\n      <td>6</td>\n      <td>2</td>\n      <td>1</td>\n      <td>0</td>\n      <td>0</td>\n      <td>NaN</td>\n      <td>NaN</td>\n      <td>NaN</td>\n      <td>NaN</td>\n      <td>NaN</td>\n      <td>Away</td>\n    </tr>\n    <tr>\n      <th>2</th>\n      <td>2</td>\n      <td>1</td>\n      <td>2000-08-19</td>\n      <td>Chelsea</td>\n      <td>West Ham</td>\n      <td>6</td>\n      <td>4</td>\n      <td>2</td>\n      <td>W</td>\n      <td>Graham Barber</td>\n      <td>17</td>\n      <td>12</td>\n      <td>10</td>\n      <td>5</td>\n      <td>19</td>\n      <td>14</td>\n      <td>7</td>\n      <td>7</td>\n      <td>1</td>\n      <td>2</td>\n      <td>0</td>\n      <td>0</td>\n      <td>NaN</td>\n      <td>NaN</td>\n      <td>NaN</td>\n      <td>NaN</td>\n      <td>NaN</td>\n      <td>Home</td>\n    </tr>\n    <tr>\n      <th>3</th>\n      <td>3</td>\n      <td>1</td>\n      <td>2000-08-19</td>\n      <td>West Ham</td>\n      <td>Chelsea</td>\n      <td>6</td>\n      <td>2</td>\n      <td>4</td>\n      <td>L</td>\n      <td>Graham Barber</td>\n      <td>12</td>\n      <td>17</td>\n      <td>5</td>\n      <td>10</td>\n      <td>14</td>\n      <td>19</td>\n      <td>7</td>\n      <td>7</td>\n      <td>2</td>\n      <td>1</td>\n      <td>0</td>\n      <td>0</td>\n      <td>NaN</td>\n      <td>NaN</td>\n      <td>NaN</td>\n      <td>NaN</td>\n      <td>NaN</td>\n      <td>Away</td>\n    </tr>\n    <tr>\n      <th>4</th>\n      <td>4</td>\n      <td>2</td>\n      <td>2000-08-19</td>\n      <td>Coventry</td>\n      <td>Middlesbrough</td>\n      <td>4</td>\n      <td>1</td>\n      <td>3</td>\n      <td>L</td>\n      <td>Barry Knight</td>\n      <td>6</td>\n      <td>16</td>\n      <td>3</td>\n      <td>9</td>\n      <td>15</td>\n      <td>21</td>\n      <td>8</td>\n      <td>4</td>\n      <td>5</td>\n      <td>3</td>\n      <td>1</td>\n      <td>0</td>\n      <td>NaN</td>\n      <td>NaN</td>\n      <td>NaN</td>\n      <td>NaN</td>\n      <td>NaN</td>\n      <td>Home</td>\n    </tr>\n    <tr>\n      <th>...</th>\n      <td>...</td>\n      <td>...</td>\n      <td>...</td>\n      <td>...</td>\n      <td>...</td>\n      <td>...</td>\n      <td>...</td>\n      <td>...</td>\n      <td>...</td>\n      <td>...</td>\n      <td>...</td>\n      <td>...</td>\n      <td>...</td>\n      <td>...</td>\n      <td>...</td>\n      <td>...</td>\n      <td>...</td>\n      <td>...</td>\n      <td>...</td>\n      <td>...</td>\n      <td>...</td>\n      <td>...</td>\n      <td>...</td>\n      <td>...</td>\n      <td>...</td>\n      <td>...</td>\n      <td>...</td>\n      <td>...</td>\n    </tr>\n    <tr>\n      <th>16893</th>\n      <td>16893</td>\n      <td>8446</td>\n      <td>2023-09-17</td>\n      <td>Arsenal</td>\n      <td>Everton</td>\n      <td>1</td>\n      <td>1</td>\n      <td>0</td>\n      <td>W</td>\n      <td>S Hooper</td>\n      <td>13</td>\n      <td>8</td>\n      <td>4</td>\n      <td>1</td>\n      <td>10</td>\n      <td>12</td>\n      <td>11</td>\n      <td>1</td>\n      <td>1</td>\n      <td>1</td>\n      <td>0</td>\n      <td>0</td>\n      <td>1.67</td>\n      <td>2.23</td>\n      <td>1.50</td>\n      <td>4.50</td>\n      <td>6.00</td>\n      <td>Away</td>\n    </tr>\n    <tr>\n      <th>16894</th>\n      <td>16894</td>\n      <td>8447</td>\n      <td>2023-09-17</td>\n      <td>Bournemouth</td>\n      <td>Chelsea</td>\n      <td>0</td>\n      <td>0</td>\n      <td>0</td>\n      <td>D</td>\n      <td>D Coote</td>\n      <td>13</td>\n      <td>14</td>\n      <td>4</td>\n      <td>6</td>\n      <td>15</td>\n      <td>20</td>\n      <td>1</td>\n      <td>7</td>\n      <td>1</td>\n      <td>5</td>\n      <td>0</td>\n      <td>0</td>\n      <td>1.67</td>\n      <td>2.19</td>\n      <td>4.33</td>\n      <td>3.75</td>\n      <td>1.80</td>\n      <td>Home</td>\n    </tr>\n    <tr>\n      <th>16895</th>\n      <td>16895</td>\n      <td>8447</td>\n      <td>2023-09-17</td>\n      <td>Chelsea</td>\n      <td>Bournemouth</td>\n      <td>0</td>\n      <td>0</td>\n      <td>0</td>\n      <td>D</td>\n      <td>D Coote</td>\n      <td>14</td>\n      <td>13</td>\n      <td>6</td>\n      <td>4</td>\n      <td>20</td>\n      <td>15</td>\n      <td>7</td>\n      <td>1</td>\n      <td>5</td>\n      <td>1</td>\n      <td>0</td>\n      <td>0</td>\n      <td>1.67</td>\n      <td>2.19</td>\n      <td>1.80</td>\n      <td>3.75</td>\n      <td>4.33</td>\n      <td>Away</td>\n    </tr>\n    <tr>\n      <th>16896</th>\n      <td>16896</td>\n      <td>8448</td>\n      <td>2023-09-18</td>\n      <td>Forest</td>\n      <td>Burnley</td>\n      <td>2</td>\n      <td>1</td>\n      <td>1</td>\n      <td>D</td>\n      <td>R Jones</td>\n      <td>14</td>\n      <td>10</td>\n      <td>4</td>\n      <td>3</td>\n      <td>16</td>\n      <td>10</td>\n      <td>5</td>\n      <td>4</td>\n      <td>2</td>\n      <td>3</td>\n      <td>0</td>\n      <td>1</td>\n      <td>1.92</td>\n      <td>1.87</td>\n      <td>2.20</td>\n      <td>3.50</td>\n      <td>3.25</td>\n      <td>Home</td>\n    </tr>\n    <tr>\n      <th>16897</th>\n      <td>16897</td>\n      <td>8448</td>\n      <td>2023-09-18</td>\n      <td>Burnley</td>\n      <td>Forest</td>\n      <td>2</td>\n      <td>1</td>\n      <td>1</td>\n      <td>D</td>\n      <td>R Jones</td>\n      <td>10</td>\n      <td>14</td>\n      <td>3</td>\n      <td>4</td>\n      <td>10</td>\n      <td>16</td>\n      <td>4</td>\n      <td>5</td>\n      <td>3</td>\n      <td>2</td>\n      <td>1</td>\n      <td>0</td>\n      <td>1.92</td>\n      <td>1.87</td>\n      <td>3.25</td>\n      <td>3.50</td>\n      <td>2.20</td>\n      <td>Away</td>\n    </tr>\n  </tbody>\n</table>\n<p>16898 rows × 28 columns</p>\n</div>"
     },
     "metadata": {},
     "execution_count": 119
    }
   ],
   "source": [
    "newdf"
   ]
  },
  {
   "cell_type": "code",
   "execution_count": null,
   "metadata": {},
   "outputs": [],
   "source": []
  }
 ],
 "metadata": {
  "language_info": {
   "codemirror_mode": {
    "name": "ipython",
    "version": 3
   },
   "file_extension": ".py",
   "mimetype": "text/x-python",
   "name": "python",
   "nbconvert_exporter": "python",
   "pygments_lexer": "ipython3",
   "version": "3.8.15-final"
  },
  "orig_nbformat": 2,
  "kernelspec": {
   "name": "python381564bitdlhw0conda91fec1486fc14ef8a54f9cb18d708c08",
   "display_name": "Python 3.8.15 64-bit ('dl_hw0': conda)"
  }
 },
 "nbformat": 4,
 "nbformat_minor": 2
}