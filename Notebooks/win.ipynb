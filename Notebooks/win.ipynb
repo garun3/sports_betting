{
 "cells": [
  {
   "cell_type": "code",
   "execution_count": 7,
   "metadata": {},
   "outputs": [],
   "source": [
    "import soccerdata as sd \n",
    "import pandas as pd\n",
    "import os\n",
    "import numpy as np\n",
    "#from cache_pandas import cache_to_csv\n",
    "from sklearn.ensemble import RandomForestClassifier\n",
    "from sklearn.metrics import accuracy_score, precision_score\n",
    "#from tpot import TPOTClassifier\n",
    "import xgboost as xgb\n",
    "from sklearn.model_selection import cross_val_score\n",
    "\n",
    "\n",
    "pd.set_option('display.max_columns', None)\n",
    "pd.set_option('display.max_rows', 20)"
   ]
  },
  {
   "cell_type": "code",
   "execution_count": 99,
   "metadata": {},
   "outputs": [],
   "source": [
    "def home_away(df):\n",
    "    c1 = df.filter(like='HomeTeam').columns\n",
    "\n",
    "    c2 = c1.str.replace('HomeTeam', 'Team')\n",
    "    df = df.rename(columns={**dict(zip(c1, c2)), **dict(zip(c2, c1))})\n",
    "    c1 = df.filter(like='AwayTeam').columns\n",
    "\n",
    "    c2 = c1.str.replace('AwayTeam', 'Opponent')\n",
    "\n",
    "    df = df.rename(columns={**dict(zip(c1, c2)), **dict(zip(c2, c1))})\n",
    "    df['Venue'] = 'Home'\n",
    "    if 'GameID' not in df.columns:\n",
    "        df['GameID'] = range(df.shape[0])\n",
    "\n",
    "    c1 = df.filter(like='Team').columns\n",
    "    c2 = c1.str.replace('Team', 'Opponent')\n",
    "    \n",
    "    swap = df.rename(columns={**dict(zip(c1, c2)), **dict(zip(c2, c1))})\n",
    "    swap['Venue'] = 'Away'\n",
    "    df['Result'] = np.where(df['Result'] == 'H', 'W', np.where(df['Result'] == 'A', 'L', df['Result']))\n",
    "    swap['Result'] = np.where(swap['Result'] == 'H', 'L', np.where(swap['Result'] == 'A', 'W', swap['Result']))\n",
    "    #swap['Result'] = np.where(swap['Result'] == 'H', 'A', np.where(swap['Result'] == 'A', 'H', 'D'))\n",
    "    #print(swap)\n",
    "    df = pd.concat([df,swap])\n",
    "    df['Team'] = df['Team'].map(mapping)\n",
    "    df['Opponent'] = df['Opponent'].map(mapping)\n",
    "    #df['Result'] = np.where(df['Result'] != 'W', 'L', df['Result'])\n",
    "    #df = df.rename(columns={'Team1':'Team', 'Team2':'Opponent'})\n",
    "    df = df.sort_values(by='GameID').reset_index(drop=True)\n",
    "    return df"
   ]
  },
  {
   "cell_type": "code",
   "execution_count": 9,
   "metadata": {},
   "outputs": [],
   "source": [
    "def preprocess(total_df, source):\n",
    "    total_df['TotalGoals'] = total_df['FTHG'] + total_df['FTAG']\n",
    "    total_df['Date'] = pd.to_datetime(total_df['Date'], dayfirst=True)\n",
    "    \n",
    "    total_df = total_df.sort_values(by='Date')\n",
    "    total_df['GameID'] = range(len(total_df))\n",
    "\n",
    "    df = total_df\n",
    "    #return df\n",
    "    #return df.filter(like='>2.5')#.isna().sum()\n",
    "    if source == 'csv':\n",
    "        df = total_df[['GameID', 'Date', 'HomeTeam', 'AwayTeam', 'TotalGoals', 'FTHG', 'FTAG', 'FTR', 'Referee', 'HS', 'AS', 'HST', 'AST', 'HF', 'AF', 'HC', 'AC', 'HY', 'AY', 'HR', 'AR', 'BbAv>2.5', 'BbAv<2.5', 'AvgC>2.5', 'AvgC<2.5', 'B365H', 'B365D', 'B365A', 'AvgCH', 'AvgCD', 'AvgCA', 'B365>2.5', 'B365<2.5']]\n",
    "        \n",
    "        #df['O2.5'] = np.where(df['AvgC>2.5'].isna(),np.where(~df['BbAv>2.5'].isna(),df['BbAv>2.5'],df['B365>2.5']),df['AvgC>2.5'])\n",
    "        #df['O2.5'] = df['B365>2.5']\n",
    "        #df['U2.5'] = df['B365<2.5']\n",
    "        df['O2.5'] = np.where(df['BbAv>2.5'].isna(),df['B365>2.5'],df['BbAv>2.5'])\n",
    "        df['U2.5'] = np.where(df['AvgC<2.5'].isna(),np.where(~df['BbAv<2.5'].isna(),df['BbAv<2.5'],df['B365<2.5']),df['AvgC<2.5'])\n",
    "        #df['U2.5'] = np.where(df['BbAv<2.5'].isna(),df['B365<2.5'],df['BbAv<2.5'])\n",
    "\n",
    "        #['O2.5'].isna().sum())\n",
    "        \n",
    "        df['HomeTeamWinOdds'] = df['B365H']#np.where(df['AvgCH'].isna(),df['BbAvH'],df['AvgCH'])\n",
    "        df['AwayTeamWinOdds'] = df['B365A']#np.where(df['AvgCA'].isna(),df['BbAvA'],df['AvgCA'])\n",
    "        df['DrawOdds'] = df['B365D']#np.where(df['AvgCD'].isna(),df['BbAvD'],df['AvgCD'])\n",
    "        \n",
    "        df.columns = ['GameID', 'Date', 'HomeTeam', 'AwayTeam', 'TotalGoals', 'HomeTeamGoals', 'AwayTeamGoals', 'Result', 'Referee', 'HomeTeamShots', 'AwayTeamShots', 'HomeTeamShotsonTarget', 'AwayTeamShotsonTarget', 'HomeTeamFouls', 'AwayTeamFouls', 'HomeTeamCorners', 'AwayTeamCorners', 'HomeTeamYellowCards', 'AwayTeamYellowCards', 'HomeTeamRedCards', 'AwayTeamRedCards', 'BbO2.5', 'BbU2.5', 'AvgO2.5', 'AvgU2.5','BbHome', 'BbDraw', 'BbAway', 'AvgH', 'AvgD', 'AvgA', 'B365O', 'B365U', 'O2.5', 'U2.5', 'HomeTeamWinOdds',  'AwayTeamWinOdds', 'DrawOdds']\n",
    "\n",
    "        df = df[['GameID', 'Date', 'HomeTeam', 'AwayTeam', 'TotalGoals', 'HomeTeamGoals', 'AwayTeamGoals', 'Result', 'Referee', 'HomeTeamShots', 'AwayTeamShots', 'HomeTeamShotsonTarget', 'AwayTeamShotsonTarget', 'HomeTeamFouls', 'AwayTeamFouls', 'HomeTeamCorners', 'AwayTeamCorners', 'HomeTeamYellowCards', 'AwayTeamYellowCards', 'HomeTeamRedCards', 'AwayTeamRedCards', 'O2.5', 'U2.5', 'HomeTeamWinOdds', 'DrawOdds', 'AwayTeamWinOdds']]\n",
    "        df = df.sort_values(by='Date')\n",
    "\n",
    "    '''\n",
    "    c1 = df.filter(like='HomeTeam').columns\n",
    "\n",
    "    c2 = c1.str.replace('HomeTeam', 'Team')\n",
    "    df = df.rename(columns={**dict(zip(c1, c2)), **dict(zip(c2, c1))})\n",
    "    c1 = df.filter(like='AwayTeam').columns\n",
    "\n",
    "    c2 = c1.str.replace('AwayTeam', 'Opponent')\n",
    "\n",
    "    df = df.rename(columns={**dict(zip(c1, c2)), **dict(zip(c2, c1))})\n",
    "    df['Venue'] = 'Home'\n",
    "\n",
    "    c1 = df.filter(like='Team').columns\n",
    "    c2 = c1.str.replace('Team', 'Opponent')\n",
    "\n",
    "    swap = df.rename(columns={**dict(zip(c1, c2)), **dict(zip(c2, c1))})\n",
    "    swap['Venue'] = 'Away'\n",
    "    #print(swap)\n",
    "    df = pd.concat([df,swap])\n",
    "    df['Team'] = df['Team'].map(mapping)\n",
    "    df['Opponent'] = df['Opponent'].map(mapping)\n",
    "    #df = df.rename(columns={'Team1':'Team', 'Team2':'Opponent'})\n",
    "    df = df.sort_values(by='GameID').reset_index(drop=True)\n",
    "    '''\n",
    "    df = home_away(df)\n",
    "    return df"
   ]
  },
  {
   "cell_type": "code",
   "execution_count": 10,
   "metadata": {},
   "outputs": [],
   "source": [
    "class MissingDict(dict):\n",
    "    __missing__ = lambda self, key: key\n",
    "map_values = {\n",
    "    'Middlesboro': 'Middlesbrough',\n",
    "    \"Nott'm Forest\": 'Forest',\n",
    "    'Newcastle Utd': 'Newcastle',\n",
    "    'Luton Town': 'Luton',\n",
    "    'Manchester City': 'Man City',\n",
    "    'Manchester Utd': 'Man United',\n",
    "    'Sheffield Utd': 'Sheffield United',\n",
    "    \"Nott'ham Forest\": 'Forest',\n",
    "}\n",
    "mapping = MissingDict(**map_values)"
   ]
  },
  {
   "cell_type": "code",
   "execution_count": 11,
   "metadata": {},
   "outputs": [],
   "source": [
    "def create_predictors(df):\n",
    "    df['VenueCode'] = df['Venue'].astype('category').cat.codes\n",
    "    df['OpponentCode'] = df['Opponent'].astype('category').cat.codes\n",
    "    df['Target'] = (df['TotalGoals'] > 2.5).astype('int')\n",
    "    return df.reset_index(drop=True)"
   ]
  },
  {
   "cell_type": "code",
   "execution_count": 12,
   "metadata": {},
   "outputs": [],
   "source": [
    "def rolling_averages(group, cols, new_cols):\n",
    "    group = group.sort_values(by='Date')\n",
    "    rolling_stats = group[cols].rolling(3, min_periods=2, closed='left').mean()\n",
    "    group[new_cols] = rolling_stats\n",
    "    group = group.dropna(subset=new_cols)\n",
    "    return group\n",
    "\n",
    "def create_rolling(merged_df):\n",
    "    cols = ['TotalGoals','TeamGoals', 'OpponentGoals', 'TeamShots', 'OpponentShots', 'TeamShotsonTarget', 'OpponentShotsonTarget', 'TeamCorners', 'OpponentCorners']\n",
    "    new_cols = [f'{c}Rolling' for c in cols]\n",
    "    df_rolling = merged_df.groupby('Team').apply(lambda x: rolling_averages(x, cols, new_cols))\n",
    "    df_rolling = df_rolling.droplevel('Team')\n",
    "    df_rolling = df_rolling.sort_values('GameID')\n",
    "    df_rolling.index = range(df_rolling.shape[0])\n",
    "    return df_rolling"
   ]
  },
  {
   "cell_type": "code",
   "execution_count": 13,
   "metadata": {},
   "outputs": [],
   "source": [
    "def calculate_difs(df, cols):\n",
    "    new_cols = [f'{c}Rolling_Dif' for c in cols]\n",
    "    #print(new_cols)\n",
    "    for i,c in enumerate(cols):\n",
    "        df[new_cols[i]] = df[f'Team{c}Rolling'] - df[f'Opponent{c}Rolling']\n",
    "    return df, new_cols"
   ]
  },
  {
   "cell_type": "code",
   "execution_count": 14,
   "metadata": {},
   "outputs": [],
   "source": [
    "'''\n",
    "print('getting prem')\n",
    "prem_df = #get_prem_data()\n",
    "print('getting schedule')\n",
    "sched23 = get_current_season()\n",
    "#sched23 = get_schedule()\n",
    "\n",
    "new_df2023 = pd.concat([prem_df, sched23])\n",
    "new_df2023.to_csv('cache/total_df.csv')\n",
    "print(new_df2023.columns)\n",
    "print('preprocess')\n",
    "df1 = preprocess(new_df2023, 'csv')\n",
    "\n",
    "print('create predictors')\n",
    "full_df = create_predictors(df1)\n",
    "print('getting elo')\n",
    "merged_df = get_elo_data(full_df)\n",
    "print('create rolling')\n",
    "df_rolling = create_rolling(merged_df)\n",
    "print('predicting')\n",
    "'''\n",
    "df_rolling = pd.read_csv('/Users/Gautham/Projects/Betting/cache/rolling.csv')\n",
    "curr = pd.read_csv('/Users/Gautham/Projects/Betting/cache/current_season.csv')\n",
    "curr[['BbAv>2.5', 'BbAv<2.5', 'BbAvH', 'BbAvD', 'BbAvA']] = None"
   ]
  },
  {
   "cell_type": "code",
   "execution_count": 15,
   "metadata": {},
   "outputs": [],
   "source": [
    "df_rolling['WinTarget'] = df_rolling['Result'].astype('category').cat.codes#df_rolling['Result'].astype('category').cat.codes#(df_rolling['Result'] == 'W').astype('int')#np.where(((df_rolling['Result'] == 'H') & (df_rolling['VenueCode'] == 1)) | ((df_rolling['Result'] == 'A') & (df_rolling['VenueCode'] == 0)),  1, 0).astype('int')#df_rolling['Result'].astype('category').cat.codes\n"
   ]
  },
  {
   "cell_type": "code",
   "execution_count": 16,
   "metadata": {},
   "outputs": [],
   "source": [
    "numeric_cols = ['Shots', 'ShotsonTarget', 'Fouls', 'Corners', 'YellowCards', 'RedCards']\n",
    "cols = ['Goals','Shots', 'ShotsonTarget', 'Corners']\n",
    "df_rolling, new_cols = calculate_difs(df_rolling, cols)\n"
   ]
  },
  {
   "cell_type": "code",
   "execution_count": 193,
   "metadata": {},
   "outputs": [],
   "source": [
    "df_rolling.to_csv('cache/rolling_dif.csv')"
   ]
  },
  {
   "cell_type": "code",
   "execution_count": 101,
   "metadata": {},
   "outputs": [],
   "source": [
    "from sklearn.ensemble import ExtraTreesClassifier\n",
    "from sklearn.model_selection import GridSearchCV\n",
    "    \n",
    "\n",
    "def random_forest_win(data, predictors, train, test, call_type, target_col, model_type):  \n",
    "    if model_type == 'RF':\n",
    "        model = RandomForestClassifier(n_estimators=50, min_samples_split=7, random_state=1) \n",
    "    else: \n",
    "        params = {'colsample_bytree': 0.5, 'gamma': 0, 'learning_rate': 0.01, 'max_depth': 5, 'reg_lambda': 0, 'subsample': 0.8}\n",
    "        model = xgb.XGBClassifier(**params)#, objective='binary:logistic')\n",
    "\n",
    "    model = ExtraTreesClassifier(bootstrap=True, criterion=\"entropy\", max_features=0.8, min_samples_leaf=17, min_samples_split=5, n_estimators=100)\n",
    "\n",
    "     \n",
    "    '''\n",
    "    param_grid = {\n",
    "\t    \"max_depth\": [3],\n",
    "\t    \"learning_rate\": [0.01],\n",
    "\t    \"gamma\": [0, 0.25, 1],\n",
    "\t    \"reg_lambda\": [0, 1, 10],\n",
    "\t    \"scale_pos_weight\": [1, 3, 5],\n",
    "\t    \"subsample\": [0.8],\n",
    "\t    \"colsample_bytree\": [0.5],\n",
    "\t}\n",
    "    '''\n",
    "    param_grid = {\n",
    "\t    \"max_depth\": [3],\n",
    "\t    \"learning_rate\": [0.01],\n",
    "\t    \"gamma\": [0, 0.25, 1],\n",
    "\t    \"reg_lambda\": [0, 1, 10],\n",
    "\t    \"subsample\": [0.8],\n",
    "\t    \"colsample_bytree\": [0.5],\n",
    "\t}\n",
    "\n",
    "    params = {'colsample_bytree': 0.5, 'gamma': 1, 'learning_rate': 0.01, 'max_depth': 3, 'reg_lambda': 10, 'scale_pos_weight': 1, 'subsample': 0.8}\n",
    "    params = {'colsample_bytree': 0.5, 'gamma': 0, 'learning_rate': 0.01, 'max_depth': 5, 'reg_lambda': 0, 'subsample': 0.8}\n",
    "    #params = {'colsample_bytree': 0.5, 'gamma': 1, 'learning_rate': 0.01, 'max_depth': 3, 'reg_lambda': 10, 'subsample': 0.8}\n",
    "    \n",
    "    #model = xgb.XGBClassifier(**params)#, objective='binary:logistic')\n",
    "    #model = xgb.XGBRegressor()\n",
    "    #grid_cv = GridSearchCV(model, param_grid, n_jobs=-1, cv=3, scoring='roc_auc')\n",
    "    #_ = grid_cv.fit(train[predictors], train[target_col])\n",
    "    #print(grid_cv.best_score_, grid_cv.best_params_)\n",
    "\n",
    "    #model.fit(train[predictors], train['Target'])\n",
    "    model.fit(train[predictors], train[target_col])\n",
    "    preds = model.predict(test[predictors])\n",
    "    #return preds,1,1\n",
    "    #if call_type == 'predict':\n",
    "    #    return preds, model\n",
    "    #combined = pd.DataFrame(dict(actual=test['Target'], prediction=preds), index = test.index)\n",
    "    #print(test.groupby('GameID').filter(lambda x: x['prediction'].sum()==1))\n",
    "    precision = precision_score(test[target_col], preds, average='micro')\n",
    "    accuracy = accuracy_score(test[target_col], preds)\n",
    "    combined = pd.DataFrame(dict(actual=test[target_col], prediction=preds), index = test.index)\n",
    "    c1 = combined.merge(data[['Date', 'Team', 'Opponent', 'TeamGoals', 'OpponentGoals','GameID', 'Venue']], left_index=True, right_index=True)\n",
    "\n",
    "    # predictions where both home and away team prediction match\n",
    "    predictions = c1.groupby('GameID').filter(lambda x: x['prediction'].sum()==1)\n",
    "    #print(predictions)\n",
    "    table = c1.sort_index()[['GameID','Date','Team', 'Opponent', 'prediction', 'actual']].merge(c1[['GameID','Date','Team', 'Opponent', 'prediction']], left_on=['Date', 'Team'], right_on=['Date', 'Opponent']).drop_duplicates(['GameID_x'])\n",
    "   \n",
    "    table = table[table['prediction_x'] == table['prediction_y']]#.filter(lambda x: x['prediction_x'] != x['prediction_y'])\n",
    "    precision1 = precision_score(table['actual'], table['prediction_x'], average='micro')\n",
    "    accuracy1 = accuracy_score(table['actual'], table['prediction_x'])\n",
    "    #print(precision1, accuracy1, precision2, accuracy2)\n",
    "    #precision, accuracy = 1,1\n",
    "    #precision = cross_val_score(model, train[predictors], train['TotalGoals'], scoring='neg_mean_absolute_error')\n",
    "    return table, precision1, accuracy1, model, combined"
   ]
  },
  {
   "cell_type": "code",
   "execution_count": 102,
   "metadata": {
    "tags": [
     "outputPrepend",
     "outputPrepend",
     "outputPrepend",
     "outputPrepend",
     "outputPrepend",
     "outputPrepend",
     "outputPrepend",
     "outputPrepend",
     "outputPrepend",
     "outputPrepend",
     "outputPrepend",
     "outputPrepend"
    ]
   },
   "outputs": [
    {
     "output_type": "execute_result",
     "data": {
      "text/plain": "(0.5391061452513967,\n 0.5391061452513967,\n       GameID_x        Date       Team_x        Opponent_x  prediction_x  \\\n 6         6083  2016-08-13      Watford       Southampton             1   \n 8         6084  2016-08-13         Hull         Leicester             1   \n 10        6085  2016-08-13        Stoke     Middlesbrough             0   \n 12        6086  2016-08-13     Man City        Sunderland             1   \n 14        6087  2016-08-14    Liverpool           Arsenal             1   \n ...        ...         ...          ...               ...           ...   \n 4622      8442  2023-09-16    Newcastle         Brentford             0   \n 4624      8443  2023-09-16    Tottenham  Sheffield United             1   \n 4626      8444  2023-09-16     West Ham          Man City             0   \n 4630      8446  2023-09-17      Everton           Arsenal             0   \n 4632      8447  2023-09-17  Bournemouth           Chelsea             0   \n \n       actual  GameID_y            Team_y   Opponent_y  prediction_y  \n 6          0      6083       Southampton      Watford             1  \n 8          1      6084         Leicester         Hull             1  \n 10         0      6085     Middlesbrough        Stoke             0  \n 12         1      6086        Sunderland     Man City             1  \n 14         1      6087           Arsenal    Liverpool             1  \n ...      ...       ...               ...          ...           ...  \n 4622       0      8442         Brentford    Newcastle             0  \n 4624       1      8443  Sheffield United    Tottenham             1  \n 4626       1      8444          Man City     West Ham             0  \n 4630       0      8446           Arsenal      Everton             0  \n 4632       0      8447           Chelsea  Bournemouth             0  \n \n [1432 rows x 10 columns])"
     },
     "metadata": {},
     "execution_count": 102
    }
   ],
   "source": [
    "predictors = ['VenueCode', 'OpponentCode', 'ELODif']\n",
    "predictors = ['VenueCode', 'ELODif']\n",
    "new_cols = ['TotalGoalsRolling',\n",
    " 'TeamGoalsRolling',\n",
    " 'OpponentGoalsRolling',\n",
    " 'TeamShotsRolling',\n",
    " 'OpponentShotsRolling',\n",
    " 'TeamShotsonTargetRolling',\n",
    " 'OpponentShotsonTargetRolling',\n",
    " 'TeamCornersRolling',\n",
    "  'OpponentCornersRolling']\n",
    "cols = ['TotalGoalsRolling','GoalsRolling_Dif', 'ShotsRolling_Dif', 'ShotsonTargetRolling_Dif', 'CornersRolling_Dif']\n",
    "\n",
    "\n",
    "#predictors = ['VenueCode', 'ELODif']\n",
    "new_df = df_rolling.dropna(subset=['O2.5'])\n",
    "new_df.shape\n",
    "train = new_df[new_df['Date'] < '2016-08']\n",
    "test = new_df[new_df['Date'] >= '2016-08']# and new_df['Date'] < '2022-colst = new_df.loc[(new_df['Date'] >= '2016-08')]# & (new_df['Date'] < '2022-05')]\n",
    "table, precision, accuracy, model, combined = random_forest_win(df_rolling, predictors+cols, train, test, 'model', 'Target', 'XGB')\n",
    "precision, accuracy, table"
   ]
  },
  {
   "cell_type": "code",
   "execution_count": 90,
   "metadata": {},
   "outputs": [
    {
     "output_type": "execute_result",
     "data": {
      "text/plain": "      actual  prediction        Date            Team        Opponent  \\\n0          0           1  2016-08-13         Swansea         Burnley   \n2          0           0  2016-08-13         Burnley         Swansea   \n4          0           0  2016-08-13  Crystal Palace       West Brom   \n6          0           1  2016-08-13       West Brom  Crystal Palace   \n8          0           0  2016-08-13         Watford     Southampton   \n...      ...         ...         ...             ...             ...   \n3692       1           1  2023-09-16        Brighton      Man United   \n3694       1           1  2023-09-16          Wolves       Liverpool   \n3696       1           0  2023-09-16       Liverpool          Wolves   \n3698       0           1  2023-09-17     Bournemouth         Chelsea   \n3700       0           0  2023-09-17         Chelsea     Bournemouth   \n\n      TeamGoals  OpponentGoals  GameID Venue  O2.5  U2.5  \n0             1              0    6080  Away  2.30  1.61  \n2             0              1    6080  Home  2.30  1.61  \n4             0              1    6082  Home  2.50  1.52  \n6             1              0    6082  Away  2.50  1.52  \n8             1              1    6083  Away  2.06  1.75  \n...         ...            ...     ...   ...   ...   ...  \n3692          3              1    8441  Away  1.44  2.88  \n3694          1              3    8445  Home  1.44  2.56  \n3696          3              1    8445  Away  1.44  2.56  \n3698          0              0    8447  Home  1.67  2.19  \n3700          0              0    8447  Away  1.67  2.19  \n\n[1854 rows x 11 columns]",
      "text/html": "<div>\n<style scoped>\n    .dataframe tbody tr th:only-of-type {\n        vertical-align: middle;\n    }\n\n    .dataframe tbody tr th {\n        vertical-align: top;\n    }\n\n    .dataframe thead th {\n        text-align: right;\n    }\n</style>\n<table border=\"1\" class=\"dataframe\">\n  <thead>\n    <tr style=\"text-align: right;\">\n      <th></th>\n      <th>actual</th>\n      <th>prediction</th>\n      <th>Date</th>\n      <th>Team</th>\n      <th>Opponent</th>\n      <th>TeamGoals</th>\n      <th>OpponentGoals</th>\n      <th>GameID</th>\n      <th>Venue</th>\n      <th>O2.5</th>\n      <th>U2.5</th>\n    </tr>\n  </thead>\n  <tbody>\n    <tr>\n      <th>0</th>\n      <td>0</td>\n      <td>1</td>\n      <td>2016-08-13</td>\n      <td>Swansea</td>\n      <td>Burnley</td>\n      <td>1</td>\n      <td>0</td>\n      <td>6080</td>\n      <td>Away</td>\n      <td>2.30</td>\n      <td>1.61</td>\n    </tr>\n    <tr>\n      <th>2</th>\n      <td>0</td>\n      <td>0</td>\n      <td>2016-08-13</td>\n      <td>Burnley</td>\n      <td>Swansea</td>\n      <td>0</td>\n      <td>1</td>\n      <td>6080</td>\n      <td>Home</td>\n      <td>2.30</td>\n      <td>1.61</td>\n    </tr>\n    <tr>\n      <th>4</th>\n      <td>0</td>\n      <td>0</td>\n      <td>2016-08-13</td>\n      <td>Crystal Palace</td>\n      <td>West Brom</td>\n      <td>0</td>\n      <td>1</td>\n      <td>6082</td>\n      <td>Home</td>\n      <td>2.50</td>\n      <td>1.52</td>\n    </tr>\n    <tr>\n      <th>6</th>\n      <td>0</td>\n      <td>1</td>\n      <td>2016-08-13</td>\n      <td>West Brom</td>\n      <td>Crystal Palace</td>\n      <td>1</td>\n      <td>0</td>\n      <td>6082</td>\n      <td>Away</td>\n      <td>2.50</td>\n      <td>1.52</td>\n    </tr>\n    <tr>\n      <th>8</th>\n      <td>0</td>\n      <td>0</td>\n      <td>2016-08-13</td>\n      <td>Watford</td>\n      <td>Southampton</td>\n      <td>1</td>\n      <td>1</td>\n      <td>6083</td>\n      <td>Away</td>\n      <td>2.06</td>\n      <td>1.75</td>\n    </tr>\n    <tr>\n      <th>...</th>\n      <td>...</td>\n      <td>...</td>\n      <td>...</td>\n      <td>...</td>\n      <td>...</td>\n      <td>...</td>\n      <td>...</td>\n      <td>...</td>\n      <td>...</td>\n      <td>...</td>\n      <td>...</td>\n    </tr>\n    <tr>\n      <th>3692</th>\n      <td>1</td>\n      <td>1</td>\n      <td>2023-09-16</td>\n      <td>Brighton</td>\n      <td>Man United</td>\n      <td>3</td>\n      <td>1</td>\n      <td>8441</td>\n      <td>Away</td>\n      <td>1.44</td>\n      <td>2.88</td>\n    </tr>\n    <tr>\n      <th>3694</th>\n      <td>1</td>\n      <td>1</td>\n      <td>2023-09-16</td>\n      <td>Wolves</td>\n      <td>Liverpool</td>\n      <td>1</td>\n      <td>3</td>\n      <td>8445</td>\n      <td>Home</td>\n      <td>1.44</td>\n      <td>2.56</td>\n    </tr>\n    <tr>\n      <th>3696</th>\n      <td>1</td>\n      <td>0</td>\n      <td>2023-09-16</td>\n      <td>Liverpool</td>\n      <td>Wolves</td>\n      <td>3</td>\n      <td>1</td>\n      <td>8445</td>\n      <td>Away</td>\n      <td>1.44</td>\n      <td>2.56</td>\n    </tr>\n    <tr>\n      <th>3698</th>\n      <td>0</td>\n      <td>1</td>\n      <td>2023-09-17</td>\n      <td>Bournemouth</td>\n      <td>Chelsea</td>\n      <td>0</td>\n      <td>0</td>\n      <td>8447</td>\n      <td>Home</td>\n      <td>1.67</td>\n      <td>2.19</td>\n    </tr>\n    <tr>\n      <th>3700</th>\n      <td>0</td>\n      <td>0</td>\n      <td>2023-09-17</td>\n      <td>Chelsea</td>\n      <td>Bournemouth</td>\n      <td>0</td>\n      <td>0</td>\n      <td>8447</td>\n      <td>Away</td>\n      <td>1.67</td>\n      <td>2.19</td>\n    </tr>\n  </tbody>\n</table>\n<p>1854 rows × 11 columns</p>\n</div>"
     },
     "metadata": {},
     "execution_count": 90
    }
   ],
   "source": [
    "c1 = combined.merge(df_rolling[['Date', 'Team', 'Opponent', 'TeamGoals', 'OpponentGoals','GameID', 'Venue']], left_index=True, right_index=True)\n",
    "combined\n",
    "# predictions where both home and away team prediction match\n",
    "predictions = c1.groupby('GameID').filter(lambda x: x['prediction'].sum()==1)\n",
    "#predictions = c1.groupby('GameID')[['Team', 'Opponent','actual', 'prediction']].sum()\n",
    "#predictions[['actual','prediction']] = predictions[['actual','prediction']] / 2 .filter(lambda x: x['prediction'].sum()!=1)#[['GameID','Date', 'prediction','actual']]\n",
    "#predictions = predictions[predictions['Date'] > '2023-08']\n",
    "\n",
    "pred_with_odds = predictions.merge(df_rolling[['GameID','O2.5', 'U2.5']], how='inner',on='GameID').drop_duplicates()\n",
    "\n",
    "#pred_with_odds = pred_with_odds[['GameID', 'O2.5', 'U2.5', 'prediction', 'actual']].drop_duplicates()\n",
    "#pred_with_odds[pred_with_odds['actual'] == pred_with_odds['prediction']].shape[0] / pred_with_odds.shape[0] \n",
    "merged = c1.merge(c1, left_on=['GameID','Date', 'Team'], right_on=['GameID','Date', 'Opponent'])\n",
    "predictions\n",
    "c1\n",
    "pred_with_odds\n",
    "#merged[((merged['prediction_x'] == 1) & (merged['prediction_y'] == 0)) | ((merged['prediction_x'] == 0) & (merged['prediction_y'] == 1))]['actual_x'].value_counts()"
   ]
  },
  {
   "cell_type": "code",
   "execution_count": 175,
   "metadata": {},
   "outputs": [
    {
     "output_type": "execute_result",
     "data": {
      "text/plain": "0.5388692579505301"
     },
     "metadata": {},
     "execution_count": 175
    }
   ],
   "source": [
    "610/(610+522)"
   ]
  },
  {
   "cell_type": "code",
   "execution_count": 192,
   "metadata": {},
   "outputs": [],
   "source": [
    "def prep_data(week):\n",
    "    rolling = pd.read_csv('cache/rolling.csv')\n",
    "    elo = pd.read_csv('cache/elo.csv')\n",
    "    schedule = pd.read_csv('cache/schedule.csv')\n",
    "    #print(rolling['Date'])\n",
    "    recent_rolling = rolling[rolling['Date'] >= '2023-09-16']\n",
    "    #schedule.loc[(schedule['Date'] == '23/09/23') | (schedule['Date'] == '24/09/23')]\n",
    "    #print(recent_rolling)\n",
    "    sched = pd.DataFrame()\n",
    "    #for date in dates:\n",
    "    sched = pd.concat([sched, schedule.loc[schedule['week'] >= week]])#(schedule['Date'] == date)]])\n",
    "   \n",
    "    sched['Result'] = -1\n",
    "    sched = home_away(sched)\n",
    "    \n",
    "    #print(sched)\n",
    "    sched = sched.merge(recent_rolling[['Team', 'TeamELO']], on='Team', how='inner')\n",
    "    sched = sched.merge(recent_rolling[['Opponent', 'OpponentELO']], on='Opponent', how='inner')\n",
    "    sched['ELODif'] = sched['TeamELO'] - sched['OpponentELO']\n",
    "    sched['Date'] = pd.to_datetime(sched['Date'], dayfirst=True).dt.date\n",
    "\n",
    "    new = pd.concat([elo, sched[['Date', 'Team', 'Opponent', 'TeamELO', 'OpponentELO', 'ELODif', 'Venue', \"GameID\"]]])\n",
    "    #print(new.columns)\n",
    "    #return new\n",
    "    new['Date'] = pd.to_datetime(new['Date'], dayfirst=True).dt.date\n",
    "    print(elo.Date.dtype, sched.Date.dtype)\n",
    "\n",
    "    new = create_predictors(new)\n",
    "    new = create_rolling(new)\n",
    "    numeric_cols = ['Shots', 'ShotsonTarget', 'Fouls', 'Corners', 'YellowCards', 'RedCards']\n",
    "    cols = ['Goals','Shots', 'ShotsonTarget', 'Corners']\n",
    "    #print(new.columns, 'h')\n",
    "    new, dif_cols = calculate_difs(new, cols)\n",
    "\n",
    "    new['WinLoseTarget'] = new['Result'].astype('category').cat.codes #(new['Result'] == 'W').astype('int')\n",
    "    new['WinTarget'] = (new['Result'] == 'W')#new['Result'].astype('category').cat.codes\n",
    "    new['DrawTarget'] = (new['Result'] == 'D')\n",
    "    new['LossTarget'] = (new['Result'] == 'L')\n",
    "    new.to_csv('new.csv')\n",
    "    return dif_cols\n",
    "\n",
    "def predict(date, pred_type, dif_cols):\n",
    "    #new['WinTarget'] = codes.cat.codes\n",
    "    #cats = codes.cat.categories\n",
    "    #print(new['WinTarget'], new['Result'])\n",
    "    #return new, 'hi'\n",
    "    new = pd.read_csv('new.csv')\n",
    "    predictors = ['VenueCode', 'OpponentCode', 'ELODif'] + dif_cols\n",
    "    #predictors = ['VenueCode', 'ELODif']\n",
    "    #print(new)\n",
    "    new_df = new.dropna(subset=['O2.5'])\n",
    "    train = new_df[new_df['Date'] < '2018-09-18']\n",
    "    #return train\n",
    "    #test = new_df[new_df['Date'] >= '2022-08' and new_df['Date'] < '2022-08']\n",
    "    #new_df.Date\n",
    "    test = new_df[(new_df['Date'] >= '2018-08') & (new_df['Date'] < '2023-08')]\n",
    "    pred = new.loc[(new['Date'] >= date)]\n",
    "    #pred_type = 'WinTarget'\n",
    "    table, prec, acc, model, combined = random_forest_win(df_rolling, predictors, train, test, 'predict', pred_type, 'RF')\n",
    "    #print(combined)\n",
    "    preds = model.predict(pred[predictors])\n",
    "    #c1 = preds.merge(test[['Date', 'Team', 'Opponent', 'TotalGoals', 'GameID']], left_index=True, right_index=True)\n",
    "    \n",
    "    return preds, table, pred\n",
    "\n",
    "\n",
    "#table[table[('preds_x' == 'preds_y')]]\n"
   ]
  },
  {
   "cell_type": "code",
   "execution_count": 193,
   "metadata": {},
   "outputs": [
    {
     "output_type": "stream",
     "name": "stdout",
     "text": "object object\n"
    }
   ],
   "source": [
    "date = '2023-09-25'\n",
    "dif_cols = prep_data(7)#['30/09/23', '01/10/23', '02/10/23'])\n",
    "preds_wl, combined1, c1 = predict(date, 'WinLoseTarget', dif_cols)\n",
    "preds_ou, combined2, c2 = predict(date, 'Target', dif_cols)\n",
    "preds_w, combined3, c3 = predict(date, 'WinTarget', dif_cols)\n",
    "preds_d, combined4, c4 = predict(date, 'DrawTarget', dif_cols)\n",
    "preds_l, combined5, c5 = predict(date, 'LossTarget', dif_cols)"
   ]
  },
  {
   "cell_type": "code",
   "execution_count": 194,
   "metadata": {},
   "outputs": [
    {
     "output_type": "execute_result",
     "data": {
      "text/plain": "    GameID_x        Date            Team_x        Opponent_x  preds_x  \\\n0          0  2023-09-30       Aston Villa          Brighton        2   \n2          1  2023-09-30           Arsenal       Bournemouth        2   \n4          2  2023-09-30           Everton             Luton        2   \n6          3  2023-09-30    Crystal Palace        Man United        1   \n8          5  2023-09-30         Tottenham         Liverpool        2   \n10         6  2023-09-30          West Ham  Sheffield United        2   \n12         7  2023-09-30            Wolves          Man City        1   \n14         9  2023-10-02           Chelsea            Fulham        1   \n16        12  2023-10-07       Bournemouth           Everton        1   \n18        13  2023-10-07  Sheffield United            Fulham        1   \n20        14  2023-10-07         Tottenham             Luton        2   \n22        15  2023-10-07        Man United         Brentford        2   \n24        16  2023-10-08           Arsenal          Man City        2   \n26        17  2023-10-08          Brighton         Liverpool        1   \n28        18  2023-10-08         Newcastle          West Ham        1   \n30        19  2023-10-08       Aston Villa            Wolves        2   \n32        25  2023-10-21         Newcastle    Crystal Palace        2   \n\n    GameID_y            Team_y        Opponent_y  preds_y  \n0          0          Brighton       Aston Villa        1  \n2          1       Bournemouth           Arsenal        1  \n4          2             Luton           Everton        1  \n6          3        Man United    Crystal Palace        2  \n8          5         Liverpool         Tottenham        2  \n10         6  Sheffield United          West Ham        1  \n12         7          Man City            Wolves        2  \n14         9            Fulham           Chelsea        2  \n16        12           Everton       Bournemouth        2  \n18        13            Fulham  Sheffield United        2  \n20        14             Luton         Tottenham        1  \n22        15         Brentford        Man United        1  \n24        16          Man City           Arsenal        2  \n26        17         Liverpool          Brighton        2  \n28        18          West Ham         Newcastle        2  \n30        19            Wolves       Aston Villa        1  \n32        25    Crystal Palace         Newcastle        1  ",
      "text/html": "<div>\n<style scoped>\n    .dataframe tbody tr th:only-of-type {\n        vertical-align: middle;\n    }\n\n    .dataframe tbody tr th {\n        vertical-align: top;\n    }\n\n    .dataframe thead th {\n        text-align: right;\n    }\n</style>\n<table border=\"1\" class=\"dataframe\">\n  <thead>\n    <tr style=\"text-align: right;\">\n      <th></th>\n      <th>GameID_x</th>\n      <th>Date</th>\n      <th>Team_x</th>\n      <th>Opponent_x</th>\n      <th>preds_x</th>\n      <th>GameID_y</th>\n      <th>Team_y</th>\n      <th>Opponent_y</th>\n      <th>preds_y</th>\n    </tr>\n  </thead>\n  <tbody>\n    <tr>\n      <th>0</th>\n      <td>0</td>\n      <td>2023-09-30</td>\n      <td>Aston Villa</td>\n      <td>Brighton</td>\n      <td>2</td>\n      <td>0</td>\n      <td>Brighton</td>\n      <td>Aston Villa</td>\n      <td>1</td>\n    </tr>\n    <tr>\n      <th>2</th>\n      <td>1</td>\n      <td>2023-09-30</td>\n      <td>Arsenal</td>\n      <td>Bournemouth</td>\n      <td>2</td>\n      <td>1</td>\n      <td>Bournemouth</td>\n      <td>Arsenal</td>\n      <td>1</td>\n    </tr>\n    <tr>\n      <th>4</th>\n      <td>2</td>\n      <td>2023-09-30</td>\n      <td>Everton</td>\n      <td>Luton</td>\n      <td>2</td>\n      <td>2</td>\n      <td>Luton</td>\n      <td>Everton</td>\n      <td>1</td>\n    </tr>\n    <tr>\n      <th>6</th>\n      <td>3</td>\n      <td>2023-09-30</td>\n      <td>Crystal Palace</td>\n      <td>Man United</td>\n      <td>1</td>\n      <td>3</td>\n      <td>Man United</td>\n      <td>Crystal Palace</td>\n      <td>2</td>\n    </tr>\n    <tr>\n      <th>8</th>\n      <td>5</td>\n      <td>2023-09-30</td>\n      <td>Tottenham</td>\n      <td>Liverpool</td>\n      <td>2</td>\n      <td>5</td>\n      <td>Liverpool</td>\n      <td>Tottenham</td>\n      <td>2</td>\n    </tr>\n    <tr>\n      <th>10</th>\n      <td>6</td>\n      <td>2023-09-30</td>\n      <td>West Ham</td>\n      <td>Sheffield United</td>\n      <td>2</td>\n      <td>6</td>\n      <td>Sheffield United</td>\n      <td>West Ham</td>\n      <td>1</td>\n    </tr>\n    <tr>\n      <th>12</th>\n      <td>7</td>\n      <td>2023-09-30</td>\n      <td>Wolves</td>\n      <td>Man City</td>\n      <td>1</td>\n      <td>7</td>\n      <td>Man City</td>\n      <td>Wolves</td>\n      <td>2</td>\n    </tr>\n    <tr>\n      <th>14</th>\n      <td>9</td>\n      <td>2023-10-02</td>\n      <td>Chelsea</td>\n      <td>Fulham</td>\n      <td>1</td>\n      <td>9</td>\n      <td>Fulham</td>\n      <td>Chelsea</td>\n      <td>2</td>\n    </tr>\n    <tr>\n      <th>16</th>\n      <td>12</td>\n      <td>2023-10-07</td>\n      <td>Bournemouth</td>\n      <td>Everton</td>\n      <td>1</td>\n      <td>12</td>\n      <td>Everton</td>\n      <td>Bournemouth</td>\n      <td>2</td>\n    </tr>\n    <tr>\n      <th>18</th>\n      <td>13</td>\n      <td>2023-10-07</td>\n      <td>Sheffield United</td>\n      <td>Fulham</td>\n      <td>1</td>\n      <td>13</td>\n      <td>Fulham</td>\n      <td>Sheffield United</td>\n      <td>2</td>\n    </tr>\n    <tr>\n      <th>20</th>\n      <td>14</td>\n      <td>2023-10-07</td>\n      <td>Tottenham</td>\n      <td>Luton</td>\n      <td>2</td>\n      <td>14</td>\n      <td>Luton</td>\n      <td>Tottenham</td>\n      <td>1</td>\n    </tr>\n    <tr>\n      <th>22</th>\n      <td>15</td>\n      <td>2023-10-07</td>\n      <td>Man United</td>\n      <td>Brentford</td>\n      <td>2</td>\n      <td>15</td>\n      <td>Brentford</td>\n      <td>Man United</td>\n      <td>1</td>\n    </tr>\n    <tr>\n      <th>24</th>\n      <td>16</td>\n      <td>2023-10-08</td>\n      <td>Arsenal</td>\n      <td>Man City</td>\n      <td>2</td>\n      <td>16</td>\n      <td>Man City</td>\n      <td>Arsenal</td>\n      <td>2</td>\n    </tr>\n    <tr>\n      <th>26</th>\n      <td>17</td>\n      <td>2023-10-08</td>\n      <td>Brighton</td>\n      <td>Liverpool</td>\n      <td>1</td>\n      <td>17</td>\n      <td>Liverpool</td>\n      <td>Brighton</td>\n      <td>2</td>\n    </tr>\n    <tr>\n      <th>28</th>\n      <td>18</td>\n      <td>2023-10-08</td>\n      <td>Newcastle</td>\n      <td>West Ham</td>\n      <td>1</td>\n      <td>18</td>\n      <td>West Ham</td>\n      <td>Newcastle</td>\n      <td>2</td>\n    </tr>\n    <tr>\n      <th>30</th>\n      <td>19</td>\n      <td>2023-10-08</td>\n      <td>Aston Villa</td>\n      <td>Wolves</td>\n      <td>2</td>\n      <td>19</td>\n      <td>Wolves</td>\n      <td>Aston Villa</td>\n      <td>1</td>\n    </tr>\n    <tr>\n      <th>32</th>\n      <td>25</td>\n      <td>2023-10-21</td>\n      <td>Newcastle</td>\n      <td>Crystal Palace</td>\n      <td>2</td>\n      <td>25</td>\n      <td>Crystal Palace</td>\n      <td>Newcastle</td>\n      <td>1</td>\n    </tr>\n  </tbody>\n</table>\n</div>"
     },
     "metadata": {},
     "execution_count": 194
    }
   ],
   "source": [
    "c1['preds'] = preds_wl\n",
    "table_wl = c1.sort_index()[['GameID','Date','Team', 'Opponent', 'preds']].merge(c1[['GameID','Date','Team', 'Opponent', 'preds']], left_on=['Date', 'Team'], right_on=['Date', 'Opponent']).drop_duplicates(['GameID_x'])\n",
    "#c1\n",
    "table_wl\n"
   ]
  },
  {
   "cell_type": "code",
   "execution_count": 197,
   "metadata": {},
   "outputs": [
    {
     "output_type": "execute_result",
     "data": {
      "text/plain": "    GameID_x        Date       Team_x Opponent_x  preds_x  GameID_y  \\\n0          0  2023-09-30  Aston Villa   Brighton        0         0   \n4          2  2023-09-30      Everton      Luton        0         2   \n8          5  2023-09-30    Tottenham  Liverpool        1         5   \n12         7  2023-09-30       Wolves   Man City        1         7   \n20        14  2023-10-07    Tottenham      Luton        1        14   \n22        15  2023-10-07   Man United  Brentford        1        15   \n24        16  2023-10-08      Arsenal   Man City        1        16   \n\n       Team_y   Opponent_y  preds_y  \n0    Brighton  Aston Villa        0  \n4       Luton      Everton        0  \n8   Liverpool    Tottenham        1  \n12   Man City       Wolves        1  \n20      Luton    Tottenham        1  \n22  Brentford   Man United        1  \n24   Man City      Arsenal        1  ",
      "text/html": "<div>\n<style scoped>\n    .dataframe tbody tr th:only-of-type {\n        vertical-align: middle;\n    }\n\n    .dataframe tbody tr th {\n        vertical-align: top;\n    }\n\n    .dataframe thead th {\n        text-align: right;\n    }\n</style>\n<table border=\"1\" class=\"dataframe\">\n  <thead>\n    <tr style=\"text-align: right;\">\n      <th></th>\n      <th>GameID_x</th>\n      <th>Date</th>\n      <th>Team_x</th>\n      <th>Opponent_x</th>\n      <th>preds_x</th>\n      <th>GameID_y</th>\n      <th>Team_y</th>\n      <th>Opponent_y</th>\n      <th>preds_y</th>\n    </tr>\n  </thead>\n  <tbody>\n    <tr>\n      <th>0</th>\n      <td>0</td>\n      <td>2023-09-30</td>\n      <td>Aston Villa</td>\n      <td>Brighton</td>\n      <td>0</td>\n      <td>0</td>\n      <td>Brighton</td>\n      <td>Aston Villa</td>\n      <td>0</td>\n    </tr>\n    <tr>\n      <th>4</th>\n      <td>2</td>\n      <td>2023-09-30</td>\n      <td>Everton</td>\n      <td>Luton</td>\n      <td>0</td>\n      <td>2</td>\n      <td>Luton</td>\n      <td>Everton</td>\n      <td>0</td>\n    </tr>\n    <tr>\n      <th>8</th>\n      <td>5</td>\n      <td>2023-09-30</td>\n      <td>Tottenham</td>\n      <td>Liverpool</td>\n      <td>1</td>\n      <td>5</td>\n      <td>Liverpool</td>\n      <td>Tottenham</td>\n      <td>1</td>\n    </tr>\n    <tr>\n      <th>12</th>\n      <td>7</td>\n      <td>2023-09-30</td>\n      <td>Wolves</td>\n      <td>Man City</td>\n      <td>1</td>\n      <td>7</td>\n      <td>Man City</td>\n      <td>Wolves</td>\n      <td>1</td>\n    </tr>\n    <tr>\n      <th>20</th>\n      <td>14</td>\n      <td>2023-10-07</td>\n      <td>Tottenham</td>\n      <td>Luton</td>\n      <td>1</td>\n      <td>14</td>\n      <td>Luton</td>\n      <td>Tottenham</td>\n      <td>1</td>\n    </tr>\n    <tr>\n      <th>22</th>\n      <td>15</td>\n      <td>2023-10-07</td>\n      <td>Man United</td>\n      <td>Brentford</td>\n      <td>1</td>\n      <td>15</td>\n      <td>Brentford</td>\n      <td>Man United</td>\n      <td>1</td>\n    </tr>\n    <tr>\n      <th>24</th>\n      <td>16</td>\n      <td>2023-10-08</td>\n      <td>Arsenal</td>\n      <td>Man City</td>\n      <td>1</td>\n      <td>16</td>\n      <td>Man City</td>\n      <td>Arsenal</td>\n      <td>1</td>\n    </tr>\n  </tbody>\n</table>\n</div>"
     },
     "metadata": {},
     "execution_count": 197
    }
   ],
   "source": [
    "#preds\n",
    "\n",
    "c2['preds'] = preds_ou\n",
    "table_ou = c2.sort_index()[['GameID','Date','Team', 'Opponent', 'preds']].merge(c2[['GameID','Date','Team', 'Opponent', 'preds']], left_on=['Date', 'Team'], right_on=['Date', 'Opponent']).drop_duplicates(['GameID_x'])\n",
    "table_ou[table_ou['preds_x'] == table_ou['preds_y']]"
   ]
  },
  {
   "cell_type": "code",
   "execution_count": 198,
   "metadata": {},
   "outputs": [
    {
     "output_type": "execute_result",
     "data": {
      "text/plain": "    GameID_x        Date            Team_x        Opponent_x  preds_x  \\\n0          0  2023-09-30       Aston Villa          Brighton    False   \n2          1  2023-09-30           Arsenal       Bournemouth     True   \n4          2  2023-09-30           Everton             Luton     True   \n6          3  2023-09-30    Crystal Palace        Man United    False   \n8          5  2023-09-30         Tottenham         Liverpool    False   \n10         6  2023-09-30          West Ham  Sheffield United     True   \n12         7  2023-09-30            Wolves          Man City    False   \n14         9  2023-10-02           Chelsea            Fulham    False   \n16        12  2023-10-07       Bournemouth           Everton    False   \n18        13  2023-10-07  Sheffield United            Fulham    False   \n20        14  2023-10-07         Tottenham             Luton     True   \n22        15  2023-10-07        Man United         Brentford    False   \n24        16  2023-10-08           Arsenal          Man City    False   \n26        17  2023-10-08          Brighton         Liverpool    False   \n28        18  2023-10-08         Newcastle          West Ham    False   \n30        19  2023-10-08       Aston Villa            Wolves    False   \n32        25  2023-10-21         Newcastle    Crystal Palace     True   \n\n    GameID_y            Team_y        Opponent_y  preds_y  \n0          0          Brighton       Aston Villa    False  \n2          1       Bournemouth           Arsenal    False  \n4          2             Luton           Everton    False  \n6          3        Man United    Crystal Palace     True  \n8          5         Liverpool         Tottenham    False  \n10         6  Sheffield United          West Ham    False  \n12         7          Man City            Wolves     True  \n14         9            Fulham           Chelsea    False  \n16        12           Everton       Bournemouth    False  \n18        13            Fulham  Sheffield United     True  \n20        14             Luton         Tottenham    False  \n22        15         Brentford        Man United    False  \n24        16          Man City           Arsenal     True  \n26        17         Liverpool          Brighton    False  \n28        18          West Ham         Newcastle    False  \n30        19            Wolves       Aston Villa    False  \n32        25    Crystal Palace         Newcastle    False  ",
      "text/html": "<div>\n<style scoped>\n    .dataframe tbody tr th:only-of-type {\n        vertical-align: middle;\n    }\n\n    .dataframe tbody tr th {\n        vertical-align: top;\n    }\n\n    .dataframe thead th {\n        text-align: right;\n    }\n</style>\n<table border=\"1\" class=\"dataframe\">\n  <thead>\n    <tr style=\"text-align: right;\">\n      <th></th>\n      <th>GameID_x</th>\n      <th>Date</th>\n      <th>Team_x</th>\n      <th>Opponent_x</th>\n      <th>preds_x</th>\n      <th>GameID_y</th>\n      <th>Team_y</th>\n      <th>Opponent_y</th>\n      <th>preds_y</th>\n    </tr>\n  </thead>\n  <tbody>\n    <tr>\n      <th>0</th>\n      <td>0</td>\n      <td>2023-09-30</td>\n      <td>Aston Villa</td>\n      <td>Brighton</td>\n      <td>False</td>\n      <td>0</td>\n      <td>Brighton</td>\n      <td>Aston Villa</td>\n      <td>False</td>\n    </tr>\n    <tr>\n      <th>2</th>\n      <td>1</td>\n      <td>2023-09-30</td>\n      <td>Arsenal</td>\n      <td>Bournemouth</td>\n      <td>True</td>\n      <td>1</td>\n      <td>Bournemouth</td>\n      <td>Arsenal</td>\n      <td>False</td>\n    </tr>\n    <tr>\n      <th>4</th>\n      <td>2</td>\n      <td>2023-09-30</td>\n      <td>Everton</td>\n      <td>Luton</td>\n      <td>True</td>\n      <td>2</td>\n      <td>Luton</td>\n      <td>Everton</td>\n      <td>False</td>\n    </tr>\n    <tr>\n      <th>6</th>\n      <td>3</td>\n      <td>2023-09-30</td>\n      <td>Crystal Palace</td>\n      <td>Man United</td>\n      <td>False</td>\n      <td>3</td>\n      <td>Man United</td>\n      <td>Crystal Palace</td>\n      <td>True</td>\n    </tr>\n    <tr>\n      <th>8</th>\n      <td>5</td>\n      <td>2023-09-30</td>\n      <td>Tottenham</td>\n      <td>Liverpool</td>\n      <td>False</td>\n      <td>5</td>\n      <td>Liverpool</td>\n      <td>Tottenham</td>\n      <td>False</td>\n    </tr>\n    <tr>\n      <th>10</th>\n      <td>6</td>\n      <td>2023-09-30</td>\n      <td>West Ham</td>\n      <td>Sheffield United</td>\n      <td>True</td>\n      <td>6</td>\n      <td>Sheffield United</td>\n      <td>West Ham</td>\n      <td>False</td>\n    </tr>\n    <tr>\n      <th>12</th>\n      <td>7</td>\n      <td>2023-09-30</td>\n      <td>Wolves</td>\n      <td>Man City</td>\n      <td>False</td>\n      <td>7</td>\n      <td>Man City</td>\n      <td>Wolves</td>\n      <td>True</td>\n    </tr>\n    <tr>\n      <th>14</th>\n      <td>9</td>\n      <td>2023-10-02</td>\n      <td>Chelsea</td>\n      <td>Fulham</td>\n      <td>False</td>\n      <td>9</td>\n      <td>Fulham</td>\n      <td>Chelsea</td>\n      <td>False</td>\n    </tr>\n    <tr>\n      <th>16</th>\n      <td>12</td>\n      <td>2023-10-07</td>\n      <td>Bournemouth</td>\n      <td>Everton</td>\n      <td>False</td>\n      <td>12</td>\n      <td>Everton</td>\n      <td>Bournemouth</td>\n      <td>False</td>\n    </tr>\n    <tr>\n      <th>18</th>\n      <td>13</td>\n      <td>2023-10-07</td>\n      <td>Sheffield United</td>\n      <td>Fulham</td>\n      <td>False</td>\n      <td>13</td>\n      <td>Fulham</td>\n      <td>Sheffield United</td>\n      <td>True</td>\n    </tr>\n    <tr>\n      <th>20</th>\n      <td>14</td>\n      <td>2023-10-07</td>\n      <td>Tottenham</td>\n      <td>Luton</td>\n      <td>True</td>\n      <td>14</td>\n      <td>Luton</td>\n      <td>Tottenham</td>\n      <td>False</td>\n    </tr>\n    <tr>\n      <th>22</th>\n      <td>15</td>\n      <td>2023-10-07</td>\n      <td>Man United</td>\n      <td>Brentford</td>\n      <td>False</td>\n      <td>15</td>\n      <td>Brentford</td>\n      <td>Man United</td>\n      <td>False</td>\n    </tr>\n    <tr>\n      <th>24</th>\n      <td>16</td>\n      <td>2023-10-08</td>\n      <td>Arsenal</td>\n      <td>Man City</td>\n      <td>False</td>\n      <td>16</td>\n      <td>Man City</td>\n      <td>Arsenal</td>\n      <td>True</td>\n    </tr>\n    <tr>\n      <th>26</th>\n      <td>17</td>\n      <td>2023-10-08</td>\n      <td>Brighton</td>\n      <td>Liverpool</td>\n      <td>False</td>\n      <td>17</td>\n      <td>Liverpool</td>\n      <td>Brighton</td>\n      <td>False</td>\n    </tr>\n    <tr>\n      <th>28</th>\n      <td>18</td>\n      <td>2023-10-08</td>\n      <td>Newcastle</td>\n      <td>West Ham</td>\n      <td>False</td>\n      <td>18</td>\n      <td>West Ham</td>\n      <td>Newcastle</td>\n      <td>False</td>\n    </tr>\n    <tr>\n      <th>30</th>\n      <td>19</td>\n      <td>2023-10-08</td>\n      <td>Aston Villa</td>\n      <td>Wolves</td>\n      <td>False</td>\n      <td>19</td>\n      <td>Wolves</td>\n      <td>Aston Villa</td>\n      <td>False</td>\n    </tr>\n    <tr>\n      <th>32</th>\n      <td>25</td>\n      <td>2023-10-21</td>\n      <td>Newcastle</td>\n      <td>Crystal Palace</td>\n      <td>True</td>\n      <td>25</td>\n      <td>Crystal Palace</td>\n      <td>Newcastle</td>\n      <td>False</td>\n    </tr>\n  </tbody>\n</table>\n</div>"
     },
     "metadata": {},
     "execution_count": 198
    }
   ],
   "source": [
    "c3['preds'] = preds_w\n",
    "table_w = c3.sort_index()[['GameID','Date','Team', 'Opponent', 'preds']].merge(c3[['GameID','Date','Team', 'Opponent', 'preds']], left_on=['Date', 'Team'], right_on=['Date', 'Opponent']).drop_duplicates(['GameID_x'])\n",
    "table_w"
   ]
  },
  {
   "cell_type": "code",
   "execution_count": null,
   "metadata": {},
   "outputs": [],
   "source": [
    "c5['preds'] = preds_l\n",
    "table_l = c5.sort_index()[['GameID','Date','Team', 'Opponent', 'preds']].merge(c5[['GameID','Date','Team', 'Opponent', 'preds']], left_on=['Date', 'Team'], right_on=['Date', 'Opponent']).drop_duplicates(['GameID_x'])\n",
    "table_l"
   ]
  },
  {
   "cell_type": "code",
   "execution_count": 142,
   "metadata": {},
   "outputs": [
    {
     "output_type": "execute_result",
     "data": {
      "text/plain": "    GameID_x      Date            Team_x      Opponent_x  preds_x  GameID_y  \\\n0          0  23/09/23         Brentford         Everton    False         0   \n2          2  23/09/23            Fulham  Crystal Palace    False         2   \n4          3  23/09/23             Luton          Wolves    False         3   \n6          5  24/09/23         Tottenham         Arsenal    False         5   \n8          6  24/09/23          Brighton     Bournemouth    False         6   \n10         7  24/09/23       Aston Villa         Chelsea    False         7   \n12         8  24/09/23         Liverpool        West Ham    False         8   \n14         9  24/09/23  Sheffield United       Newcastle    False         9   \n\n            Team_y        Opponent_y  preds_y  \n0          Everton         Brentford    False  \n2   Crystal Palace            Fulham    False  \n4           Wolves             Luton    False  \n6          Arsenal         Tottenham    False  \n8      Bournemouth          Brighton    False  \n10         Chelsea       Aston Villa    False  \n12        West Ham         Liverpool    False  \n14       Newcastle  Sheffield United    False  ",
      "text/html": "<div>\n<style scoped>\n    .dataframe tbody tr th:only-of-type {\n        vertical-align: middle;\n    }\n\n    .dataframe tbody tr th {\n        vertical-align: top;\n    }\n\n    .dataframe thead th {\n        text-align: right;\n    }\n</style>\n<table border=\"1\" class=\"dataframe\">\n  <thead>\n    <tr style=\"text-align: right;\">\n      <th></th>\n      <th>GameID_x</th>\n      <th>Date</th>\n      <th>Team_x</th>\n      <th>Opponent_x</th>\n      <th>preds_x</th>\n      <th>GameID_y</th>\n      <th>Team_y</th>\n      <th>Opponent_y</th>\n      <th>preds_y</th>\n    </tr>\n  </thead>\n  <tbody>\n    <tr>\n      <th>0</th>\n      <td>0</td>\n      <td>23/09/23</td>\n      <td>Brentford</td>\n      <td>Everton</td>\n      <td>False</td>\n      <td>0</td>\n      <td>Everton</td>\n      <td>Brentford</td>\n      <td>False</td>\n    </tr>\n    <tr>\n      <th>2</th>\n      <td>2</td>\n      <td>23/09/23</td>\n      <td>Fulham</td>\n      <td>Crystal Palace</td>\n      <td>False</td>\n      <td>2</td>\n      <td>Crystal Palace</td>\n      <td>Fulham</td>\n      <td>False</td>\n    </tr>\n    <tr>\n      <th>4</th>\n      <td>3</td>\n      <td>23/09/23</td>\n      <td>Luton</td>\n      <td>Wolves</td>\n      <td>False</td>\n      <td>3</td>\n      <td>Wolves</td>\n      <td>Luton</td>\n      <td>False</td>\n    </tr>\n    <tr>\n      <th>6</th>\n      <td>5</td>\n      <td>24/09/23</td>\n      <td>Tottenham</td>\n      <td>Arsenal</td>\n      <td>False</td>\n      <td>5</td>\n      <td>Arsenal</td>\n      <td>Tottenham</td>\n      <td>False</td>\n    </tr>\n    <tr>\n      <th>8</th>\n      <td>6</td>\n      <td>24/09/23</td>\n      <td>Brighton</td>\n      <td>Bournemouth</td>\n      <td>False</td>\n      <td>6</td>\n      <td>Bournemouth</td>\n      <td>Brighton</td>\n      <td>False</td>\n    </tr>\n    <tr>\n      <th>10</th>\n      <td>7</td>\n      <td>24/09/23</td>\n      <td>Aston Villa</td>\n      <td>Chelsea</td>\n      <td>False</td>\n      <td>7</td>\n      <td>Chelsea</td>\n      <td>Aston Villa</td>\n      <td>False</td>\n    </tr>\n    <tr>\n      <th>12</th>\n      <td>8</td>\n      <td>24/09/23</td>\n      <td>Liverpool</td>\n      <td>West Ham</td>\n      <td>False</td>\n      <td>8</td>\n      <td>West Ham</td>\n      <td>Liverpool</td>\n      <td>False</td>\n    </tr>\n    <tr>\n      <th>14</th>\n      <td>9</td>\n      <td>24/09/23</td>\n      <td>Sheffield United</td>\n      <td>Newcastle</td>\n      <td>False</td>\n      <td>9</td>\n      <td>Newcastle</td>\n      <td>Sheffield United</td>\n      <td>False</td>\n    </tr>\n  </tbody>\n</table>\n</div>"
     },
     "metadata": {},
     "execution_count": 142
    }
   ],
   "source": [
    "c4['preds'] = preds_d\n",
    "table_d = c4.sort_index()[['GameID','Date','Team', 'Opponent', 'preds']].merge(c4[['GameID','Date','Team', 'Opponent', 'preds']], left_on=['Date', 'Team'], right_on=['Date', 'Opponent']).drop_duplicates(['GameID_x'])\n",
    "table_d"
   ]
  },
  {
   "cell_type": "code",
   "execution_count": 118,
   "metadata": {},
   "outputs": [
    {
     "output_type": "execute_result",
     "data": {
      "text/plain": "   GameID_x    Date_x          Team_x_x    Opponent_x_x  preds_x_x  \\\n0         0  23/09/23         Brentford         Everton          2   \n1         2  23/09/23            Fulham  Crystal Palace          1   \n2         3  23/09/23             Luton          Wolves          1   \n3         5  24/09/23         Tottenham         Arsenal          2   \n4         6  24/09/23          Brighton     Bournemouth          2   \n5         7  24/09/23       Aston Villa         Chelsea          1   \n6         8  24/09/23         Liverpool        West Ham          2   \n7         9  24/09/23  Sheffield United       Newcastle          1   \n\n   GameID_y_x        Team_y_x      Opponent_y_x  preds_y_x  preds_x_y  \\\n0           0         Everton         Brentford          1          0   \n1           2  Crystal Palace            Fulham          2          0   \n2           3          Wolves             Luton          1          0   \n3           5         Arsenal         Tottenham          2          1   \n4           6     Bournemouth          Brighton          1          1   \n5           7         Chelsea       Aston Villa          2          1   \n6           8        West Ham         Liverpool          1          1   \n7           9       Newcastle  Sheffield United          2          1   \n\n   GameID_y_y        Team_y_y      Opponent_y_y  preds_y_y  \n0           0         Everton         Brentford          0  \n1           2  Crystal Palace            Fulham          0  \n2           3          Wolves             Luton          1  \n3           5         Arsenal         Tottenham          1  \n4           6     Bournemouth          Brighton          1  \n5           7         Chelsea       Aston Villa          1  \n6           8        West Ham         Liverpool          1  \n7           9       Newcastle  Sheffield United          1  ",
      "text/html": "<div>\n<style scoped>\n    .dataframe tbody tr th:only-of-type {\n        vertical-align: middle;\n    }\n\n    .dataframe tbody tr th {\n        vertical-align: top;\n    }\n\n    .dataframe thead th {\n        text-align: right;\n    }\n</style>\n<table border=\"1\" class=\"dataframe\">\n  <thead>\n    <tr style=\"text-align: right;\">\n      <th></th>\n      <th>GameID_x</th>\n      <th>Date_x</th>\n      <th>Team_x_x</th>\n      <th>Opponent_x_x</th>\n      <th>preds_x_x</th>\n      <th>GameID_y_x</th>\n      <th>Team_y_x</th>\n      <th>Opponent_y_x</th>\n      <th>preds_y_x</th>\n      <th>preds_x_y</th>\n      <th>GameID_y_y</th>\n      <th>Team_y_y</th>\n      <th>Opponent_y_y</th>\n      <th>preds_y_y</th>\n    </tr>\n  </thead>\n  <tbody>\n    <tr>\n      <th>0</th>\n      <td>0</td>\n      <td>23/09/23</td>\n      <td>Brentford</td>\n      <td>Everton</td>\n      <td>2</td>\n      <td>0</td>\n      <td>Everton</td>\n      <td>Brentford</td>\n      <td>1</td>\n      <td>0</td>\n      <td>0</td>\n      <td>Everton</td>\n      <td>Brentford</td>\n      <td>0</td>\n    </tr>\n    <tr>\n      <th>1</th>\n      <td>2</td>\n      <td>23/09/23</td>\n      <td>Fulham</td>\n      <td>Crystal Palace</td>\n      <td>1</td>\n      <td>2</td>\n      <td>Crystal Palace</td>\n      <td>Fulham</td>\n      <td>2</td>\n      <td>0</td>\n      <td>2</td>\n      <td>Crystal Palace</td>\n      <td>Fulham</td>\n      <td>0</td>\n    </tr>\n    <tr>\n      <th>2</th>\n      <td>3</td>\n      <td>23/09/23</td>\n      <td>Luton</td>\n      <td>Wolves</td>\n      <td>1</td>\n      <td>3</td>\n      <td>Wolves</td>\n      <td>Luton</td>\n      <td>1</td>\n      <td>0</td>\n      <td>3</td>\n      <td>Wolves</td>\n      <td>Luton</td>\n      <td>1</td>\n    </tr>\n    <tr>\n      <th>3</th>\n      <td>5</td>\n      <td>24/09/23</td>\n      <td>Tottenham</td>\n      <td>Arsenal</td>\n      <td>2</td>\n      <td>5</td>\n      <td>Arsenal</td>\n      <td>Tottenham</td>\n      <td>2</td>\n      <td>1</td>\n      <td>5</td>\n      <td>Arsenal</td>\n      <td>Tottenham</td>\n      <td>1</td>\n    </tr>\n    <tr>\n      <th>4</th>\n      <td>6</td>\n      <td>24/09/23</td>\n      <td>Brighton</td>\n      <td>Bournemouth</td>\n      <td>2</td>\n      <td>6</td>\n      <td>Bournemouth</td>\n      <td>Brighton</td>\n      <td>1</td>\n      <td>1</td>\n      <td>6</td>\n      <td>Bournemouth</td>\n      <td>Brighton</td>\n      <td>1</td>\n    </tr>\n    <tr>\n      <th>5</th>\n      <td>7</td>\n      <td>24/09/23</td>\n      <td>Aston Villa</td>\n      <td>Chelsea</td>\n      <td>1</td>\n      <td>7</td>\n      <td>Chelsea</td>\n      <td>Aston Villa</td>\n      <td>2</td>\n      <td>1</td>\n      <td>7</td>\n      <td>Chelsea</td>\n      <td>Aston Villa</td>\n      <td>1</td>\n    </tr>\n    <tr>\n      <th>6</th>\n      <td>8</td>\n      <td>24/09/23</td>\n      <td>Liverpool</td>\n      <td>West Ham</td>\n      <td>2</td>\n      <td>8</td>\n      <td>West Ham</td>\n      <td>Liverpool</td>\n      <td>1</td>\n      <td>1</td>\n      <td>8</td>\n      <td>West Ham</td>\n      <td>Liverpool</td>\n      <td>1</td>\n    </tr>\n    <tr>\n      <th>7</th>\n      <td>9</td>\n      <td>24/09/23</td>\n      <td>Sheffield United</td>\n      <td>Newcastle</td>\n      <td>1</td>\n      <td>9</td>\n      <td>Newcastle</td>\n      <td>Sheffield United</td>\n      <td>2</td>\n      <td>1</td>\n      <td>9</td>\n      <td>Newcastle</td>\n      <td>Sheffield United</td>\n      <td>1</td>\n    </tr>\n  </tbody>\n</table>\n</div>"
     },
     "metadata": {},
     "execution_count": 118
    }
   ],
   "source": [
    "table_ou.merge(table_wl, on='GameID_x').drop(columns=['Date_y', 'Team_x_y', 'Opponent_x_y'])"
   ]
  },
  {
   "cell_type": "code",
   "execution_count": null,
   "metadata": {},
   "outputs": [],
   "source": []
  }
 ],
 "metadata": {
  "language_info": {
   "codemirror_mode": {
    "name": "ipython",
    "version": 3
   },
   "file_extension": ".py",
   "mimetype": "text/x-python",
   "name": "python",
   "nbconvert_exporter": "python",
   "pygments_lexer": "ipython3",
   "version": "3.8.15-final"
  },
  "orig_nbformat": 2,
  "kernelspec": {
   "name": "python381564bitdlhw0conda91fec1486fc14ef8a54f9cb18d708c08",
   "display_name": "Python 3.8.15 64-bit ('dl_hw0': conda)"
  }
 },
 "nbformat": 4,
 "nbformat_minor": 2
}