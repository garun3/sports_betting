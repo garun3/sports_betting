{
 "cells": [
  {
   "cell_type": "code",
   "execution_count": 1,
   "metadata": {},
   "outputs": [
    {
     "output_type": "display_data",
     "data": {
      "text/plain": "\u001b[2;36m[10/06/23 17:53:57]\u001b[0m\u001b[2;36m \u001b[0m\u001b[34mINFO    \u001b[0m No custom team name replacements found. You can configure these in       \u001b]8;id=715992;file:///Users/Gautham/miniconda3/envs/ai_env/lib/python3.7/site-packages/soccerdata/_config.py\u001b\\\u001b[2m_config.py\u001b[0m\u001b]8;;\u001b\\\u001b[2m:\u001b[0m\u001b]8;id=231011;file:///Users/Gautham/miniconda3/envs/ai_env/lib/python3.7/site-packages/soccerdata/_config.py#87\u001b\\\u001b[2m87\u001b[0m\u001b]8;;\u001b\\\n\u001b[2;36m                    \u001b[0m         \u001b[35m/Users/Gautham/soccerdata/config/\u001b[0m\u001b[95mteamname_replacements.json.\u001b[0m             \u001b[2m             \u001b[0m\n",
      "text/html": "<pre style=\"white-space:pre;overflow-x:auto;line-height:normal;font-family:Menlo,'DejaVu Sans Mono',consolas,'Courier New',monospace\"><span style=\"color: #7fbfbf; text-decoration-color: #7fbfbf\">[10/06/23 17:53:57] </span><span style=\"color: #000080; text-decoration-color: #000080\">INFO    </span> No custom team name replacements found. You can configure these in       <a href=\"file:///Users/Gautham/miniconda3/envs/ai_env/lib/python3.7/site-packages/soccerdata/_config.py\" target=\"_blank\"><span style=\"color: #7f7f7f; text-decoration-color: #7f7f7f\">_config.py</span></a><span style=\"color: #7f7f7f; text-decoration-color: #7f7f7f\">:</span><a href=\"file:///Users/Gautham/miniconda3/envs/ai_env/lib/python3.7/site-packages/soccerdata/_config.py#87\" target=\"_blank\"><span style=\"color: #7f7f7f; text-decoration-color: #7f7f7f\">87</span></a>\n<span style=\"color: #7fbfbf; text-decoration-color: #7fbfbf\">                    </span>         <span style=\"color: #800080; text-decoration-color: #800080\">/Users/Gautham/soccerdata/config/</span><span style=\"color: #ff00ff; text-decoration-color: #ff00ff\">teamname_replacements.json.</span>             <span style=\"color: #7f7f7f; text-decoration-color: #7f7f7f\">             </span>\n</pre>\n"
     },
     "metadata": {}
    },
    {
     "output_type": "display_data",
     "data": {
      "text/plain": "\u001b[2;36m                   \u001b[0m\u001b[2;36m \u001b[0m\u001b[34mINFO    \u001b[0m No custom league dict found. You can configure additional leagues in    \u001b]8;id=147470;file:///Users/Gautham/miniconda3/envs/ai_env/lib/python3.7/site-packages/soccerdata/_config.py\u001b\\\u001b[2m_config.py\u001b[0m\u001b]8;;\u001b\\\u001b[2m:\u001b[0m\u001b]8;id=723313;file:///Users/Gautham/miniconda3/envs/ai_env/lib/python3.7/site-packages/soccerdata/_config.py#161\u001b\\\u001b[2m161\u001b[0m\u001b]8;;\u001b\\\n\u001b[2;36m                    \u001b[0m         \u001b[35m/Users/Gautham/soccerdata/config/\u001b[0m\u001b[95mleague_dict.json.\u001b[0m                      \u001b[2m              \u001b[0m\n",
      "text/html": "<pre style=\"white-space:pre;overflow-x:auto;line-height:normal;font-family:Menlo,'DejaVu Sans Mono',consolas,'Courier New',monospace\"><span style=\"color: #7fbfbf; text-decoration-color: #7fbfbf\">                    </span><span style=\"color: #000080; text-decoration-color: #000080\">INFO    </span> No custom league dict found. You can configure additional leagues in    <a href=\"file:///Users/Gautham/miniconda3/envs/ai_env/lib/python3.7/site-packages/soccerdata/_config.py\" target=\"_blank\"><span style=\"color: #7f7f7f; text-decoration-color: #7f7f7f\">_config.py</span></a><span style=\"color: #7f7f7f; text-decoration-color: #7f7f7f\">:</span><a href=\"file:///Users/Gautham/miniconda3/envs/ai_env/lib/python3.7/site-packages/soccerdata/_config.py#161\" target=\"_blank\"><span style=\"color: #7f7f7f; text-decoration-color: #7f7f7f\">161</span></a>\n<span style=\"color: #7fbfbf; text-decoration-color: #7fbfbf\">                    </span>         <span style=\"color: #800080; text-decoration-color: #800080\">/Users/Gautham/soccerdata/config/</span><span style=\"color: #ff00ff; text-decoration-color: #ff00ff\">league_dict.json.</span>                      <span style=\"color: #7f7f7f; text-decoration-color: #7f7f7f\">              </span>\n</pre>\n"
     },
     "metadata": {}
    }
   ],
   "source": [
    "import soccerdata as sd\n",
    "import pandas as pd"
   ]
  },
  {
   "cell_type": "code",
   "execution_count": 9,
   "metadata": {},
   "outputs": [],
   "source": [
    "odds = pd.read_csv('/Users/Gautham/Projects/sports_betting/cache/SerieA/current_odds.csv')\n",
    "new = pd.read_csv('/Users/Gautham/Projects/sports_betting/cache/SerieA/new.csv')"
   ]
  },
  {
   "cell_type": "code",
   "execution_count": 10,
   "metadata": {},
   "outputs": [
    {
     "output_type": "stream",
     "name": "stdout",
     "text": "teams with different names:['AC Milan', 'Atalanta BC', 'Hellas Verona FC', 'AS Roma', 'Inter Milan']\n"
    }
   ],
   "source": [
    "li1 = odds['AwayTeam'].unique()\n",
    "s = set(list(new['Team'].unique()) + list(new['Opponent'].unique()))\n",
    "print('teams with different names:', [x for x in li1 if x not in s])\n",
    "#li1"
   ]
  },
  {
   "cell_type": "code",
   "execution_count": null,
   "metadata": {},
   "outputs": [],
   "source": []
  }
 ],
 "metadata": {
  "language_info": {
   "codemirror_mode": {
    "name": "ipython",
    "version": 3
   },
   "file_extension": ".py",
   "mimetype": "text/x-python",
   "name": "python",
   "nbconvert_exporter": "python",
   "pygments_lexer": "ipython3",
   "version": "3.7.13-final"
  },
  "orig_nbformat": 2,
  "kernelspec": {
   "name": "python371364bitaienvconda4e3431b9d13b485386668a4ac1dbbc34",
   "display_name": "Python 3.7.13 64-bit ('ai_env': conda)"
  }
 },
 "nbformat": 4,
 "nbformat_minor": 2
}